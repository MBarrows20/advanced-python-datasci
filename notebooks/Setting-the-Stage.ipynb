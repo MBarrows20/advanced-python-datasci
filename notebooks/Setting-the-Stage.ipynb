{
 "cells": [
  {
   "cell_type": "markdown",
   "metadata": {
    "slideshow": {
     "slide_type": "slide"
    }
   },
   "source": [
    "# Review of Basic Python for Data Science"
   ]
  },
  {
   "cell_type": "markdown",
   "metadata": {
    "slideshow": {
     "slide_type": "slide"
    }
   },
   "source": [
    "\n",
    "\n",
    "# Basic Data Types\n",
    "\n",
    "\n",
    "- **integers** (`int`): Whole numbers, positive or negative or zero\n",
    "\n",
    "  - e.g. `3`,&nbsp;&nbsp;`0`,&nbsp;&nbsp;`-531`\n",
    "\n",
    "\n",
    "- **floats** (`float`): Decimal numbers\n",
    "\n",
    "  - e.g. `3.14`,&nbsp;&nbsp;`0.0004`,&nbsp;&nbsp;`-878.482`\n",
    "\n",
    "\n",
    "- **strings** (`str`): Arbitrary text\n",
    "\n",
    "  - e.g. `\"hello\"`,&nbsp;&nbsp;`'my name is ethan'`,&nbsp;&nbsp;`\"\"`\n",
    "\n",
    "\n",
    "- **booleans** (`bool`): Logical values `True` and `False`\n",
    "\n",
    "  - `True`,&nbsp;&nbsp;`False` -- that's it\n",
    "\n",
    "\n"
   ]
  },
  {
   "cell_type": "markdown",
   "metadata": {
    "slideshow": {
     "slide_type": "slide"
    }
   },
   "source": [
    "\n",
    "\n",
    "# Container Types\n",
    "\n",
    "- Python also has some objects that can \"contain\" others...\n",
    "\n"
   ]
  },
  {
   "cell_type": "markdown",
   "metadata": {
    "slideshow": {
     "slide_type": "slide"
    }
   },
   "source": [
    "\n",
    "\n",
    "# Container Types\n",
    "\n",
    "**lists** (`list`): Ordered, 1-dimensional sequences of objects\n",
    "\n",
    "  - Elements may be different types of things.\n"
   ]
  },
  {
   "cell_type": "code",
   "execution_count": 4,
   "metadata": {
    "slideshow": {
     "slide_type": "fragment"
    }
   },
   "outputs": [],
   "source": [
    "my_list = ['a', 'b', 3, 84.51, False]"
   ]
  },
  {
   "cell_type": "code",
   "execution_count": 6,
   "metadata": {
    "slideshow": {
     "slide_type": "fragment"
    }
   },
   "outputs": [
    {
     "data": {
      "text/plain": [
       "'b'"
      ]
     },
     "execution_count": 6,
     "metadata": {},
     "output_type": "execute_result"
    }
   ],
   "source": [
    "# Elements can be accessed by index (which counts from 0!):\n",
    "my_list[1]"
   ]
  },
  {
   "cell_type": "markdown",
   "metadata": {
    "slideshow": {
     "slide_type": "slide"
    }
   },
   "source": [
    "# Container Types\n",
    "\n",
    "\n",
    "**dictionaries** (`dict`): Mappings from \"keys\" to \"values\", good for looking up entries by their key\n"
   ]
  },
  {
   "cell_type": "code",
   "execution_count": 2,
   "metadata": {
    "slideshow": {
     "slide_type": "fragment"
    }
   },
   "outputs": [],
   "source": [
    "my_dict = {\n",
    "  'address': '123 Oak Street',\n",
    "  'city': 'Chicago',\n",
    "  'bedrooms': 2,\n",
    "  'bathrooms': 1,\n",
    "  'rent': 1599.99\n",
    "}"
   ]
  },
  {
   "cell_type": "code",
   "execution_count": 3,
   "metadata": {
    "slideshow": {
     "slide_type": "fragment"
    }
   },
   "outputs": [
    {
     "data": {
      "text/plain": [
       "2"
      ]
     },
     "execution_count": 3,
     "metadata": {},
     "output_type": "execute_result"
    }
   ],
   "source": [
    "# Values can be \"looked up\" by key\n",
    "my_dict['bedrooms']"
   ]
  },
  {
   "cell_type": "markdown",
   "metadata": {
    "slideshow": {
     "slide_type": "slide"
    }
   },
   "source": [
    "\n",
    "\n",
    "# Other Types\n",
    "\n",
    "- There are many many more data types in Python that you may hear about, but these (along with DataFrames, covered next) are the ones we'll mostly be using.\n",
    "\n",
    "- The general term for a Python \"thing\" (of any type) is an **object**.\n",
    "\n",
    "\n"
   ]
  },
  {
   "cell_type": "markdown",
   "metadata": {
    "slideshow": {
     "slide_type": "slide"
    }
   },
   "source": [
    "\n",
    "\n",
    "# Pandas\n",
    "\n",
    "- The Pandas package is the backbone of data analysis in Python\n",
    "\n",
    "- Pandas is all about **DataFrames**, objects that store tabular data\n",
    "\n",
    "  - The package was originally developed by financial analysts who wanted to do data analysis in Python, but needed an abstraction similar to DataFrames from the R language to do so.\n",
    "\n",
    "\n",
    "- The funny name is short for **Pan**el **Da**ta\n",
    "\n"
   ]
  },
  {
   "cell_type": "markdown",
   "metadata": {
    "slideshow": {
     "slide_type": "slide"
    }
   },
   "source": [
    "# DataFrames -- Basics\n",
    "\n",
    "- DataFrames are tabular data\n",
    "  - Think: DataFrames in R, tables in SQL, Datasets in SAS\n",
    "\n",
    "\n",
    "- DataFrames have **column names** and **row indices**\n",
    "\n",
    "- We'll use this DataFrame of planes for many of our examples in this section.\n",
    "\n"
   ]
  },
  {
   "cell_type": "code",
   "execution_count": 2,
   "metadata": {
    "slideshow": {
     "slide_type": "fragment"
    }
   },
   "outputs": [],
   "source": [
    "import pandas as pd\n",
    "planes_df = pd.read_csv('../data/planes.csv')"
   ]
  },
  {
   "cell_type": "code",
   "execution_count": 3,
   "metadata": {
    "slideshow": {
     "slide_type": "fragment"
    }
   },
   "outputs": [
    {
     "data": {
      "text/html": [
       "<div>\n",
       "<style scoped>\n",
       "    .dataframe tbody tr th:only-of-type {\n",
       "        vertical-align: middle;\n",
       "    }\n",
       "\n",
       "    .dataframe tbody tr th {\n",
       "        vertical-align: top;\n",
       "    }\n",
       "\n",
       "    .dataframe thead th {\n",
       "        text-align: right;\n",
       "    }\n",
       "</style>\n",
       "<table border=\"1\" class=\"dataframe\">\n",
       "  <thead>\n",
       "    <tr style=\"text-align: right;\">\n",
       "      <th></th>\n",
       "      <th>tailnum</th>\n",
       "      <th>year</th>\n",
       "      <th>type</th>\n",
       "      <th>manufacturer</th>\n",
       "      <th>model</th>\n",
       "      <th>engines</th>\n",
       "      <th>seats</th>\n",
       "      <th>speed</th>\n",
       "      <th>engine</th>\n",
       "    </tr>\n",
       "  </thead>\n",
       "  <tbody>\n",
       "    <tr>\n",
       "      <th>0</th>\n",
       "      <td>N10156</td>\n",
       "      <td>2004.0</td>\n",
       "      <td>Fixed wing multi engine</td>\n",
       "      <td>EMBRAER</td>\n",
       "      <td>EMB-145XR</td>\n",
       "      <td>2</td>\n",
       "      <td>55</td>\n",
       "      <td>NaN</td>\n",
       "      <td>Turbo-fan</td>\n",
       "    </tr>\n",
       "    <tr>\n",
       "      <th>1</th>\n",
       "      <td>N102UW</td>\n",
       "      <td>1998.0</td>\n",
       "      <td>Fixed wing multi engine</td>\n",
       "      <td>AIRBUS INDUSTRIE</td>\n",
       "      <td>A320-214</td>\n",
       "      <td>2</td>\n",
       "      <td>182</td>\n",
       "      <td>NaN</td>\n",
       "      <td>Turbo-fan</td>\n",
       "    </tr>\n",
       "    <tr>\n",
       "      <th>2</th>\n",
       "      <td>N103US</td>\n",
       "      <td>1999.0</td>\n",
       "      <td>Fixed wing multi engine</td>\n",
       "      <td>AIRBUS INDUSTRIE</td>\n",
       "      <td>A320-214</td>\n",
       "      <td>2</td>\n",
       "      <td>182</td>\n",
       "      <td>NaN</td>\n",
       "      <td>Turbo-fan</td>\n",
       "    </tr>\n",
       "    <tr>\n",
       "      <th>3</th>\n",
       "      <td>N104UW</td>\n",
       "      <td>1999.0</td>\n",
       "      <td>Fixed wing multi engine</td>\n",
       "      <td>AIRBUS INDUSTRIE</td>\n",
       "      <td>A320-214</td>\n",
       "      <td>2</td>\n",
       "      <td>182</td>\n",
       "      <td>NaN</td>\n",
       "      <td>Turbo-fan</td>\n",
       "    </tr>\n",
       "    <tr>\n",
       "      <th>4</th>\n",
       "      <td>N10575</td>\n",
       "      <td>2002.0</td>\n",
       "      <td>Fixed wing multi engine</td>\n",
       "      <td>EMBRAER</td>\n",
       "      <td>EMB-145LR</td>\n",
       "      <td>2</td>\n",
       "      <td>55</td>\n",
       "      <td>NaN</td>\n",
       "      <td>Turbo-fan</td>\n",
       "    </tr>\n",
       "  </tbody>\n",
       "</table>\n",
       "</div>"
      ],
      "text/plain": [
       "  tailnum    year                     type      manufacturer      model  \\\n",
       "0  N10156  2004.0  Fixed wing multi engine           EMBRAER  EMB-145XR   \n",
       "1  N102UW  1998.0  Fixed wing multi engine  AIRBUS INDUSTRIE   A320-214   \n",
       "2  N103US  1999.0  Fixed wing multi engine  AIRBUS INDUSTRIE   A320-214   \n",
       "3  N104UW  1999.0  Fixed wing multi engine  AIRBUS INDUSTRIE   A320-214   \n",
       "4  N10575  2002.0  Fixed wing multi engine           EMBRAER  EMB-145LR   \n",
       "\n",
       "   engines  seats  speed     engine  \n",
       "0        2     55    NaN  Turbo-fan  \n",
       "1        2    182    NaN  Turbo-fan  \n",
       "2        2    182    NaN  Turbo-fan  \n",
       "3        2    182    NaN  Turbo-fan  \n",
       "4        2     55    NaN  Turbo-fan  "
      ]
     },
     "execution_count": 3,
     "metadata": {},
     "output_type": "execute_result"
    }
   ],
   "source": [
    "planes_df.head()"
   ]
  },
  {
   "cell_type": "markdown",
   "metadata": {
    "slideshow": {
     "slide_type": "slide"
    }
   },
   "source": [
    "\n",
    "\n",
    "# DataFrames -- Importing Data\n",
    "\n",
    "- Easy to read in data from common formats (CSV, JSON, SQL databases)\n",
    "\n",
    "- `pd.read_csv`, `pd.read_json`, `pd.read_excel`, `pd.read_sql` are several of the many options for importing data.\n",
    "\n",
    "  - When reading from a flat file, just pass in the path to the file.\n",
    "\n",
    "```python\n",
    "df = pd.read_csv('data/my_data.csv')\n",
    "\n",
    "\n",
    "df = pd.read_json('data/my_data.json')\n",
    "\n",
    "\n",
    "df = pd.read_excel('data/my_spreadsheet.xlsx')\n",
    "\n",
    "\n",
    "# SQL tables require first creating a connection to the database, which varies by type of DB\n",
    "df = pd.read_sql('my_table', db_connection) \n",
    "```\n",
    "\n",
    "- Other formats Pandas can read: parquet, fixed-width text, feather, Stata, SAS, pickle, HDF5\n",
    "\n",
    "- Also can read from the web with **`pd.read_html`**\n",
    "\n"
   ]
  },
  {
   "cell_type": "markdown",
   "metadata": {
    "slideshow": {
     "slide_type": "slide"
    }
   },
   "source": [
    "\n",
    "\n",
    "# DataFrames -- Inspecting Data\n",
    "\n",
    "`df.head()` is usually the place to start -- returns the first 5 rows"
   ]
  },
  {
   "cell_type": "code",
   "execution_count": 4,
   "metadata": {
    "slideshow": {
     "slide_type": "fragment"
    }
   },
   "outputs": [
    {
     "data": {
      "text/html": [
       "<div>\n",
       "<style scoped>\n",
       "    .dataframe tbody tr th:only-of-type {\n",
       "        vertical-align: middle;\n",
       "    }\n",
       "\n",
       "    .dataframe tbody tr th {\n",
       "        vertical-align: top;\n",
       "    }\n",
       "\n",
       "    .dataframe thead th {\n",
       "        text-align: right;\n",
       "    }\n",
       "</style>\n",
       "<table border=\"1\" class=\"dataframe\">\n",
       "  <thead>\n",
       "    <tr style=\"text-align: right;\">\n",
       "      <th></th>\n",
       "      <th>tailnum</th>\n",
       "      <th>year</th>\n",
       "      <th>type</th>\n",
       "      <th>manufacturer</th>\n",
       "      <th>model</th>\n",
       "      <th>engines</th>\n",
       "      <th>seats</th>\n",
       "      <th>speed</th>\n",
       "      <th>engine</th>\n",
       "    </tr>\n",
       "  </thead>\n",
       "  <tbody>\n",
       "    <tr>\n",
       "      <th>0</th>\n",
       "      <td>N10156</td>\n",
       "      <td>2004.0</td>\n",
       "      <td>Fixed wing multi engine</td>\n",
       "      <td>EMBRAER</td>\n",
       "      <td>EMB-145XR</td>\n",
       "      <td>2</td>\n",
       "      <td>55</td>\n",
       "      <td>NaN</td>\n",
       "      <td>Turbo-fan</td>\n",
       "    </tr>\n",
       "    <tr>\n",
       "      <th>1</th>\n",
       "      <td>N102UW</td>\n",
       "      <td>1998.0</td>\n",
       "      <td>Fixed wing multi engine</td>\n",
       "      <td>AIRBUS INDUSTRIE</td>\n",
       "      <td>A320-214</td>\n",
       "      <td>2</td>\n",
       "      <td>182</td>\n",
       "      <td>NaN</td>\n",
       "      <td>Turbo-fan</td>\n",
       "    </tr>\n",
       "    <tr>\n",
       "      <th>2</th>\n",
       "      <td>N103US</td>\n",
       "      <td>1999.0</td>\n",
       "      <td>Fixed wing multi engine</td>\n",
       "      <td>AIRBUS INDUSTRIE</td>\n",
       "      <td>A320-214</td>\n",
       "      <td>2</td>\n",
       "      <td>182</td>\n",
       "      <td>NaN</td>\n",
       "      <td>Turbo-fan</td>\n",
       "    </tr>\n",
       "    <tr>\n",
       "      <th>3</th>\n",
       "      <td>N104UW</td>\n",
       "      <td>1999.0</td>\n",
       "      <td>Fixed wing multi engine</td>\n",
       "      <td>AIRBUS INDUSTRIE</td>\n",
       "      <td>A320-214</td>\n",
       "      <td>2</td>\n",
       "      <td>182</td>\n",
       "      <td>NaN</td>\n",
       "      <td>Turbo-fan</td>\n",
       "    </tr>\n",
       "    <tr>\n",
       "      <th>4</th>\n",
       "      <td>N10575</td>\n",
       "      <td>2002.0</td>\n",
       "      <td>Fixed wing multi engine</td>\n",
       "      <td>EMBRAER</td>\n",
       "      <td>EMB-145LR</td>\n",
       "      <td>2</td>\n",
       "      <td>55</td>\n",
       "      <td>NaN</td>\n",
       "      <td>Turbo-fan</td>\n",
       "    </tr>\n",
       "  </tbody>\n",
       "</table>\n",
       "</div>"
      ],
      "text/plain": [
       "  tailnum    year                     type      manufacturer      model  \\\n",
       "0  N10156  2004.0  Fixed wing multi engine           EMBRAER  EMB-145XR   \n",
       "1  N102UW  1998.0  Fixed wing multi engine  AIRBUS INDUSTRIE   A320-214   \n",
       "2  N103US  1999.0  Fixed wing multi engine  AIRBUS INDUSTRIE   A320-214   \n",
       "3  N104UW  1999.0  Fixed wing multi engine  AIRBUS INDUSTRIE   A320-214   \n",
       "4  N10575  2002.0  Fixed wing multi engine           EMBRAER  EMB-145LR   \n",
       "\n",
       "   engines  seats  speed     engine  \n",
       "0        2     55    NaN  Turbo-fan  \n",
       "1        2    182    NaN  Turbo-fan  \n",
       "2        2    182    NaN  Turbo-fan  \n",
       "3        2    182    NaN  Turbo-fan  \n",
       "4        2     55    NaN  Turbo-fan  "
      ]
     },
     "execution_count": 4,
     "metadata": {},
     "output_type": "execute_result"
    }
   ],
   "source": [
    "planes_df.head()"
   ]
  },
  {
   "cell_type": "markdown",
   "metadata": {
    "slideshow": {
     "slide_type": "slide"
    }
   },
   "source": [
    "# DataFrames -- Inspecting Data\n",
    "\n",
    "Other options..."
   ]
  },
  {
   "cell_type": "code",
   "execution_count": 5,
   "metadata": {
    "slideshow": {
     "slide_type": "fragment"
    }
   },
   "outputs": [
    {
     "data": {
      "text/plain": [
       "(3322, 9)"
      ]
     },
     "execution_count": 5,
     "metadata": {},
     "output_type": "execute_result"
    }
   ],
   "source": [
    "planes_df.shape # Return (n_rows, n_columns)"
   ]
  },
  {
   "cell_type": "code",
   "execution_count": 6,
   "metadata": {
    "slideshow": {
     "slide_type": "fragment"
    }
   },
   "outputs": [
    {
     "data": {
      "text/plain": [
       "Index(['tailnum', 'year', 'type', 'manufacturer', 'model', 'engines', 'seats',\n",
       "       'speed', 'engine'],\n",
       "      dtype='object')"
      ]
     },
     "execution_count": 6,
     "metadata": {},
     "output_type": "execute_result"
    }
   ],
   "source": [
    "planes_df.columns # Return column names"
   ]
  },
  {
   "cell_type": "markdown",
   "metadata": {
    "slideshow": {
     "slide_type": "slide"
    }
   },
   "source": [
    "\n",
    "\n",
    "# DataFrames -- Inspecting Data\n",
    "\n",
    "`df.info()` gives a comprehensive overview, ideal when working interactively."
   ]
  },
  {
   "cell_type": "code",
   "execution_count": 7,
   "metadata": {},
   "outputs": [
    {
     "name": "stdout",
     "output_type": "stream",
     "text": [
      "<class 'pandas.core.frame.DataFrame'>\n",
      "RangeIndex: 3322 entries, 0 to 3321\n",
      "Data columns (total 9 columns):\n",
      " #   Column        Non-Null Count  Dtype  \n",
      "---  ------        --------------  -----  \n",
      " 0   tailnum       3322 non-null   object \n",
      " 1   year          3252 non-null   float64\n",
      " 2   type          3322 non-null   object \n",
      " 3   manufacturer  3322 non-null   object \n",
      " 4   model         3322 non-null   object \n",
      " 5   engines       3322 non-null   int64  \n",
      " 6   seats         3322 non-null   int64  \n",
      " 7   speed         23 non-null     float64\n",
      " 8   engine        3322 non-null   object \n",
      "dtypes: float64(2), int64(2), object(5)\n",
      "memory usage: 233.7+ KB\n"
     ]
    }
   ],
   "source": [
    "planes_df.info()"
   ]
  },
  {
   "cell_type": "markdown",
   "metadata": {
    "slideshow": {
     "slide_type": "slide"
    }
   },
   "source": [
    "\n",
    "\n",
    "# DataFrames -- Exporting Data\n",
    "\n",
    "- Pandas can save data in most of the formats it supports importing from.\n",
    "\n",
    "- Instead of `pd.read_FILETYPE`, it's usually `df.to_FILETYPE`\n",
    "\n",
    "```python\n",
    "df.to_csv('data/my_data.csv')\n",
    "\n",
    "\n",
    "df.to_json('data/my_data.json')\n",
    "\n",
    "\n",
    "# Again, you need an existing database connection to work with SQL.\n",
    "df.to_sql('my_table', db_connection)\n",
    "```\n",
    "\n",
    "\n",
    "- We'll probably mostly save data in CSVs in this course, for simplicity.\n",
    "\n"
   ]
  },
  {
   "cell_type": "markdown",
   "metadata": {
    "slideshow": {
     "slide_type": "slide"
    }
   },
   "source": [
    "\n",
    "\n",
    "# Subsetting Data\n",
    "\n",
    "- Before you do much else, you need to be able to get at pieces of a DataFrame that you're interested in.\n",
    "\n",
    "- This usually means limiting to certain columns, to certain rows, or both at the same time.\n",
    "\n"
   ]
  },
  {
   "cell_type": "markdown",
   "metadata": {
    "slideshow": {
     "slide_type": "slide"
    }
   },
   "source": [
    "\n",
    "\n",
    "# Selecting\n",
    "\n",
    "- Subsetting data by its columns is often called **selecting**\n",
    "\n",
    "  - You might say \"select the name column from the data\"\n",
    "\n",
    "- The syntax to select a single column is `df[column_name]`\n",
    "\n",
    "  - This returns a **series** object, a 1-dimensional Pandas object\n",
    "\n",
    "  - Series are a lot like Python lists, except all the data in them is usually of the same type\n",
    "\n"
   ]
  },
  {
   "cell_type": "markdown",
   "metadata": {
    "slideshow": {
     "slide_type": "slide"
    }
   },
   "source": [
    "# Selecting"
   ]
  },
  {
   "cell_type": "code",
   "execution_count": 9,
   "metadata": {
    "slideshow": {
     "slide_type": "fragment"
    }
   },
   "outputs": [
    {
     "data": {
      "text/plain": [
       "0        55\n",
       "1       182\n",
       "2       182\n",
       "3       182\n",
       "4        55\n",
       "       ... \n",
       "3317    100\n",
       "3318    142\n",
       "3319    100\n",
       "3320    142\n",
       "3321    142\n",
       "Name: seats, Length: 3322, dtype: int64"
      ]
     },
     "execution_count": 9,
     "metadata": {},
     "output_type": "execute_result"
    }
   ],
   "source": [
    "planes_df['seats']"
   ]
  },
  {
   "cell_type": "markdown",
   "metadata": {
    "slideshow": {
     "slide_type": "fragment"
    }
   },
   "source": [
    "- Remember, this isn't a DataFrame, it's a Series\n",
    "\n",
    "  - One way to tell is the bottom line, which says the name of the column, the length (number of entries), and the type of the elements in it."
   ]
  },
  {
   "cell_type": "markdown",
   "metadata": {
    "slideshow": {
     "slide_type": "slide"
    }
   },
   "source": [
    "\n",
    "\n",
    "# Selecting\n",
    "\n",
    "- Selecting multiple columns is done with double brackets\n",
    "\n",
    "  - The inner brackets indicate to Pandas that you're passing a *list of columns*\n",
    "\n",
    "\n",
    "- Using double brackets returns a **DataFrame**, not a Series\n",
    "  \n",
    "  - You can even use double brackets with a single column if you don't want a Series\n",
    "\n"
   ]
  },
  {
   "cell_type": "code",
   "execution_count": 10,
   "metadata": {
    "slideshow": {
     "slide_type": "slide"
    }
   },
   "outputs": [
    {
     "data": {
      "text/html": [
       "<div>\n",
       "<style scoped>\n",
       "    .dataframe tbody tr th:only-of-type {\n",
       "        vertical-align: middle;\n",
       "    }\n",
       "\n",
       "    .dataframe tbody tr th {\n",
       "        vertical-align: top;\n",
       "    }\n",
       "\n",
       "    .dataframe thead th {\n",
       "        text-align: right;\n",
       "    }\n",
       "</style>\n",
       "<table border=\"1\" class=\"dataframe\">\n",
       "  <thead>\n",
       "    <tr style=\"text-align: right;\">\n",
       "      <th></th>\n",
       "      <th>seats</th>\n",
       "      <th>tailnum</th>\n",
       "    </tr>\n",
       "  </thead>\n",
       "  <tbody>\n",
       "    <tr>\n",
       "      <th>0</th>\n",
       "      <td>55</td>\n",
       "      <td>N10156</td>\n",
       "    </tr>\n",
       "    <tr>\n",
       "      <th>1</th>\n",
       "      <td>182</td>\n",
       "      <td>N102UW</td>\n",
       "    </tr>\n",
       "    <tr>\n",
       "      <th>2</th>\n",
       "      <td>182</td>\n",
       "      <td>N103US</td>\n",
       "    </tr>\n",
       "    <tr>\n",
       "      <th>3</th>\n",
       "      <td>182</td>\n",
       "      <td>N104UW</td>\n",
       "    </tr>\n",
       "    <tr>\n",
       "      <th>4</th>\n",
       "      <td>55</td>\n",
       "      <td>N10575</td>\n",
       "    </tr>\n",
       "    <tr>\n",
       "      <th>...</th>\n",
       "      <td>...</td>\n",
       "      <td>...</td>\n",
       "    </tr>\n",
       "    <tr>\n",
       "      <th>3317</th>\n",
       "      <td>100</td>\n",
       "      <td>N997AT</td>\n",
       "    </tr>\n",
       "    <tr>\n",
       "      <th>3318</th>\n",
       "      <td>142</td>\n",
       "      <td>N997DL</td>\n",
       "    </tr>\n",
       "    <tr>\n",
       "      <th>3319</th>\n",
       "      <td>100</td>\n",
       "      <td>N998AT</td>\n",
       "    </tr>\n",
       "    <tr>\n",
       "      <th>3320</th>\n",
       "      <td>142</td>\n",
       "      <td>N998DL</td>\n",
       "    </tr>\n",
       "    <tr>\n",
       "      <th>3321</th>\n",
       "      <td>142</td>\n",
       "      <td>N999DN</td>\n",
       "    </tr>\n",
       "  </tbody>\n",
       "</table>\n",
       "<p>3322 rows × 2 columns</p>\n",
       "</div>"
      ],
      "text/plain": [
       "      seats tailnum\n",
       "0        55  N10156\n",
       "1       182  N102UW\n",
       "2       182  N103US\n",
       "3       182  N104UW\n",
       "4        55  N10575\n",
       "...     ...     ...\n",
       "3317    100  N997AT\n",
       "3318    142  N997DL\n",
       "3319    100  N998AT\n",
       "3320    142  N998DL\n",
       "3321    142  N999DN\n",
       "\n",
       "[3322 rows x 2 columns]"
      ]
     },
     "execution_count": 10,
     "metadata": {},
     "output_type": "execute_result"
    }
   ],
   "source": [
    "planes_df[['seats', 'tailnum']]"
   ]
  },
  {
   "cell_type": "markdown",
   "metadata": {
    "slideshow": {
     "slide_type": "slide"
    }
   },
   "source": [
    "`['seats', 'tailnum']` is actually a list we pass into `planes_df[]`, which is why we get a 2-dimensional object (a DataFrame) back."
   ]
  },
  {
   "cell_type": "code",
   "execution_count": 11,
   "metadata": {},
   "outputs": [
    {
     "data": {
      "text/html": [
       "<div>\n",
       "<style scoped>\n",
       "    .dataframe tbody tr th:only-of-type {\n",
       "        vertical-align: middle;\n",
       "    }\n",
       "\n",
       "    .dataframe tbody tr th {\n",
       "        vertical-align: top;\n",
       "    }\n",
       "\n",
       "    .dataframe thead th {\n",
       "        text-align: right;\n",
       "    }\n",
       "</style>\n",
       "<table border=\"1\" class=\"dataframe\">\n",
       "  <thead>\n",
       "    <tr style=\"text-align: right;\">\n",
       "      <th></th>\n",
       "      <th>seats</th>\n",
       "      <th>tailnum</th>\n",
       "    </tr>\n",
       "  </thead>\n",
       "  <tbody>\n",
       "    <tr>\n",
       "      <th>0</th>\n",
       "      <td>55</td>\n",
       "      <td>N10156</td>\n",
       "    </tr>\n",
       "    <tr>\n",
       "      <th>1</th>\n",
       "      <td>182</td>\n",
       "      <td>N102UW</td>\n",
       "    </tr>\n",
       "    <tr>\n",
       "      <th>2</th>\n",
       "      <td>182</td>\n",
       "      <td>N103US</td>\n",
       "    </tr>\n",
       "    <tr>\n",
       "      <th>3</th>\n",
       "      <td>182</td>\n",
       "      <td>N104UW</td>\n",
       "    </tr>\n",
       "    <tr>\n",
       "      <th>4</th>\n",
       "      <td>55</td>\n",
       "      <td>N10575</td>\n",
       "    </tr>\n",
       "    <tr>\n",
       "      <th>...</th>\n",
       "      <td>...</td>\n",
       "      <td>...</td>\n",
       "    </tr>\n",
       "    <tr>\n",
       "      <th>3317</th>\n",
       "      <td>100</td>\n",
       "      <td>N997AT</td>\n",
       "    </tr>\n",
       "    <tr>\n",
       "      <th>3318</th>\n",
       "      <td>142</td>\n",
       "      <td>N997DL</td>\n",
       "    </tr>\n",
       "    <tr>\n",
       "      <th>3319</th>\n",
       "      <td>100</td>\n",
       "      <td>N998AT</td>\n",
       "    </tr>\n",
       "    <tr>\n",
       "      <th>3320</th>\n",
       "      <td>142</td>\n",
       "      <td>N998DL</td>\n",
       "    </tr>\n",
       "    <tr>\n",
       "      <th>3321</th>\n",
       "      <td>142</td>\n",
       "      <td>N999DN</td>\n",
       "    </tr>\n",
       "  </tbody>\n",
       "</table>\n",
       "<p>3322 rows × 2 columns</p>\n",
       "</div>"
      ],
      "text/plain": [
       "      seats tailnum\n",
       "0        55  N10156\n",
       "1       182  N102UW\n",
       "2       182  N103US\n",
       "3       182  N104UW\n",
       "4        55  N10575\n",
       "...     ...     ...\n",
       "3317    100  N997AT\n",
       "3318    142  N997DL\n",
       "3319    100  N998AT\n",
       "3320    142  N998DL\n",
       "3321    142  N999DN\n",
       "\n",
       "[3322 rows x 2 columns]"
      ]
     },
     "execution_count": 11,
     "metadata": {},
     "output_type": "execute_result"
    }
   ],
   "source": [
    "columns = ['seats', 'tailnum']\n",
    "planes_df[columns]"
   ]
  },
  {
   "cell_type": "markdown",
   "metadata": {
    "slideshow": {
     "slide_type": "slide"
    }
   },
   "source": [
    "\n",
    "\n",
    "# Indexing\n",
    "\n",
    "- \"Indexing\" is the word we use for subsetting rows based on their location or row label.\n",
    "\n",
    "- Most things in Python index from 0.\n",
    "\n",
    "  - That means an sequence with 3 elements would label them #0, #1, and #2.\n",
    "  \n",
    "\n",
    "- DataFrames have row indexes, as we've discussed before.\n",
    "\n",
    "  - You can think of them as row labels.\n",
    "\n",
    "  - By default, they're just integers from 0 to (number_of_rows - 1).\n",
    "\n"
   ]
  },
  {
   "cell_type": "markdown",
   "metadata": {
    "slideshow": {
     "slide_type": "slide"
    }
   },
   "source": [
    "# Indexing\n",
    "\n",
    "- Here, the indices are 0-4."
   ]
  },
  {
   "cell_type": "code",
   "execution_count": 12,
   "metadata": {},
   "outputs": [
    {
     "data": {
      "text/html": [
       "<div>\n",
       "<style scoped>\n",
       "    .dataframe tbody tr th:only-of-type {\n",
       "        vertical-align: middle;\n",
       "    }\n",
       "\n",
       "    .dataframe tbody tr th {\n",
       "        vertical-align: top;\n",
       "    }\n",
       "\n",
       "    .dataframe thead th {\n",
       "        text-align: right;\n",
       "    }\n",
       "</style>\n",
       "<table border=\"1\" class=\"dataframe\">\n",
       "  <thead>\n",
       "    <tr style=\"text-align: right;\">\n",
       "      <th></th>\n",
       "      <th>tailnum</th>\n",
       "      <th>year</th>\n",
       "      <th>type</th>\n",
       "      <th>manufacturer</th>\n",
       "      <th>model</th>\n",
       "      <th>engines</th>\n",
       "      <th>seats</th>\n",
       "      <th>speed</th>\n",
       "      <th>engine</th>\n",
       "    </tr>\n",
       "  </thead>\n",
       "  <tbody>\n",
       "    <tr>\n",
       "      <th>0</th>\n",
       "      <td>N10156</td>\n",
       "      <td>2004.0</td>\n",
       "      <td>Fixed wing multi engine</td>\n",
       "      <td>EMBRAER</td>\n",
       "      <td>EMB-145XR</td>\n",
       "      <td>2</td>\n",
       "      <td>55</td>\n",
       "      <td>NaN</td>\n",
       "      <td>Turbo-fan</td>\n",
       "    </tr>\n",
       "    <tr>\n",
       "      <th>1</th>\n",
       "      <td>N102UW</td>\n",
       "      <td>1998.0</td>\n",
       "      <td>Fixed wing multi engine</td>\n",
       "      <td>AIRBUS INDUSTRIE</td>\n",
       "      <td>A320-214</td>\n",
       "      <td>2</td>\n",
       "      <td>182</td>\n",
       "      <td>NaN</td>\n",
       "      <td>Turbo-fan</td>\n",
       "    </tr>\n",
       "    <tr>\n",
       "      <th>2</th>\n",
       "      <td>N103US</td>\n",
       "      <td>1999.0</td>\n",
       "      <td>Fixed wing multi engine</td>\n",
       "      <td>AIRBUS INDUSTRIE</td>\n",
       "      <td>A320-214</td>\n",
       "      <td>2</td>\n",
       "      <td>182</td>\n",
       "      <td>NaN</td>\n",
       "      <td>Turbo-fan</td>\n",
       "    </tr>\n",
       "    <tr>\n",
       "      <th>3</th>\n",
       "      <td>N104UW</td>\n",
       "      <td>1999.0</td>\n",
       "      <td>Fixed wing multi engine</td>\n",
       "      <td>AIRBUS INDUSTRIE</td>\n",
       "      <td>A320-214</td>\n",
       "      <td>2</td>\n",
       "      <td>182</td>\n",
       "      <td>NaN</td>\n",
       "      <td>Turbo-fan</td>\n",
       "    </tr>\n",
       "    <tr>\n",
       "      <th>4</th>\n",
       "      <td>N10575</td>\n",
       "      <td>2002.0</td>\n",
       "      <td>Fixed wing multi engine</td>\n",
       "      <td>EMBRAER</td>\n",
       "      <td>EMB-145LR</td>\n",
       "      <td>2</td>\n",
       "      <td>55</td>\n",
       "      <td>NaN</td>\n",
       "      <td>Turbo-fan</td>\n",
       "    </tr>\n",
       "  </tbody>\n",
       "</table>\n",
       "</div>"
      ],
      "text/plain": [
       "  tailnum    year                     type      manufacturer      model  \\\n",
       "0  N10156  2004.0  Fixed wing multi engine           EMBRAER  EMB-145XR   \n",
       "1  N102UW  1998.0  Fixed wing multi engine  AIRBUS INDUSTRIE   A320-214   \n",
       "2  N103US  1999.0  Fixed wing multi engine  AIRBUS INDUSTRIE   A320-214   \n",
       "3  N104UW  1999.0  Fixed wing multi engine  AIRBUS INDUSTRIE   A320-214   \n",
       "4  N10575  2002.0  Fixed wing multi engine           EMBRAER  EMB-145LR   \n",
       "\n",
       "   engines  seats  speed     engine  \n",
       "0        2     55    NaN  Turbo-fan  \n",
       "1        2    182    NaN  Turbo-fan  \n",
       "2        2    182    NaN  Turbo-fan  \n",
       "3        2    182    NaN  Turbo-fan  \n",
       "4        2     55    NaN  Turbo-fan  "
      ]
     },
     "execution_count": 12,
     "metadata": {},
     "output_type": "execute_result"
    }
   ],
   "source": [
    "planes_df.head()"
   ]
  },
  {
   "cell_type": "markdown",
   "metadata": {
    "slideshow": {
     "slide_type": "slide"
    }
   },
   "source": [
    "# Indexing\n",
    "\n",
    "- Indices can be selected using `df.loc` and brackets."
   ]
  },
  {
   "cell_type": "code",
   "execution_count": 13,
   "metadata": {},
   "outputs": [
    {
     "data": {
      "text/plain": [
       "tailnum                          N103US\n",
       "year                             1999.0\n",
       "type            Fixed wing multi engine\n",
       "manufacturer           AIRBUS INDUSTRIE\n",
       "model                          A320-214\n",
       "engines                               2\n",
       "seats                               182\n",
       "speed                               NaN\n",
       "engine                        Turbo-fan\n",
       "Name: 2, dtype: object"
      ]
     },
     "execution_count": 13,
     "metadata": {},
     "output_type": "execute_result"
    }
   ],
   "source": [
    "planes_df.loc[2]"
   ]
  },
  {
   "cell_type": "markdown",
   "metadata": {
    "slideshow": {
     "slide_type": "fragment"
    }
   },
   "source": [
    "- Like selecting a single column, indexing a single row returns a **Series**, not a DataFrame.\n",
    "\n",
    "  - Because, again, it's a 1-dimensional object."
   ]
  },
  {
   "cell_type": "markdown",
   "metadata": {
    "slideshow": {
     "slide_type": "slide"
    }
   },
   "source": [
    "\n",
    "\n",
    "# Indexing\n",
    "\n",
    "- DataFrames can also be indexed with a *range*, instead of a single row index.\n",
    "\n",
    "- This uses the same `df.loc` syntax, except a range is passed\n",
    "  \n",
    "  - `df.loc[starting_index:ending_index]`"
   ]
  },
  {
   "cell_type": "code",
   "execution_count": 14,
   "metadata": {},
   "outputs": [
    {
     "data": {
      "text/html": [
       "<div>\n",
       "<style scoped>\n",
       "    .dataframe tbody tr th:only-of-type {\n",
       "        vertical-align: middle;\n",
       "    }\n",
       "\n",
       "    .dataframe tbody tr th {\n",
       "        vertical-align: top;\n",
       "    }\n",
       "\n",
       "    .dataframe thead th {\n",
       "        text-align: right;\n",
       "    }\n",
       "</style>\n",
       "<table border=\"1\" class=\"dataframe\">\n",
       "  <thead>\n",
       "    <tr style=\"text-align: right;\">\n",
       "      <th></th>\n",
       "      <th>tailnum</th>\n",
       "      <th>year</th>\n",
       "      <th>type</th>\n",
       "      <th>manufacturer</th>\n",
       "      <th>model</th>\n",
       "      <th>engines</th>\n",
       "      <th>seats</th>\n",
       "      <th>speed</th>\n",
       "      <th>engine</th>\n",
       "    </tr>\n",
       "  </thead>\n",
       "  <tbody>\n",
       "    <tr>\n",
       "      <th>3</th>\n",
       "      <td>N104UW</td>\n",
       "      <td>1999.0</td>\n",
       "      <td>Fixed wing multi engine</td>\n",
       "      <td>AIRBUS INDUSTRIE</td>\n",
       "      <td>A320-214</td>\n",
       "      <td>2</td>\n",
       "      <td>182</td>\n",
       "      <td>NaN</td>\n",
       "      <td>Turbo-fan</td>\n",
       "    </tr>\n",
       "    <tr>\n",
       "      <th>4</th>\n",
       "      <td>N10575</td>\n",
       "      <td>2002.0</td>\n",
       "      <td>Fixed wing multi engine</td>\n",
       "      <td>EMBRAER</td>\n",
       "      <td>EMB-145LR</td>\n",
       "      <td>2</td>\n",
       "      <td>55</td>\n",
       "      <td>NaN</td>\n",
       "      <td>Turbo-fan</td>\n",
       "    </tr>\n",
       "    <tr>\n",
       "      <th>5</th>\n",
       "      <td>N105UW</td>\n",
       "      <td>1999.0</td>\n",
       "      <td>Fixed wing multi engine</td>\n",
       "      <td>AIRBUS INDUSTRIE</td>\n",
       "      <td>A320-214</td>\n",
       "      <td>2</td>\n",
       "      <td>182</td>\n",
       "      <td>NaN</td>\n",
       "      <td>Turbo-fan</td>\n",
       "    </tr>\n",
       "    <tr>\n",
       "      <th>6</th>\n",
       "      <td>N107US</td>\n",
       "      <td>1999.0</td>\n",
       "      <td>Fixed wing multi engine</td>\n",
       "      <td>AIRBUS INDUSTRIE</td>\n",
       "      <td>A320-214</td>\n",
       "      <td>2</td>\n",
       "      <td>182</td>\n",
       "      <td>NaN</td>\n",
       "      <td>Turbo-fan</td>\n",
       "    </tr>\n",
       "  </tbody>\n",
       "</table>\n",
       "</div>"
      ],
      "text/plain": [
       "  tailnum    year                     type      manufacturer      model  \\\n",
       "3  N104UW  1999.0  Fixed wing multi engine  AIRBUS INDUSTRIE   A320-214   \n",
       "4  N10575  2002.0  Fixed wing multi engine           EMBRAER  EMB-145LR   \n",
       "5  N105UW  1999.0  Fixed wing multi engine  AIRBUS INDUSTRIE   A320-214   \n",
       "6  N107US  1999.0  Fixed wing multi engine  AIRBUS INDUSTRIE   A320-214   \n",
       "\n",
       "   engines  seats  speed     engine  \n",
       "3        2    182    NaN  Turbo-fan  \n",
       "4        2     55    NaN  Turbo-fan  \n",
       "5        2    182    NaN  Turbo-fan  \n",
       "6        2    182    NaN  Turbo-fan  "
      ]
     },
     "execution_count": 14,
     "metadata": {},
     "output_type": "execute_result"
    }
   ],
   "source": [
    "planes_df.loc[3:6]"
   ]
  },
  {
   "cell_type": "markdown",
   "metadata": {
    "slideshow": {
     "slide_type": "slide"
    }
   },
   "source": [
    "# Combining Selecting and Indexing\n",
    "\n",
    "- You can select columns and index rows all at once using `df.loc[row_index, columns]`"
   ]
  },
  {
   "cell_type": "code",
   "execution_count": 15,
   "metadata": {},
   "outputs": [
    {
     "data": {
      "text/html": [
       "<div>\n",
       "<style scoped>\n",
       "    .dataframe tbody tr th:only-of-type {\n",
       "        vertical-align: middle;\n",
       "    }\n",
       "\n",
       "    .dataframe tbody tr th {\n",
       "        vertical-align: top;\n",
       "    }\n",
       "\n",
       "    .dataframe thead th {\n",
       "        text-align: right;\n",
       "    }\n",
       "</style>\n",
       "<table border=\"1\" class=\"dataframe\">\n",
       "  <thead>\n",
       "    <tr style=\"text-align: right;\">\n",
       "      <th></th>\n",
       "      <th>seats</th>\n",
       "      <th>tailnum</th>\n",
       "    </tr>\n",
       "  </thead>\n",
       "  <tbody>\n",
       "    <tr>\n",
       "      <th>3</th>\n",
       "      <td>182</td>\n",
       "      <td>N104UW</td>\n",
       "    </tr>\n",
       "    <tr>\n",
       "      <th>4</th>\n",
       "      <td>55</td>\n",
       "      <td>N10575</td>\n",
       "    </tr>\n",
       "    <tr>\n",
       "      <th>5</th>\n",
       "      <td>182</td>\n",
       "      <td>N105UW</td>\n",
       "    </tr>\n",
       "    <tr>\n",
       "      <th>6</th>\n",
       "      <td>182</td>\n",
       "      <td>N107US</td>\n",
       "    </tr>\n",
       "  </tbody>\n",
       "</table>\n",
       "</div>"
      ],
      "text/plain": [
       "   seats tailnum\n",
       "3    182  N104UW\n",
       "4     55  N10575\n",
       "5    182  N105UW\n",
       "6    182  N107US"
      ]
     },
     "execution_count": 15,
     "metadata": {},
     "output_type": "execute_result"
    }
   ],
   "source": [
    "# Row indices 3-6, columns \"seats\" and \"tailnum\"\n",
    "planes_df.loc[3:6, ['seats', 'tailnum']]"
   ]
  },
  {
   "cell_type": "markdown",
   "metadata": {
    "slideshow": {
     "slide_type": "slide"
    }
   },
   "source": [
    "# Combining Selecting and Indexing\n",
    "\n",
    "| Goal | Syntax |\n",
    "|:- |:- | \n",
    "| Select columns | `df[columns]` |\n",
    "| Index rows | `df.loc[row_indices]` |\n",
    "| Select columns *and* index rows | `df.loc[row_indices, columns]` |\n",
    "\n"
   ]
  },
  {
   "cell_type": "markdown",
   "metadata": {
    "slideshow": {
     "slide_type": "slide"
    }
   },
   "source": [
    "# Filtering\n",
    "\n",
    "- *Filtering* means limiting rows based on a condition of the data\n",
    "\n",
    "  - e.g. \"all rows where the number of engines is greater than 2\"\n",
    "  \n",
    "\n",
    "- This is also done with `df.loc`, but you pass in an expression describing which rows to keep.\n",
    "\n"
   ]
  },
  {
   "cell_type": "code",
   "execution_count": 17,
   "metadata": {
    "slideshow": {
     "slide_type": "slide"
    }
   },
   "outputs": [
    {
     "data": {
      "text/html": [
       "<div>\n",
       "<style scoped>\n",
       "    .dataframe tbody tr th:only-of-type {\n",
       "        vertical-align: middle;\n",
       "    }\n",
       "\n",
       "    .dataframe tbody tr th {\n",
       "        vertical-align: top;\n",
       "    }\n",
       "\n",
       "    .dataframe thead th {\n",
       "        text-align: right;\n",
       "    }\n",
       "</style>\n",
       "<table border=\"1\" class=\"dataframe\">\n",
       "  <thead>\n",
       "    <tr style=\"text-align: right;\">\n",
       "      <th></th>\n",
       "      <th>tailnum</th>\n",
       "      <th>year</th>\n",
       "      <th>type</th>\n",
       "      <th>manufacturer</th>\n",
       "      <th>model</th>\n",
       "      <th>engines</th>\n",
       "      <th>seats</th>\n",
       "      <th>speed</th>\n",
       "      <th>engine</th>\n",
       "    </tr>\n",
       "  </thead>\n",
       "  <tbody>\n",
       "    <tr>\n",
       "      <th>603</th>\n",
       "      <td>N281AT</td>\n",
       "      <td>NaN</td>\n",
       "      <td>Fixed wing multi engine</td>\n",
       "      <td>AIRBUS INDUSTRIE</td>\n",
       "      <td>A340-313</td>\n",
       "      <td>4</td>\n",
       "      <td>375</td>\n",
       "      <td>NaN</td>\n",
       "      <td>Turbo-jet</td>\n",
       "    </tr>\n",
       "    <tr>\n",
       "      <th>1037</th>\n",
       "      <td>N381AA</td>\n",
       "      <td>1956.0</td>\n",
       "      <td>Fixed wing multi engine</td>\n",
       "      <td>DOUGLAS</td>\n",
       "      <td>DC-7BF</td>\n",
       "      <td>4</td>\n",
       "      <td>102</td>\n",
       "      <td>232.0</td>\n",
       "      <td>Reciprocating</td>\n",
       "    </tr>\n",
       "    <tr>\n",
       "      <th>2109</th>\n",
       "      <td>N670US</td>\n",
       "      <td>1990.0</td>\n",
       "      <td>Fixed wing multi engine</td>\n",
       "      <td>BOEING</td>\n",
       "      <td>747-451</td>\n",
       "      <td>4</td>\n",
       "      <td>450</td>\n",
       "      <td>NaN</td>\n",
       "      <td>Turbo-jet</td>\n",
       "    </tr>\n",
       "    <tr>\n",
       "      <th>2706</th>\n",
       "      <td>N840MQ</td>\n",
       "      <td>1974.0</td>\n",
       "      <td>Fixed wing multi engine</td>\n",
       "      <td>CANADAIR LTD</td>\n",
       "      <td>CF-5D</td>\n",
       "      <td>4</td>\n",
       "      <td>2</td>\n",
       "      <td>NaN</td>\n",
       "      <td>Turbo-jet</td>\n",
       "    </tr>\n",
       "    <tr>\n",
       "      <th>2764</th>\n",
       "      <td>N854NW</td>\n",
       "      <td>2004.0</td>\n",
       "      <td>Fixed wing multi engine</td>\n",
       "      <td>AIRBUS</td>\n",
       "      <td>A330-223</td>\n",
       "      <td>3</td>\n",
       "      <td>379</td>\n",
       "      <td>NaN</td>\n",
       "      <td>Turbo-fan</td>\n",
       "    </tr>\n",
       "    <tr>\n",
       "      <th>2771</th>\n",
       "      <td>N856NW</td>\n",
       "      <td>2004.0</td>\n",
       "      <td>Fixed wing multi engine</td>\n",
       "      <td>AIRBUS</td>\n",
       "      <td>A330-223</td>\n",
       "      <td>3</td>\n",
       "      <td>379</td>\n",
       "      <td>NaN</td>\n",
       "      <td>Turbo-fan</td>\n",
       "    </tr>\n",
       "    <tr>\n",
       "      <th>2931</th>\n",
       "      <td>N905FJ</td>\n",
       "      <td>1986.0</td>\n",
       "      <td>Fixed wing multi engine</td>\n",
       "      <td>AVIONS MARCEL DASSAULT</td>\n",
       "      <td>MYSTERE FALCON 900</td>\n",
       "      <td>3</td>\n",
       "      <td>12</td>\n",
       "      <td>NaN</td>\n",
       "      <td>Turbo-fan</td>\n",
       "    </tr>\n",
       "  </tbody>\n",
       "</table>\n",
       "</div>"
      ],
      "text/plain": [
       "     tailnum    year                     type            manufacturer  \\\n",
       "603   N281AT     NaN  Fixed wing multi engine        AIRBUS INDUSTRIE   \n",
       "1037  N381AA  1956.0  Fixed wing multi engine                 DOUGLAS   \n",
       "2109  N670US  1990.0  Fixed wing multi engine                  BOEING   \n",
       "2706  N840MQ  1974.0  Fixed wing multi engine            CANADAIR LTD   \n",
       "2764  N854NW  2004.0  Fixed wing multi engine                  AIRBUS   \n",
       "2771  N856NW  2004.0  Fixed wing multi engine                  AIRBUS   \n",
       "2931  N905FJ  1986.0  Fixed wing multi engine  AVIONS MARCEL DASSAULT   \n",
       "\n",
       "                   model  engines  seats  speed         engine  \n",
       "603             A340-313        4    375    NaN      Turbo-jet  \n",
       "1037              DC-7BF        4    102  232.0  Reciprocating  \n",
       "2109             747-451        4    450    NaN      Turbo-jet  \n",
       "2706               CF-5D        4      2    NaN      Turbo-jet  \n",
       "2764            A330-223        3    379    NaN      Turbo-fan  \n",
       "2771            A330-223        3    379    NaN      Turbo-fan  \n",
       "2931  MYSTERE FALCON 900        3     12    NaN      Turbo-fan  "
      ]
     },
     "execution_count": 17,
     "metadata": {},
     "output_type": "execute_result"
    }
   ],
   "source": [
    "# This syntax is a little clunky; the DataFrame name is specified twice.\n",
    "planes_df.loc[planes_df['engines'] > 2]"
   ]
  },
  {
   "cell_type": "code",
   "execution_count": 18,
   "metadata": {
    "slideshow": {
     "slide_type": "slide"
    }
   },
   "outputs": [
    {
     "data": {
      "text/html": [
       "<div>\n",
       "<style scoped>\n",
       "    .dataframe tbody tr th:only-of-type {\n",
       "        vertical-align: middle;\n",
       "    }\n",
       "\n",
       "    .dataframe tbody tr th {\n",
       "        vertical-align: top;\n",
       "    }\n",
       "\n",
       "    .dataframe thead th {\n",
       "        text-align: right;\n",
       "    }\n",
       "</style>\n",
       "<table border=\"1\" class=\"dataframe\">\n",
       "  <thead>\n",
       "    <tr style=\"text-align: right;\">\n",
       "      <th></th>\n",
       "      <th>tailnum</th>\n",
       "      <th>year</th>\n",
       "      <th>type</th>\n",
       "      <th>manufacturer</th>\n",
       "      <th>model</th>\n",
       "      <th>engines</th>\n",
       "      <th>seats</th>\n",
       "      <th>speed</th>\n",
       "      <th>engine</th>\n",
       "    </tr>\n",
       "  </thead>\n",
       "  <tbody>\n",
       "    <tr>\n",
       "      <th>1813</th>\n",
       "      <td>N600TR</td>\n",
       "      <td>1979.0</td>\n",
       "      <td>Fixed wing multi engine</td>\n",
       "      <td>MCDONNELL DOUGLAS</td>\n",
       "      <td>DC-9-51</td>\n",
       "      <td>2</td>\n",
       "      <td>139</td>\n",
       "      <td>432.0</td>\n",
       "      <td>Turbo-jet</td>\n",
       "    </tr>\n",
       "    <tr>\n",
       "      <th>2131</th>\n",
       "      <td>N675MC</td>\n",
       "      <td>1975.0</td>\n",
       "      <td>Fixed wing multi engine</td>\n",
       "      <td>MCDONNELL DOUGLAS</td>\n",
       "      <td>DC-9-51</td>\n",
       "      <td>2</td>\n",
       "      <td>139</td>\n",
       "      <td>432.0</td>\n",
       "      <td>Turbo-jet</td>\n",
       "    </tr>\n",
       "    <tr>\n",
       "      <th>2402</th>\n",
       "      <td>N762NC</td>\n",
       "      <td>1976.0</td>\n",
       "      <td>Fixed wing multi engine</td>\n",
       "      <td>MCDONNELL DOUGLAS</td>\n",
       "      <td>DC-9-51</td>\n",
       "      <td>2</td>\n",
       "      <td>139</td>\n",
       "      <td>432.0</td>\n",
       "      <td>Turbo-jet</td>\n",
       "    </tr>\n",
       "    <tr>\n",
       "      <th>2432</th>\n",
       "      <td>N767NC</td>\n",
       "      <td>1977.0</td>\n",
       "      <td>Fixed wing multi engine</td>\n",
       "      <td>MCDONNELL DOUGLAS</td>\n",
       "      <td>DC-9-51</td>\n",
       "      <td>2</td>\n",
       "      <td>139</td>\n",
       "      <td>432.0</td>\n",
       "      <td>Turbo-jet</td>\n",
       "    </tr>\n",
       "    <tr>\n",
       "      <th>2472</th>\n",
       "      <td>N774NC</td>\n",
       "      <td>1978.0</td>\n",
       "      <td>Fixed wing multi engine</td>\n",
       "      <td>MCDONNELL DOUGLAS</td>\n",
       "      <td>DC-9-51</td>\n",
       "      <td>2</td>\n",
       "      <td>139</td>\n",
       "      <td>432.0</td>\n",
       "      <td>Turbo-jet</td>\n",
       "    </tr>\n",
       "    <tr>\n",
       "      <th>2483</th>\n",
       "      <td>N777NC</td>\n",
       "      <td>1979.0</td>\n",
       "      <td>Fixed wing multi engine</td>\n",
       "      <td>MCDONNELL DOUGLAS</td>\n",
       "      <td>DC-9-51</td>\n",
       "      <td>2</td>\n",
       "      <td>139</td>\n",
       "      <td>432.0</td>\n",
       "      <td>Turbo-jet</td>\n",
       "    </tr>\n",
       "    <tr>\n",
       "      <th>2492</th>\n",
       "      <td>N779NC</td>\n",
       "      <td>1979.0</td>\n",
       "      <td>Fixed wing multi engine</td>\n",
       "      <td>MCDONNELL DOUGLAS</td>\n",
       "      <td>DC-9-51</td>\n",
       "      <td>2</td>\n",
       "      <td>139</td>\n",
       "      <td>432.0</td>\n",
       "      <td>Turbo-jet</td>\n",
       "    </tr>\n",
       "    <tr>\n",
       "      <th>2503</th>\n",
       "      <td>N782NC</td>\n",
       "      <td>1980.0</td>\n",
       "      <td>Fixed wing multi engine</td>\n",
       "      <td>MCDONNELL DOUGLAS</td>\n",
       "      <td>DC-9-51</td>\n",
       "      <td>2</td>\n",
       "      <td>139</td>\n",
       "      <td>432.0</td>\n",
       "      <td>Turbo-jet</td>\n",
       "    </tr>\n",
       "  </tbody>\n",
       "</table>\n",
       "</div>"
      ],
      "text/plain": [
       "     tailnum    year                     type       manufacturer    model  \\\n",
       "1813  N600TR  1979.0  Fixed wing multi engine  MCDONNELL DOUGLAS  DC-9-51   \n",
       "2131  N675MC  1975.0  Fixed wing multi engine  MCDONNELL DOUGLAS  DC-9-51   \n",
       "2402  N762NC  1976.0  Fixed wing multi engine  MCDONNELL DOUGLAS  DC-9-51   \n",
       "2432  N767NC  1977.0  Fixed wing multi engine  MCDONNELL DOUGLAS  DC-9-51   \n",
       "2472  N774NC  1978.0  Fixed wing multi engine  MCDONNELL DOUGLAS  DC-9-51   \n",
       "2483  N777NC  1979.0  Fixed wing multi engine  MCDONNELL DOUGLAS  DC-9-51   \n",
       "2492  N779NC  1979.0  Fixed wing multi engine  MCDONNELL DOUGLAS  DC-9-51   \n",
       "2503  N782NC  1980.0  Fixed wing multi engine  MCDONNELL DOUGLAS  DC-9-51   \n",
       "\n",
       "      engines  seats  speed     engine  \n",
       "1813        2    139  432.0  Turbo-jet  \n",
       "2131        2    139  432.0  Turbo-jet  \n",
       "2402        2    139  432.0  Turbo-jet  \n",
       "2432        2    139  432.0  Turbo-jet  \n",
       "2472        2    139  432.0  Turbo-jet  \n",
       "2483        2    139  432.0  Turbo-jet  \n",
       "2492        2    139  432.0  Turbo-jet  \n",
       "2503        2    139  432.0  Turbo-jet  "
      ]
     },
     "execution_count": 18,
     "metadata": {},
     "output_type": "execute_result"
    }
   ],
   "source": [
    "planes_df.loc[planes_df['seats'] == 139]"
   ]
  },
  {
   "cell_type": "markdown",
   "metadata": {
    "slideshow": {
     "slide_type": "slide"
    }
   },
   "source": [
    "\n",
    "\n",
    "# Combining Selecting and Filtering\n",
    "\n",
    "- Like indexing, filtering can be combined with selecting in the `.loc` brackets.\n",
    "\n",
    "  - `df.loc[row_filter, columns]`"
   ]
  },
  {
   "cell_type": "code",
   "execution_count": 19,
   "metadata": {},
   "outputs": [
    {
     "data": {
      "text/html": [
       "<div>\n",
       "<style scoped>\n",
       "    .dataframe tbody tr th:only-of-type {\n",
       "        vertical-align: middle;\n",
       "    }\n",
       "\n",
       "    .dataframe tbody tr th {\n",
       "        vertical-align: top;\n",
       "    }\n",
       "\n",
       "    .dataframe thead th {\n",
       "        text-align: right;\n",
       "    }\n",
       "</style>\n",
       "<table border=\"1\" class=\"dataframe\">\n",
       "  <thead>\n",
       "    <tr style=\"text-align: right;\">\n",
       "      <th></th>\n",
       "      <th>seats</th>\n",
       "      <th>tailnum</th>\n",
       "    </tr>\n",
       "  </thead>\n",
       "  <tbody>\n",
       "    <tr>\n",
       "      <th>1813</th>\n",
       "      <td>139</td>\n",
       "      <td>N600TR</td>\n",
       "    </tr>\n",
       "    <tr>\n",
       "      <th>2131</th>\n",
       "      <td>139</td>\n",
       "      <td>N675MC</td>\n",
       "    </tr>\n",
       "    <tr>\n",
       "      <th>2402</th>\n",
       "      <td>139</td>\n",
       "      <td>N762NC</td>\n",
       "    </tr>\n",
       "    <tr>\n",
       "      <th>2432</th>\n",
       "      <td>139</td>\n",
       "      <td>N767NC</td>\n",
       "    </tr>\n",
       "    <tr>\n",
       "      <th>2472</th>\n",
       "      <td>139</td>\n",
       "      <td>N774NC</td>\n",
       "    </tr>\n",
       "    <tr>\n",
       "      <th>2483</th>\n",
       "      <td>139</td>\n",
       "      <td>N777NC</td>\n",
       "    </tr>\n",
       "    <tr>\n",
       "      <th>2492</th>\n",
       "      <td>139</td>\n",
       "      <td>N779NC</td>\n",
       "    </tr>\n",
       "    <tr>\n",
       "      <th>2503</th>\n",
       "      <td>139</td>\n",
       "      <td>N782NC</td>\n",
       "    </tr>\n",
       "  </tbody>\n",
       "</table>\n",
       "</div>"
      ],
      "text/plain": [
       "      seats tailnum\n",
       "1813    139  N600TR\n",
       "2131    139  N675MC\n",
       "2402    139  N762NC\n",
       "2432    139  N767NC\n",
       "2472    139  N774NC\n",
       "2483    139  N777NC\n",
       "2492    139  N779NC\n",
       "2503    139  N782NC"
      ]
     },
     "execution_count": 19,
     "metadata": {},
     "output_type": "execute_result"
    }
   ],
   "source": [
    "planes_df.loc[planes_df['seats'] == 139, ['seats', 'tailnum']]"
   ]
  },
  {
   "cell_type": "markdown",
   "metadata": {
    "slideshow": {
     "slide_type": "slide"
    }
   },
   "source": [
    "# Combining Selecting and Filtering\n",
    "\n",
    "So we can update our syntax chart...\n",
    "\n",
    "| Goal | Syntax |\n",
    "|:- |:- | \n",
    "| Select columns | `df[columns]` |\n",
    "| Index rows | `df.loc[row_indices]` |\n",
    "| Select columns *and* index rows | `df.loc[row_indices, columns]` |\n",
    "| Filter rows | `df.loc[filter_condition]` |\n",
    "| Select columns *and* filter rows | `df.loc[filter_condition, columns]` |"
   ]
  },
  {
   "cell_type": "markdown",
   "metadata": {
    "slideshow": {
     "slide_type": "slide"
    }
   },
   "source": [
    "- Generally:\n",
    "\n",
    "  - Columns: `df[columns]`\n",
    "\n",
    "  - Rows: `df.loc[rows]`\n",
    "\n",
    "  - Both: `df.loc[rows, columns]`\n"
   ]
  },
  {
   "cell_type": "markdown",
   "metadata": {
    "slideshow": {
     "slide_type": "slide"
    }
   },
   "source": [
    "\n",
    "\n",
    "# DataFrame-level Summaries\n",
    "\n",
    "- You can get quick summaries of all numeric columns in a DataFrame using `df.describe()`\n"
   ]
  },
  {
   "cell_type": "code",
   "execution_count": 20,
   "metadata": {},
   "outputs": [
    {
     "data": {
      "text/html": [
       "<div>\n",
       "<style scoped>\n",
       "    .dataframe tbody tr th:only-of-type {\n",
       "        vertical-align: middle;\n",
       "    }\n",
       "\n",
       "    .dataframe tbody tr th {\n",
       "        vertical-align: top;\n",
       "    }\n",
       "\n",
       "    .dataframe thead th {\n",
       "        text-align: right;\n",
       "    }\n",
       "</style>\n",
       "<table border=\"1\" class=\"dataframe\">\n",
       "  <thead>\n",
       "    <tr style=\"text-align: right;\">\n",
       "      <th></th>\n",
       "      <th>year</th>\n",
       "      <th>engines</th>\n",
       "      <th>seats</th>\n",
       "      <th>speed</th>\n",
       "    </tr>\n",
       "  </thead>\n",
       "  <tbody>\n",
       "    <tr>\n",
       "      <th>count</th>\n",
       "      <td>3252.000000</td>\n",
       "      <td>3322.000000</td>\n",
       "      <td>3322.000000</td>\n",
       "      <td>23.000000</td>\n",
       "    </tr>\n",
       "    <tr>\n",
       "      <th>mean</th>\n",
       "      <td>2000.484010</td>\n",
       "      <td>1.995184</td>\n",
       "      <td>154.316376</td>\n",
       "      <td>236.782609</td>\n",
       "    </tr>\n",
       "    <tr>\n",
       "      <th>std</th>\n",
       "      <td>7.193425</td>\n",
       "      <td>0.117593</td>\n",
       "      <td>73.654974</td>\n",
       "      <td>149.759794</td>\n",
       "    </tr>\n",
       "    <tr>\n",
       "      <th>min</th>\n",
       "      <td>1956.000000</td>\n",
       "      <td>1.000000</td>\n",
       "      <td>2.000000</td>\n",
       "      <td>90.000000</td>\n",
       "    </tr>\n",
       "    <tr>\n",
       "      <th>25%</th>\n",
       "      <td>1997.000000</td>\n",
       "      <td>2.000000</td>\n",
       "      <td>140.000000</td>\n",
       "      <td>107.500000</td>\n",
       "    </tr>\n",
       "    <tr>\n",
       "      <th>50%</th>\n",
       "      <td>2001.000000</td>\n",
       "      <td>2.000000</td>\n",
       "      <td>149.000000</td>\n",
       "      <td>162.000000</td>\n",
       "    </tr>\n",
       "    <tr>\n",
       "      <th>75%</th>\n",
       "      <td>2005.000000</td>\n",
       "      <td>2.000000</td>\n",
       "      <td>182.000000</td>\n",
       "      <td>432.000000</td>\n",
       "    </tr>\n",
       "    <tr>\n",
       "      <th>max</th>\n",
       "      <td>2013.000000</td>\n",
       "      <td>4.000000</td>\n",
       "      <td>450.000000</td>\n",
       "      <td>432.000000</td>\n",
       "    </tr>\n",
       "  </tbody>\n",
       "</table>\n",
       "</div>"
      ],
      "text/plain": [
       "              year      engines        seats       speed\n",
       "count  3252.000000  3322.000000  3322.000000   23.000000\n",
       "mean   2000.484010     1.995184   154.316376  236.782609\n",
       "std       7.193425     0.117593    73.654974  149.759794\n",
       "min    1956.000000     1.000000     2.000000   90.000000\n",
       "25%    1997.000000     2.000000   140.000000  107.500000\n",
       "50%    2001.000000     2.000000   149.000000  162.000000\n",
       "75%    2005.000000     2.000000   182.000000  432.000000\n",
       "max    2013.000000     4.000000   450.000000  432.000000"
      ]
     },
     "execution_count": 20,
     "metadata": {},
     "output_type": "execute_result"
    }
   ],
   "source": [
    "planes_df.describe()"
   ]
  },
  {
   "cell_type": "markdown",
   "metadata": {
    "slideshow": {
     "slide_type": "slide"
    }
   },
   "source": [
    "- If you want summaries of string/categorical columns instead, use `df.describe(include='object')`\n"
   ]
  },
  {
   "cell_type": "code",
   "execution_count": 21,
   "metadata": {},
   "outputs": [
    {
     "data": {
      "text/html": [
       "<div>\n",
       "<style scoped>\n",
       "    .dataframe tbody tr th:only-of-type {\n",
       "        vertical-align: middle;\n",
       "    }\n",
       "\n",
       "    .dataframe tbody tr th {\n",
       "        vertical-align: top;\n",
       "    }\n",
       "\n",
       "    .dataframe thead th {\n",
       "        text-align: right;\n",
       "    }\n",
       "</style>\n",
       "<table border=\"1\" class=\"dataframe\">\n",
       "  <thead>\n",
       "    <tr style=\"text-align: right;\">\n",
       "      <th></th>\n",
       "      <th>tailnum</th>\n",
       "      <th>type</th>\n",
       "      <th>manufacturer</th>\n",
       "      <th>model</th>\n",
       "      <th>engine</th>\n",
       "    </tr>\n",
       "  </thead>\n",
       "  <tbody>\n",
       "    <tr>\n",
       "      <th>count</th>\n",
       "      <td>3322</td>\n",
       "      <td>3322</td>\n",
       "      <td>3322</td>\n",
       "      <td>3322</td>\n",
       "      <td>3322</td>\n",
       "    </tr>\n",
       "    <tr>\n",
       "      <th>unique</th>\n",
       "      <td>3322</td>\n",
       "      <td>3</td>\n",
       "      <td>35</td>\n",
       "      <td>127</td>\n",
       "      <td>6</td>\n",
       "    </tr>\n",
       "    <tr>\n",
       "      <th>top</th>\n",
       "      <td>N956AT</td>\n",
       "      <td>Fixed wing multi engine</td>\n",
       "      <td>BOEING</td>\n",
       "      <td>737-7H4</td>\n",
       "      <td>Turbo-fan</td>\n",
       "    </tr>\n",
       "    <tr>\n",
       "      <th>freq</th>\n",
       "      <td>1</td>\n",
       "      <td>3292</td>\n",
       "      <td>1630</td>\n",
       "      <td>361</td>\n",
       "      <td>2750</td>\n",
       "    </tr>\n",
       "  </tbody>\n",
       "</table>\n",
       "</div>"
      ],
      "text/plain": [
       "       tailnum                     type manufacturer    model     engine\n",
       "count     3322                     3322         3322     3322       3322\n",
       "unique    3322                        3           35      127          6\n",
       "top     N956AT  Fixed wing multi engine       BOEING  737-7H4  Turbo-fan\n",
       "freq         1                     3292         1630      361       2750"
      ]
     },
     "execution_count": 21,
     "metadata": {},
     "output_type": "execute_result"
    }
   ],
   "source": [
    "planes_df.describe(include='object')"
   ]
  },
  {
   "cell_type": "markdown",
   "metadata": {
    "slideshow": {
     "slide_type": "slide"
    }
   },
   "source": [
    "# Column-level Summaries\n",
    "\n",
    "- Series (remember, individual columns are Series objects) offer lots of summary options.\n",
    "\n",
    "- Usually they're invoked as `df[column].SUMMARY()` and return a single, scalar value.\n",
    "\n"
   ]
  },
  {
   "cell_type": "markdown",
   "metadata": {
    "slideshow": {
     "slide_type": "slide"
    }
   },
   "source": [
    "\n",
    "\n",
    "# Column-level Numeric Summaries\n",
    "\n",
    "- `df[column].mean()`\n",
    "\n",
    "- `df[column].max()`\n",
    "\n",
    "- `df[column].min()`\n",
    "\n",
    "- `df[column].quantile(q=0.5) # Median`"
   ]
  },
  {
   "cell_type": "code",
   "execution_count": 22,
   "metadata": {},
   "outputs": [
    {
     "data": {
      "text/plain": [
       "1956.0"
      ]
     },
     "execution_count": 22,
     "metadata": {},
     "output_type": "execute_result"
    }
   ],
   "source": [
    "planes_df['year'].min()"
   ]
  },
  {
   "cell_type": "markdown",
   "metadata": {
    "slideshow": {
     "slide_type": "slide"
    }
   },
   "source": [
    "\n",
    "\n",
    "# Column-level Categorical Summaries\n",
    "\n",
    "- `df[column].nunique() # Number of unique values`\n",
    "\n",
    "- `df[column].value_counts() # Number of occurrences of each value, descending`\n"
   ]
  },
  {
   "cell_type": "code",
   "execution_count": 23,
   "metadata": {},
   "outputs": [
    {
     "data": {
      "text/plain": [
       "6"
      ]
     },
     "execution_count": 23,
     "metadata": {},
     "output_type": "execute_result"
    }
   ],
   "source": [
    "planes_df['engine'].nunique()"
   ]
  },
  {
   "cell_type": "code",
   "execution_count": 24,
   "metadata": {},
   "outputs": [
    {
     "data": {
      "text/plain": [
       "Fixed wing multi engine     3292\n",
       "Fixed wing single engine      25\n",
       "Rotorcraft                     5\n",
       "Name: type, dtype: int64"
      ]
     },
     "execution_count": 24,
     "metadata": {},
     "output_type": "execute_result"
    }
   ],
   "source": [
    "planes_df['type'].value_counts()"
   ]
  },
  {
   "cell_type": "markdown",
   "metadata": {},
   "source": [
    "- Note that `value_counts` is an exception to the rule -- it doesn't return a single number, but instead a *Series*."
   ]
  },
  {
   "cell_type": "markdown",
   "metadata": {
    "slideshow": {
     "slide_type": "slide"
    }
   },
   "source": [
    "## Questions"
   ]
  }
 ],
 "metadata": {
  "kernelspec": {
   "display_name": "uc-python",
   "language": "python",
   "name": "uc-python"
  },
  "language_info": {
   "codemirror_mode": {
    "name": "ipython",
    "version": 3
   },
   "file_extension": ".py",
   "mimetype": "text/x-python",
   "name": "python",
   "nbconvert_exporter": "python",
   "pygments_lexer": "ipython3",
   "version": "3.9.1"
  }
 },
 "nbformat": 4,
 "nbformat_minor": 5
}
