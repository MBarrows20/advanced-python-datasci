{
 "cells": [
  {
   "cell_type": "markdown",
   "id": "78c568d7-5364-41dc-b3c8-8275ba0b392c",
   "metadata": {},
   "source": [
    "# Model Evaluation & Selection\n",
    "\n",
    "![](images/justice-icon.jpg)"
   ]
  },
  {
   "cell_type": "markdown",
   "id": "b62edfed-c4e6-4253-b75b-bfd1dce995a7",
   "metadata": {},
   "source": [
    "## Objective\n",
    "\n",
    "This module is going to introduce you...\n",
    "\n",
    "1. TBD\n",
    "2. TBD\n",
    "3. TBD"
   ]
  },
  {
   "cell_type": "markdown",
   "id": "afd20f1d-1e25-49c0-879f-47583150c8a4",
   "metadata": {},
   "source": [
    "## Quick refresher\n",
    "\n",
    "But first, let's review a few things that we learned in the previous modules."
   ]
  },
  {
   "cell_type": "markdown",
   "id": "d54b81a7-1635-412d-b72a-c9262e41a975",
   "metadata": {},
   "source": [
    "### Data prep"
   ]
  },
  {
   "cell_type": "code",
   "execution_count": 5,
   "id": "10995d82-7d40-42dd-8118-d356c385ca86",
   "metadata": {},
   "outputs": [],
   "source": [
    "# packages used\n",
    "import pandas as pd\n",
    "from sklearn.model_selection import train_test_split\n",
    "\n",
    "# import data\n",
    "adult_census = pd.read_csv('../data/adult-census.csv')\n",
    "\n",
    "# separate feature & target data\n",
    "target = adult_census['class']\n",
    "features = adult_census.drop(columns='class')\n",
    "\n",
    "# drop the duplicated column `\"education-num\"` as stated in the data exploration notebook\n",
    "features = features.drop(columns='education-num')\n",
    "\n",
    "# split into train & test sets\n",
    "X_train, X_test, y_train, y_test = train_test_split(features, target, random_state=123)"
   ]
  },
  {
   "cell_type": "markdown",
   "id": "6483b7ea-7a8e-4859-9cb9-d72c039c4af2",
   "metadata": {},
   "source": [
    "### Feature engineering"
   ]
  },
  {
   "cell_type": "code",
   "execution_count": 6,
   "id": "20c9f2dc-40da-4212-9cfd-23fef0feecfa",
   "metadata": {},
   "outputs": [],
   "source": [
    "# packages used\n",
    "from sklearn.compose import make_column_selector as selector\n",
    "from sklearn.preprocessing import StandardScaler\n",
    "from sklearn.preprocessing import OneHotEncoder\n",
    "from sklearn.compose import ColumnTransformer\n",
    "\n",
    "# create selector object based on data type\n",
    "numerical_columns_selector = selector(dtype_exclude=object)\n",
    "categorical_columns_selector = selector(dtype_include=object)\n",
    "\n",
    "# get columns of interest\n",
    "numerical_columns = numerical_columns_selector(features)\n",
    "categorical_columns = categorical_columns_selector(features)\n",
    "\n",
    "# preprocessors to handle numeric and categorical features\n",
    "numerical_preprocessor = StandardScaler()\n",
    "categorical_preprocessor = OneHotEncoder(handle_unknown=\"ignore\")\n",
    "\n",
    "# transformer to associate each of these preprocessors with their respective columns\n",
    "preprocessor = ColumnTransformer([\n",
    "    ('one-hot-encoder', categorical_preprocessor, categorical_columns),\n",
    "    ('standard_scaler', numerical_preprocessor, numerical_columns)\n",
    "])"
   ]
  },
  {
   "cell_type": "markdown",
   "id": "aacba690-d95b-4106-8f68-dda2d05b622e",
   "metadata": {},
   "source": [
    "### Modeling"
   ]
  },
  {
   "cell_type": "code",
   "execution_count": 7,
   "id": "db2eea32-a2c7-4140-a59c-623e123ed11a",
   "metadata": {},
   "outputs": [
    {
     "data": {
      "text/plain": [
       "0.8503808041929408"
      ]
     },
     "execution_count": 7,
     "metadata": {},
     "output_type": "execute_result"
    }
   ],
   "source": [
    "# packages used\n",
    "from sklearn.linear_model import LogisticRegression\n",
    "from sklearn.pipeline import make_pipeline\n",
    "\n",
    "# Pipeline object to chain together modeling processes\n",
    "model = make_pipeline(preprocessor, LogisticRegression(max_iter=500))\n",
    "model\n",
    "\n",
    "# fit our model\n",
    "_ = model.fit(X_train, y_train)\n",
    "\n",
    "# score on test set\n",
    "model.score(X_test, y_test)"
   ]
  },
  {
   "cell_type": "markdown",
   "id": "85f3a4f0-caf0-480e-8439-d33fab9890b9",
   "metadata": {
    "tags": []
   },
   "source": [
    "## Resampling & cross-validation"
   ]
  },
  {
   "cell_type": "markdown",
   "id": "34582129-dd2f-481a-8813-fb80ed5f8090",
   "metadata": {},
   "source": [
    "In our \"03-first_model.ipynb\" notebook we split our data into training and testing sets and we assessed the performance of our model on the test set. Unfortunately, there are a few pitfalls to this approach:"
   ]
  },
  {
   "cell_type": "markdown",
   "id": "f58d9d74-0e75-4c1f-86a9-ec27caf1ac2d",
   "metadata": {},
   "source": [
    "1. If our dataset is small, a single test set may not provide realistic expectations of our model's performance on unseen data.\n",
    "2. A single test set does not provide us any insight on variability of our model's performance.\n",
    "3. Using our test set to drive our model building process can bias our results via _data leakage_."
   ]
  },
  {
   "cell_type": "markdown",
   "id": "87726e49-4b41-4fc4-ab03-5c3efdfbbdb2",
   "metadata": {},
   "source": [
    "Resampling methods provide an alternative approach by allowing us to repeatedly fit a model of interest to parts of the training data and test its performance on other parts of the training data.\n",
    "\n",
    "![](images/resampling.svg)"
   ]
  },
  {
   "cell_type": "markdown",
   "id": "45ca69ec-1638-4261-9ec0-99708b354560",
   "metadata": {},
   "source": [
    "<div class=\"admonition note alert alert-info\">\n",
    "    <p class=\"first admonition-title\" style=\"font-weight: bold;\"><b>Note</b></p>\n",
    "<p class=\"last\">This allows us to train and validate our model entirely on the training data and not touch the test data until we have selected a final \"optimal\" model.</p>\n",
    "</div>"
   ]
  },
  {
   "cell_type": "markdown",
   "id": "e7724614-fef9-402b-bd34-6170d4ac244b",
   "metadata": {},
   "source": [
    "The two most commonly used resampling methods include ___k-fold cross-validation___ and ___bootstrap sampling___. This module focuses on using k-fold cross-validation."
   ]
  },
  {
   "cell_type": "markdown",
   "id": "f8b2af04-02e2-424d-b78c-ae4c6e06d2eb",
   "metadata": {
    "tags": []
   },
   "source": [
    "## K-fold cross-validation\n",
    "\n",
    "Cross-validation consists of repeating the procedure such that the training and testing sets are different each time. Generalization performance metrics are collected for each repetition and then aggregated. As a result we can get an estimate of the variability of the model’s generalization performance."
   ]
  },
  {
   "cell_type": "markdown",
   "id": "79bcf456-d4ff-4dd3-8ae1-7aff4e729946",
   "metadata": {},
   "source": [
    "_k_-fold cross-validation (aka _k_-fold CV) is a resampling method that randomly divides the training data into _k_ groups (aka folds) of approximately equal size. \n",
    "\n",
    "![](images/cross_validation_diagram.png)\n",
    "\n",
    "The model is fit on $k-1$ folds and then the remaining fold is used to compute model performance.  This procedure is repeated _k_ times; each time, a different fold is treated as the validation set. \n",
    "\n",
    "This process results in _k_ estimates of the generalization error (say $\\epsilon_1, \\epsilon_2, \\dots, \\epsilon_k$). Thus, the _k_-fold CV estimate is computed by averaging the _k_ test errors, providing us with an approximation of the error we might expect on unseen data."
   ]
  },
  {
   "cell_type": "markdown",
   "id": "df80a7ee-686e-4561-8386-6d61f2c9a43f",
   "metadata": {},
   "source": [
    "![](images/cv.png)"
   ]
  },
  {
   "cell_type": "markdown",
   "id": "73f6b1cf-5ba0-4102-8ebb-b1dda1772bf1",
   "metadata": {},
   "source": [
    "In scikit-learn, the function [`cross_validate`](https://scikit-learn.org/stable/modules/generated/sklearn.model_selection.cross_validate.html) allows to do cross-validation and you need to pass it the model, the data, and the target. Since there exists several cross-validation strategies, cross_validate takes a parameter `cv` which defines the splitting strategy."
   ]
  },
  {
   "cell_type": "markdown",
   "id": "29c3f7ee-49e1-4a3a-be18-7e760380a0d7",
   "metadata": {},
   "source": [
    "<div class=\"admonition tip alert alert-warning\">\n",
    "    <p class=\"first admonition-title\" style=\"font-weight: bold;\"><b>Tip</b></p>\n",
    "    <p class=\"last\">In practice, one typically uses k=5 or k=10. There is no formal rule as to the size of k; however, as k gets larger, the difference between the estimated performance and the true performance to be seen on the test set will decrease.</p>\n",
    "</ul>\n",
    "</div>"
   ]
  },
  {
   "cell_type": "code",
   "execution_count": 8,
   "id": "df17378a-c67f-4177-9ce0-42754c70a750",
   "metadata": {},
   "outputs": [
    {
     "name": "stdout",
     "output_type": "stream",
     "text": [
      "CPU times: user 3.44 s, sys: 65.2 ms, total: 3.5 s\n",
      "Wall time: 3.52 s\n"
     ]
    },
    {
     "data": {
      "text/plain": [
       "{'fit_time': array([0.66824007, 0.7457099 , 0.64340782, 0.67427135, 0.59037399]),\n",
       " 'score_time': array([0.02877188, 0.02912116, 0.02842212, 0.02938485, 0.02747893]),\n",
       " 'test_score': array([0.85191757, 0.84548185, 0.85790336, 0.85094185, 0.85558286])}"
      ]
     },
     "execution_count": 8,
     "metadata": {},
     "output_type": "execute_result"
    }
   ],
   "source": [
    "%%time\n",
    "from sklearn.model_selection import cross_validate\n",
    "\n",
    "cv_result = cross_validate(model, X_train, y_train, cv=5)\n",
    "cv_result"
   ]
  },
  {
   "cell_type": "markdown",
   "id": "2dc68f94-850f-492f-9308-bc1b34eb3fe6",
   "metadata": {},
   "source": [
    "The output of cross_validate is a Python dictionary, which by default contains three entries: \n",
    "\n",
    "- `fit_time`: the time to train the model on the training data for each fold, \n",
    "- `score_time`: the time to predict with the model on the testing data for each fold, and \n",
    "- `test_score`: the default score on the testing data for each fold."
   ]
  },
  {
   "cell_type": "code",
   "execution_count": 9,
   "id": "ae0bf5c2-e4ea-4140-8def-05b8dee7e77d",
   "metadata": {},
   "outputs": [
    {
     "name": "stdout",
     "output_type": "stream",
     "text": [
      "The mean cross-validation accuracy is: 0.852 +/- 0.004\n"
     ]
    }
   ],
   "source": [
    "scores = cv_result[\"test_score\"]\n",
    "print(\"The mean cross-validation accuracy is: \"\n",
    "      f\"{scores.mean():.3f} +/- {scores.std():.3f}\")"
   ]
  },
  {
   "cell_type": "markdown",
   "id": "748d0fe6-c5e9-491f-b5da-9c775207fe5f",
   "metadata": {
    "slideshow": {
     "slide_type": "slide"
    },
    "tags": []
   },
   "source": [
    "<div class=\"admonition tip alert alert-warning\">\n",
    "    <p class=\"first admonition-title\" style=\"font-weight: bold;\"><b>Your Turn</b></p>\n",
    "<p class=\"last\">\n",
    "TBD\n",
    "</p>\n",
    "</div>"
   ]
  },
  {
   "cell_type": "markdown",
   "id": "53aef758-46e9-4f83-95f9-d33e64b4c0a6",
   "metadata": {
    "slideshow": {
     "slide_type": "slide"
    },
    "tags": []
   },
   "source": [
    "## Evaluation metrics\n",
    "\n",
    "* Evaluation metrics allow us to measure the predictive accuracy of our model – the difference between the predicted value ($\\hat{y}_i$) and the actual value ($y_i$).\n",
    "\n",
    "* We often refer to evaluation metrics as ___loss functions___: $f(y_{i} - \\hat{y}_i)$\n",
    "\n",
    "* Scikit-Learn provides multiple ways to compute evaluation metrics and refers to this concept as [___scoring___](https://scikit-learn.org/stable/modules/model_evaluation.html). \n",
    "   1. Estimator scoring method\n",
    "   2. Individual scoring functions\n",
    "   3. Scoring parameters"
   ]
  },
  {
   "cell_type": "markdown",
   "id": "1189c888-7b3c-45c5-b669-908dfd9c6eac",
   "metadata": {
    "slideshow": {
     "slide_type": "slide"
    },
    "tags": []
   },
   "source": [
    "### Estimator scoring method\n",
    "\n",
    "Every estimator (regression/classification model) has a default scoring method\n",
    "\n",
    "Most classifiers return the mean accuracy of the model on the supplied $X$ and $y$:"
   ]
  },
  {
   "cell_type": "code",
   "execution_count": 26,
   "id": "4c7b9e6c-9266-498f-b4a5-47c4486f3a81",
   "metadata": {
    "slideshow": {
     "slide_type": "fragment"
    },
    "tags": []
   },
   "outputs": [
    {
     "data": {
      "text/plain": [
       "0.9595782073813708"
      ]
     },
     "execution_count": 26,
     "metadata": {},
     "output_type": "execute_result"
    }
   ],
   "source": [
    "# toy data\n",
    "from sklearn.datasets import load_breast_cancer\n",
    "X_cancer, y_cancer = load_breast_cancer(return_X_y=True)\n",
    "\n",
    "# fit model\n",
    "clf = LogisticRegression(solver='liblinear').fit(X_cancer, y_cancer)\n",
    "\n",
    "# score \n",
    "clf.score(X_cancer, y_cancer)"
   ]
  },
  {
   "cell_type": "markdown",
   "id": "d861b4a4-b577-4f07-9b89-077b23d945c6",
   "metadata": {
    "slideshow": {
     "slide_type": "slide"
    },
    "tags": []
   },
   "source": [
    "While most regressors return the $R^2$ metric:"
   ]
  },
  {
   "cell_type": "code",
   "execution_count": 27,
   "id": "0f3b0e77-bcd5-4a46-8dc9-b18694bbfd76",
   "metadata": {},
   "outputs": [
    {
     "data": {
      "text/plain": [
       "0.7406426641094095"
      ]
     },
     "execution_count": 27,
     "metadata": {},
     "output_type": "execute_result"
    }
   ],
   "source": [
    "# toy data\n",
    "from sklearn.datasets import load_boston\n",
    "X_boston, y_boston = load_boston(return_X_y=True)\n",
    "\n",
    "# fit model\n",
    "from sklearn.linear_model import LinearRegression\n",
    "reg = LinearRegression().fit(X_boston, y_boston)\n",
    "\n",
    "# score\n",
    "reg.score(X_boston, y_boston)"
   ]
  },
  {
   "cell_type": "markdown",
   "id": "be387d90-b2c3-46ac-abbb-f05a52dfec4a",
   "metadata": {
    "slideshow": {
     "slide_type": "slide"
    },
    "tags": []
   },
   "source": [
    "### Individual scoring functions\n",
    "\n",
    "However, these default evaluation metrics are often not the metrics most suitable to the business problem.\n",
    "\n",
    "There are many loss functions to choose from; each with unique characteristics that can be beneficial for certain problems.\n",
    "   * Regression problems\n",
    "      - Mean squared error (MSE)\n",
    "      - Root mean squared error (RMSE)\n",
    "      - Mean absolute error (MAE)\n",
    "      - etc.\n",
    "   * Classification problems\n",
    "      - Area under the curve (AUC)\n",
    "      - Cross-entropy (aka Log loss)\n",
    "      - Precision\n",
    "      - etc."
   ]
  },
  {
   "cell_type": "markdown",
   "id": "927de46b-3dd7-4369-9bbc-86f1035cee12",
   "metadata": {
    "slideshow": {
     "slide_type": "slide"
    },
    "tags": []
   },
   "source": [
    "Scikit-Learn provides many [scoring functions](https://scikit-learn.org/stable/modules/classes.html#module-sklearn.metrics) to choose from."
   ]
  },
  {
   "cell_type": "code",
   "execution_count": 28,
   "id": "64c4fc90-6c32-42fd-9764-ccec767ce9e9",
   "metadata": {},
   "outputs": [],
   "source": [
    "from sklearn import metrics"
   ]
  },
  {
   "cell_type": "markdown",
   "id": "b2f081ff-ab5d-4d53-9dad-cb0ec81d5f1f",
   "metadata": {
    "slideshow": {
     "slide_type": "fragment"
    },
    "tags": []
   },
   "source": [
    "The functions take actual y values and predicted y values -- $f(y_{i} - \\hat{y}_i)$"
   ]
  },
  {
   "cell_type": "markdown",
   "id": "b27c5e12-5c3f-46d1-a5ca-0b9dba406d2e",
   "metadata": {
    "slideshow": {
     "slide_type": "slide"
    },
    "tags": []
   },
   "source": [
    "__Example regression metrics__:"
   ]
  },
  {
   "cell_type": "code",
   "execution_count": 36,
   "id": "9c411194-11f3-41fb-857f-f8bb37b8c1ef",
   "metadata": {},
   "outputs": [
    {
     "data": {
      "text/plain": [
       "21.894831181729202"
      ]
     },
     "execution_count": 36,
     "metadata": {},
     "output_type": "execute_result"
    }
   ],
   "source": [
    "y_pred = reg.predict(X_boston)\n",
    "\n",
    "# Mean squared error\n",
    "metrics.mean_squared_error(y_boston, y_pred)"
   ]
  },
  {
   "cell_type": "code",
   "execution_count": 37,
   "id": "bf56419b-38f8-478c-84cb-c53c485f5e52",
   "metadata": {
    "slideshow": {
     "slide_type": "fragment"
    },
    "tags": []
   },
   "outputs": [
    {
     "data": {
      "text/plain": [
       "0.1641729880648995"
      ]
     },
     "execution_count": 37,
     "metadata": {},
     "output_type": "execute_result"
    }
   ],
   "source": [
    "# Mean absolute percentage error\n",
    "metrics.mean_absolute_percentage_error(y_boston, y_pred)"
   ]
  },
  {
   "cell_type": "markdown",
   "id": "54c43ac0-7ff6-48c1-b0e2-755aa4bcef8b",
   "metadata": {
    "slideshow": {
     "slide_type": "slide"
    },
    "tags": []
   },
   "source": [
    "__Example classification metrics__:"
   ]
  },
  {
   "cell_type": "code",
   "execution_count": 40,
   "id": "fb06aa74-86ca-4ed5-bdcf-c4c4e6febd9c",
   "metadata": {},
   "outputs": [
    {
     "data": {
      "text/plain": [
       "0.9543760900586651"
      ]
     },
     "execution_count": 40,
     "metadata": {},
     "output_type": "execute_result"
    }
   ],
   "source": [
    "y_pred = clf.predict(X_cancer)\n",
    "\n",
    "# Area under the curve\n",
    "metrics.roc_auc_score(y_cancer, y_pred)"
   ]
  },
  {
   "cell_type": "code",
   "execution_count": 41,
   "id": "cf33995d-cd43-4eeb-9f5b-1cfe00db18ac",
   "metadata": {
    "slideshow": {
     "slide_type": "fragment"
    },
    "tags": []
   },
   "outputs": [
    {
     "data": {
      "text/plain": [
       "0.968011126564673"
      ]
     },
     "execution_count": 41,
     "metadata": {},
     "output_type": "execute_result"
    }
   ],
   "source": [
    "# F1 score\n",
    "metrics.f1_score(y_cancer, y_pred)"
   ]
  },
  {
   "cell_type": "code",
   "execution_count": 39,
   "id": "5b7b6020-f504-46c4-80cc-77be716d7efb",
   "metadata": {
    "slideshow": {
     "slide_type": "fragment"
    },
    "tags": []
   },
   "outputs": [
    {
     "name": "stdout",
     "output_type": "stream",
     "text": [
      "              precision    recall  f1-score   support\n",
      "\n",
      "           0       0.96      0.93      0.95       212\n",
      "           1       0.96      0.97      0.97       357\n",
      "\n",
      "    accuracy                           0.96       569\n",
      "   macro avg       0.96      0.95      0.96       569\n",
      "weighted avg       0.96      0.96      0.96       569\n",
      "\n"
     ]
    }
   ],
   "source": [
    "# multiple metrics at once!\n",
    "print(metrics.classification_report(y_cancer, y_pred))"
   ]
  },
  {
   "cell_type": "markdown",
   "id": "f6a87065-d857-45c7-a964-26396686210f",
   "metadata": {
    "slideshow": {
     "slide_type": "slide"
    },
    "tags": []
   },
   "source": [
    "### Scoring parameters\n",
    "\n",
    "And since we prefer to use cross-validation procedures, scikit-learn has incorporated a `scoring` parameter.\n",
    "\n",
    "Most evaluation metrics have a predefined text string that can be supplied as a `scoring` argument. "
   ]
  },
  {
   "cell_type": "code",
   "execution_count": 47,
   "id": "b84fc547-1490-4d88-bc0d-681ae559c642",
   "metadata": {},
   "outputs": [
    {
     "data": {
      "text/plain": [
       "{'fit_time': array([0.78194714, 0.76312613, 0.71795416, 0.74163508, 0.67845583]),\n",
       " 'score_time': array([0.03394103, 0.0323801 , 0.03217793, 0.03334308, 0.03055   ]),\n",
       " 'test_score': array([0.90485472, 0.90326931, 0.91316978, 0.90553186, 0.90816178])}"
      ]
     },
     "execution_count": 47,
     "metadata": {},
     "output_type": "execute_result"
    }
   ],
   "source": [
    "# say we wanted to use AUC as our loss function while using 5-fold validation\n",
    "cross_validate(model, X_train, y_train, cv=5, scoring='roc_auc')"
   ]
  },
  {
   "cell_type": "markdown",
   "id": "63e63212-f93f-43a5-bf64-e9992f338b57",
   "metadata": {
    "slideshow": {
     "slide_type": "slide"
    },
    "tags": []
   },
   "source": [
    "<div class=\"admonition note alert alert-info\">\n",
    "    <p class=\"first admonition-title\" style=\"font-weight: bold;\"><b>Note</b></p>\n",
    "    <p class=\"last\">The unified scoring API in scikit-learn always <u>maximizes</u> the score, so metrics which need to be minimized are negated in order for the unified scoring API to work correctly. Consequently, some metrics such as <tt class=\"docutils literal\">mean_squared_error()</tt> will use a predefined text string starting with <b>neg_</b> (i.e. 'neg_mean_squared_error' .</p>\n",
    "</div>"
   ]
  },
  {
   "cell_type": "code",
   "execution_count": 45,
   "id": "4910e2fb-3713-4237-bb92-f4e126588cb5",
   "metadata": {
    "slideshow": {
     "slide_type": "fragment"
    },
    "tags": []
   },
   "outputs": [
    {
     "data": {
      "text/plain": [
       "{'fit_time': array([0.00466919, 0.00105381, 0.00070906, 0.00056982, 0.00099421]),\n",
       " 'score_time': array([0.00061488, 0.00032616, 0.00024104, 0.00023293, 0.00043392]),\n",
       " 'test_score': array([-3.52991509, -5.10378498, -5.75101191, -8.9867887 , -5.77179405])}"
      ]
     },
     "execution_count": 45,
     "metadata": {},
     "output_type": "execute_result"
    }
   ],
   "source": [
    "# applying mean squared error in a regression k-fold cross validation procedure\n",
    "cross_validate(reg, X_boston, y_boston, cv=5, scoring='neg_root_mean_squared_error')"
   ]
  },
  {
   "cell_type": "markdown",
   "id": "4ee71ade-4873-44aa-bea9-8248f0ed9522",
   "metadata": {
    "slideshow": {
     "slide_type": "slide"
    },
    "tags": []
   },
   "source": [
    "You can even supply [more than one metric](https://scikit-learn.org/stable/modules/model_evaluation.html#using-multiple-metric-evaluation) or even [define your own custom metric](https://scikit-learn.org/stable/modules/model_evaluation.html#defining-your-scoring-strategy-from-metric-functions)."
   ]
  },
  {
   "cell_type": "code",
   "execution_count": 49,
   "id": "2cc09e79-9b3a-4c28-be5d-6f067b96b276",
   "metadata": {},
   "outputs": [
    {
     "data": {
      "text/plain": [
       "{'fit_time': array([0.75666189, 0.74446177, 0.71956205, 0.73168302, 0.68257308]),\n",
       " 'score_time': array([0.0659771 , 0.06203222, 0.0604248 , 0.06098986, 0.05946302]),\n",
       " 'test_accuracy': array([0.85191757, 0.84548185, 0.85790336, 0.85094185, 0.85558286]),\n",
       " 'test_roc_auc': array([0.90485472, 0.90326931, 0.91316978, 0.90553186, 0.90816178])}"
      ]
     },
     "execution_count": 49,
     "metadata": {},
     "output_type": "execute_result"
    }
   ],
   "source": [
    "# example of supplying more than one metric\n",
    "metrics = ['accuracy', 'roc_auc']\n",
    "\n",
    "cross_validate(model, X_train, y_train, cv=5, scoring=metrics)"
   ]
  },
  {
   "cell_type": "markdown",
   "id": "01df0667-5220-4bd0-a3ca-1bf0429d825e",
   "metadata": {
    "slideshow": {
     "slide_type": "slide"
    },
    "tags": []
   },
   "source": [
    "<div class=\"admonition tip alert alert-warning\">\n",
    "    <p class=\"first admonition-title\" style=\"font-weight: bold;\"><b>Your Turn</b></p>\n",
    "<p class=\"last\">\n",
    "TBD\n",
    "</p>\n",
    "</div>"
   ]
  },
  {
   "cell_type": "markdown",
   "id": "3c50870a-37fe-4f79-8fcc-36bea64e0438",
   "metadata": {},
   "source": [
    "## Hyperparameter tuning\n",
    "\n",
    "TBD"
   ]
  },
  {
   "cell_type": "markdown",
   "id": "2686773c-3dca-4953-9297-cb13e3e90aef",
   "metadata": {},
   "source": [
    "<div class=\"admonition tip alert alert-warning\">\n",
    "    <p class=\"first admonition-title\" style=\"font-weight: bold;\"><b>Your Turn</b></p>\n",
    "<p class=\"last\">\n",
    "TBD\n",
    "</p>\n",
    "</div>"
   ]
  },
  {
   "cell_type": "markdown",
   "id": "08d1777a-2aa3-41db-8060-098b6707a791",
   "metadata": {},
   "source": [
    "## Wrapping up"
   ]
  },
  {
   "cell_type": "code",
   "execution_count": null,
   "id": "fad26193-5d3d-4792-8d61-ea8495cfe77b",
   "metadata": {},
   "outputs": [],
   "source": []
  }
 ],
 "metadata": {
  "kernelspec": {
   "display_name": "Python 3 (ipykernel)",
   "language": "python",
   "name": "python3"
  },
  "language_info": {
   "codemirror_mode": {
    "name": "ipython",
    "version": 3
   },
   "file_extension": ".py",
   "mimetype": "text/x-python",
   "name": "python",
   "nbconvert_exporter": "python",
   "pygments_lexer": "ipython3",
   "version": "3.8.12"
  }
 },
 "nbformat": 4,
 "nbformat_minor": 5
}
