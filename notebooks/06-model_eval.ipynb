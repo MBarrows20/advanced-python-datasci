{
 "cells": [
  {
   "cell_type": "markdown",
   "id": "78c568d7-5364-41dc-b3c8-8275ba0b392c",
   "metadata": {},
   "source": [
    "# Model Evaluation & Selection\n",
    "\n",
    "![](images/justice-icon.jpg)"
   ]
  },
  {
   "cell_type": "markdown",
   "id": "b62edfed-c4e6-4253-b75b-bfd1dce995a7",
   "metadata": {},
   "source": [
    "## Objective\n",
    "\n",
    "This module is going to introduce you...\n",
    "\n",
    "1. TBD\n",
    "2. TBD\n",
    "3. TBD"
   ]
  },
  {
   "cell_type": "markdown",
   "id": "afd20f1d-1e25-49c0-879f-47583150c8a4",
   "metadata": {},
   "source": [
    "## Quick refresher\n",
    "\n",
    "But first, let's review a few things that we learned in the previous modules."
   ]
  },
  {
   "cell_type": "markdown",
   "id": "d54b81a7-1635-412d-b72a-c9262e41a975",
   "metadata": {},
   "source": [
    "### Data prep"
   ]
  },
  {
   "cell_type": "code",
   "execution_count": 3,
   "id": "10995d82-7d40-42dd-8118-d356c385ca86",
   "metadata": {},
   "outputs": [],
   "source": [
    "# packages used\n",
    "import pandas as pd\n",
    "from sklearn.model_selection import train_test_split\n",
    "\n",
    "# import data\n",
    "adult_census = pd.read_csv('../data/adult-census.csv')\n",
    "\n",
    "# separate feature & target data\n",
    "target = adult_census['class']\n",
    "features = adult_census.drop(columns='class')\n",
    "\n",
    "# drop the duplicated column `\"education-num\"` as stated in the data exploration notebook\n",
    "features = features.drop(columns='education-num')\n",
    "\n",
    "# split into train & test sets\n",
    "X_train, X_test, y_train, y_test = train_test_split(features, target, random_state=123)"
   ]
  },
  {
   "cell_type": "markdown",
   "id": "6483b7ea-7a8e-4859-9cb9-d72c039c4af2",
   "metadata": {},
   "source": [
    "### Feature engineering"
   ]
  },
  {
   "cell_type": "code",
   "execution_count": 5,
   "id": "20c9f2dc-40da-4212-9cfd-23fef0feecfa",
   "metadata": {},
   "outputs": [],
   "source": [
    "# packages used\n",
    "from sklearn.compose import make_column_selector as selector\n",
    "from sklearn.preprocessing import StandardScaler\n",
    "from sklearn.preprocessing import OneHotEncoder\n",
    "from sklearn.compose import ColumnTransformer\n",
    "\n",
    "# create selector object based on data type\n",
    "numerical_columns_selector = selector(dtype_exclude=object)\n",
    "categorical_columns_selector = selector(dtype_include=object)\n",
    "\n",
    "# get columns of interest\n",
    "numerical_columns = numerical_columns_selector(features)\n",
    "categorical_columns = categorical_columns_selector(features)\n",
    "\n",
    "# preprocessors to handle numeric and categorical features\n",
    "numerical_preprocessor = StandardScaler()\n",
    "categorical_preprocessor = OneHotEncoder(handle_unknown=\"ignore\")\n",
    "\n",
    "# transformer to associate each of these preprocessors with their respective columns\n",
    "preprocessor = ColumnTransformer([\n",
    "    ('one-hot-encoder', categorical_preprocessor, categorical_columns),\n",
    "    ('standard_scaler', numerical_preprocessor, numerical_columns)\n",
    "])"
   ]
  },
  {
   "cell_type": "markdown",
   "id": "aacba690-d95b-4106-8f68-dda2d05b622e",
   "metadata": {},
   "source": [
    "### Modeling"
   ]
  },
  {
   "cell_type": "code",
   "execution_count": 6,
   "id": "db2eea32-a2c7-4140-a59c-623e123ed11a",
   "metadata": {},
   "outputs": [
    {
     "data": {
      "text/plain": [
       "0.8503808041929408"
      ]
     },
     "execution_count": 6,
     "metadata": {},
     "output_type": "execute_result"
    }
   ],
   "source": [
    "# packages used\n",
    "from sklearn.linear_model import LogisticRegression\n",
    "from sklearn.pipeline import make_pipeline\n",
    "\n",
    "# Pipeline object to chain together modeling processes\n",
    "model = make_pipeline(preprocessor, LogisticRegression(max_iter=500))\n",
    "model\n",
    "\n",
    "# fit our model\n",
    "_ = model.fit(X_train, y_train)\n",
    "\n",
    "# score on test set\n",
    "model.score(X_test, y_test)"
   ]
  },
  {
   "cell_type": "markdown",
   "id": "85f3a4f0-caf0-480e-8439-d33fab9890b9",
   "metadata": {
    "tags": []
   },
   "source": [
    "## Resampling & cross-validation"
   ]
  },
  {
   "cell_type": "markdown",
   "id": "34582129-dd2f-481a-8813-fb80ed5f8090",
   "metadata": {},
   "source": [
    "In our \"03-first_model.ipynb\" notebook we split our data into training and testing sets and we assessed the performance of our model on the test set. Unfortunately, there are a few pitfalls to this approach:"
   ]
  },
  {
   "cell_type": "markdown",
   "id": "f58d9d74-0e75-4c1f-86a9-ec27caf1ac2d",
   "metadata": {},
   "source": [
    "1. If our dataset is small, a single test set may not provide realistic expectations of our model's performance on unseen data.\n",
    "2. A single test set does not provide us any insight on variability of our model's performance.\n",
    "3. Using our test set to drive our model building process can bias our results via _data leakage_."
   ]
  },
  {
   "cell_type": "markdown",
   "id": "87726e49-4b41-4fc4-ab03-5c3efdfbbdb2",
   "metadata": {},
   "source": [
    "Resampling methods provide an alternative approach by allowing us to repeatedly fit a model of interest to parts of the training data and test its performance on other parts of the training data.\n",
    "\n",
    "![](images/resampling.svg)"
   ]
  },
  {
   "cell_type": "markdown",
   "id": "45ca69ec-1638-4261-9ec0-99708b354560",
   "metadata": {},
   "source": [
    "<div class=\"admonition note alert alert-info\">\n",
    "    <p class=\"first admonition-title\" style=\"font-weight: bold;\"><b>Note</b></p>\n",
    "<p class=\"last\">This allows us to train and validate our model entirely on the training data and not touch the test data until we have selected a final \"optimal\" model.</p>\n",
    "</div>"
   ]
  },
  {
   "cell_type": "markdown",
   "id": "e7724614-fef9-402b-bd34-6170d4ac244b",
   "metadata": {},
   "source": [
    "The two most commonly used resampling method include ___k-fold cross-validation___ and ___bootstrap sampling___. This module focuses on using k-fold cross-validation."
   ]
  },
  {
   "cell_type": "markdown",
   "id": "f8b2af04-02e2-424d-b78c-ae4c6e06d2eb",
   "metadata": {
    "tags": []
   },
   "source": [
    "## K-fold cross-validation\n",
    "\n",
    "Cross-validation consists of repeating the procedure such that the training and testing sets are different each time. Generalization performance metrics are collected for each repetition and then aggregated. As a result we can get an estimate of the variability of the model’s generalization performance."
   ]
  },
  {
   "cell_type": "markdown",
   "id": "79bcf456-d4ff-4dd3-8ae1-7aff4e729946",
   "metadata": {},
   "source": [
    "_k_-fold cross-validation (aka _k_-fold CV) is a resampling method that randomly divides the training data into _k_ groups (aka folds) of approximately equal size. \n",
    "\n",
    "![](images/cross_validation_diagram.png)\n",
    "\n",
    "The model is fit on $k-1$ folds and then the remaining fold is used to compute model performance.  This procedure is repeated _k_ times; each time, a different fold is treated as the validation set. \n",
    "\n",
    "This process results in _k_ estimates of the generalization error (say $\\epsilon_1, \\epsilon_2, \\dots, \\epsilon_k$). Thus, the _k_-fold CV estimate is computed by averaging the _k_ test errors, providing us with an approximation of the error we might expect on unseen data."
   ]
  },
  {
   "cell_type": "markdown",
   "id": "df80a7ee-686e-4561-8386-6d61f2c9a43f",
   "metadata": {},
   "source": [
    "![](images/cv.png)"
   ]
  },
  {
   "cell_type": "markdown",
   "id": "73f6b1cf-5ba0-4102-8ebb-b1dda1772bf1",
   "metadata": {},
   "source": [
    "In scikit-learn, the function [`cross_validate`](https://scikit-learn.org/stable/modules/generated/sklearn.model_selection.cross_validate.html) allows to do cross-validation and you need to pass it the model, the data, and the target. Since there exists several cross-validation strategies, cross_validate takes a parameter `cv` which defines the splitting strategy."
   ]
  },
  {
   "cell_type": "markdown",
   "id": "29c3f7ee-49e1-4a3a-be18-7e760380a0d7",
   "metadata": {},
   "source": [
    "<div class=\"admonition tip alert alert-warning\">\n",
    "    <p class=\"first admonition-title\" style=\"font-weight: bold;\"><b>Tip</b></p>\n",
    "    <p class=\"last\">In practice, one typically uses k=5 or k=10. There is no formal rule as to the size of k; however, as k gets larger, the difference between the estimated performance and the true performance to be seen on the test set will decrease.</p>\n",
    "</ul>\n",
    "</div>"
   ]
  },
  {
   "cell_type": "code",
   "execution_count": 9,
   "id": "df17378a-c67f-4177-9ce0-42754c70a750",
   "metadata": {},
   "outputs": [
    {
     "name": "stdout",
     "output_type": "stream",
     "text": [
      "CPU times: user 3.21 s, sys: 48.5 ms, total: 3.26 s\n",
      "Wall time: 3.26 s\n"
     ]
    },
    {
     "data": {
      "text/plain": [
       "{'fit_time': array([0.68133974, 0.61591721, 0.58582687, 0.61716914, 0.56861997]),\n",
       " 'score_time': array([0.0254302 , 0.02883387, 0.02762032, 0.02966881, 0.02553988]),\n",
       " 'test_score': array([0.85191757, 0.84548185, 0.85790336, 0.85094185, 0.85558286])}"
      ]
     },
     "execution_count": 9,
     "metadata": {},
     "output_type": "execute_result"
    }
   ],
   "source": [
    "%%time\n",
    "from sklearn.model_selection import cross_validate\n",
    "\n",
    "cv_result = cross_validate(model, X_train, y_train, cv=5)\n",
    "cv_result"
   ]
  },
  {
   "cell_type": "markdown",
   "id": "2dc68f94-850f-492f-9308-bc1b34eb3fe6",
   "metadata": {},
   "source": [
    "The output of cross_validate is a Python dictionary, which by default contains three entries: \n",
    "\n",
    "- `fit_time`: the time to train the model on the training data for each fold, \n",
    "- `score_time`: the time to predict with the model on the testing data for each fold, and \n",
    "- `test_score`: the default score on the testing data for each fold."
   ]
  },
  {
   "cell_type": "code",
   "execution_count": 10,
   "id": "ae0bf5c2-e4ea-4140-8def-05b8dee7e77d",
   "metadata": {},
   "outputs": [
    {
     "name": "stdout",
     "output_type": "stream",
     "text": [
      "The mean cross-validation accuracy is: 0.852 +/- 0.004\n"
     ]
    }
   ],
   "source": [
    "scores = cv_result[\"test_score\"]\n",
    "print(\"The mean cross-validation accuracy is: \"\n",
    "      f\"{scores.mean():.3f} +/- {scores.std():.3f}\")"
   ]
  },
  {
   "cell_type": "markdown",
   "id": "53aef758-46e9-4f83-95f9-d33e64b4c0a6",
   "metadata": {},
   "source": [
    "## Evaluation metrics\n",
    "\n",
    "* Discuss the different scoring APIs available in Scikit-learn [https://scikit-learn.org/stable/modules/model_evaluation.html](https://scikit-learn.org/stable/modules/model_evaluation.html)\n",
    "* Don't spend too much time on the different metrics; rather, point them to resources to learn about the different metrics\n",
    "* Focus the attention here on how to apply the different scoring APIs"
   ]
  },
  {
   "cell_type": "markdown",
   "id": "3c50870a-37fe-4f79-8fcc-36bea64e0438",
   "metadata": {},
   "source": [
    "## Hyperparameter tuning"
   ]
  },
  {
   "cell_type": "markdown",
   "id": "08d1777a-2aa3-41db-8060-098b6707a791",
   "metadata": {},
   "source": [
    "## Wrapping up"
   ]
  },
  {
   "cell_type": "code",
   "execution_count": null,
   "id": "fad26193-5d3d-4792-8d61-ea8495cfe77b",
   "metadata": {},
   "outputs": [],
   "source": []
  }
 ],
 "metadata": {
  "kernelspec": {
   "display_name": "Python 3 (ipykernel)",
   "language": "python",
   "name": "python3"
  },
  "language_info": {
   "codemirror_mode": {
    "name": "ipython",
    "version": 3
   },
   "file_extension": ".py",
   "mimetype": "text/x-python",
   "name": "python",
   "nbconvert_exporter": "python",
   "pygments_lexer": "ipython3",
   "version": "3.8.12"
  }
 },
 "nbformat": 4,
 "nbformat_minor": 5
}
