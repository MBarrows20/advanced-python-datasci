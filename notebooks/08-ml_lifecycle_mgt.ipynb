{
 "cells": [
  {
   "cell_type": "markdown",
   "id": "21e38b21-6a98-49fe-a658-169ac7dde1bf",
   "metadata": {},
   "source": [
    "# ML Lifecycle Management"
   ]
  },
  {
   "cell_type": "markdown",
   "id": "1deb91cc-22b7-4627-bafb-90ebeb59c539",
   "metadata": {},
   "source": [
    "## Objective\n",
    "\n",
    "This module is going to introduce you to...\n",
    "\n",
    "1. TBD\n",
    "1. TBD\n",
    "1. TBD"
   ]
  },
  {
   "cell_type": "markdown",
   "id": "2fde6edc-f728-4fae-ba22-cc60910072aa",
   "metadata": {},
   "source": [
    "## Intro to MLflow"
   ]
  },
  {
   "cell_type": "markdown",
   "id": "6ed0c49b-bb14-418c-a934-84914da34e07",
   "metadata": {},
   "source": [
    "## Modeling experimentation mgt"
   ]
  },
  {
   "cell_type": "markdown",
   "id": "728a826b-d22f-4fa5-bce8-4e1724e3baf6",
   "metadata": {},
   "source": [
    "## MLflow UI"
   ]
  },
  {
   "cell_type": "markdown",
   "id": "81b27242-501a-4d86-bf44-11f2c36fae69",
   "metadata": {},
   "source": [
    "## Hyperparameter tuning"
   ]
  },
  {
   "cell_type": "markdown",
   "id": "ddea0586-994a-4d6a-961e-e5b3ecd30e40",
   "metadata": {},
   "source": [
    "## Registering & serving models"
   ]
  },
  {
   "cell_type": "markdown",
   "id": "be56363e-6ec2-4131-9b29-8f51fe506c32",
   "metadata": {},
   "source": [
    "## Wrapping up"
   ]
  },
  {
   "cell_type": "code",
   "execution_count": null,
   "id": "823e8617-5aa7-46d8-95f4-adfaddb0496b",
   "metadata": {},
   "outputs": [],
   "source": []
  }
 ],
 "metadata": {
  "kernelspec": {
   "display_name": "Python 3 (ipykernel)",
   "language": "python",
   "name": "python3"
  },
  "language_info": {
   "codemirror_mode": {
    "name": "ipython",
    "version": 3
   },
   "file_extension": ".py",
   "mimetype": "text/x-python",
   "name": "python",
   "nbconvert_exporter": "python",
   "pygments_lexer": "ipython3",
   "version": "3.8.12"
  }
 },
 "nbformat": 4,
 "nbformat_minor": 5
}
