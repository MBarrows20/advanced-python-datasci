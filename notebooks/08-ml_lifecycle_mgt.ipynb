{
 "cells": [
  {
   "cell_type": "markdown",
   "id": "21e38b21-6a98-49fe-a658-169ac7dde1bf",
   "metadata": {
    "tags": []
   },
   "source": [
    "# ML Lifecycle Management\n",
    "\n",
    "> _\"Hardest Part of ML isn’t ML, it’s Data\"_\n",
    "\n",
    "![Hardest part of ML](images/mlflow_tech_icon.png)\n",
    "\n",
    "[Hidden Technical Debt in Machine Learning Systems](http://papers.neurips.cc/paper/5656-hidden-technical-debt-in-machine-learning-systems.pdf) (Google NIPS, 2015)  "
   ]
  },
  {
   "cell_type": "markdown",
   "id": "1deb91cc-22b7-4627-bafb-90ebeb59c539",
   "metadata": {},
   "source": [
    "## Objective\n",
    "\n",
    "This module is going to introduce you to [MLflow](https://mlflow.org/docs/latest/index.html) for machine learning lifecycle management. We will introduce you to MLflow for... \n",
    "\n",
    "1. managing model experiments,\n",
    "1. tracking hyperparameter tuning,\n",
    "1. registering and serving models."
   ]
  },
  {
   "cell_type": "markdown",
   "id": "6766f1bf-f670-4b9e-a5d3-16fe7b908d0b",
   "metadata": {},
   "source": [
    "MLflow is a very comprehensive tool so we are just going to touch the surface. However, we will provide you with resources to dig deeper into MLflow."
   ]
  },
  {
   "cell_type": "markdown",
   "id": "c404e626-7f57-41c3-a0f5-e1cb59905502",
   "metadata": {},
   "source": [
    "## Problem\n",
    "\n",
    "The ML process can be tedious, difficult, and result in lots of technical debt.\n",
    "\n",
    "* How do we ***track***...\n",
    "  - model runs\n",
    "  - hyperparameter experimentations\n",
    "  - performance metrics\n",
    "  \n",
    "* How do we manage ML ***projects*** for...\n",
    "  - reproducibility\n",
    "  - collaboration\n",
    "  \n",
    "* How do we package ML ***models*** for downstream deployment\n",
    "\n",
    "* How do we ***register*** models for managing...\n",
    "  - model lineage\n",
    "  - model versioning\n",
    "  - stage transitions (i.e. dev to stage to prod)"
   ]
  },
  {
   "cell_type": "markdown",
   "id": "2fde6edc-f728-4fae-ba22-cc60910072aa",
   "metadata": {},
   "source": [
    "## Intro to MLflow"
   ]
  },
  {
   "cell_type": "markdown",
   "id": "f106ea61-8f8d-4cf6-a502-2be41b5dc963",
   "metadata": {},
   "source": [
    "MLflow is an open source platform designed to manage the complete Machine Learning Lifecycle.\n",
    "\n",
    "![](images/mlflow_capabilities.png)\n",
    "\n",
    "* Used heavily --> 1.7M+ monthly downloads\n",
    "* Well supported --> 170+ contributors & 40 contributing organizations\n",
    "* Well documented\n",
    "   - [mlflow.org](https://mlflow.org/)\n",
    "   - [github.com/mlflow](https://github.com/mlflow)\n",
    "   - [Slack channel](https://join.slack.com/t/mlflow-users/shared_invite/zt-g6qwro5u-odM7pRnZxNX_w56mcsHp8g)\n",
    "   - [stackoverflow.com/questions/tagged/mlflow](https://stackoverflow.com/questions/tagged/mlflow)\n",
    "   - [twitter.com/MLflow](https://twitter.com/MLflow)\n",
    "   - [databricks.com/mlflow](https://databricks.com/product/managed-mlflow)"
   ]
  },
  {
   "cell_type": "markdown",
   "id": "6ed0c49b-bb14-418c-a934-84914da34e07",
   "metadata": {},
   "source": [
    "## Modeling experimentation mgt"
   ]
  },
  {
   "cell_type": "markdown",
   "id": "728a826b-d22f-4fa5-bce8-4e1724e3baf6",
   "metadata": {},
   "source": [
    "## MLflow UI"
   ]
  },
  {
   "cell_type": "markdown",
   "id": "81b27242-501a-4d86-bf44-11f2c36fae69",
   "metadata": {},
   "source": [
    "## Hyperparameter tuning"
   ]
  },
  {
   "cell_type": "markdown",
   "id": "ddea0586-994a-4d6a-961e-e5b3ecd30e40",
   "metadata": {},
   "source": [
    "## Registering & serving models"
   ]
  },
  {
   "cell_type": "markdown",
   "id": "be56363e-6ec2-4131-9b29-8f51fe506c32",
   "metadata": {},
   "source": [
    "## Wrapping up"
   ]
  },
  {
   "cell_type": "code",
   "execution_count": null,
   "id": "823e8617-5aa7-46d8-95f4-adfaddb0496b",
   "metadata": {},
   "outputs": [],
   "source": []
  }
 ],
 "metadata": {
  "kernelspec": {
   "display_name": "Python 3 (ipykernel)",
   "language": "python",
   "name": "python3"
  },
  "language_info": {
   "codemirror_mode": {
    "name": "ipython",
    "version": 3
   },
   "file_extension": ".py",
   "mimetype": "text/x-python",
   "name": "python",
   "nbconvert_exporter": "python",
   "pygments_lexer": "ipython3",
   "version": "3.8.12"
  }
 },
 "nbformat": 4,
 "nbformat_minor": 5
}
