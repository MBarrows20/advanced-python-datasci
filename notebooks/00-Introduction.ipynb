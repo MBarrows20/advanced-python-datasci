{
 "cells": [
  {
   "cell_type": "markdown",
   "metadata": {
    "slideshow": {
     "slide_type": "slide"
    }
   },
   "source": [
    "# Advanced Python for Data Science\n",
    "\n",
    "Ethan Swan\n",
    "\n",
    "Jan 24 & 25, 2020"
   ]
  },
  {
   "cell_type": "markdown",
   "metadata": {
    "slideshow": {
     "slide_type": "slide"
    }
   },
   "source": [
    "## Introductions"
   ]
  },
  {
   "cell_type": "markdown",
   "metadata": {
    "slideshow": {
     "slide_type": "slide"
    }
   },
   "source": [
    "### About Ethan"
   ]
  },
  {
   "cell_type": "markdown",
   "metadata": {
    "cell_style": "split",
    "slideshow": {
     "slide_type": "-"
    }
   },
   "source": [
    "<center>\n",
    "<img src=\"images/ethan-headshot.gif\" alt=\"ethan-headshot.gif\" width=\"300\" height=\"300\">\n",
    "</center>"
   ]
  },
  {
   "cell_type": "markdown",
   "metadata": {
    "cell_style": "split",
    "slideshow": {
     "slide_type": "-"
    }
   },
   "source": [
    "#### Professional\n",
    "\n",
    "* Lead Data Scientist and Technology Specialist\n",
    "* Enable the Talent\n",
    "* 84.51&deg;"
   ]
  },
  {
   "cell_type": "markdown",
   "metadata": {
    "cell_style": "center",
    "slideshow": {
     "slide_type": "slide"
    }
   },
   "source": [
    "#### Academic\n",
    "\n",
    "* BS, Computer Science, University of Notre Dame\n",
    "* MBA, Business Analytics, University of Notre Dame"
   ]
  },
  {
   "cell_type": "markdown",
   "metadata": {
    "cell_style": "center",
    "slideshow": {
     "slide_type": "-"
    }
   },
   "source": [
    "#### Contact\n",
    "\n",
    "* Website: [ethanswan.com](http://www.ethanswan.com/)\n",
    "* GitHub: [eswan18](https://github.com/eswan18/)\n",
    "* Twitter: [@eswan18](https://twitter.com/eswan18)\n",
    "* LinkedIn: [Ethan Swan](https://linkedin.com/in/ethanpswan)\n",
    "* Email: [ethanpswan@gmail.com](mailto:ethanpswan@gmail.com)"
   ]
  },
  {
   "cell_type": "markdown",
   "metadata": {
    "slideshow": {
     "slide_type": "slide"
    }
   },
   "source": [
    "## Your Turn\n",
    "\n",
    "We'll go around the room. Please share:\n",
    "- Your name\n",
    "- Your job or field\n",
    "- How you use Python now or would like to in the future"
   ]
  },
  {
   "cell_type": "markdown",
   "metadata": {
    "slideshow": {
     "slide_type": "slide"
    }
   },
   "source": [
    "## Course"
   ]
  },
  {
   "cell_type": "markdown",
   "metadata": {
    "slideshow": {
     "slide_type": "slide"
    }
   },
   "source": [
    "## Course Objectives\n",
    "\n",
    "The following are the primary learning objectives of this course:"
   ]
  },
  {
   "cell_type": "markdown",
   "metadata": {
    "slideshow": {
     "slide_type": "fragment"
    }
   },
   "source": [
    "- Develop an intuition for what problems are suited to deep learning- and/or NLP-based solutions."
   ]
  },
  {
   "cell_type": "markdown",
   "metadata": {
    "slideshow": {
     "slide_type": "fragment"
    }
   },
   "source": [
    "- Build familiarity with the basic interfaces of key Python libraries for deep learning and NLP: Keras, FuzzyWuzzy, and gensim."
   ]
  },
  {
   "cell_type": "markdown",
   "metadata": {
    "slideshow": {
     "slide_type": "fragment"
    }
   },
   "source": [
    "- Gain a high-level understanding of the function of data science-adjacent technologies that students will encounter in the workplace, focusing on Git and GitHub."
   ]
  },
  {
   "cell_type": "markdown",
   "metadata": {
    "slideshow": {
     "slide_type": "slide"
    }
   },
   "source": [
    "## Course Agenda"
   ]
  },
  {
   "cell_type": "markdown",
   "metadata": {
    "slideshow": {
     "slide_type": "slide"
    }
   },
   "source": [
    "### Day 1\n",
    "\n",
    "| Topic                                                                          |     Time      |\n",
    "| :----------------------------------------------------------------------------- | :-----------: |\n",
    "| Breakfast / Social Time                                                        |  8:00 - 9:00  |\n",
    "| Introductions                                                                  |  9:00 - 9:15  |\n",
    "| Working with Data using pandas                                                 |  9:15 - 9:45  |\n",
    "| Conditions                                                                     |  9:45 - 10:30 |\n",
    "| Break                                                                          | 10:30 - 10:45 |\n",
    "| Iterations                                                                     | 10:45 - 12:00 |\n",
    "| Lunch                                                                          | 12:00 - 1:00  |\n",
    "| Functions                                                                      |  1:00 - 2:00  |\n",
    "| Applying Functions to pandas Data Frames                                       |  2:00 - 2:30  |\n",
    "| Break                                                                          |  2:30 - 2:45  |\n",
    "| Case Study, pt. 1                                                              |  2:45 - 4:00  |\n",
    "| Q\\&A                                                                           |  4:00 - 4:30  | "
   ]
  },
  {
   "cell_type": "markdown",
   "metadata": {
    "slideshow": {
     "slide_type": "slide"
    }
   },
   "source": [
    "### Day 2\n",
    "\n",
    "| Topic                                                                          |     Time      |\n",
    "| :----------------------------------------------------------------------------- | :-----------: |\n",
    "| Breakfast / Social Time                                                        |  8:00 - 9:00  |\n",
    "| Case Study Review, pt. 1                                                       |  9:00 - 9:30  |\n",
    "| Python from the Shell                                                          |  9:30 - 10:30 |\n",
    "| Break                                                                          | 10:30 - 10:45 |\n",
    "| Kernels and Environments                                                       | 10:45 - 11:30 |\n",
    "| Python Data Science Ecosystem                                                  | 11:30 - 12:00 |\n",
    "| Lunch                                                                          | 12:00 - 1:00  |\n",
    "| Modeling with scikit-learn                                                     |  1:00 - 2:00  |\n",
    "| Case Study, pt. 2                                                              |  2:00 - 3:15  |\n",
    "| Case Study Review, pt. 2 and Q\\&A                                              |  3:15 - 4:00  |"
   ]
  },
  {
   "cell_type": "markdown",
   "metadata": {
    "slideshow": {
     "slide_type": "slide"
    }
   },
   "source": [
    "## Prerequisites"
   ]
  },
  {
   "cell_type": "markdown",
   "metadata": {
    "slideshow": {
     "slide_type": "slide"
    }
   },
   "source": [
    "### Knowledge"
   ]
  },
  {
   "cell_type": "markdown",
   "metadata": {
    "slideshow": {
     "slide_type": "fragment"
    }
   },
   "source": [
    "#### Python\n",
    "\n",
    "* If you're attending this class, it's assumed you're comfortable with the material covered in the [Introduction to Python for Data Science](https://github.com/uc-python/intermediate-python-datasci) and [Intermediate Python for Data Science](https://github.com/uc-python/intermediate-python-datasci) classes.\n",
    "* At a very high level, those courses covered:\n",
    "- Importing data into and exporting data out of Python, via Pandas\n",
    "- Wrangling data in Python with Pandas\n",
    "- Basics of visualization with Seaborn\n",
    "- Control flow\n",
    "- Writing functions\n",
    "- Conda environments\n",
    "- Running Python outside of Jupyter notebooks\n",
    "- Basics of modeling with scikit-learn"
   ]
  },
  {
   "cell_type": "markdown",
   "metadata": {
    "slideshow": {
     "slide_type": "slide"
    }
   },
   "source": [
    "#### Technology\n",
    "\n",
    "* If you're attending this class, it's assumed you're comfortable with launching and using Python via Jupyter Notebooks -- and ideally outside of Jupyter as well.\n",
    "* Course materials (slides, case studies, etc.) will be in Jupyter Notebooks, but you're free to use your IDE of choice when completing exercises and case studies."
   ]
  },
  {
   "cell_type": "markdown",
   "metadata": {
    "slideshow": {
     "slide_type": "slide"
    }
   },
   "source": [
    "### Technology Installation"
   ]
  },
  {
   "cell_type": "markdown",
   "metadata": {
    "slideshow": {
     "slide_type": "fragment"
    }
   },
   "source": [
    "- Unlike my other courses, Advanced Python is not designed with Binder in mind.\n",
    "- This means that you'll need to use your personal laptop to run today's code.\n",
    "- Why? We're going to be working with bigger data and more computationally-intensive algorithms, for which Binder is not well-equipped.\n",
    "    - In an industry setting, using these techniques would best be done on a *server*, not a personal computer."
   ]
  },
  {
   "cell_type": "markdown",
   "metadata": {
    "slideshow": {
     "slide_type": "slide"
    }
   },
   "source": [
    "#### Anaconda\n",
    "\n",
    "* Anaconda is the easiest way to install Python 3 and Jupyter.\n",
    "* If you have not yet installed Anaconda, please follow the [directions in the course README](https://github.com/uc-python/intermediate-python-datasci).\n",
    "* Be sure that all Python packages mentioned in the README are also installed: `pandas`, `scikit-learn`, `seaborn`, `keras`, `fuzzywuzzy`, and `gensim`.\n",
    "* This Anaconda installation will not be able to natively display the course content as slides, but I recommend using it for completing exercises and the case studies."
   ]
  },
  {
   "cell_type": "markdown",
   "metadata": {
    "slideshow": {
     "slide_type": "slide"
    }
   },
   "source": [
    "#### JupyterLab\n",
    "- If you took the introductory and/or intermediate courses, you may have used Jupyter Notebooks to write Python.\n",
    "- Jupyter Notebooks are slowly being deprecated in favor of a new, more featureful product called JupyterLab.\n",
    "- JupyterLab is extremely similar but supports more features, and Notebooks is no longer being updated.\n",
    "- I recommend using JupyterLab today even if you haven't used it before -- it comes packaged with Anaconda and should feel very familiar!"
   ]
  },
  {
   "cell_type": "markdown",
   "metadata": {
    "slideshow": {
     "slide_type": "slide"
    }
   },
   "source": [
    "## Course Materials"
   ]
  },
  {
   "cell_type": "markdown",
   "metadata": {
    "slideshow": {
     "slide_type": "fragment"
    }
   },
   "source": [
    "* All of the material for this course can be reached from the [GitHub repository](https://github.com/uc-python/advanced-python-datasci).\n",
    "* This repository has access to the slides and notebooks.\n",
    "* You should download the material -- available via [this link](https://github.com/uc-python/advanced-python-datasci/archive/master.zip) -- and open it via Anaconda Navigator and Jupyter Notebooks/Lab."
   ]
  },
  {
   "cell_type": "markdown",
   "metadata": {
    "slideshow": {
     "slide_type": "slide"
    }
   },
   "source": [
    "### Slides *and* Notebooks"
   ]
  },
  {
   "cell_type": "markdown",
   "metadata": {
    "slideshow": {
     "slide_type": "fragment"
    }
   },
   "source": [
    "- I'll be showing the material in slide format most of the time.\n",
    "- These slides contain the same content as your notebooks, so you can follow along and run cells as we go."
   ]
  },
  {
   "cell_type": "markdown",
   "metadata": {
    "slideshow": {
     "slide_type": "slide"
    }
   },
   "source": [
    "## Questions\n",
    "\n",
    "Are there any questions before moving on?"
   ]
  }
 ],
 "metadata": {
  "celltoolbar": "Slideshow",
  "kernelspec": {
   "display_name": "Python 3",
   "language": "python",
   "name": "python3"
  },
  "language_info": {
   "codemirror_mode": {
    "name": "ipython",
    "version": 3
   },
   "file_extension": ".py",
   "mimetype": "text/x-python",
   "name": "python",
   "nbconvert_exporter": "python",
   "pygments_lexer": "ipython3",
   "version": "3.7.3"
  },
  "rise": {
   "autolaunch": true,
   "transition": "none"
  }
 },
 "nbformat": 4,
 "nbformat_minor": 4
}
