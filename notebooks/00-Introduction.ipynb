{
 "cells": [
  {
   "cell_type": "markdown",
   "metadata": {
    "slideshow": {
     "slide_type": "slide"
    }
   },
   "source": [
    "# Advanced Python for Data Science\n",
    "\n",
    "Ethan Swan\n",
    "\n",
    "Jan 24 & 25, 2020"
   ]
  },
  {
   "cell_type": "markdown",
   "metadata": {
    "slideshow": {
     "slide_type": "slide"
    }
   },
   "source": [
    "## Introductions"
   ]
  },
  {
   "cell_type": "markdown",
   "metadata": {
    "cell_style": "split",
    "slideshow": {
     "slide_type": "slide"
    }
   },
   "source": [
    "<h2>About Me</h2>\n",
    "<img src=\"images/ethan-headshot.gif\" alt=\"ethan-headshot.gif\" width=\"300\" height=\"300\" style=\"display:inline;float:left;padding:40px;\">\n",
    "<br><br>\n",
    "<h3 style=\"display:inline;\">Professional</h3>\n",
    "<br><br>\n",
    "Lead Data Scientist and Technology Specialist -- 84.51&deg;\n",
    "<br><br>\n",
    "<hr>\n",
    "<h3 style=\"display:inline;\">Academic</h3>\n",
    "<br><br>\n",
    "BS in Computer Science, University of Notre Dame <br><br>\n",
    "MBA, Concentration in Business Analytics, University of Notre Dame"
   ]
  },
  {
   "cell_type": "markdown",
   "metadata": {
    "cell_style": "center",
    "slideshow": {
     "slide_type": "skip"
    }
   },
   "source": [
    "#### Contact\n",
    "\n",
    "* Website: [ethanswan.com](http://www.ethanswan.com/)\n",
    "* GitHub: [eswan18](https://github.com/eswan18/)\n",
    "* Twitter: [@eswan18](https://twitter.com/eswan18)\n",
    "* LinkedIn: [Ethan Swan](https://linkedin.com/in/ethanpswan)\n",
    "* Email: [ethanpswan@gmail.com](mailto:ethanpswan@gmail.com)"
   ]
  },
  {
   "cell_type": "markdown",
   "metadata": {
    "slideshow": {
     "slide_type": "slide"
    }
   },
   "source": [
    "## Your Turn\n",
    "\n",
    "We'll go around the room. Please share:\n",
    "- Your name\n",
    "- Your job or field\n",
    "- How you use Python now or would like to in the future"
   ]
  },
  {
   "cell_type": "markdown",
   "metadata": {
    "slideshow": {
     "slide_type": "slide"
    }
   },
   "source": [
    "## Course"
   ]
  },
  {
   "cell_type": "markdown",
   "metadata": {
    "slideshow": {
     "slide_type": "slide"
    }
   },
   "source": [
    "## Course Objectives\n",
    "\n",
    "The following are the primary learning objectives of this course:"
   ]
  },
  {
   "cell_type": "markdown",
   "metadata": {
    "slideshow": {
     "slide_type": "fragment"
    }
   },
   "source": [
    "- Develop an intuition for what problems are suited to deep learning- and/or NLP-based solutions."
   ]
  },
  {
   "cell_type": "markdown",
   "metadata": {
    "slideshow": {
     "slide_type": "fragment"
    }
   },
   "source": [
    "- Build familiarity with the basic interfaces of key Python libraries for deep learning and NLP: Keras, FuzzyWuzzy, and gensim."
   ]
  },
  {
   "cell_type": "markdown",
   "metadata": {
    "slideshow": {
     "slide_type": "fragment"
    }
   },
   "source": [
    "- Gain a high-level understanding of the function of data science-adjacent technologies that students will encounter in the workplace, focusing on Git and GitHub."
   ]
  },
  {
   "cell_type": "markdown",
   "metadata": {
    "slideshow": {
     "slide_type": "slide"
    }
   },
   "source": [
    "## Course Agenda"
   ]
  },
  {
   "cell_type": "markdown",
   "metadata": {
    "slideshow": {
     "slide_type": "slide"
    }
   },
   "source": [
    "### Day 1\n",
    "\n",
    "| Topic                                                                          | Time        |\n",
    "| :----------------------------------------------------------------------------- | ----------: |\n",
    "| Breakfast / Social Time                                                        | 8:00-9:00   |\n",
    "| Introductions                                                                  | 9:00-9:15   |\n",
    "| Refresher on Key Python & Pandas Concepts                                      | 9:15-9:45   |\n",
    "| Why Do We Need Deep Learning?                                                  | 9:45-10:00  |\n",
    "| Why Use Python for Deep Learning?                                              | 10:00-10:30 |\n",
    "| Break                                                                          | 10:30-10:45 |\n",
    "| Overview of Keras and Tensorflow                                               | 10:45-12:00 |\n",
    "| Lunch                                                                          | 12:00-1:00  |\n",
    "| Walkthrough of Example Using Keras                                             | 1:00-1:45   |\n",
    "| High-level Discussion of Deep Learning -- How Does It Work?                    | 1:45-2:30   |\n",
    "| Break                                                                          | 2:30-2:45   |\n",
    "| Deep Learning Case Study                                                       | 3:00-4:00   |\n",
    "| Deep Learning Case Study Review; Q&A                                           | 4:00-4:30   |"
   ]
  },
  {
   "cell_type": "markdown",
   "metadata": {
    "slideshow": {
     "slide_type": "slide"
    }
   },
   "source": [
    "### Day 2\n",
    "\n",
    "| Topic                                                                    | Time        |\n",
    "| :----------------------------------------------------------------------- | ----------: |\n",
    "| Breakfast / Social Time                                                  | 8:00-9:00   |\n",
    "| What is NLP and What Problems Can It Solve?                              | 9:00-9:30   |\n",
    "| Popular NLP Packages in Python                                           | 9:30-9:45   |         \n",
    "| Break                                                                    | 9:45-10:00  |\n",
    "| Overview of the FuzzyWuzzy Package                                       | 10:00-10:30 |\n",
    "| Walkthrough of Example Using FuzzyWuzzy                                  | 10:30-11:00 |\n",
    "| Overview of Word2Vec and gensim Package                                  | 11:00-12:00 |\n",
    "| Lunch                                                                    | 12:00-1:00  |\n",
    "| Walkthrough of Example Using gensim                                      | 1:00-1:45   |\n",
    "| Discussion of Git, GitHub, and Other Data Science-adjacent Tools      | 1:45-2:30   |\n",
    "| NLP Case Study                                                           | 2:30-3:30   |\n",
    "| Case Study Review; Q&A; Wrap-up                                          | 3:30-4:30   |"
   ]
  },
  {
   "cell_type": "markdown",
   "metadata": {
    "slideshow": {
     "slide_type": "slide"
    }
   },
   "source": [
    "## Course Philosophy"
   ]
  },
  {
   "cell_type": "markdown",
   "metadata": {
    "slideshow": {
     "slide_type": "fragment"
    }
   },
   "source": [
    "Beginners typically need the instructor to make connections and solve problems for them.\n",
    "\n",
    "*Why is this code not running?\n",
    "What types of real world problems could I use this package for?*"
   ]
  },
  {
   "cell_type": "markdown",
   "metadata": {
    "slideshow": {
     "slide_type": "fragment"
    }
   },
   "source": [
    "But as intermediate to advanced users, I believe you'll be more capable of seeing those connections yourselves.\n",
    "Instead of diving into details and working through small code examples, this advanced workshop takes a slightly different approach..."
   ]
  },
  {
   "cell_type": "markdown",
   "metadata": {
    "slideshow": {
     "slide_type": "slide"
    }
   },
   "source": [
    "- **Give you an overview of the tools you might need to solve a problem**. I can't teach you deep learning or NLP in just two days, but I *can* give you a foundation. And as experienced coders, you'll be able to fill in the details yourselves when the time comes to use these tools."
   ]
  },
  {
   "cell_type": "markdown",
   "metadata": {
    "slideshow": {
     "slide_type": "fragment"
    }
   },
   "source": [
    "- **Explain more of the intuition behind tools and techniques**. Beginners can't yet see the forest for the trees -- they are caught up in small problems and not yet ready to understand the big picture. But in this class we will talk more about general design patterns of Python and its libraries, in a way that should help you *learn them* instead of simply memorize functions."
   ]
  },
  {
   "cell_type": "markdown",
   "metadata": {
    "slideshow": {
     "slide_type": "fragment"
    }
   },
   "source": [
    "- **Expect you to help yourself**. I'll still be here to answer questions and help with hard problems, but the mark of an experienced programmer is that he/she consults references often (Google, documentation, etc) and can find answers there. You'll need to do that during this course and afterward when you apply the techniques we discuss."
   ]
  },
  {
   "cell_type": "markdown",
   "metadata": {
    "slideshow": {
     "slide_type": "slide"
    }
   },
   "source": [
    "## Prerequisites"
   ]
  },
  {
   "cell_type": "markdown",
   "metadata": {
    "slideshow": {
     "slide_type": "slide"
    }
   },
   "source": [
    "### Knowledge"
   ]
  },
  {
   "cell_type": "markdown",
   "metadata": {
    "slideshow": {
     "slide_type": "fragment"
    }
   },
   "source": [
    "#### Python\n",
    "\n",
    "- If you're attending this class, it's assumed you're comfortable with the material covered in the [Introduction to Python for Data Science](https://github.com/uc-python/intermediate-python-datasci) and [Intermediate Python for Data Science](https://github.com/uc-python/intermediate-python-datasci) classes.\n",
    "- At a very high level, those courses covered:\n",
    "    - Importing data into and exporting data out of Python, via Pandas\n",
    "    - Wrangling data in Python with Pandas\n",
    "    - Basics of visualization with Seaborn\n",
    "    - Control flow\n",
    "    - Writing functions\n",
    "    - Conda environments\n",
    "    - Running Python outside of Jupyter notebooks\n",
    "    - Basics of modeling with scikit-learn"
   ]
  },
  {
   "cell_type": "markdown",
   "metadata": {
    "slideshow": {
     "slide_type": "slide"
    }
   },
   "source": [
    "#### Technology\n",
    "\n",
    "* If you're attending this class, it's assumed you're comfortable with launching and using Python via Jupyter Notebooks -- and ideally outside of Jupyter as well.\n",
    "* Course materials (slides, case studies, etc.) will be in Jupyter Notebooks, but you're free to use your IDE of choice when completing exercises and case studies."
   ]
  },
  {
   "cell_type": "markdown",
   "metadata": {
    "slideshow": {
     "slide_type": "slide"
    }
   },
   "source": [
    "### Technology Installation"
   ]
  },
  {
   "cell_type": "markdown",
   "metadata": {
    "slideshow": {
     "slide_type": "fragment"
    }
   },
   "source": [
    "- Unlike my other courses, Advanced Python is not designed with Binder in mind.\n",
    "- This means that you'll need to use your personal laptop to run today's code.\n",
    "- Why? We're going to be working with bigger data and more computationally-intensive algorithms, for which Binder is not well-equipped.\n",
    "    - In an industry setting, using these techniques would best be done on a *server*, not a personal computer."
   ]
  },
  {
   "cell_type": "markdown",
   "metadata": {
    "slideshow": {
     "slide_type": "slide"
    }
   },
   "source": [
    "#### Anaconda\n",
    "\n",
    "* Anaconda is the easiest way to install Python 3 and Jupyter.\n",
    "* If you have not yet installed Anaconda, please follow the [directions in the course README](https://github.com/uc-python/intermediate-python-datasci).\n",
    "* Be sure that all Python packages mentioned in the README are also installed: `pandas`, `scikit-learn`, `seaborn`, `keras`, `fuzzywuzzy`, and `gensim`.\n",
    "* This Anaconda installation will not be able to natively display the course content as slides, but I recommend using it for completing exercises and the case studies."
   ]
  },
  {
   "cell_type": "markdown",
   "metadata": {
    "slideshow": {
     "slide_type": "slide"
    }
   },
   "source": [
    "#### JupyterLab\n",
    "- If you took the introductory and/or intermediate courses, you may have used Jupyter Notebooks to write Python.\n",
    "- Jupyter Notebooks are slowly being deprecated in favor of a new, more featureful product called JupyterLab.\n",
    "- JupyterLab is extremely similar but supports more features, and Notebooks is no longer being updated.\n",
    "- I recommend using JupyterLab today even if you haven't used it before -- it comes packaged with Anaconda and should feel very familiar!"
   ]
  },
  {
   "cell_type": "markdown",
   "metadata": {
    "slideshow": {
     "slide_type": "slide"
    }
   },
   "source": [
    "## Course Materials"
   ]
  },
  {
   "cell_type": "markdown",
   "metadata": {
    "slideshow": {
     "slide_type": "fragment"
    }
   },
   "source": [
    "* All of the material for this course can be reached from the [GitHub repository](https://github.com/uc-python/advanced-python-datasci).\n",
    "* This repository has access to the slides and notebooks.\n",
    "* You should download the material -- available via [this link](https://github.com/uc-python/advanced-python-datasci/archive/master.zip) -- and open it via Anaconda Navigator and Jupyter Notebooks/Lab."
   ]
  },
  {
   "cell_type": "markdown",
   "metadata": {
    "slideshow": {
     "slide_type": "slide"
    }
   },
   "source": [
    "### Slides *and* Notebooks"
   ]
  },
  {
   "cell_type": "markdown",
   "metadata": {
    "slideshow": {
     "slide_type": "fragment"
    }
   },
   "source": [
    "- I'll be showing the material in slide format most of the time.\n",
    "- These slides contain the same content as your notebooks, so you can follow along and run cells as we go."
   ]
  },
  {
   "cell_type": "markdown",
   "metadata": {
    "slideshow": {
     "slide_type": "slide"
    }
   },
   "source": [
    "## Questions\n",
    "\n",
    "Are there any questions before moving on?"
   ]
  }
 ],
 "metadata": {
  "celltoolbar": "Slideshow",
  "kernelspec": {
   "display_name": "Python 3",
   "language": "python",
   "name": "python3"
  },
  "language_info": {
   "codemirror_mode": {
    "name": "ipython",
    "version": 3
   },
   "file_extension": ".py",
   "mimetype": "text/x-python",
   "name": "python",
   "nbconvert_exporter": "python",
   "pygments_lexer": "ipython3",
   "version": "3.7.3"
  },
  "rise": {
   "autolaunch": true,
   "transition": "none"
  }
 },
 "nbformat": 4,
 "nbformat_minor": 4
}
