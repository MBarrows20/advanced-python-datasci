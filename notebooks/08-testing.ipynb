{
 "cells": [
  {
   "cell_type": "markdown",
   "id": "faf6d4e5-0c50-4913-adbc-2abfa1eb6126",
   "metadata": {
    "slideshow": {
     "slide_type": "slide"
    },
    "tags": []
   },
   "source": [
    "# Testing"
   ]
  },
  {
   "cell_type": "markdown",
   "id": "f98ce000-52b2-4e17-9ce8-adf66afcfab3",
   "metadata": {
    "slideshow": {
     "slide_type": "slide"
    },
    "tags": []
   },
   "source": [
    "We've slowly been moving parts of our code into files outside of notebooks... but *why*?"
   ]
  },
  {
   "cell_type": "markdown",
   "id": "d5770ebf-59e6-4aa4-b0b7-0f05a2058959",
   "metadata": {
    "slideshow": {
     "slide_type": "fragment"
    },
    "tags": []
   },
   "source": [
    "- **Reuse** – we could copy `my_module.py` and use it in another project if we had need for the functions in there."
   ]
  },
  {
   "cell_type": "markdown",
   "id": "4bf6e7de-bb86-4a70-963a-68ac8182e154",
   "metadata": {
    "slideshow": {
     "slide_type": "fragment"
    },
    "tags": []
   },
   "source": [
    "- **Testability** – one nice aspect of free-standing Python scripts is that we can write tests for them, checking that the functions inside are reliable and bug-free."
   ]
  },
  {
   "cell_type": "markdown",
   "id": "58011087-e74a-4561-b203-7da40d759c02",
   "metadata": {
    "slideshow": {
     "slide_type": "slide"
    },
    "tags": []
   },
   "source": [
    "## The Value of Testing\n",
    "\n",
    "- By running your code on example inputs (for which you know the right output), you can be more confident that it will do what you expect\n",
    "\n",
    "- Since you may reuse code in other projects, it's smart to test on not just the data for the current project, but any inputs that your code might reasonably have to deal with."
   ]
  },
  {
   "cell_type": "markdown",
   "id": "2ea80561-432d-469a-a2cc-8280e4e1d558",
   "metadata": {
    "slideshow": {
     "slide_type": "slide"
    },
    "tags": []
   },
   "source": [
    "At this point, our directory setup is going to become very important, so let's take a quick detour to talk about it."
   ]
  },
  {
   "cell_type": "markdown",
   "id": "410baa11-5b62-471c-89f6-15e5fcd659bf",
   "metadata": {
    "slideshow": {
     "slide_type": "fragment"
    },
    "tags": []
   },
   "source": [
    "I'm going to be working with a project that looks something like this:\n",
    "```\n",
    "advanced-python-datasci/\n",
    "├── data/\n",
    "│   ├── adult-census.csv\n",
    "│   ├── ames.csv\n",
    "│   ├── ames_raw.csv\n",
    "│   └── planes.csv\n",
    "└── notebooks/\n",
    "    ├── 01-git.ipynb\n",
    "    ├── 02-explore_data.ipynb\n",
    "    ├── 03-first_model.ipynb\n",
    "    ├── 04-modular_code.ipynb\n",
    "    ├── 05-feat_eng.ipynb\n",
    "    ├── 06-model_eval.ipynb\n",
    "    ├── 07-modularity-pt2.ipynb\n",
    "    ├── 08-testing.ipynb\n",
    "    ├── 09-ml_lifecycle_mgt.ipynb\n",
    "    └── my_module.py\n",
    "```"
   ]
  },
  {
   "cell_type": "markdown",
   "id": "bf1dd113-5a8c-4a1e-934a-a8022941f8bf",
   "metadata": {
    "slideshow": {
     "slide_type": "slide"
    },
    "tags": []
   },
   "source": [
    "What's important:\n",
    "- At the top level, we have folders for `data` and `notebooks`\n",
    "- `my_module.py` is in our notebooks folder\n",
    "\n",
    "Take a few minutes to make sure your project repository is organized similarly. This will make a big difference in this section!"
   ]
  },
  {
   "cell_type": "markdown",
   "id": "3f4a73bb-6f7d-4934-81e4-4eaf8c65986f",
   "metadata": {
    "tags": []
   },
   "source": [
    "```\n",
    "advanced-python-datasci/\n",
    "├── data/\n",
    "│   ├── adult-census.csv\n",
    "│   ├── ames.csv\n",
    "│   ├── ames_raw.csv\n",
    "│   └── planes.csv\n",
    "└── notebooks/\n",
    "    ├── 01-git.ipynb\n",
    "    ├── 02-explore_data.ipynb\n",
    "    ├── 03-first_model.ipynb\n",
    "    ├── 04-modular_code.ipynb\n",
    "    ├── 05-feat_eng.ipynb\n",
    "    ├── 06-model_eval.ipynb\n",
    "    ├── 07-modularity-pt2.ipynb\n",
    "    ├── 08-testing.ipynb\n",
    "    ├── 09-ml_lifecycle_mgt.ipynb\n",
    "    └── my_module.py\n",
    "```"
   ]
  },
  {
   "cell_type": "markdown",
   "id": "ef947385-c387-4ee1-a95e-804e7296c2af",
   "metadata": {
    "slideshow": {
     "slide_type": "slide"
    },
    "tags": []
   },
   "source": [
    "## A Minimal Test\n",
    "\n",
    "- The easiest way to write a test is in a fresh Python script\n",
    "\n",
    "- Now that our project is organized, we can just create a new file in the `notebooks/` folder, called `tests.py`\n",
    "\n",
    "    - Remember that we can do this in Jupyter with File > New > Text File\n",
    "<br><br>    \n",
    "- Be sure this file appears in your notebooks folder!\n",
    "    - It's very important that it's in the same place as `my_module.py`"
   ]
  },
  {
   "cell_type": "markdown",
   "id": "0b2d2030-7521-4b0c-8f16-59323a5c3794",
   "metadata": {
    "slideshow": {
     "slide_type": "slide"
    },
    "tags": []
   },
   "source": [
    "Add the following code to your script:"
   ]
  },
  {
   "cell_type": "code",
   "execution_count": 9,
   "id": "92c18669-cc07-44e3-b56d-ae6f2e80f795",
   "metadata": {},
   "outputs": [],
   "source": [
    "import my_module\n",
    "\n",
    "def test_invocation():\n",
    "    features, target = my_module.get_features_and_target(\n",
    "        csv_file='../data/adult-census.csv',\n",
    "        target_col='class'\n",
    "    )"
   ]
  },
  {
   "cell_type": "markdown",
   "id": "aaf1d7a3-ac3a-4461-804e-86fb5f1538e3",
   "metadata": {},
   "source": [
    "<div class=\"admonition note alert alert-info\">\n",
    "    <b><p class=\"first admonition-title\" style=\"font-weight: bold;\">Discussion</p></b>\n",
    "    If we were to run this code on its own with <code>python tests.py</code>, what would happen?\n",
    "</div>"
   ]
  },
  {
   "cell_type": "markdown",
   "id": "d5fd803c-18cc-46f5-9c05-aeae3e44fd3c",
   "metadata": {
    "slideshow": {
     "slide_type": "slide"
    },
    "tags": []
   },
   "source": [
    "## Running Our Test\n",
    "- We're going to invoke our test with **pytest**, a tool we'll discuss more shortly\n",
    "- Open a terminal session (in Jupyter, File > New > Terminal)\n",
    "    - Things in the terminal are a bit different here in Windows vs Mac/Linux, so we'll try to help how we can..."
   ]
  },
  {
   "cell_type": "markdown",
   "id": "76b220f1-903e-4e87-915e-b69cc27f7723",
   "metadata": {
    "slideshow": {
     "slide_type": "slide"
    },
    "tags": []
   },
   "source": [
    "Run the below command in a notebook to find out what folder you're currently working in:"
   ]
  },
  {
   "cell_type": "code",
   "execution_count": 11,
   "id": "eeeb56f0-f89e-4df2-a3a0-5e0c822d03b3",
   "metadata": {},
   "outputs": [
    {
     "data": {
      "text/plain": [
       "'/Users/eswan18/Teaching/advanced-python-datasci/notebooks'"
      ]
     },
     "execution_count": 11,
     "metadata": {},
     "output_type": "execute_result"
    }
   ],
   "source": [
    "import os\n",
    "os.getcwd()"
   ]
  },
  {
   "cell_type": "markdown",
   "id": "5524d865-3db0-421f-a730-2b20190586c9",
   "metadata": {},
   "source": [
    "Copy that result (including the quotes) and in your terminal, paste it after the `cd` command.\n",
    "\n",
    "So in my terminal, I would run:\n",
    "```bash\n",
    "cd '/Users/eswan18/Teaching/advanced-python-datasci/notebooks'\n",
    "```"
   ]
  },
  {
   "cell_type": "markdown",
   "id": "0ef1e8ba-c980-498b-8d8d-9cb723d469e1",
   "metadata": {
    "slideshow": {
     "slide_type": "slide"
    },
    "tags": []
   },
   "source": [
    "Now...\n",
    "- Windows users: run `dir`\n",
    "- Mac/Linux users: run `ls`\n",
    "\n",
    "This lists the contents of the folder you're currently inside.\n",
    "You should see `my_module.py` and `tests.py` among the output.\n",
    "\n",
    "![ls](images/ls.png)"
   ]
  },
  {
   "cell_type": "markdown",
   "id": "08b7274f-a733-43e5-96e9-46b5fc26c9c8",
   "metadata": {},
   "source": [
    "Now, we're almost ready to run our test.\n",
    "The only thing left is to set up our terminal so that it's using the same Conda environment as our notebooks -- because `pytest` is installed in that environment.\n",
    "- If you took the intermediate class with us, we discussed Conda and environments in more detail then."
   ]
  },
  {
   "cell_type": "markdown",
   "id": "3914bfde-a3e0-4812-830e-c94709b0f7ff",
   "metadata": {
    "slideshow": {
     "slide_type": "slide"
    },
    "tags": []
   },
   "source": [
    "In the terminal, run\n",
    "```bash\n",
    "conda activate uc-python\n",
    "```"
   ]
  },
  {
   "cell_type": "markdown",
   "id": "b9bcd1b7-c0b6-40ca-84d8-1e5579ed694a",
   "metadata": {
    "slideshow": {
     "slide_type": "fragment"
    },
    "tags": []
   },
   "source": [
    "This should add a \"uc-python\" prefix to your terminal prompt:\n",
    "![ls](images/prefix-prompt.png)"
   ]
  },
  {
   "cell_type": "markdown",
   "id": "2c8b4577-bce3-4cf6-bfcd-3d37daacadaf",
   "metadata": {
    "tags": []
   },
   "source": [
    "Note that your prompt will look quite a bit different from mine; all that matters is the folder name and the \"uc-python\" prefix."
   ]
  },
  {
   "cell_type": "markdown",
   "id": "274568fe-5dd9-4545-a204-1db88791b57d",
   "metadata": {
    "slideshow": {
     "slide_type": "slide"
    },
    "tags": []
   },
   "source": [
    "Now we're ready to run our test!\n",
    "\n",
    "In your terminal, type:\n",
    "```bash\n",
    "pytest tests.py\n",
    "```"
   ]
  },
  {
   "cell_type": "markdown",
   "id": "a14c4a05-10b8-492a-9fd5-8ac26d7ee1fe",
   "metadata": {},
   "source": [
    "You should see some output appear.\n",
    "The last line should look something like:\n",
    "```\n",
    "============ 1 passed in 0.74s ============\n",
    "```"
   ]
  },
  {
   "cell_type": "markdown",
   "id": "faccf693-ed0b-4fd3-981c-10af87607206",
   "metadata": {},
   "source": [
    "This means that 1 (test) passed and 0 tests failed, and the whole process took 0.74 seconds."
   ]
  },
  {
   "cell_type": "markdown",
   "id": "4c460a17-17ae-4da5-925b-24c16ad687fe",
   "metadata": {
    "slideshow": {
     "slide_type": "slide"
    },
    "tags": []
   },
   "source": [
    "## Pytest\n",
    "\n",
    "- Pytest is an automated tool for running sets of tests\n",
    "  - sets of tests are often called test \"suites\"\n",
    "- It expects your tests to be in their own files, and each test needs to be a function\n",
    "  - The name of each function must start with `test_`, so pytest knows it's a test and not just a regular function."
   ]
  },
  {
   "cell_type": "markdown",
   "id": "1ecfd6d5-ed3c-4f31-9266-5fe7025a0a43",
   "metadata": {
    "slideshow": {
     "slide_type": "slide"
    },
    "tags": []
   },
   "source": [
    "Let's look back at our simple test:"
   ]
  },
  {
   "cell_type": "code",
   "execution_count": null,
   "id": "f31aa8a4-edc4-4fa7-9cbd-ea9bd8f4758f",
   "metadata": {},
   "outputs": [],
   "source": [
    "import my_module\n",
    "\n",
    "def test_invocation():\n",
    "    features, target = my_module.get_features_and_target(\n",
    "        csv_file='../data/adult-census.csv',\n",
    "        target_col='class'\n",
    "    )"
   ]
  },
  {
   "cell_type": "markdown",
   "id": "b7209e5d-2a05-4b5f-8abe-cba67072dcda",
   "metadata": {},
   "source": [
    "Note that our function starts with `def test_`, and pytest is smart enough to run it."
   ]
  },
  {
   "cell_type": "markdown",
   "id": "bcd2e226-626c-4fea-b981-9a58b66bf3ef",
   "metadata": {
    "slideshow": {
     "slide_type": "slide"
    },
    "tags": []
   },
   "source": [
    "What happens if a test fails?\n",
    "Let's add a bad test just to see.\n",
    "\n",
    "Add this function to `tests.py`, below `test_invocation`."
   ]
  },
  {
   "cell_type": "code",
   "execution_count": 12,
   "id": "e546d1e1-975e-4efd-aad1-2aff599e5f47",
   "metadata": {},
   "outputs": [],
   "source": [
    "def test_without_args():\n",
    "    # A test we know will fail because we don't provide arguments\n",
    "    # to the function.\n",
    "    features, target = my_module.get_features_and_target()"
   ]
  },
  {
   "cell_type": "markdown",
   "id": "97d3ea93-1f8c-4c77-a513-7791d113cf5c",
   "metadata": {},
   "source": [
    "Save the file, and then rerun `pytest tests.py` in your terminal."
   ]
  },
  {
   "cell_type": "markdown",
   "id": "db9804ce-445f-48bc-9517-7cbdcfde4e71",
   "metadata": {
    "slideshow": {
     "slide_type": "fragment"
    },
    "tags": []
   },
   "source": [
    "============== 1 failed, 1 passed in 0.83s =============="
   ]
  },
  {
   "cell_type": "markdown",
   "id": "c01a9114-8504-4982-8bd8-837f58839477",
   "metadata": {
    "slideshow": {
     "slide_type": "slide"
    },
    "tags": []
   },
   "source": [
    "Our original test still passes, but this one fails!\n",
    "\n",
    "Above this line, pytest reports exactly what happened that caused it to fail.\n",
    "We got an error:\n",
    "```text\n",
    "    def test_without_args():\n",
    "        # A test we know will fail because we don't provide arguments\n",
    "        # to the function.\n",
    ">       features, target = my_module.get_features_and_target()\n",
    "\n",
    "E       TypeError: get_features_and_target() missing 2 required positional arguments: 'csv_file' and 'target_col'\n",
    "\n",
    "tests.py:12: TypeError\n",
    "```"
   ]
  },
  {
   "cell_type": "markdown",
   "id": "cd32840e-ad8f-41e4-bb68-7e960d467419",
   "metadata": {
    "slideshow": {
     "slide_type": "slide"
    },
    "tags": []
   },
   "source": [
    "## What does it mean to \"fail\"?\n",
    "\n",
    "- If a test function encounters any kind of unexpected error, that counts as a failure to pytest\n",
    "- Any test that runs without error \"passes\""
   ]
  },
  {
   "cell_type": "markdown",
   "id": "39977b2c-09f9-4dff-8ca0-5561c45a70e0",
   "metadata": {
    "slideshow": {
     "slide_type": "slide"
    },
    "tags": []
   },
   "source": [
    "Let's remove our `test_without_args` test -- it's not something we actually want to verify about our code.\n",
    "\n",
    "However, one thing we *do* want to check is that the features and target that are returned from our function are a pandas DataFrame and Series, respectively. Let's add a test for that in its place..."
   ]
  },
  {
   "cell_type": "code",
   "execution_count": 14,
   "id": "07651ef2-dbe0-41df-86c8-ea7a3ca24518",
   "metadata": {
    "slideshow": {
     "slide_type": "slide"
    },
    "tags": []
   },
   "outputs": [],
   "source": [
    "import pandas as pd # You may want to move this import to the top of the file.\n",
    "\n",
    "def test_return_types():\n",
    "    features, target = my_module.get_features_and_target(\n",
    "        csv_file='../data/adult-census.csv',\n",
    "        target_col='class'\n",
    "    )\n",
    "    assert isinstance(features, pd.DataFrame)\n",
    "    assert isinstance(target, pd.Series)"
   ]
  },
  {
   "cell_type": "markdown",
   "id": "8698f939-bb0e-437a-a4dc-0e187a4c901a",
   "metadata": {
    "slideshow": {
     "slide_type": "fragment"
    },
    "tags": []
   },
   "source": [
    "The we can rerun `pytest tests.py`\n",
    "```text\n",
    "=========== 2 passed in 0.88s ===========\n",
    "```"
   ]
  },
  {
   "cell_type": "markdown",
   "id": "2ebfc8fa-4394-46e0-aaad-73e114df44fb",
   "metadata": {},
   "source": [
    "Nice! It looks like our function does indeed return a DataFrame and a Series."
   ]
  },
  {
   "cell_type": "markdown",
   "id": "980a6d26-3306-485a-9acc-ec3f0ed5f2b7",
   "metadata": {
    "slideshow": {
     "slide_type": "slide"
    },
    "tags": []
   },
   "source": [
    "## Assert"
   ]
  }
 ],
 "metadata": {
  "kernelspec": {
   "display_name": "uc-python",
   "language": "python",
   "name": "uc-python"
  },
  "language_info": {
   "codemirror_mode": {
    "name": "ipython",
    "version": 3
   },
   "file_extension": ".py",
   "mimetype": "text/x-python",
   "name": "python",
   "nbconvert_exporter": "python",
   "pygments_lexer": "ipython3",
   "version": "3.9.7"
  }
 },
 "nbformat": 4,
 "nbformat_minor": 5
}
