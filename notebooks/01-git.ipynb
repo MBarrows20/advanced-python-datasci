{
 "cells": [
  {
   "cell_type": "markdown",
   "id": "d7cab44d",
   "metadata": {
    "slideshow": {
     "slide_type": "slide"
    },
    "tags": []
   },
   "source": [
    "# Git and GitHub"
   ]
  },
  {
   "cell_type": "markdown",
   "id": "e90c355f",
   "metadata": {
    "jp-MarkdownHeadingCollapsed": true,
    "slideshow": {
     "slide_type": "slide"
    },
    "tags": []
   },
   "source": [
    "## Lesson Goals\n",
    "- Understand the purpose of version control systems\n",
    "- Create a GitHub account\n",
    "- Upload your first code to GitHub"
   ]
  },
  {
   "cell_type": "markdown",
   "id": "7153a041",
   "metadata": {
    "tags": []
   },
   "source": [
    "## Prequisites\n",
    "- None"
   ]
  },
  {
   "cell_type": "markdown",
   "id": "41334dfa-260a-435a-9792-3f1dae06e8b2",
   "metadata": {
    "slideshow": {
     "slide_type": "slide"
    },
    "tags": []
   },
   "source": [
    "## Code Management\n",
    "\n",
    "Some new considerations come up as we build larger projects that eventually go into production..."
   ]
  },
  {
   "cell_type": "markdown",
   "id": "b722b315-8d4c-4011-a79b-c7e01d769521",
   "metadata": {
    "slideshow": {
     "slide_type": "fragment"
    },
    "tags": []
   },
   "source": [
    "- What happens if our computer breaks or is lost? Will we lose all of our code?"
   ]
  },
  {
   "cell_type": "markdown",
   "id": "c7d91700-738f-4793-ba30-13f41b42374f",
   "metadata": {
    "slideshow": {
     "slide_type": "fragment"
    },
    "tags": []
   },
   "source": [
    "- What if we make changes to our code that we later want to roll back? For example, trying a different method of cleaning our data and eventually discovering that it yields worse results."
   ]
  },
  {
   "cell_type": "markdown",
   "id": "b0a84074-9731-430f-a9bf-a05dee2b8856",
   "metadata": {
    "slideshow": {
     "slide_type": "fragment"
    },
    "tags": []
   },
   "source": [
    "- How do multiple people work on the same project without sending files back and forth, and stepping on each others' toes?"
   ]
  },
  {
   "cell_type": "markdown",
   "id": "856b58f4-7f5e-4c4f-afe1-fa5ff6ce3067",
   "metadata": {
    "slideshow": {
     "slide_type": "fragment"
    },
    "tags": []
   },
   "source": [
    "<font color=\"blue\">Discussion:</font> Has anyone here faced problems like these before?"
   ]
  },
  {
   "cell_type": "markdown",
   "id": "47912ee1-c259-4ef5-ad74-c8b012cc0e40",
   "metadata": {
    "slideshow": {
     "slide_type": "slide"
    },
    "tags": []
   },
   "source": [
    "## Version Control Systems (VCS)\n",
    "The most common industry solution is a **Version Control System**, which:\n",
    "- Provides a backup of your code on a separate computer\n",
    "- Tracks every change made to the code, allowing you to see when certain code was updated and to roll back to an earlier state if necessary\n",
    "- Helps with collaboration by letting contributors work on different things in parallel and then \"merge\" their changes together later"
   ]
  },
  {
   "cell_type": "markdown",
   "id": "a7c89c14-4ac1-436e-b10a-78a854b7a31d",
   "metadata": {
    "slideshow": {
     "slide_type": "fragment"
    },
    "tags": []
   },
   "source": [
    "Typically, an organization will have one central VCS where all projects are managed."
   ]
  },
  {
   "cell_type": "markdown",
   "id": "a3882acc-0545-4f7e-9c20-65b6b8901323",
   "metadata": {
    "slideshow": {
     "slide_type": "slide"
    },
    "tags": []
   },
   "source": [
    "## Common VCS Options"
   ]
  },
  {
   "cell_type": "markdown",
   "id": "c8f0d82d-15ac-4bc5-99c7-7e67097605e4",
   "metadata": {},
   "source": [
    "Far and away the most popular VCS tool is Git, which is notable for its scalability and performance.\n",
    "\n",
    "Unfortunately, it's often challenging for beginners; its interface can be overwhelming."
   ]
  },
  {
   "cell_type": "markdown",
   "id": "e51f409e-428e-4fd1-9cf7-c87fcc93f292",
   "metadata": {
    "slideshow": {
     "slide_type": "fragment"
    },
    "tags": []
   },
   "source": [
    "Other VCSes exist, and were more common until Git became dominant around 2010.\n",
    "You may have heard of these or even used them:\n",
    "- Mercurial\n",
    "- Subversion"
   ]
  },
  {
   "cell_type": "markdown",
   "id": "793ce6ee-26b8-475d-b63f-310c6deebd0f",
   "metadata": {
    "slideshow": {
     "slide_type": "slide"
    },
    "tags": []
   },
   "source": [
    "## Git and GitHub\n",
    "Git is generally used in tandem with a website where your code can be kept, viewed, and managed.\n",
    "There are several, but the most commonly used site is **GitHub**."
   ]
  },
  {
   "cell_type": "markdown",
   "id": "de686595-3b17-476f-9057-2194a13035d2",
   "metadata": {
    "slideshow": {
     "slide_type": "fragment"
    },
    "tags": []
   },
   "source": [
    "Not only does GitHub provide a good interface for viewing code, it also features project management and collaboration tools that are tightly integrated with your codebase -- very convenient for teams.\n",
    "GitHub offers most of its tools for free and has become the home of most popular open source projects (such as Python itself and the pandas library)."
   ]
  },
  {
   "cell_type": "markdown",
   "id": "bc3a2dc8-167f-4dcc-ac25-d2ff60b04b3f",
   "metadata": {
    "slideshow": {
     "slide_type": "fragment"
    },
    "tags": []
   },
   "source": [
    "There are competitors, such as GitLab and Bitbucket, but at least for personal work it's typical to always use GitHub -- to the point that employers sometimes ask for your GitHub profile.\n",
    "It's a good investment of your time to become familiar with Git and GitHub, and to set up an account."
   ]
  },
  {
   "cell_type": "markdown",
   "id": "77e34d67-8c6a-455c-95c4-8bce78491f13",
   "metadata": {
    "slideshow": {
     "slide_type": "slide"
    },
    "tags": []
   },
   "source": [
    "## Creating a GitHub Account\n",
    "\n",
    "*(If you already have a GitHub account, you may skip these steps. Just log into your account so we can push code to it later.)*"
   ]
  },
  {
   "cell_type": "markdown",
   "id": "2906c519-0e9c-45ef-965a-ce40a5c7dc62",
   "metadata": {
    "slideshow": {
     "slide_type": "fragment"
    },
    "tags": []
   },
   "source": [
    "1. Go to `github.com` and find the **Sign Up** button.\n",
    "  - When prompted, enter your email address, a new password, and a username\n",
    "  - This username will be your identifier on GitHub, so make sure you'd be comfortable sharing it with an employer or colleague\n",
    "2. You may then need to solve a Captcha-like puzzle and verify your email address. Do so.\n",
    "\n",
    "3. Once the account is created, you may be asked whether to create a new project, or \"repository\". We'll do that, but not yet!"
   ]
  },
  {
   "cell_type": "markdown",
   "id": "74214edc-b5bd-46a5-87e3-11267a1b1905",
   "metadata": {
    "slideshow": {
     "slide_type": "slide"
    },
    "tags": []
   },
   "source": [
    "## GitHub Tour\n",
    "\n",
    "*Demo of Profile and Repos*"
   ]
  },
  {
   "cell_type": "markdown",
   "id": "5d521df9-a6c3-4d47-b465-97603be17e58",
   "metadata": {
    "slideshow": {
     "slide_type": "slide"
    },
    "tags": []
   },
   "source": [
    "## Repositories\n",
    "\n",
    "- As we saw, repositories are just projects.\n",
    "- For short, we usually call them **repos**.\n",
    "- Generally, it's good to have a unique repository in GitHub for every project you work on.\n",
    "- Let's create a repo for the code we write in this workshop!"
   ]
  },
  {
   "cell_type": "markdown",
   "id": "f69e35e7-3c58-4c0a-8c98-7eb53ffaa8f9",
   "metadata": {
    "jp-MarkdownHeadingCollapsed": true,
    "slideshow": {
     "slide_type": "slide"
    },
    "tags": []
   },
   "source": [
    "## Creating a Repo\n",
    "1. Go back to GitHub.\n",
    "\n",
    "2. If today is the first time you've used GitHub, the site may immediately prompt you to create a repo. If so, click that.\n",
    "    - If not, look in the left sidebar for a \"New\" button and click that -- it should take you to a repo creation page.\n",
    "<br><br>\n",
    "3. In the *Name* field enter **advanced-python-datasci**, and in the *Description* enter **Working through the Advanced Python for Data Science workshop**.\n",
    "\n",
    "4. There are three boxes below; check the first two. Those should be \"Add a readme\" and \"Add a gitignore\".\n",
    "    - The gitignore checkbox should show a dropdown below it, \"gitignore template\". Look through that list and select **Python**.  \n",
    "<br><br>\n",
    "5. Then press the \"Create Repository\" button!"
   ]
  },
  {
   "cell_type": "markdown",
   "id": "b13979f5-54e6-4521-9aa2-78d26d40a64a",
   "metadata": {
    "slideshow": {
     "slide_type": "slide"
    },
    "tags": []
   },
   "source": [
    "## GitHub Desktop\n",
    "\n",
    "1. Next, we'll download a piece of software from GitHub that handles syncing our code with our repository: **GitHub Desktop**\n",
    "    - Note: if you are already comfortable using Git from the command line, you can skip this part; just clone the repo we've created as we'll be using it for the rest of the workshop.\n",
    "<br><br> \n",
    "2. Go to https://desktop.github.com and download the application.\n",
    "\n",
    "3. Once it's downloaded and installed, open it."
   ]
  },
  {
   "cell_type": "markdown",
   "id": "f0b0cb29-fab1-4593-b49c-165471b92bda",
   "metadata": {
    "slideshow": {
     "slide_type": "slide"
    },
    "tags": []
   },
   "source": [
    "## Connecting Our Repo to GH Desktop\n",
    "\n",
    "Okay, the last bit of direction-following!\n",
    "\n",
    "1. In GitHub Desktop, you should see an option like **Clone a Repository from the Internet...**. Click this.\n",
    "\n",
    "2. At this point, the application should prompt you to sign into GitHub. Follow its instructions to do so, which may involve it redirecting you to the browser.\n",
    "\n",
    "3. Once done signing in, you may have to press **Clone a Repository from the Internet...** again.\n",
    "\n",
    "4. Choose the **advanced-python-datasci** project we just created.\n",
    "\n",
    "5. Optionally, you may change the **Local Path** -- this is where the repository will be saved on your computer. You'll need to be able to open the code here in JupyterLab, so if you're more comfortable keeping your code somewhere else, change this to a different location on your computer."
   ]
  },
  {
   "cell_type": "code",
   "execution_count": null,
   "id": "cd7ed1ef-3d6b-45e8-a3f1-a8fe3f4c3285",
   "metadata": {},
   "outputs": [],
   "source": []
  }
 ],
 "metadata": {
  "kernelspec": {
   "display_name": "uc-python",
   "language": "python",
   "name": "uc-python"
  },
  "language_info": {
   "codemirror_mode": {
    "name": "ipython",
    "version": 3
   },
   "file_extension": ".py",
   "mimetype": "text/x-python",
   "name": "python",
   "nbconvert_exporter": "python",
   "pygments_lexer": "ipython3",
   "version": "3.9.1"
  }
 },
 "nbformat": 4,
 "nbformat_minor": 5
}
