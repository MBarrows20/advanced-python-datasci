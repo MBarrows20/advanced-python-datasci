{
 "cells": [
  {
   "cell_type": "markdown",
   "metadata": {},
   "source": [
    "# Feature Engineering\n",
    "\n",
    "Data preprocessing and engineering techniques generally refer to the addition, deletion, or transformation of data.  The time spent on identifying data engineering needs can be significant and requires you to spend substantial time understanding your data...or as Leo Breiman said \"live with your data before you plunge into modeling\" [@breiman2001statistical p. 201]. Although this course primarily focuses on applying machine learning algorithms, feature engineering can make or break an algorithm’s predictive ability and deserves your continued focus and education.\n",
    "\n",
    "We will not cover all the potential ways of implementing feature engineering; however, we'll cover several fundamental preprocessing tasks that has the potential to significantly improve modeling performance. Moreover, different models have different sensitivities to the type of target and feature values in the model and we will try to highlight some of these concerns. For more in depth coverage of feature engineering, please refer to @kuhn2019feature and @zheng2018feature.\n",
    "\n",
    "By the end of this module you will know:\n",
    "\n",
    "- When and how to transform the response variable (\"target engineering\")\n",
    "- How to deal with missing values\n",
    "- When to filter unnecessary features\n",
    "- Common ways to transform numeric features\n",
    "- Common ways to transform categorical features\n",
    "- How to apply dimension reduction\n",
    "- How to properly combine multiple preprocessing steps into the modeling process"
   ]
  },
  {
   "cell_type": "markdown",
   "metadata": {},
   "source": [
    "## Prerequisites"
   ]
  },
  {
   "cell_type": "code",
   "execution_count": 185,
   "metadata": {},
   "outputs": [],
   "source": [
    "# Ames housing data\n",
    "ames = pd.read_csv(\"../data/ames.csv\")\n",
    "\n",
    "# create train/test split\n",
    "train, test = train_test_split(ames, train_size=0.7, random_state=123)"
   ]
  }
 ],
 "metadata": {
  "interpreter": {
   "hash": "ac0ed425b45d32ee566e280864cc63b8e8d2709e5d28b86a4c4467fb097981b2"
  },
  "kernelspec": {
   "display_name": "Python 3.8.8 64-bit ('uc-python-dl': conda)",
   "language": "python",
   "name": "python3"
  },
  "language_info": {
   "codemirror_mode": {
    "name": "ipython",
    "version": 3
   },
   "file_extension": ".py",
   "mimetype": "text/x-python",
   "name": "python",
   "nbconvert_exporter": "python",
   "pygments_lexer": "ipython3",
   "version": "3.8.8"
  }
 },
 "nbformat": 4,
 "nbformat_minor": 5
}
