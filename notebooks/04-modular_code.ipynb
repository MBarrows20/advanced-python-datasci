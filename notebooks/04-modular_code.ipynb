{
 "cells": [
  {
   "cell_type": "markdown",
   "id": "8508a2d2-e00b-40fd-a36e-5bb6a7246fc1",
   "metadata": {
    "slideshow": {
     "slide_type": "slide"
    },
    "tags": []
   },
   "source": [
    "# Modular Code\n",
    "\n",
    "![](images/legos.jpg)"
   ]
  },
  {
   "cell_type": "markdown",
   "id": "189cdd58-cf78-4d6c-84b9-bff84b233919",
   "metadata": {
    "slideshow": {
     "slide_type": "slide"
    },
    "tags": []
   },
   "source": [
    "# What's Modularity?\n",
    "\n",
    "- Building our code in discrete, clearly separated chunks\n",
    "- So we can...\n",
    "  - **Modify one piece** without breaking the others\n",
    "  - **Combine pieces** in different ways, as we need them"
   ]
  },
  {
   "cell_type": "markdown",
   "id": "63602da2-d767-47b3-873c-8b5e2d398a63",
   "metadata": {
    "slideshow": {
     "slide_type": "fragment"
    },
    "tags": []
   },
   "source": [
    "Often, modularity implies breaking our code down into different **functions** which live in different **modules**."
   ]
  },
  {
   "cell_type": "markdown",
   "id": "375fcb2a-12f6-47da-a01a-f75c8abcafab",
   "metadata": {
    "tags": []
   },
   "source": [
    "<div class=\"admonition note alert alert-info\">\n",
    "<p class=\"first admonition-title\" style=\"font-weight: bold;\"><b>Note</b></p>\n",
    "    <p class=\"last\">Generally, a <em>module</em> in Python is just a file that ends in <code>.py</code></p>\n",
    "</div>"
   ]
  },
  {
   "cell_type": "markdown",
   "id": "719240b2-c828-45fa-afc4-83c8c089d72b",
   "metadata": {
    "slideshow": {
     "slide_type": "slide"
    },
    "tags": []
   },
   "source": [
    "## How do we achieve modularity in Python?\n",
    "- Move code chunks into their own **functions**\n",
    "- Move functions into their own **files**"
   ]
  },
  {
   "cell_type": "markdown",
   "id": "a445cc43-d99f-49a5-97f6-456a686ed502",
   "metadata": {
    "slideshow": {
     "slide_type": "slide"
    },
    "tags": []
   },
   "source": [
    "## Example\n",
    "In the last section, we imported some data from a CSV, kept just its numeric columns, and separated the target from the features..."
   ]
  },
  {
   "cell_type": "code",
   "execution_count": 14,
   "id": "8fbccadb-ef77-4fbb-bebb-9306f80f9efe",
   "metadata": {},
   "outputs": [],
   "source": [
    "import numpy as np\n",
    "import pandas as pd\n",
    "\n",
    "adult_census = pd.read_csv(\"../data/adult-census.csv\")\n",
    "\n",
    "# create column names of interest\n",
    "target_col = \"class\"\n",
    "\n",
    "raw_features = adult_census.drop(columns=target_col)\n",
    "numeric_features = raw_features.select_dtypes(np.number)\n",
    "feature_cols = numeric_features.columns.values\n",
    "\n",
    "features = adult_census[feature_cols]\n",
    "target = adult_census[target_col]"
   ]
  },
  {
   "cell_type": "markdown",
   "id": "e5325c45-2c2c-4c22-8701-84c0ebd074cf",
   "metadata": {
    "slideshow": {
     "slide_type": "fragment"
    },
    "tags": []
   },
   "source": [
    "This is a lot of code though, and we might want to do this again in the future **with different data sets**.\n",
    "\n",
    "That makes it a perfect case to be its own function."
   ]
  },
  {
   "cell_type": "code",
   "execution_count": 15,
   "id": "9f9d8082-a6c0-44fc-b07c-2cc546026811",
   "metadata": {
    "slideshow": {
     "slide_type": "slide"
    },
    "tags": []
   },
   "outputs": [],
   "source": [
    "def get_features_and_target():\n",
    "    '''Split a CSV into a DF of numeric features and a target column.'''\n",
    "    adult_census = pd.read_csv(\"../data/adult-census.csv\")\n",
    "\n",
    "    target_col = \"class\"\n",
    "    \n",
    "    raw_features = adult_census.drop(columns=target_col)\n",
    "    numeric_features = raw_features.select_dtypes(np.number)\n",
    "    feature_cols = numeric_features.columns.values\n",
    "\n",
    "    features = adult_census[feature_cols]\n",
    "    target = adult_census[target_col]\n",
    "    \n",
    "    return (features, target)"
   ]
  },
  {
   "cell_type": "markdown",
   "id": "d7742630-3832-452b-bfcb-0c0e5b8f0211",
   "metadata": {
    "slideshow": {
     "slide_type": "fragment"
    },
    "tags": []
   },
   "source": [
    "Let's test it!"
   ]
  },
  {
   "cell_type": "code",
   "execution_count": 16,
   "id": "9d968ac2-5f84-4380-9080-f67eba43103c",
   "metadata": {},
   "outputs": [
    {
     "data": {
      "text/html": [
       "<div>\n",
       "<style scoped>\n",
       "    .dataframe tbody tr th:only-of-type {\n",
       "        vertical-align: middle;\n",
       "    }\n",
       "\n",
       "    .dataframe tbody tr th {\n",
       "        vertical-align: top;\n",
       "    }\n",
       "\n",
       "    .dataframe thead th {\n",
       "        text-align: right;\n",
       "    }\n",
       "</style>\n",
       "<table border=\"1\" class=\"dataframe\">\n",
       "  <thead>\n",
       "    <tr style=\"text-align: right;\">\n",
       "      <th></th>\n",
       "      <th>age</th>\n",
       "      <th>education-num</th>\n",
       "      <th>capital-gain</th>\n",
       "      <th>capital-loss</th>\n",
       "      <th>hours-per-week</th>\n",
       "    </tr>\n",
       "  </thead>\n",
       "  <tbody>\n",
       "    <tr>\n",
       "      <th>0</th>\n",
       "      <td>25</td>\n",
       "      <td>7</td>\n",
       "      <td>0</td>\n",
       "      <td>0</td>\n",
       "      <td>40</td>\n",
       "    </tr>\n",
       "    <tr>\n",
       "      <th>1</th>\n",
       "      <td>38</td>\n",
       "      <td>9</td>\n",
       "      <td>0</td>\n",
       "      <td>0</td>\n",
       "      <td>50</td>\n",
       "    </tr>\n",
       "    <tr>\n",
       "      <th>2</th>\n",
       "      <td>28</td>\n",
       "      <td>12</td>\n",
       "      <td>0</td>\n",
       "      <td>0</td>\n",
       "      <td>40</td>\n",
       "    </tr>\n",
       "    <tr>\n",
       "      <th>3</th>\n",
       "      <td>44</td>\n",
       "      <td>10</td>\n",
       "      <td>7688</td>\n",
       "      <td>0</td>\n",
       "      <td>40</td>\n",
       "    </tr>\n",
       "    <tr>\n",
       "      <th>4</th>\n",
       "      <td>18</td>\n",
       "      <td>10</td>\n",
       "      <td>0</td>\n",
       "      <td>0</td>\n",
       "      <td>30</td>\n",
       "    </tr>\n",
       "  </tbody>\n",
       "</table>\n",
       "</div>"
      ],
      "text/plain": [
       "   age  education-num  capital-gain  capital-loss  hours-per-week\n",
       "0   25              7             0             0              40\n",
       "1   38              9             0             0              50\n",
       "2   28             12             0             0              40\n",
       "3   44             10          7688             0              40\n",
       "4   18             10             0             0              30"
      ]
     },
     "execution_count": 16,
     "metadata": {},
     "output_type": "execute_result"
    }
   ],
   "source": [
    "f, t = get_features_and_target()\n",
    "f.head()"
   ]
  },
  {
   "cell_type": "code",
   "execution_count": 17,
   "id": "065fec64-a8c7-4264-8d2d-64f8a6bf6e5e",
   "metadata": {},
   "outputs": [
    {
     "data": {
      "text/plain": [
       "0     <=50K\n",
       "1     <=50K\n",
       "2      >50K\n",
       "3      >50K\n",
       "4     <=50K\n",
       "Name: class, dtype: object"
      ]
     },
     "execution_count": 17,
     "metadata": {},
     "output_type": "execute_result"
    }
   ],
   "source": [
    "t.head()"
   ]
  },
  {
   "cell_type": "markdown",
   "id": "80a80a7d-5996-4045-a172-55290974c843",
   "metadata": {},
   "source": [
    "Looks like it worked!!"
   ]
  },
  {
   "cell_type": "code",
   "execution_count": 18,
   "id": "65753a10-5b76-42f1-a970-a71b0677ed7a",
   "metadata": {
    "slideshow": {
     "slide_type": "slide"
    },
    "tags": []
   },
   "outputs": [],
   "source": [
    "def get_features_and_target():\n",
    "    '''Split a CSV into a DF of numeric features and a target column.'''\n",
    "    adult_census = pd.read_csv(\"../data/adult-census.csv\")\n",
    "\n",
    "    target_col = \"class\"\n",
    "    \n",
    "    raw_features = adult_census.drop(columns=target_col)\n",
    "    numeric_features = raw_features.select_dtypes(np.number)\n",
    "    feature_cols = numeric_features.columns.values\n",
    "\n",
    "    features = adult_census[feature_cols]\n",
    "    target = adult_census[target_col]\n",
    "    \n",
    "    return (features, target)"
   ]
  },
  {
   "cell_type": "markdown",
   "id": "044fa257-a6b9-4189-ae7b-8324e64f68f3",
   "metadata": {},
   "source": [
    "<div class=\"admonition note alert alert-info\">\n",
    "    <b><p class=\"first admonition-title\" style=\"font-weight: bold;\">Discussion</p></b>\n",
    "    How would we apply this function to new data?\n",
    "</div>"
   ]
  },
  {
   "cell_type": "markdown",
   "id": "50d64911-785e-4019-93ca-6a0504dea0cb",
   "metadata": {
    "slideshow": {
     "slide_type": "fragment"
    },
    "tags": []
   },
   "source": [
    "We can't! We didn't **parametrize** it."
   ]
  },
  {
   "cell_type": "markdown",
   "id": "cec58ea8-cae1-43c0-8af7-957ab8cbf16c",
   "metadata": {
    "slideshow": {
     "slide_type": "slide"
    },
    "tags": []
   },
   "source": [
    "## Parametrizing Functions\n",
    "\n",
    "While functions are about reusing code, we rarely want to rerun *exactly* the same code.\n",
    "\n",
    "Usually, there are a small number of things that should change from run to run. These are called **parameters**."
   ]
  },
  {
   "cell_type": "markdown",
   "id": "b1646049-4f65-4868-84f1-331d6a3943d2",
   "metadata": {
    "slideshow": {
     "slide_type": "fragment"
    },
    "tags": []
   },
   "source": [
    "Common things that might be used parameters:\n",
    "- threshold values\n",
    "- filenames\n",
    "- column names"
   ]
  },
  {
   "cell_type": "code",
   "execution_count": 18,
   "id": "02479640-a0d9-4b84-9114-20515c5c756d",
   "metadata": {
    "slideshow": {
     "slide_type": "slide"
    },
    "tags": []
   },
   "outputs": [],
   "source": [
    "def get_features_and_target():\n",
    "    '''Split a CSV into a DF of numeric features and a target column.'''\n",
    "    adult_census = pd.read_csv(\"../data/adult-census.csv\")\n",
    "\n",
    "    target_col = \"class\"\n",
    "    \n",
    "    raw_features = adult_census.drop(columns=target_col)\n",
    "    numeric_features = raw_features.select_dtypes(np.number)\n",
    "    feature_cols = numeric_features.columns.values\n",
    "\n",
    "    features = adult_census[feature_cols]\n",
    "    target = adult_census[target_col]\n",
    "    \n",
    "    return (features, target)"
   ]
  },
  {
   "cell_type": "markdown",
   "id": "d80267a4-5441-4642-8998-2d97ff50b55d",
   "metadata": {},
   "source": [
    "<div class=\"admonition note alert alert-info\">\n",
    "    <b><p class=\"first admonition-title\" style=\"font-weight: bold;\">Discussion</p></b>\n",
    "    What should be the parameters of our <code>get_features_and_target</code> function?\n",
    "</div>"
   ]
  },
  {
   "cell_type": "code",
   "execution_count": 20,
   "id": "7ded97b6-9595-416f-ab26-d98301a7d714",
   "metadata": {
    "slideshow": {
     "slide_type": "slide"
    },
    "tags": []
   },
   "outputs": [],
   "source": [
    "def get_features_and_target(csv_file, target_col):\n",
    "    '''Split a CSV into a DF of numeric features and a target column.'''\n",
    "    \n",
    "    adult_census = pd.read_csv(csv_file)\n",
    "    \n",
    "    raw_features = adult_census.drop(columns=target_col)\n",
    "    numeric_features = raw_features.select_dtypes(np.number)\n",
    "    feature_cols = numeric_features.columns.values\n",
    "\n",
    "    features = adult_census[feature_cols]\n",
    "    target = adult_census[target_col]\n",
    "    \n",
    "    return (features, target)"
   ]
  },
  {
   "cell_type": "markdown",
   "id": "ce36e103-c5fa-4818-a28b-ba97e4e4907d",
   "metadata": {
    "slideshow": {
     "slide_type": "fragment"
    },
    "tags": []
   },
   "source": [
    "Now if we call our function without passing `csv_file` and `target_col`, we get an error:"
   ]
  },
  {
   "cell_type": "code",
   "execution_count": 22,
   "id": "9c8ffbcb-1870-43f9-9204-3149e1f1940c",
   "metadata": {},
   "outputs": [
    {
     "ename": "TypeError",
     "evalue": "get_features_and_target() missing 2 required positional arguments: 'csv_file' and 'target_col'",
     "output_type": "error",
     "traceback": [
      "\u001b[0;31m---------------------------------------------------------------------------\u001b[0m",
      "\u001b[0;31mTypeError\u001b[0m                                 Traceback (most recent call last)",
      "\u001b[0;32m/var/folders/j3/v1318ng94fvdpq7kzr0hq9kw0000gn/T/ipykernel_87389/3218846325.py\u001b[0m in \u001b[0;36m<module>\u001b[0;34m\u001b[0m\n\u001b[0;32m----> 1\u001b[0;31m \u001b[0mf\u001b[0m\u001b[0;34m,\u001b[0m \u001b[0mt\u001b[0m \u001b[0;34m=\u001b[0m \u001b[0mget_features_and_target\u001b[0m\u001b[0;34m(\u001b[0m\u001b[0;34m)\u001b[0m\u001b[0;34m\u001b[0m\u001b[0;34m\u001b[0m\u001b[0m\n\u001b[0m",
      "\u001b[0;31mTypeError\u001b[0m: get_features_and_target() missing 2 required positional arguments: 'csv_file' and 'target_col'"
     ]
    }
   ],
   "source": [
    "f, t = get_features_and_target()"
   ]
  },
  {
   "cell_type": "markdown",
   "id": "7aa651cd-1ab3-4211-9253-263f5f15ea2e",
   "metadata": {
    "slideshow": {
     "slide_type": "slide"
    },
    "tags": []
   },
   "source": [
    "But we can still use it if we pass in those parameters:"
   ]
  },
  {
   "cell_type": "code",
   "execution_count": 23,
   "id": "7c5239ae-be56-42e7-a9fc-c36a084fef6c",
   "metadata": {},
   "outputs": [],
   "source": [
    "# In Python, linebreaks and spaces inside parentheses are ignored.\n",
    "f, t = get_features_and_target(\n",
    "    csv_file='../data/adult-census.csv',\n",
    "    target_col='class',\n",
    ")"
   ]
  },
  {
   "cell_type": "code",
   "execution_count": 24,
   "id": "35209624-3af9-45e3-b803-578570b76ea3",
   "metadata": {},
   "outputs": [
    {
     "data": {
      "text/html": [
       "<div>\n",
       "<style scoped>\n",
       "    .dataframe tbody tr th:only-of-type {\n",
       "        vertical-align: middle;\n",
       "    }\n",
       "\n",
       "    .dataframe tbody tr th {\n",
       "        vertical-align: top;\n",
       "    }\n",
       "\n",
       "    .dataframe thead th {\n",
       "        text-align: right;\n",
       "    }\n",
       "</style>\n",
       "<table border=\"1\" class=\"dataframe\">\n",
       "  <thead>\n",
       "    <tr style=\"text-align: right;\">\n",
       "      <th></th>\n",
       "      <th>age</th>\n",
       "      <th>education-num</th>\n",
       "      <th>capital-gain</th>\n",
       "      <th>capital-loss</th>\n",
       "      <th>hours-per-week</th>\n",
       "    </tr>\n",
       "  </thead>\n",
       "  <tbody>\n",
       "    <tr>\n",
       "      <th>0</th>\n",
       "      <td>25</td>\n",
       "      <td>7</td>\n",
       "      <td>0</td>\n",
       "      <td>0</td>\n",
       "      <td>40</td>\n",
       "    </tr>\n",
       "    <tr>\n",
       "      <th>1</th>\n",
       "      <td>38</td>\n",
       "      <td>9</td>\n",
       "      <td>0</td>\n",
       "      <td>0</td>\n",
       "      <td>50</td>\n",
       "    </tr>\n",
       "    <tr>\n",
       "      <th>2</th>\n",
       "      <td>28</td>\n",
       "      <td>12</td>\n",
       "      <td>0</td>\n",
       "      <td>0</td>\n",
       "      <td>40</td>\n",
       "    </tr>\n",
       "    <tr>\n",
       "      <th>3</th>\n",
       "      <td>44</td>\n",
       "      <td>10</td>\n",
       "      <td>7688</td>\n",
       "      <td>0</td>\n",
       "      <td>40</td>\n",
       "    </tr>\n",
       "    <tr>\n",
       "      <th>4</th>\n",
       "      <td>18</td>\n",
       "      <td>10</td>\n",
       "      <td>0</td>\n",
       "      <td>0</td>\n",
       "      <td>30</td>\n",
       "    </tr>\n",
       "  </tbody>\n",
       "</table>\n",
       "</div>"
      ],
      "text/plain": [
       "   age  education-num  capital-gain  capital-loss  hours-per-week\n",
       "0   25              7             0             0              40\n",
       "1   38              9             0             0              50\n",
       "2   28             12             0             0              40\n",
       "3   44             10          7688             0              40\n",
       "4   18             10             0             0              30"
      ]
     },
     "execution_count": 24,
     "metadata": {},
     "output_type": "execute_result"
    }
   ],
   "source": [
    "f.head()"
   ]
  },
  {
   "cell_type": "markdown",
   "id": "ad799973-7438-45f7-b41b-9aedea313403",
   "metadata": {
    "slideshow": {
     "slide_type": "slide"
    },
    "tags": []
   },
   "source": [
    "Now, imagine we want to build a model on the Ames data instead, using the \"Sale_Price\" column as our target..."
   ]
  },
  {
   "cell_type": "code",
   "execution_count": 25,
   "id": "9c0bd0af-8eeb-45fd-aa7f-bbfce9788841",
   "metadata": {},
   "outputs": [],
   "source": [
    "ames_features, ames_target = get_features_and_target(\n",
    "    csv_file='../data/ames.csv',\n",
    "    target_col='Sale_Price',\n",
    ")"
   ]
  },
  {
   "cell_type": "code",
   "execution_count": 26,
   "id": "a7211f46-69f9-4de2-831a-0e8c900e359d",
   "metadata": {
    "slideshow": {
     "slide_type": "fragment"
    },
    "tags": []
   },
   "outputs": [
    {
     "data": {
      "text/html": [
       "<div>\n",
       "<style scoped>\n",
       "    .dataframe tbody tr th:only-of-type {\n",
       "        vertical-align: middle;\n",
       "    }\n",
       "\n",
       "    .dataframe tbody tr th {\n",
       "        vertical-align: top;\n",
       "    }\n",
       "\n",
       "    .dataframe thead th {\n",
       "        text-align: right;\n",
       "    }\n",
       "</style>\n",
       "<table border=\"1\" class=\"dataframe\">\n",
       "  <thead>\n",
       "    <tr style=\"text-align: right;\">\n",
       "      <th></th>\n",
       "      <th>Lot_Frontage</th>\n",
       "      <th>Lot_Area</th>\n",
       "      <th>Year_Built</th>\n",
       "      <th>Year_Remod_Add</th>\n",
       "      <th>Mas_Vnr_Area</th>\n",
       "      <th>BsmtFin_SF_1</th>\n",
       "      <th>BsmtFin_SF_2</th>\n",
       "      <th>Bsmt_Unf_SF</th>\n",
       "      <th>Total_Bsmt_SF</th>\n",
       "      <th>First_Flr_SF</th>\n",
       "      <th>...</th>\n",
       "      <th>Open_Porch_SF</th>\n",
       "      <th>Enclosed_Porch</th>\n",
       "      <th>Three_season_porch</th>\n",
       "      <th>Screen_Porch</th>\n",
       "      <th>Pool_Area</th>\n",
       "      <th>Misc_Val</th>\n",
       "      <th>Mo_Sold</th>\n",
       "      <th>Year_Sold</th>\n",
       "      <th>Longitude</th>\n",
       "      <th>Latitude</th>\n",
       "    </tr>\n",
       "  </thead>\n",
       "  <tbody>\n",
       "    <tr>\n",
       "      <th>0</th>\n",
       "      <td>141</td>\n",
       "      <td>31770</td>\n",
       "      <td>1960</td>\n",
       "      <td>1960</td>\n",
       "      <td>112</td>\n",
       "      <td>2</td>\n",
       "      <td>0</td>\n",
       "      <td>441</td>\n",
       "      <td>1080</td>\n",
       "      <td>1656</td>\n",
       "      <td>...</td>\n",
       "      <td>62</td>\n",
       "      <td>0</td>\n",
       "      <td>0</td>\n",
       "      <td>0</td>\n",
       "      <td>0</td>\n",
       "      <td>0</td>\n",
       "      <td>5</td>\n",
       "      <td>2010</td>\n",
       "      <td>-93.619754</td>\n",
       "      <td>42.054035</td>\n",
       "    </tr>\n",
       "    <tr>\n",
       "      <th>1</th>\n",
       "      <td>80</td>\n",
       "      <td>11622</td>\n",
       "      <td>1961</td>\n",
       "      <td>1961</td>\n",
       "      <td>0</td>\n",
       "      <td>6</td>\n",
       "      <td>144</td>\n",
       "      <td>270</td>\n",
       "      <td>882</td>\n",
       "      <td>896</td>\n",
       "      <td>...</td>\n",
       "      <td>0</td>\n",
       "      <td>0</td>\n",
       "      <td>0</td>\n",
       "      <td>120</td>\n",
       "      <td>0</td>\n",
       "      <td>0</td>\n",
       "      <td>6</td>\n",
       "      <td>2010</td>\n",
       "      <td>-93.619756</td>\n",
       "      <td>42.053014</td>\n",
       "    </tr>\n",
       "    <tr>\n",
       "      <th>2</th>\n",
       "      <td>81</td>\n",
       "      <td>14267</td>\n",
       "      <td>1958</td>\n",
       "      <td>1958</td>\n",
       "      <td>108</td>\n",
       "      <td>1</td>\n",
       "      <td>0</td>\n",
       "      <td>406</td>\n",
       "      <td>1329</td>\n",
       "      <td>1329</td>\n",
       "      <td>...</td>\n",
       "      <td>36</td>\n",
       "      <td>0</td>\n",
       "      <td>0</td>\n",
       "      <td>0</td>\n",
       "      <td>0</td>\n",
       "      <td>12500</td>\n",
       "      <td>6</td>\n",
       "      <td>2010</td>\n",
       "      <td>-93.619387</td>\n",
       "      <td>42.052659</td>\n",
       "    </tr>\n",
       "    <tr>\n",
       "      <th>3</th>\n",
       "      <td>93</td>\n",
       "      <td>11160</td>\n",
       "      <td>1968</td>\n",
       "      <td>1968</td>\n",
       "      <td>0</td>\n",
       "      <td>1</td>\n",
       "      <td>0</td>\n",
       "      <td>1045</td>\n",
       "      <td>2110</td>\n",
       "      <td>2110</td>\n",
       "      <td>...</td>\n",
       "      <td>0</td>\n",
       "      <td>0</td>\n",
       "      <td>0</td>\n",
       "      <td>0</td>\n",
       "      <td>0</td>\n",
       "      <td>0</td>\n",
       "      <td>4</td>\n",
       "      <td>2010</td>\n",
       "      <td>-93.617320</td>\n",
       "      <td>42.051245</td>\n",
       "    </tr>\n",
       "    <tr>\n",
       "      <th>4</th>\n",
       "      <td>74</td>\n",
       "      <td>13830</td>\n",
       "      <td>1997</td>\n",
       "      <td>1998</td>\n",
       "      <td>0</td>\n",
       "      <td>3</td>\n",
       "      <td>0</td>\n",
       "      <td>137</td>\n",
       "      <td>928</td>\n",
       "      <td>928</td>\n",
       "      <td>...</td>\n",
       "      <td>34</td>\n",
       "      <td>0</td>\n",
       "      <td>0</td>\n",
       "      <td>0</td>\n",
       "      <td>0</td>\n",
       "      <td>0</td>\n",
       "      <td>3</td>\n",
       "      <td>2010</td>\n",
       "      <td>-93.638933</td>\n",
       "      <td>42.060899</td>\n",
       "    </tr>\n",
       "  </tbody>\n",
       "</table>\n",
       "<p>5 rows × 34 columns</p>\n",
       "</div>"
      ],
      "text/plain": [
       "   Lot_Frontage  Lot_Area  Year_Built  Year_Remod_Add  Mas_Vnr_Area  \\\n",
       "0           141     31770        1960            1960           112   \n",
       "1            80     11622        1961            1961             0   \n",
       "2            81     14267        1958            1958           108   \n",
       "3            93     11160        1968            1968             0   \n",
       "4            74     13830        1997            1998             0   \n",
       "\n",
       "   BsmtFin_SF_1  BsmtFin_SF_2  Bsmt_Unf_SF  Total_Bsmt_SF  First_Flr_SF  ...  \\\n",
       "0             2             0          441           1080          1656  ...   \n",
       "1             6           144          270            882           896  ...   \n",
       "2             1             0          406           1329          1329  ...   \n",
       "3             1             0         1045           2110          2110  ...   \n",
       "4             3             0          137            928           928  ...   \n",
       "\n",
       "   Open_Porch_SF  Enclosed_Porch  Three_season_porch  Screen_Porch  Pool_Area  \\\n",
       "0             62               0                   0             0          0   \n",
       "1              0               0                   0           120          0   \n",
       "2             36               0                   0             0          0   \n",
       "3              0               0                   0             0          0   \n",
       "4             34               0                   0             0          0   \n",
       "\n",
       "   Misc_Val  Mo_Sold  Year_Sold  Longitude   Latitude  \n",
       "0         0        5       2010 -93.619754  42.054035  \n",
       "1         0        6       2010 -93.619756  42.053014  \n",
       "2     12500        6       2010 -93.619387  42.052659  \n",
       "3         0        4       2010 -93.617320  42.051245  \n",
       "4         0        3       2010 -93.638933  42.060899  \n",
       "\n",
       "[5 rows x 34 columns]"
      ]
     },
     "execution_count": 26,
     "metadata": {},
     "output_type": "execute_result"
    }
   ],
   "source": [
    "ames_features.head()"
   ]
  },
  {
   "cell_type": "markdown",
   "id": "33481d5d-92fa-4b3e-a8b4-2f075847cd52",
   "metadata": {
    "slideshow": {
     "slide_type": "slide"
    },
    "tags": []
   },
   "source": [
    "We've successfully **abstracted** some of our code logic, moving it to a separate function that we can use without having to think too much about how it works.\n",
    "\n",
    "This is the foundation of building larger projects in Python."
   ]
  },
  {
   "cell_type": "code",
   "execution_count": null,
   "id": "063d9c47-b588-4bd2-9311-cd77f382aff2",
   "metadata": {},
   "outputs": [],
   "source": []
  }
 ],
 "metadata": {
  "kernelspec": {
   "display_name": "uc-python",
   "language": "python",
   "name": "uc-python"
  },
  "language_info": {
   "codemirror_mode": {
    "name": "ipython",
    "version": 3
   },
   "file_extension": ".py",
   "mimetype": "text/x-python",
   "name": "python",
   "nbconvert_exporter": "python",
   "pygments_lexer": "ipython3",
   "version": "3.9.7"
  }
 },
 "nbformat": 4,
 "nbformat_minor": 5
}
