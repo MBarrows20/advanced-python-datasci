{
 "cells": [
  {
   "cell_type": "markdown",
   "id": "8508a2d2-e00b-40fd-a36e-5bb6a7246fc1",
   "metadata": {
    "slideshow": {
     "slide_type": "slide"
    },
    "tags": []
   },
   "source": [
    "# Modular Code\n",
    "\n",
    "![](images/legos.jpg)"
   ]
  },
  {
   "cell_type": "markdown",
   "id": "189cdd58-cf78-4d6c-84b9-bff84b233919",
   "metadata": {
    "slideshow": {
     "slide_type": "slide"
    },
    "tags": []
   },
   "source": [
    "# What's Modularity?\n",
    "\n",
    "- Building our code in discrete, clearly separated chunks\n",
    "- So we can...\n",
    "  - **Modify one piece** without breaking the others\n",
    "  - **Combine pieces** in different ways, as we need them"
   ]
  },
  {
   "cell_type": "markdown",
   "id": "63602da2-d767-47b3-873c-8b5e2d398a63",
   "metadata": {
    "slideshow": {
     "slide_type": "fragment"
    },
    "tags": []
   },
   "source": [
    "Often, modularity implies breaking our code down into different **functions** which live in different **modules**."
   ]
  },
  {
   "cell_type": "markdown",
   "id": "375fcb2a-12f6-47da-a01a-f75c8abcafab",
   "metadata": {
    "tags": []
   },
   "source": [
    "<div class=\"admonition note alert alert-info\">\n",
    "<p class=\"first admonition-title\" style=\"font-weight: bold;\"><b>Note</b></p>\n",
    "    <p class=\"last\">Generally, a <em>module</em> in Python is just a file that ends in <code>.py</code></p>\n",
    "</div>"
   ]
  },
  {
   "cell_type": "code",
   "execution_count": null,
   "id": "78d29b34-4e9f-429d-8cb2-4f6563490e30",
   "metadata": {},
   "outputs": [],
   "source": []
  }
 ],
 "metadata": {
  "kernelspec": {
   "display_name": "uc-python",
   "language": "python",
   "name": "uc-python"
  },
  "language_info": {
   "codemirror_mode": {
    "name": "ipython",
    "version": 3
   },
   "file_extension": ".py",
   "mimetype": "text/x-python",
   "name": "python",
   "nbconvert_exporter": "python",
   "pygments_lexer": "ipython3",
   "version": "3.9.7"
  }
 },
 "nbformat": 4,
 "nbformat_minor": 5
}
