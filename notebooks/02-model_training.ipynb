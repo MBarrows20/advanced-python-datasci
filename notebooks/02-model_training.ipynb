{
 "cells": [
  {
   "cell_type": "markdown",
   "metadata": {
    "slideshow": {
     "slide_type": "slide"
    }
   },
   "source": [
    "# Modeling with `scikit-learn`\n",
    "<br>\n",
    "<center>\n",
    "<img src=\"https://raw.githubusercontent.com/uc-r/Advanced-R/f1001a5b40b5e3803e4cd01a40c7129fee3afb39/docs/images/process-icon.svg\" alt=\"fortune-teller.gif\" width=\"300\" height=\"300\">\n",
    "</center>"
   ]
  },
  {
   "cell_type": "markdown",
   "metadata": {
    "slideshow": {
     "slide_type": "slide"
    }
   },
   "source": [
    "# What is Machine Learning?"
   ]
  },
  {
   "source": [
    "## Pattern recognition\n",
    "\n",
    "Patterns in shopping behavior:\n",
    "\n",
    "<img src=\"images/patterns.png\" alt=\"amazon\" height=\"300\">\n",
    "\n",
    "Patterns in visual queues:\n",
    "\n",
    "<img src=\"images/pattern1.jpeg\" alt=\"street signs\" height=\"300\">\n",
    "\n",
    "Patterns in everyday prices:\n",
    "\n",
    "<img src=\"images/pattern2.jpeg\" alt=\"toilet paper\" height=\"300\">"
   ],
   "cell_type": "markdown",
   "metadata": {}
  },
  {
   "source": [
    "What is machine learning?\n",
    "\n",
    "<img src=\"images/what_is_ml.jpeg\" alt=\"What is machine learning\" height=\"300\">"
   ],
   "cell_type": "markdown",
   "metadata": {}
  },
  {
   "source": [
    "## Types of machine learning\n",
    "\n",
    "<img src=\"images/ml_types.png\" alt=\"Types of machine learning\" height=\"300\">\n",
    "<br>\n",
    "<img src=\"images/ml_types2.jpeg\" alt=\"Categories of machine learning\" height=\"300\">"
   ],
   "cell_type": "markdown",
   "metadata": {}
  },
  {
   "source": [
    "# Supervised learning modeling process\n",
    "\n",
    "\n",
    "<img src=\"images/machine_learning.png\" alt=\"machine learning\">"
   ],
   "cell_type": "markdown",
   "metadata": {
    "slideshow": {
     "slide_type": "slide"
    }
   }
  },
  {
   "cell_type": "markdown",
   "metadata": {
    "slideshow": {
     "slide_type": "slide"
    }
   },
   "source": [
    "## Modeling Process\n",
    "\n",
    "* The machine learning process is very iterative and heurstic-based\n",
    "\n",
    "* Common for many ML approaches to be applied, evaluated, and modified before a final, optimal model can be determined\n",
    "\n",
    "* A proper process needs to be implemented to have confidence in our results\n",
    "\n",
    "<img src=\"https://uc-r.github.io/Advanced-R/images/modeling_process.png\" alt=\"modeling-process\" height=\"300\">"
   ]
  },
  {
   "cell_type": "markdown",
   "metadata": {
    "slideshow": {
     "slide_type": "slide"
    }
   },
   "source": [
    "## Modeling Process\n",
    "\n",
    "This module provides an introduction to the modeling process and the concepts that are useful for any type of machine learning model:\n",
    "\n",
    "* data splitting\n",
    "\n",
    "* model application\n",
    "\n",
    "* resampling\n",
    "\n",
    "* hyperparameter tuning\n",
    "\n",
    "* model evaluation"
   ]
  },
  {
   "cell_type": "markdown",
   "metadata": {
    "slideshow": {
     "slide_type": "slide"
    }
   },
   "source": [
    "## Prerequisites - packages"
   ]
  },
  {
   "cell_type": "code",
   "execution_count": 2,
   "metadata": {
    "slideshow": {
     "slide_type": "-"
    }
   },
   "outputs": [],
   "source": [
    "# Helper packages\n",
    "import math\n",
    "import numpy as np\n",
    "import pandas as pd\n",
    "from plotnine import ggplot, aes, geom_density, geom_line, geom_point, ggtitle\n",
    "import seaborn as sns\n",
    "\n",
    "# Modeling process\n",
    "from sklearn.model_selection import train_test_split, KFold, RepeatedKFold, cross_val_score\n",
    "from sklearn.model_selection import GridSearchCV\n",
    "from sklearn.metrics import mean_squared_error"
   ]
  },
  {
   "cell_type": "markdown",
   "metadata": {
    "slideshow": {
     "slide_type": "slide"
    }
   },
   "source": [
    "## Prerequisites - Ames housing data\n",
    "\n",
    "- __problem type__: supervised regression\n",
    "- __response variable__: `Sale_Price` (i.e., \\\\$195,000, \\\\$215,000)\n",
    "- __features__: 80 \n",
    "- __observations__: 2,930\n",
    "- __objective__: use property attributes to predict the sale price of a home"
   ]
  },
  {
   "cell_type": "code",
   "execution_count": 3,
   "metadata": {},
   "outputs": [],
   "source": [
    "# Ames housing data\n",
    "ames = pd.read_csv(\"../data/ames.csv\")"
   ]
  },
  {
   "cell_type": "code",
   "execution_count": 4,
   "metadata": {
    "scrolled": true
   },
   "outputs": [
    {
     "output_type": "execute_result",
     "data": {
      "text/plain": [
       "                           MS_SubClass                 MS_Zoning  \\\n",
       "0  One_Story_1946_and_Newer_All_Styles   Residential_Low_Density   \n",
       "1  One_Story_1946_and_Newer_All_Styles  Residential_High_Density   \n",
       "2  One_Story_1946_and_Newer_All_Styles   Residential_Low_Density   \n",
       "3  One_Story_1946_and_Newer_All_Styles   Residential_Low_Density   \n",
       "4             Two_Story_1946_and_Newer   Residential_Low_Density   \n",
       "\n",
       "   Lot_Frontage  Lot_Area Street            Alley           Lot_Shape  \\\n",
       "0           141     31770   Pave  No_Alley_Access  Slightly_Irregular   \n",
       "1            80     11622   Pave  No_Alley_Access             Regular   \n",
       "2            81     14267   Pave  No_Alley_Access  Slightly_Irregular   \n",
       "3            93     11160   Pave  No_Alley_Access             Regular   \n",
       "4            74     13830   Pave  No_Alley_Access  Slightly_Irregular   \n",
       "\n",
       "  Land_Contour Utilities Lot_Config  ...            Fence Misc_Feature  \\\n",
       "0          Lvl    AllPub     Corner  ...         No_Fence         None   \n",
       "1          Lvl    AllPub     Inside  ...  Minimum_Privacy         None   \n",
       "2          Lvl    AllPub     Corner  ...         No_Fence         Gar2   \n",
       "3          Lvl    AllPub     Corner  ...         No_Fence         None   \n",
       "4          Lvl    AllPub     Inside  ...  Minimum_Privacy         None   \n",
       "\n",
       "  Misc_Val Mo_Sold Year_Sold Sale_Type Sale_Condition Sale_Price  Longitude  \\\n",
       "0        0       5      2010       WD          Normal     215000 -93.619754   \n",
       "1        0       6      2010       WD          Normal     105000 -93.619756   \n",
       "2    12500       6      2010       WD          Normal     172000 -93.619387   \n",
       "3        0       4      2010       WD          Normal     244000 -93.617320   \n",
       "4        0       3      2010       WD          Normal     189900 -93.638933   \n",
       "\n",
       "    Latitude  \n",
       "0  42.054035  \n",
       "1  42.053014  \n",
       "2  42.052659  \n",
       "3  42.051245  \n",
       "4  42.060899  \n",
       "\n",
       "[5 rows x 81 columns]"
      ],
      "text/html": "<div>\n<style scoped>\n    .dataframe tbody tr th:only-of-type {\n        vertical-align: middle;\n    }\n\n    .dataframe tbody tr th {\n        vertical-align: top;\n    }\n\n    .dataframe thead th {\n        text-align: right;\n    }\n</style>\n<table border=\"1\" class=\"dataframe\">\n  <thead>\n    <tr style=\"text-align: right;\">\n      <th></th>\n      <th>MS_SubClass</th>\n      <th>MS_Zoning</th>\n      <th>Lot_Frontage</th>\n      <th>Lot_Area</th>\n      <th>Street</th>\n      <th>Alley</th>\n      <th>Lot_Shape</th>\n      <th>Land_Contour</th>\n      <th>Utilities</th>\n      <th>Lot_Config</th>\n      <th>...</th>\n      <th>Fence</th>\n      <th>Misc_Feature</th>\n      <th>Misc_Val</th>\n      <th>Mo_Sold</th>\n      <th>Year_Sold</th>\n      <th>Sale_Type</th>\n      <th>Sale_Condition</th>\n      <th>Sale_Price</th>\n      <th>Longitude</th>\n      <th>Latitude</th>\n    </tr>\n  </thead>\n  <tbody>\n    <tr>\n      <th>0</th>\n      <td>One_Story_1946_and_Newer_All_Styles</td>\n      <td>Residential_Low_Density</td>\n      <td>141</td>\n      <td>31770</td>\n      <td>Pave</td>\n      <td>No_Alley_Access</td>\n      <td>Slightly_Irregular</td>\n      <td>Lvl</td>\n      <td>AllPub</td>\n      <td>Corner</td>\n      <td>...</td>\n      <td>No_Fence</td>\n      <td>None</td>\n      <td>0</td>\n      <td>5</td>\n      <td>2010</td>\n      <td>WD</td>\n      <td>Normal</td>\n      <td>215000</td>\n      <td>-93.619754</td>\n      <td>42.054035</td>\n    </tr>\n    <tr>\n      <th>1</th>\n      <td>One_Story_1946_and_Newer_All_Styles</td>\n      <td>Residential_High_Density</td>\n      <td>80</td>\n      <td>11622</td>\n      <td>Pave</td>\n      <td>No_Alley_Access</td>\n      <td>Regular</td>\n      <td>Lvl</td>\n      <td>AllPub</td>\n      <td>Inside</td>\n      <td>...</td>\n      <td>Minimum_Privacy</td>\n      <td>None</td>\n      <td>0</td>\n      <td>6</td>\n      <td>2010</td>\n      <td>WD</td>\n      <td>Normal</td>\n      <td>105000</td>\n      <td>-93.619756</td>\n      <td>42.053014</td>\n    </tr>\n    <tr>\n      <th>2</th>\n      <td>One_Story_1946_and_Newer_All_Styles</td>\n      <td>Residential_Low_Density</td>\n      <td>81</td>\n      <td>14267</td>\n      <td>Pave</td>\n      <td>No_Alley_Access</td>\n      <td>Slightly_Irregular</td>\n      <td>Lvl</td>\n      <td>AllPub</td>\n      <td>Corner</td>\n      <td>...</td>\n      <td>No_Fence</td>\n      <td>Gar2</td>\n      <td>12500</td>\n      <td>6</td>\n      <td>2010</td>\n      <td>WD</td>\n      <td>Normal</td>\n      <td>172000</td>\n      <td>-93.619387</td>\n      <td>42.052659</td>\n    </tr>\n    <tr>\n      <th>3</th>\n      <td>One_Story_1946_and_Newer_All_Styles</td>\n      <td>Residential_Low_Density</td>\n      <td>93</td>\n      <td>11160</td>\n      <td>Pave</td>\n      <td>No_Alley_Access</td>\n      <td>Regular</td>\n      <td>Lvl</td>\n      <td>AllPub</td>\n      <td>Corner</td>\n      <td>...</td>\n      <td>No_Fence</td>\n      <td>None</td>\n      <td>0</td>\n      <td>4</td>\n      <td>2010</td>\n      <td>WD</td>\n      <td>Normal</td>\n      <td>244000</td>\n      <td>-93.617320</td>\n      <td>42.051245</td>\n    </tr>\n    <tr>\n      <th>4</th>\n      <td>Two_Story_1946_and_Newer</td>\n      <td>Residential_Low_Density</td>\n      <td>74</td>\n      <td>13830</td>\n      <td>Pave</td>\n      <td>No_Alley_Access</td>\n      <td>Slightly_Irregular</td>\n      <td>Lvl</td>\n      <td>AllPub</td>\n      <td>Inside</td>\n      <td>...</td>\n      <td>Minimum_Privacy</td>\n      <td>None</td>\n      <td>0</td>\n      <td>3</td>\n      <td>2010</td>\n      <td>WD</td>\n      <td>Normal</td>\n      <td>189900</td>\n      <td>-93.638933</td>\n      <td>42.060899</td>\n    </tr>\n  </tbody>\n</table>\n<p>5 rows × 81 columns</p>\n</div>"
     },
     "metadata": {},
     "execution_count": 4
    }
   ],
   "source": [
    "ames.head()"
   ]
  },
  {
   "cell_type": "code",
   "execution_count": null,
   "metadata": {},
   "outputs": [],
   "source": [
    "ames.head()"
   ]
  },
  {
   "cell_type": "markdown",
   "metadata": {
    "slideshow": {
     "slide_type": "slide"
    }
   },
   "source": [
    "# <font color=\"red\">Your Turn</font>\n",
    "\n",
    "Take 5 minutes to explore the housing data\n",
    "\n",
    "- What does the distribution of the response variable (`Sale_Price`) look like?\n",
    "\n",
    "- How could the different features be helpful in predicting the sales price?"
   ]
  },
  {
   "cell_type": "code",
   "execution_count": 5,
   "metadata": {
    "slideshow": {
     "slide_type": "slide"
    }
   },
   "outputs": [
    {
     "data": {
      "text/plain": [
       "count      2930.000000\n",
       "mean     180796.060068\n",
       "std       79886.692357\n",
       "min       12789.000000\n",
       "25%      129500.000000\n",
       "50%      160000.000000\n",
       "75%      213500.000000\n",
       "max      755000.000000\n",
       "Name: Sale_Price, dtype: float64"
      ]
     },
     "execution_count": 5,
     "metadata": {},
     "output_type": "execute_result"
    }
   ],
   "source": [
    "ames['Sale_Price'].describe()"
   ]
  },
  {
   "cell_type": "code",
   "execution_count": 6,
   "metadata": {
    "scrolled": true
   },
   "outputs": [
    {
     "data": {
      "text/plain": [
       "<AxesSubplot:>"
      ]
     },
     "execution_count": 6,
     "metadata": {},
     "output_type": "execute_result"
    },
    {
     "data": {
      "image/png": "[encoded data removed]",
      "text/plain": [
       "<Figure size 432x288 with 1 Axes>"
      ]
     },
     "metadata": {
      "needs_background": "light"
     },
     "output_type": "display_data"
    }
   ],
   "source": [
    "ames['Sale_Price'].hist()"
   ]
  },
  {
   "cell_type": "markdown",
   "metadata": {
    "slideshow": {
     "slide_type": "slide"
    }
   },
   "source": [
    "# Data Splitting"
   ]
  },
  {
   "cell_type": "markdown",
   "metadata": {
    "slideshow": {
     "slide_type": "slide"
    }
   },
   "source": [
    "## Generalizability\n",
    "\n",
    "__Generalizability__: we want an algorithm that not only fits well to our past data, but more importantly, one that <font color=\"blue\">predicts a future outcome accurately</font>."
   ]
  },
  {
   "cell_type": "markdown",
   "metadata": {
    "slideshow": {
     "slide_type": "fragment"
    }
   },
   "source": [
    "* __Training Set__: these data are used to develop feature sets, train our algorithms, tune hyper-parameters, compare across models, and all of the other activities required to reach a final model decision.\n",
    "\n",
    "* __Test Set__: having chosen a final model, these data are used to estimate an unbiased assessment of the model’s performance (generalization error).\n",
    "\n",
    "<img src=\"images/all-split-1.png\" alt=\"data splitting\" height=\"200\">"
   ]
  },
  {
   "cell_type": "markdown",
   "metadata": {
    "slideshow": {
     "slide_type": "slide"
    }
   },
   "source": [
    "## Mechanics of data splitting"
   ]
  },
  {
   "cell_type": "code",
   "execution_count": 6,
   "metadata": {},
   "outputs": [],
   "source": [
    "# create train/test split\n",
    "train, test = train_test_split(ames, train_size=0.7, random_state=123)"
   ]
  },
  {
   "cell_type": "code",
   "execution_count": 7,
   "metadata": {
    "slideshow": {
     "slide_type": "fragment"
    }
   },
   "outputs": [
    {
     "output_type": "execute_result",
     "data": {
      "text/plain": [
       "(2051, 81)"
      ]
     },
     "metadata": {},
     "execution_count": 7
    }
   ],
   "source": [
    "# dimensions of training data\n",
    "train.shape"
   ]
  },
  {
   "cell_type": "code",
   "execution_count": 8,
   "metadata": {
    "slideshow": {
     "slide_type": "fragment"
    }
   },
   "outputs": [
    {
     "output_type": "execute_result",
     "data": {
      "text/plain": [
       "(879, 81)"
      ]
     },
     "metadata": {},
     "execution_count": 8
    }
   ],
   "source": [
    "# dimensions of testing data\n",
    "test.shape"
   ]
  },
  {
   "cell_type": "markdown",
   "metadata": {
    "slideshow": {
     "slide_type": "slide"
    }
   },
   "source": [
    "## Visualizing response distribution\n",
    "\n",
    "Always good practice to ensure the distribution of our target variable is similar across the training and test sets"
   ]
  },
  {
   "cell_type": "code",
   "execution_count": 9,
   "metadata": {
    "slideshow": {
     "slide_type": "fragment"
    }
   },
   "outputs": [
    {
     "output_type": "display_data",
     "data": {
      "text/plain": "<Figure size 640x480 with 1 Axes>",
      "image/svg+xml": "<?xml version=\"1.0\" encoding=\"utf-8\" standalone=\"no\"?>\n<!DOCTYPE svg PUBLIC \"-//W3C//DTD SVG 1.1//EN\"\n  \"http://www.w3.org/Graphics/SVG/1.1/DTD/svg11.dtd\">\n<!-- Created with matplotlib (https://matplotlib.org/) -->\n<svg height=\"328.419558pt\" version=\"1.1\" viewBox=\"0 0 419.699312 328.419558\" width=\"419.699312pt\" xmlns=\"http://www.w3.org/2000/svg\" xmlns:xlink=\"http://www.w3.org/1999/xlink\">\n <metadata>\n  <rdf:RDF xmlns:cc=\"http://creativecommons.org/ns#\" xmlns:dc=\"http://purl.org/dc/elements/1.1/\" xmlns:rdf=\"http://www.w3.org/1999/02/22-rdf-syntax-ns#\">\n   <cc:Work>\n    <dc:type rdf:resource=\"http://purl.org/dc/dcmitype/StillImage\"/>\n    <dc:date>2021-05-10T13:02:06.709590</dc:date>\n    <dc:format>image/svg+xml</dc:format>\n    <dc:creator>\n     <cc:Agent>\n      <dc:title>Matplotlib v3.3.4, https://matplotlib.org/</dc:title>\n     </cc:Agent>\n    </dc:creator>\n   </cc:Work>\n  </rdf:RDF>\n </metadata>\n <defs>\n  <style type=\"text/css\">*{stroke-linecap:butt;stroke-linejoin:round;}</style>\n </defs>\n <g id=\"figure_1\">\n  <g id=\"patch_1\">\n   <path d=\"M 0 328.419558 \nL 419.699312 328.419558 \nL 419.699312 0 \nL 0 0 \nz\n\" style=\"fill:#ffffff;stroke:#ffffff;stroke-linejoin:miter;\"/>\n  </g>\n  <g id=\"axes_1\">\n   <g id=\"patch_2\">\n    <path d=\"M 55.379313 292.400933 \nL 412.499313 292.400933 \nL 412.499313 26.288933 \nL 55.379313 26.288933 \nz\n\" style=\"fill:#ebebeb;\"/>\n   </g>\n   <g id=\"matplotlib.axis_1\">\n    <g id=\"xtick_1\">\n     <g id=\"line2d_1\">\n      <path clip-path=\"url(#p45342a6491)\" d=\"M 66.017934 292.400933 \nL 66.017934 26.288933 \n\" style=\"fill:none;stroke:#ffffff;\"/>\n     </g>\n     <g id=\"line2d_2\">\n      <path d=\"M 66.017934 292.400933 \n\" style=\"fill:none;stroke:#333333;stroke-width:1.5;\"/>\n      <defs>\n       <path d=\"M 0 0 \nL 0 2.75 \n\" id=\"m322ea33e7f\" style=\"stroke:#000000;\"/>\n      </defs>\n      <g>\n       <use style=\"fill:#333333;stroke:#000000;\" x=\"66.017934\" xlink:href=\"#m322ea33e7f\" y=\"292.400933\"/>\n      </g>\n     </g>\n     <g id=\"text_1\">\n      <!-- 0 -->\n      <g style=\"fill:#4d4d4d;\" transform=\"translate(63.218434 304.037558)scale(0.088 -0.088)\">\n       <defs>\n        <path d=\"M 31.78125 66.40625 \nQ 24.171875 66.40625 20.328125 58.90625 \nQ 16.5 51.421875 16.5 36.375 \nQ 16.5 21.390625 20.328125 13.890625 \nQ 24.171875 6.390625 31.78125 6.390625 \nQ 39.453125 6.390625 43.28125 13.890625 \nQ 47.125 21.390625 47.125 36.375 \nQ 47.125 51.421875 43.28125 58.90625 \nQ 39.453125 66.40625 31.78125 66.40625 \nz\nM 31.78125 74.21875 \nQ 44.046875 74.21875 50.515625 64.515625 \nQ 56.984375 54.828125 56.984375 36.375 \nQ 56.984375 17.96875 50.515625 8.265625 \nQ 44.046875 -1.421875 31.78125 -1.421875 \nQ 19.53125 -1.421875 13.0625 8.265625 \nQ 6.59375 17.96875 6.59375 36.375 \nQ 6.59375 54.828125 13.0625 64.515625 \nQ 19.53125 74.21875 31.78125 74.21875 \nz\n\" id=\"DejaVuSans-48\"/>\n       </defs>\n       <use xlink:href=\"#DejaVuSans-48\"/>\n      </g>\n     </g>\n    </g>\n    <g id=\"xtick_2\">\n     <g id=\"line2d_3\">\n      <path clip-path=\"url(#p45342a6491)\" d=\"M 153.50102 292.400933 \nL 153.50102 26.288933 \n\" style=\"fill:none;stroke:#ffffff;\"/>\n     </g>\n     <g id=\"line2d_4\">\n      <path d=\"M 153.50102 292.400933 \n\" style=\"fill:none;stroke:#333333;stroke-width:1.5;\"/>\n      <g>\n       <use style=\"fill:#333333;stroke:#000000;\" x=\"153.50102\" xlink:href=\"#m322ea33e7f\" y=\"292.400933\"/>\n      </g>\n     </g>\n     <g id=\"text_2\">\n      <!-- 200000 -->\n      <g style=\"fill:#4d4d4d;\" transform=\"translate(136.70402 304.037558)scale(0.088 -0.088)\">\n       <defs>\n        <path d=\"M 19.1875 8.296875 \nL 53.609375 8.296875 \nL 53.609375 0 \nL 7.328125 0 \nL 7.328125 8.296875 \nQ 12.9375 14.109375 22.625 23.890625 \nQ 32.328125 33.6875 34.8125 36.53125 \nQ 39.546875 41.84375 41.421875 45.53125 \nQ 43.3125 49.21875 43.3125 52.78125 \nQ 43.3125 58.59375 39.234375 62.25 \nQ 35.15625 65.921875 28.609375 65.921875 \nQ 23.96875 65.921875 18.8125 64.3125 \nQ 13.671875 62.703125 7.8125 59.421875 \nL 7.8125 69.390625 \nQ 13.765625 71.78125 18.9375 73 \nQ 24.125 74.21875 28.421875 74.21875 \nQ 39.75 74.21875 46.484375 68.546875 \nQ 53.21875 62.890625 53.21875 53.421875 \nQ 53.21875 48.921875 51.53125 44.890625 \nQ 49.859375 40.875 45.40625 35.40625 \nQ 44.1875 33.984375 37.640625 27.21875 \nQ 31.109375 20.453125 19.1875 8.296875 \nz\n\" id=\"DejaVuSans-50\"/>\n       </defs>\n       <use xlink:href=\"#DejaVuSans-50\"/>\n       <use x=\"63.623047\" xlink:href=\"#DejaVuSans-48\"/>\n       <use x=\"127.246094\" xlink:href=\"#DejaVuSans-48\"/>\n       <use x=\"190.869141\" xlink:href=\"#DejaVuSans-48\"/>\n       <use x=\"254.492188\" xlink:href=\"#DejaVuSans-48\"/>\n       <use x=\"318.115234\" xlink:href=\"#DejaVuSans-48\"/>\n      </g>\n     </g>\n    </g>\n    <g id=\"xtick_3\">\n     <g id=\"line2d_5\">\n      <path clip-path=\"url(#p45342a6491)\" d=\"M 240.984107 292.400933 \nL 240.984107 26.288933 \n\" style=\"fill:none;stroke:#ffffff;\"/>\n     </g>\n     <g id=\"line2d_6\">\n      <path d=\"M 240.984107 292.400933 \n\" style=\"fill:none;stroke:#333333;stroke-width:1.5;\"/>\n      <g>\n       <use style=\"fill:#333333;stroke:#000000;\" x=\"240.984107\" xlink:href=\"#m322ea33e7f\" y=\"292.400933\"/>\n      </g>\n     </g>\n     <g id=\"text_3\">\n      <!-- 400000 -->\n      <g style=\"fill:#4d4d4d;\" transform=\"translate(224.187107 304.037558)scale(0.088 -0.088)\">\n       <defs>\n        <path d=\"M 37.796875 64.3125 \nL 12.890625 25.390625 \nL 37.796875 25.390625 \nz\nM 35.203125 72.90625 \nL 47.609375 72.90625 \nL 47.609375 25.390625 \nL 58.015625 25.390625 \nL 58.015625 17.1875 \nL 47.609375 17.1875 \nL 47.609375 0 \nL 37.796875 0 \nL 37.796875 17.1875 \nL 4.890625 17.1875 \nL 4.890625 26.703125 \nz\n\" id=\"DejaVuSans-52\"/>\n       </defs>\n       <use xlink:href=\"#DejaVuSans-52\"/>\n       <use x=\"63.623047\" xlink:href=\"#DejaVuSans-48\"/>\n       <use x=\"127.246094\" xlink:href=\"#DejaVuSans-48\"/>\n       <use x=\"190.869141\" xlink:href=\"#DejaVuSans-48\"/>\n       <use x=\"254.492188\" xlink:href=\"#DejaVuSans-48\"/>\n       <use x=\"318.115234\" xlink:href=\"#DejaVuSans-48\"/>\n      </g>\n     </g>\n    </g>\n    <g id=\"xtick_4\">\n     <g id=\"line2d_7\">\n      <path clip-path=\"url(#p45342a6491)\" d=\"M 328.467193 292.400933 \nL 328.467193 26.288933 \n\" style=\"fill:none;stroke:#ffffff;\"/>\n     </g>\n     <g id=\"line2d_8\">\n      <path d=\"M 328.467193 292.400933 \n\" style=\"fill:none;stroke:#333333;stroke-width:1.5;\"/>\n      <g>\n       <use style=\"fill:#333333;stroke:#000000;\" x=\"328.467193\" xlink:href=\"#m322ea33e7f\" y=\"292.400933\"/>\n      </g>\n     </g>\n     <g id=\"text_4\">\n      <!-- 600000 -->\n      <g style=\"fill:#4d4d4d;\" transform=\"translate(311.670193 304.037558)scale(0.088 -0.088)\">\n       <defs>\n        <path d=\"M 33.015625 40.375 \nQ 26.375 40.375 22.484375 35.828125 \nQ 18.609375 31.296875 18.609375 23.390625 \nQ 18.609375 15.53125 22.484375 10.953125 \nQ 26.375 6.390625 33.015625 6.390625 \nQ 39.65625 6.390625 43.53125 10.953125 \nQ 47.40625 15.53125 47.40625 23.390625 \nQ 47.40625 31.296875 43.53125 35.828125 \nQ 39.65625 40.375 33.015625 40.375 \nz\nM 52.59375 71.296875 \nL 52.59375 62.3125 \nQ 48.875 64.0625 45.09375 64.984375 \nQ 41.3125 65.921875 37.59375 65.921875 \nQ 27.828125 65.921875 22.671875 59.328125 \nQ 17.53125 52.734375 16.796875 39.40625 \nQ 19.671875 43.65625 24.015625 45.921875 \nQ 28.375 48.1875 33.59375 48.1875 \nQ 44.578125 48.1875 50.953125 41.515625 \nQ 57.328125 34.859375 57.328125 23.390625 \nQ 57.328125 12.15625 50.6875 5.359375 \nQ 44.046875 -1.421875 33.015625 -1.421875 \nQ 20.359375 -1.421875 13.671875 8.265625 \nQ 6.984375 17.96875 6.984375 36.375 \nQ 6.984375 53.65625 15.1875 63.9375 \nQ 23.390625 74.21875 37.203125 74.21875 \nQ 40.921875 74.21875 44.703125 73.484375 \nQ 48.484375 72.75 52.59375 71.296875 \nz\n\" id=\"DejaVuSans-54\"/>\n       </defs>\n       <use xlink:href=\"#DejaVuSans-54\"/>\n       <use x=\"63.623047\" xlink:href=\"#DejaVuSans-48\"/>\n       <use x=\"127.246094\" xlink:href=\"#DejaVuSans-48\"/>\n       <use x=\"190.869141\" xlink:href=\"#DejaVuSans-48\"/>\n       <use x=\"254.492188\" xlink:href=\"#DejaVuSans-48\"/>\n       <use x=\"318.115234\" xlink:href=\"#DejaVuSans-48\"/>\n      </g>\n     </g>\n    </g>\n    <g id=\"xtick_5\">\n     <g id=\"line2d_9\">\n      <path clip-path=\"url(#p45342a6491)\" d=\"M 109.759477 292.400933 \nL 109.759477 26.288933 \n\" style=\"fill:none;stroke:#ffffff;stroke-width:0.5;\"/>\n     </g>\n    </g>\n    <g id=\"xtick_6\">\n     <g id=\"line2d_10\">\n      <path clip-path=\"url(#p45342a6491)\" d=\"M 197.242564 292.400933 \nL 197.242564 26.288933 \n\" style=\"fill:none;stroke:#ffffff;stroke-width:0.5;\"/>\n     </g>\n    </g>\n    <g id=\"xtick_7\">\n     <g id=\"line2d_11\">\n      <path clip-path=\"url(#p45342a6491)\" d=\"M 284.72565 292.400933 \nL 284.72565 26.288933 \n\" style=\"fill:none;stroke:#ffffff;stroke-width:0.5;\"/>\n     </g>\n    </g>\n    <g id=\"xtick_8\">\n     <g id=\"line2d_12\">\n      <path clip-path=\"url(#p45342a6491)\" d=\"M 372.208736 292.400933 \nL 372.208736 26.288933 \n\" style=\"fill:none;stroke:#ffffff;stroke-width:0.5;\"/>\n     </g>\n    </g>\n    <g id=\"text_5\">\n     <!-- Sale_Price -->\n     <g transform=\"translate(200.237594 318.625964)scale(0.11 -0.11)\">\n      <defs>\n       <path d=\"M 53.515625 70.515625 \nL 53.515625 60.890625 \nQ 47.90625 63.578125 42.921875 64.890625 \nQ 37.9375 66.21875 33.296875 66.21875 \nQ 25.25 66.21875 20.875 63.09375 \nQ 16.5 59.96875 16.5 54.203125 \nQ 16.5 49.359375 19.40625 46.890625 \nQ 22.3125 44.4375 30.421875 42.921875 \nL 36.375 41.703125 \nQ 47.40625 39.59375 52.65625 34.296875 \nQ 57.90625 29 57.90625 20.125 \nQ 57.90625 9.515625 50.796875 4.046875 \nQ 43.703125 -1.421875 29.984375 -1.421875 \nQ 24.8125 -1.421875 18.96875 -0.25 \nQ 13.140625 0.921875 6.890625 3.21875 \nL 6.890625 13.375 \nQ 12.890625 10.015625 18.65625 8.296875 \nQ 24.421875 6.59375 29.984375 6.59375 \nQ 38.421875 6.59375 43.015625 9.90625 \nQ 47.609375 13.234375 47.609375 19.390625 \nQ 47.609375 24.75 44.3125 27.78125 \nQ 41.015625 30.8125 33.5 32.328125 \nL 27.484375 33.5 \nQ 16.453125 35.6875 11.515625 40.375 \nQ 6.59375 45.0625 6.59375 53.421875 \nQ 6.59375 63.09375 13.40625 68.65625 \nQ 20.21875 74.21875 32.171875 74.21875 \nQ 37.3125 74.21875 42.625 73.28125 \nQ 47.953125 72.359375 53.515625 70.515625 \nz\n\" id=\"DejaVuSans-83\"/>\n       <path d=\"M 34.28125 27.484375 \nQ 23.390625 27.484375 19.1875 25 \nQ 14.984375 22.515625 14.984375 16.5 \nQ 14.984375 11.71875 18.140625 8.90625 \nQ 21.296875 6.109375 26.703125 6.109375 \nQ 34.1875 6.109375 38.703125 11.40625 \nQ 43.21875 16.703125 43.21875 25.484375 \nL 43.21875 27.484375 \nz\nM 52.203125 31.203125 \nL 52.203125 0 \nL 43.21875 0 \nL 43.21875 8.296875 \nQ 40.140625 3.328125 35.546875 0.953125 \nQ 30.953125 -1.421875 24.3125 -1.421875 \nQ 15.921875 -1.421875 10.953125 3.296875 \nQ 6 8.015625 6 15.921875 \nQ 6 25.140625 12.171875 29.828125 \nQ 18.359375 34.515625 30.609375 34.515625 \nL 43.21875 34.515625 \nL 43.21875 35.40625 \nQ 43.21875 41.609375 39.140625 45 \nQ 35.0625 48.390625 27.6875 48.390625 \nQ 23 48.390625 18.546875 47.265625 \nQ 14.109375 46.140625 10.015625 43.890625 \nL 10.015625 52.203125 \nQ 14.9375 54.109375 19.578125 55.046875 \nQ 24.21875 56 28.609375 56 \nQ 40.484375 56 46.34375 49.84375 \nQ 52.203125 43.703125 52.203125 31.203125 \nz\n\" id=\"DejaVuSans-97\"/>\n       <path d=\"M 9.421875 75.984375 \nL 18.40625 75.984375 \nL 18.40625 0 \nL 9.421875 0 \nz\n\" id=\"DejaVuSans-108\"/>\n       <path d=\"M 56.203125 29.59375 \nL 56.203125 25.203125 \nL 14.890625 25.203125 \nQ 15.484375 15.921875 20.484375 11.0625 \nQ 25.484375 6.203125 34.421875 6.203125 \nQ 39.59375 6.203125 44.453125 7.46875 \nQ 49.3125 8.734375 54.109375 11.28125 \nL 54.109375 2.78125 \nQ 49.265625 0.734375 44.1875 -0.34375 \nQ 39.109375 -1.421875 33.890625 -1.421875 \nQ 20.796875 -1.421875 13.15625 6.1875 \nQ 5.515625 13.8125 5.515625 26.8125 \nQ 5.515625 40.234375 12.765625 48.109375 \nQ 20.015625 56 32.328125 56 \nQ 43.359375 56 49.78125 48.890625 \nQ 56.203125 41.796875 56.203125 29.59375 \nz\nM 47.21875 32.234375 \nQ 47.125 39.59375 43.09375 43.984375 \nQ 39.0625 48.390625 32.421875 48.390625 \nQ 24.90625 48.390625 20.390625 44.140625 \nQ 15.875 39.890625 15.1875 32.171875 \nz\n\" id=\"DejaVuSans-101\"/>\n       <path d=\"M 50.984375 -16.609375 \nL 50.984375 -23.578125 \nL -0.984375 -23.578125 \nL -0.984375 -16.609375 \nz\n\" id=\"DejaVuSans-95\"/>\n       <path d=\"M 19.671875 64.796875 \nL 19.671875 37.40625 \nL 32.078125 37.40625 \nQ 38.96875 37.40625 42.71875 40.96875 \nQ 46.484375 44.53125 46.484375 51.125 \nQ 46.484375 57.671875 42.71875 61.234375 \nQ 38.96875 64.796875 32.078125 64.796875 \nz\nM 9.8125 72.90625 \nL 32.078125 72.90625 \nQ 44.34375 72.90625 50.609375 67.359375 \nQ 56.890625 61.8125 56.890625 51.125 \nQ 56.890625 40.328125 50.609375 34.8125 \nQ 44.34375 29.296875 32.078125 29.296875 \nL 19.671875 29.296875 \nL 19.671875 0 \nL 9.8125 0 \nz\n\" id=\"DejaVuSans-80\"/>\n       <path d=\"M 41.109375 46.296875 \nQ 39.59375 47.171875 37.8125 47.578125 \nQ 36.03125 48 33.890625 48 \nQ 26.265625 48 22.1875 43.046875 \nQ 18.109375 38.09375 18.109375 28.8125 \nL 18.109375 0 \nL 9.078125 0 \nL 9.078125 54.6875 \nL 18.109375 54.6875 \nL 18.109375 46.1875 \nQ 20.953125 51.171875 25.484375 53.578125 \nQ 30.03125 56 36.53125 56 \nQ 37.453125 56 38.578125 55.875 \nQ 39.703125 55.765625 41.0625 55.515625 \nz\n\" id=\"DejaVuSans-114\"/>\n       <path d=\"M 9.421875 54.6875 \nL 18.40625 54.6875 \nL 18.40625 0 \nL 9.421875 0 \nz\nM 9.421875 75.984375 \nL 18.40625 75.984375 \nL 18.40625 64.59375 \nL 9.421875 64.59375 \nz\n\" id=\"DejaVuSans-105\"/>\n       <path d=\"M 48.78125 52.59375 \nL 48.78125 44.1875 \nQ 44.96875 46.296875 41.140625 47.34375 \nQ 37.3125 48.390625 33.40625 48.390625 \nQ 24.65625 48.390625 19.8125 42.84375 \nQ 14.984375 37.3125 14.984375 27.296875 \nQ 14.984375 17.28125 19.8125 11.734375 \nQ 24.65625 6.203125 33.40625 6.203125 \nQ 37.3125 6.203125 41.140625 7.25 \nQ 44.96875 8.296875 48.78125 10.40625 \nL 48.78125 2.09375 \nQ 45.015625 0.34375 40.984375 -0.53125 \nQ 36.96875 -1.421875 32.421875 -1.421875 \nQ 20.0625 -1.421875 12.78125 6.34375 \nQ 5.515625 14.109375 5.515625 27.296875 \nQ 5.515625 40.671875 12.859375 48.328125 \nQ 20.21875 56 33.015625 56 \nQ 37.15625 56 41.109375 55.140625 \nQ 45.0625 54.296875 48.78125 52.59375 \nz\n\" id=\"DejaVuSans-99\"/>\n      </defs>\n      <use xlink:href=\"#DejaVuSans-83\"/>\n      <use x=\"63.476562\" xlink:href=\"#DejaVuSans-97\"/>\n      <use x=\"124.755859\" xlink:href=\"#DejaVuSans-108\"/>\n      <use x=\"152.539062\" xlink:href=\"#DejaVuSans-101\"/>\n      <use x=\"214.0625\" xlink:href=\"#DejaVuSans-95\"/>\n      <use x=\"264.0625\" xlink:href=\"#DejaVuSans-80\"/>\n      <use x=\"322.615234\" xlink:href=\"#DejaVuSans-114\"/>\n      <use x=\"363.728516\" xlink:href=\"#DejaVuSans-105\"/>\n      <use x=\"391.511719\" xlink:href=\"#DejaVuSans-99\"/>\n      <use x=\"446.492188\" xlink:href=\"#DejaVuSans-101\"/>\n     </g>\n    </g>\n   </g>\n   <g id=\"matplotlib.axis_2\">\n    <g id=\"ytick_1\">\n     <g id=\"line2d_13\">\n      <path clip-path=\"url(#p45342a6491)\" d=\"M 55.379313 280.304933 \nL 412.499313 280.304933 \n\" style=\"fill:none;stroke:#ffffff;\"/>\n     </g>\n     <g id=\"line2d_14\">\n      <path d=\"M 55.379313 280.304933 \n\" style=\"fill:none;stroke:#333333;stroke-width:1.5;\"/>\n      <defs>\n       <path d=\"M 0 0 \nL -2.75 0 \n\" id=\"mdc6a89df5e\" style=\"stroke:#000000;\"/>\n      </defs>\n      <g>\n       <use style=\"fill:#333333;stroke:#000000;\" x=\"55.379313\" xlink:href=\"#mdc6a89df5e\" y=\"280.304933\"/>\n      </g>\n     </g>\n     <g id=\"text_6\">\n      <!-- 0 -->\n      <g style=\"fill:#4d4d4d;\" transform=\"translate(44.830313 282.733183)scale(0.088 -0.088)\">\n       <use xlink:href=\"#DejaVuSans-48\"/>\n      </g>\n     </g>\n    </g>\n    <g id=\"ytick_2\">\n     <g id=\"line2d_15\">\n      <path clip-path=\"url(#p45342a6491)\" d=\"M 55.379313 209.657992 \nL 412.499313 209.657992 \n\" style=\"fill:none;stroke:#ffffff;\"/>\n     </g>\n     <g id=\"line2d_16\">\n      <path d=\"M 55.379313 209.657992 \n\" style=\"fill:none;stroke:#333333;stroke-width:1.5;\"/>\n      <g>\n       <use style=\"fill:#333333;stroke:#000000;\" x=\"55.379313\" xlink:href=\"#mdc6a89df5e\" y=\"209.657992\"/>\n      </g>\n     </g>\n     <g id=\"text_7\">\n      <!-- 2.5e-6 -->\n      <g style=\"fill:#4d4d4d;\" transform=\"translate(22.245938 212.086242)scale(0.088 -0.088)\">\n       <defs>\n        <path d=\"M 10.6875 12.40625 \nL 21 12.40625 \nL 21 0 \nL 10.6875 0 \nz\n\" id=\"DejaVuSans-46\"/>\n        <path d=\"M 10.796875 72.90625 \nL 49.515625 72.90625 \nL 49.515625 64.59375 \nL 19.828125 64.59375 \nL 19.828125 46.734375 \nQ 21.96875 47.46875 24.109375 47.828125 \nQ 26.265625 48.1875 28.421875 48.1875 \nQ 40.625 48.1875 47.75 41.5 \nQ 54.890625 34.8125 54.890625 23.390625 \nQ 54.890625 11.625 47.5625 5.09375 \nQ 40.234375 -1.421875 26.90625 -1.421875 \nQ 22.3125 -1.421875 17.546875 -0.640625 \nQ 12.796875 0.140625 7.71875 1.703125 \nL 7.71875 11.625 \nQ 12.109375 9.234375 16.796875 8.0625 \nQ 21.484375 6.890625 26.703125 6.890625 \nQ 35.15625 6.890625 40.078125 11.328125 \nQ 45.015625 15.765625 45.015625 23.390625 \nQ 45.015625 31 40.078125 35.4375 \nQ 35.15625 39.890625 26.703125 39.890625 \nQ 22.75 39.890625 18.8125 39.015625 \nQ 14.890625 38.140625 10.796875 36.28125 \nz\n\" id=\"DejaVuSans-53\"/>\n        <path d=\"M 4.890625 31.390625 \nL 31.203125 31.390625 \nL 31.203125 23.390625 \nL 4.890625 23.390625 \nz\n\" id=\"DejaVuSans-45\"/>\n       </defs>\n       <use xlink:href=\"#DejaVuSans-50\"/>\n       <use x=\"63.623047\" xlink:href=\"#DejaVuSans-46\"/>\n       <use x=\"95.410156\" xlink:href=\"#DejaVuSans-53\"/>\n       <use x=\"159.033203\" xlink:href=\"#DejaVuSans-101\"/>\n       <use x=\"220.556641\" xlink:href=\"#DejaVuSans-45\"/>\n       <use x=\"256.640625\" xlink:href=\"#DejaVuSans-54\"/>\n      </g>\n     </g>\n    </g>\n    <g id=\"ytick_3\">\n     <g id=\"line2d_17\">\n      <path clip-path=\"url(#p45342a6491)\" d=\"M 55.379313 139.011051 \nL 412.499313 139.011051 \n\" style=\"fill:none;stroke:#ffffff;\"/>\n     </g>\n     <g id=\"line2d_18\">\n      <path d=\"M 55.379313 139.011051 \n\" style=\"fill:none;stroke:#333333;stroke-width:1.5;\"/>\n      <g>\n       <use style=\"fill:#333333;stroke:#000000;\" x=\"55.379313\" xlink:href=\"#mdc6a89df5e\" y=\"139.011051\"/>\n      </g>\n     </g>\n     <g id=\"text_8\">\n      <!-- 5e-6 -->\n      <g style=\"fill:#4d4d4d;\" transform=\"translate(30.641688 141.439301)scale(0.088 -0.088)\">\n       <use xlink:href=\"#DejaVuSans-53\"/>\n       <use x=\"63.623047\" xlink:href=\"#DejaVuSans-101\"/>\n       <use x=\"125.146484\" xlink:href=\"#DejaVuSans-45\"/>\n       <use x=\"161.230469\" xlink:href=\"#DejaVuSans-54\"/>\n      </g>\n     </g>\n    </g>\n    <g id=\"ytick_4\">\n     <g id=\"line2d_19\">\n      <path clip-path=\"url(#p45342a6491)\" d=\"M 55.379313 68.364109 \nL 412.499313 68.364109 \n\" style=\"fill:none;stroke:#ffffff;\"/>\n     </g>\n     <g id=\"line2d_20\">\n      <path d=\"M 55.379313 68.364109 \n\" style=\"fill:none;stroke:#333333;stroke-width:1.5;\"/>\n      <g>\n       <use style=\"fill:#333333;stroke:#000000;\" x=\"55.379313\" xlink:href=\"#mdc6a89df5e\" y=\"68.364109\"/>\n      </g>\n     </g>\n     <g id=\"text_9\">\n      <!-- 7.5e-6 -->\n      <g style=\"fill:#4d4d4d;\" transform=\"translate(22.245938 70.792359)scale(0.088 -0.088)\">\n       <defs>\n        <path d=\"M 8.203125 72.90625 \nL 55.078125 72.90625 \nL 55.078125 68.703125 \nL 28.609375 0 \nL 18.3125 0 \nL 43.21875 64.59375 \nL 8.203125 64.59375 \nz\n\" id=\"DejaVuSans-55\"/>\n       </defs>\n       <use xlink:href=\"#DejaVuSans-55\"/>\n       <use x=\"63.623047\" xlink:href=\"#DejaVuSans-46\"/>\n       <use x=\"95.410156\" xlink:href=\"#DejaVuSans-53\"/>\n       <use x=\"159.033203\" xlink:href=\"#DejaVuSans-101\"/>\n       <use x=\"220.556641\" xlink:href=\"#DejaVuSans-45\"/>\n       <use x=\"256.640625\" xlink:href=\"#DejaVuSans-54\"/>\n      </g>\n     </g>\n    </g>\n    <g id=\"ytick_5\">\n     <g id=\"line2d_21\">\n      <path clip-path=\"url(#p45342a6491)\" d=\"M 55.379313 244.981463 \nL 412.499313 244.981463 \n\" style=\"fill:none;stroke:#ffffff;stroke-width:0.5;\"/>\n     </g>\n    </g>\n    <g id=\"ytick_6\">\n     <g id=\"line2d_22\">\n      <path clip-path=\"url(#p45342a6491)\" d=\"M 55.379313 174.334521 \nL 412.499313 174.334521 \n\" style=\"fill:none;stroke:#ffffff;stroke-width:0.5;\"/>\n     </g>\n    </g>\n    <g id=\"ytick_7\">\n     <g id=\"line2d_23\">\n      <path clip-path=\"url(#p45342a6491)\" d=\"M 55.379313 103.68758 \nL 412.499313 103.68758 \n\" style=\"fill:none;stroke:#ffffff;stroke-width:0.5;\"/>\n     </g>\n    </g>\n    <g id=\"ytick_8\">\n     <g id=\"line2d_24\">\n      <path clip-path=\"url(#p45342a6491)\" d=\"M 55.379313 33.040638 \nL 412.499313 33.040638 \n\" style=\"fill:none;stroke:#ffffff;stroke-width:0.5;\"/>\n     </g>\n    </g>\n    <g id=\"text_10\">\n     <!-- density -->\n     <g transform=\"translate(15.558281 177.783027)rotate(-90)scale(0.11 -0.11)\">\n      <defs>\n       <path d=\"M 45.40625 46.390625 \nL 45.40625 75.984375 \nL 54.390625 75.984375 \nL 54.390625 0 \nL 45.40625 0 \nL 45.40625 8.203125 \nQ 42.578125 3.328125 38.25 0.953125 \nQ 33.9375 -1.421875 27.875 -1.421875 \nQ 17.96875 -1.421875 11.734375 6.484375 \nQ 5.515625 14.40625 5.515625 27.296875 \nQ 5.515625 40.1875 11.734375 48.09375 \nQ 17.96875 56 27.875 56 \nQ 33.9375 56 38.25 53.625 \nQ 42.578125 51.265625 45.40625 46.390625 \nz\nM 14.796875 27.296875 \nQ 14.796875 17.390625 18.875 11.75 \nQ 22.953125 6.109375 30.078125 6.109375 \nQ 37.203125 6.109375 41.296875 11.75 \nQ 45.40625 17.390625 45.40625 27.296875 \nQ 45.40625 37.203125 41.296875 42.84375 \nQ 37.203125 48.484375 30.078125 48.484375 \nQ 22.953125 48.484375 18.875 42.84375 \nQ 14.796875 37.203125 14.796875 27.296875 \nz\n\" id=\"DejaVuSans-100\"/>\n       <path d=\"M 54.890625 33.015625 \nL 54.890625 0 \nL 45.90625 0 \nL 45.90625 32.71875 \nQ 45.90625 40.484375 42.875 44.328125 \nQ 39.84375 48.1875 33.796875 48.1875 \nQ 26.515625 48.1875 22.3125 43.546875 \nQ 18.109375 38.921875 18.109375 30.90625 \nL 18.109375 0 \nL 9.078125 0 \nL 9.078125 54.6875 \nL 18.109375 54.6875 \nL 18.109375 46.1875 \nQ 21.34375 51.125 25.703125 53.5625 \nQ 30.078125 56 35.796875 56 \nQ 45.21875 56 50.046875 50.171875 \nQ 54.890625 44.34375 54.890625 33.015625 \nz\n\" id=\"DejaVuSans-110\"/>\n       <path d=\"M 44.28125 53.078125 \nL 44.28125 44.578125 \nQ 40.484375 46.53125 36.375 47.5 \nQ 32.28125 48.484375 27.875 48.484375 \nQ 21.1875 48.484375 17.84375 46.4375 \nQ 14.5 44.390625 14.5 40.28125 \nQ 14.5 37.15625 16.890625 35.375 \nQ 19.28125 33.59375 26.515625 31.984375 \nL 29.59375 31.296875 \nQ 39.15625 29.25 43.1875 25.515625 \nQ 47.21875 21.78125 47.21875 15.09375 \nQ 47.21875 7.46875 41.1875 3.015625 \nQ 35.15625 -1.421875 24.609375 -1.421875 \nQ 20.21875 -1.421875 15.453125 -0.5625 \nQ 10.6875 0.296875 5.421875 2 \nL 5.421875 11.28125 \nQ 10.40625 8.6875 15.234375 7.390625 \nQ 20.0625 6.109375 24.8125 6.109375 \nQ 31.15625 6.109375 34.5625 8.28125 \nQ 37.984375 10.453125 37.984375 14.40625 \nQ 37.984375 18.0625 35.515625 20.015625 \nQ 33.0625 21.96875 24.703125 23.78125 \nL 21.578125 24.515625 \nQ 13.234375 26.265625 9.515625 29.90625 \nQ 5.8125 33.546875 5.8125 39.890625 \nQ 5.8125 47.609375 11.28125 51.796875 \nQ 16.75 56 26.8125 56 \nQ 31.78125 56 36.171875 55.265625 \nQ 40.578125 54.546875 44.28125 53.078125 \nz\n\" id=\"DejaVuSans-115\"/>\n       <path d=\"M 18.3125 70.21875 \nL 18.3125 54.6875 \nL 36.8125 54.6875 \nL 36.8125 47.703125 \nL 18.3125 47.703125 \nL 18.3125 18.015625 \nQ 18.3125 11.328125 20.140625 9.421875 \nQ 21.96875 7.515625 27.59375 7.515625 \nL 36.8125 7.515625 \nL 36.8125 0 \nL 27.59375 0 \nQ 17.1875 0 13.234375 3.875 \nQ 9.28125 7.765625 9.28125 18.015625 \nL 9.28125 47.703125 \nL 2.6875 47.703125 \nL 2.6875 54.6875 \nL 9.28125 54.6875 \nL 9.28125 70.21875 \nz\n\" id=\"DejaVuSans-116\"/>\n       <path d=\"M 32.171875 -5.078125 \nQ 28.375 -14.84375 24.75 -17.8125 \nQ 21.140625 -20.796875 15.09375 -20.796875 \nL 7.90625 -20.796875 \nL 7.90625 -13.28125 \nL 13.1875 -13.28125 \nQ 16.890625 -13.28125 18.9375 -11.515625 \nQ 21 -9.765625 23.484375 -3.21875 \nL 25.09375 0.875 \nL 2.984375 54.6875 \nL 12.5 54.6875 \nL 29.59375 11.921875 \nL 46.6875 54.6875 \nL 56.203125 54.6875 \nz\n\" id=\"DejaVuSans-121\"/>\n      </defs>\n      <use xlink:href=\"#DejaVuSans-100\"/>\n      <use x=\"63.476562\" xlink:href=\"#DejaVuSans-101\"/>\n      <use x=\"125\" xlink:href=\"#DejaVuSans-110\"/>\n      <use x=\"188.378906\" xlink:href=\"#DejaVuSans-115\"/>\n      <use x=\"240.478516\" xlink:href=\"#DejaVuSans-105\"/>\n      <use x=\"268.261719\" xlink:href=\"#DejaVuSans-116\"/>\n      <use x=\"307.470703\" xlink:href=\"#DejaVuSans-121\"/>\n     </g>\n    </g>\n   </g>\n   <g id=\"PolyCollection_1\">\n    <path clip-path=\"url(#p45342a6491)\" d=\"M 71.61204 279.093212 \nL 71.61204 280.304933 \nL 71.929395 280.304933 \nL 72.246751 280.304933 \nL 72.564106 280.304933 \nL 72.881461 280.304933 \nL 73.198817 280.304933 \nL 73.516172 280.304933 \nL 73.833527 280.304933 \nL 74.150883 280.304933 \nL 74.468238 280.304933 \nL 74.785593 280.304933 \nL 75.102949 280.304933 \nL 75.420304 280.304933 \nL 75.73766 280.304933 \nL 76.055015 280.304933 \nL 76.37237 280.304933 \nL 76.689726 280.304933 \nL 77.007081 280.304933 \nL 77.324436 280.304933 \nL 77.641792 280.304933 \nL 77.959147 280.304933 \nL 78.276503 280.304933 \nL 78.593858 280.304933 \nL 78.911213 280.304933 \nL 79.228569 280.304933 \nL 79.545924 280.304933 \nL 79.863279 280.304933 \nL 80.180635 280.304933 \nL 80.49799 280.304933 \nL 80.815346 280.304933 \nL 81.132701 280.304933 \nL 81.450056 280.304933 \nL 81.767412 280.304933 \nL 82.084767 280.304933 \nL 82.402122 280.304933 \nL 82.719478 280.304933 \nL 83.036833 280.304933 \nL 83.354189 280.304933 \nL 83.671544 280.304933 \nL 83.988899 280.304933 \nL 84.306255 280.304933 \nL 84.62361 280.304933 \nL 84.940965 280.304933 \nL 85.258321 280.304933 \nL 85.575676 280.304933 \nL 85.893032 280.304933 \nL 86.210387 280.304933 \nL 86.527742 280.304933 \nL 86.845098 280.304933 \nL 87.162453 280.304933 \nL 87.479808 280.304933 \nL 87.797164 280.304933 \nL 88.114519 280.304933 \nL 88.431874 280.304933 \nL 88.74923 280.304933 \nL 89.066585 280.304933 \nL 89.383941 280.304933 \nL 89.701296 280.304933 \nL 90.018651 280.304933 \nL 90.336007 280.304933 \nL 90.653362 280.304933 \nL 90.970717 280.304933 \nL 91.288073 280.304933 \nL 91.605428 280.304933 \nL 91.922784 280.304933 \nL 92.240139 280.304933 \nL 92.557494 280.304933 \nL 92.87485 280.304933 \nL 93.192205 280.304933 \nL 93.50956 280.304933 \nL 93.826916 280.304933 \nL 94.144271 280.304933 \nL 94.461627 280.304933 \nL 94.778982 280.304933 \nL 95.096337 280.304933 \nL 95.413693 280.304933 \nL 95.731048 280.304933 \nL 96.048403 280.304933 \nL 96.365759 280.304933 \nL 96.683114 280.304933 \nL 97.00047 280.304933 \nL 97.317825 280.304933 \nL 97.63518 280.304933 \nL 97.952536 280.304933 \nL 98.269891 280.304933 \nL 98.587246 280.304933 \nL 98.904602 280.304933 \nL 99.221957 280.304933 \nL 99.539313 280.304933 \nL 99.856668 280.304933 \nL 100.174023 280.304933 \nL 100.491379 280.304933 \nL 100.808734 280.304933 \nL 101.126089 280.304933 \nL 101.443445 280.304933 \nL 101.7608 280.304933 \nL 102.078155 280.304933 \nL 102.395511 280.304933 \nL 102.712866 280.304933 \nL 103.030222 280.304933 \nL 103.347577 280.304933 \nL 103.664932 280.304933 \nL 103.982288 280.304933 \nL 104.299643 280.304933 \nL 104.616998 280.304933 \nL 104.934354 280.304933 \nL 105.251709 280.304933 \nL 105.569065 280.304933 \nL 105.88642 280.304933 \nL 106.203775 280.304933 \nL 106.521131 280.304933 \nL 106.838486 280.304933 \nL 107.155841 280.304933 \nL 107.473197 280.304933 \nL 107.790552 280.304933 \nL 108.107908 280.304933 \nL 108.425263 280.304933 \nL 108.742618 280.304933 \nL 109.059974 280.304933 \nL 109.377329 280.304933 \nL 109.694684 280.304933 \nL 110.01204 280.304933 \nL 110.329395 280.304933 \nL 110.646751 280.304933 \nL 110.964106 280.304933 \nL 111.281461 280.304933 \nL 111.598817 280.304933 \nL 111.916172 280.304933 \nL 112.233527 280.304933 \nL 112.550883 280.304933 \nL 112.868238 280.304933 \nL 113.185593 280.304933 \nL 113.502949 280.304933 \nL 113.820304 280.304933 \nL 114.13766 280.304933 \nL 114.455015 280.304933 \nL 114.77237 280.304933 \nL 115.089726 280.304933 \nL 115.407081 280.304933 \nL 115.724436 280.304933 \nL 116.041792 280.304933 \nL 116.359147 280.304933 \nL 116.676503 280.304933 \nL 116.993858 280.304933 \nL 117.311213 280.304933 \nL 117.628569 280.304933 \nL 117.945924 280.304933 \nL 118.263279 280.304933 \nL 118.580635 280.304933 \nL 118.89799 280.304933 \nL 119.215346 280.304933 \nL 119.532701 280.304933 \nL 119.850056 280.304933 \nL 120.167412 280.304933 \nL 120.484767 280.304933 \nL 120.802122 280.304933 \nL 121.119478 280.304933 \nL 121.436833 280.304933 \nL 121.754189 280.304933 \nL 122.071544 280.304933 \nL 122.388899 280.304933 \nL 122.706255 280.304933 \nL 123.02361 280.304933 \nL 123.340965 280.304933 \nL 123.658321 280.304933 \nL 123.975676 280.304933 \nL 124.293032 280.304933 \nL 124.610387 280.304933 \nL 124.927742 280.304933 \nL 125.245098 280.304933 \nL 125.562453 280.304933 \nL 125.879808 280.304933 \nL 126.197164 280.304933 \nL 126.514519 280.304933 \nL 126.831874 280.304933 \nL 127.14923 280.304933 \nL 127.466585 280.304933 \nL 127.783941 280.304933 \nL 128.101296 280.304933 \nL 128.418651 280.304933 \nL 128.736007 280.304933 \nL 129.053362 280.304933 \nL 129.370717 280.304933 \nL 129.688073 280.304933 \nL 130.005428 280.304933 \nL 130.322784 280.304933 \nL 130.640139 280.304933 \nL 130.957494 280.304933 \nL 131.27485 280.304933 \nL 131.592205 280.304933 \nL 131.90956 280.304933 \nL 132.226916 280.304933 \nL 132.544271 280.304933 \nL 132.861627 280.304933 \nL 133.178982 280.304933 \nL 133.496337 280.304933 \nL 133.813693 280.304933 \nL 134.131048 280.304933 \nL 134.448403 280.304933 \nL 134.765759 280.304933 \nL 135.083114 280.304933 \nL 135.40047 280.304933 \nL 135.717825 280.304933 \nL 136.03518 280.304933 \nL 136.352536 280.304933 \nL 136.669891 280.304933 \nL 136.987246 280.304933 \nL 137.304602 280.304933 \nL 137.621957 280.304933 \nL 137.939312 280.304933 \nL 138.256668 280.304933 \nL 138.574023 280.304933 \nL 138.891379 280.304933 \nL 139.208734 280.304933 \nL 139.526089 280.304933 \nL 139.843445 280.304933 \nL 140.1608 280.304933 \nL 140.478155 280.304933 \nL 140.795511 280.304933 \nL 141.112866 280.304933 \nL 141.430222 280.304933 \nL 141.747577 280.304933 \nL 142.064932 280.304933 \nL 142.382288 280.304933 \nL 142.699643 280.304933 \nL 143.016998 280.304933 \nL 143.334354 280.304933 \nL 143.651709 280.304933 \nL 143.969065 280.304933 \nL 144.28642 280.304933 \nL 144.603775 280.304933 \nL 144.921131 280.304933 \nL 145.238486 280.304933 \nL 145.555841 280.304933 \nL 145.873197 280.304933 \nL 146.190552 280.304933 \nL 146.507908 280.304933 \nL 146.825263 280.304933 \nL 147.142618 280.304933 \nL 147.459974 280.304933 \nL 147.777329 280.304933 \nL 148.094684 280.304933 \nL 148.41204 280.304933 \nL 148.729395 280.304933 \nL 149.046751 280.304933 \nL 149.364106 280.304933 \nL 149.681461 280.304933 \nL 149.998817 280.304933 \nL 150.316172 280.304933 \nL 150.633527 280.304933 \nL 150.950883 280.304933 \nL 151.268238 280.304933 \nL 151.585593 280.304933 \nL 151.902949 280.304933 \nL 152.220304 280.304933 \nL 152.53766 280.304933 \nL 152.855015 280.304933 \nL 153.17237 280.304933 \nL 153.489726 280.304933 \nL 153.807081 280.304933 \nL 154.124436 280.304933 \nL 154.441792 280.304933 \nL 154.759147 280.304933 \nL 155.076503 280.304933 \nL 155.393858 280.304933 \nL 155.711213 280.304933 \nL 156.028569 280.304933 \nL 156.345924 280.304933 \nL 156.663279 280.304933 \nL 156.980635 280.304933 \nL 157.29799 280.304933 \nL 157.615346 280.304933 \nL 157.932701 280.304933 \nL 158.250056 280.304933 \nL 158.567412 280.304933 \nL 158.884767 280.304933 \nL 159.202122 280.304933 \nL 159.519478 280.304933 \nL 159.836833 280.304933 \nL 160.154189 280.304933 \nL 160.471544 280.304933 \nL 160.788899 280.304933 \nL 161.106255 280.304933 \nL 161.42361 280.304933 \nL 161.740965 280.304933 \nL 162.058321 280.304933 \nL 162.375676 280.304933 \nL 162.693032 280.304933 \nL 163.010387 280.304933 \nL 163.327742 280.304933 \nL 163.645098 280.304933 \nL 163.962453 280.304933 \nL 164.279808 280.304933 \nL 164.597164 280.304933 \nL 164.914519 280.304933 \nL 165.231874 280.304933 \nL 165.54923 280.304933 \nL 165.866585 280.304933 \nL 166.183941 280.304933 \nL 166.501296 280.304933 \nL 166.818651 280.304933 \nL 167.136007 280.304933 \nL 167.453362 280.304933 \nL 167.770717 280.304933 \nL 168.088073 280.304933 \nL 168.405428 280.304933 \nL 168.722784 280.304933 \nL 169.040139 280.304933 \nL 169.357494 280.304933 \nL 169.67485 280.304933 \nL 169.992205 280.304933 \nL 170.30956 280.304933 \nL 170.626916 280.304933 \nL 170.944271 280.304933 \nL 171.261627 280.304933 \nL 171.578982 280.304933 \nL 171.896337 280.304933 \nL 172.213693 280.304933 \nL 172.531048 280.304933 \nL 172.848403 280.304933 \nL 173.165759 280.304933 \nL 173.483114 280.304933 \nL 173.80047 280.304933 \nL 174.117825 280.304933 \nL 174.43518 280.304933 \nL 174.752536 280.304933 \nL 175.069891 280.304933 \nL 175.387246 280.304933 \nL 175.704602 280.304933 \nL 176.021957 280.304933 \nL 176.339313 280.304933 \nL 176.656668 280.304933 \nL 176.974023 280.304933 \nL 177.291379 280.304933 \nL 177.608734 280.304933 \nL 177.926089 280.304933 \nL 178.243445 280.304933 \nL 178.5608 280.304933 \nL 178.878155 280.304933 \nL 179.195511 280.304933 \nL 179.512866 280.304933 \nL 179.830222 280.304933 \nL 180.147577 280.304933 \nL 180.464932 280.304933 \nL 180.782288 280.304933 \nL 181.099643 280.304933 \nL 181.416998 280.304933 \nL 181.734354 280.304933 \nL 182.051709 280.304933 \nL 182.369065 280.304933 \nL 182.68642 280.304933 \nL 183.003775 280.304933 \nL 183.321131 280.304933 \nL 183.638486 280.304933 \nL 183.955841 280.304933 \nL 184.273197 280.304933 \nL 184.590552 280.304933 \nL 184.907908 280.304933 \nL 185.225263 280.304933 \nL 185.542618 280.304933 \nL 185.859974 280.304933 \nL 186.177329 280.304933 \nL 186.494684 280.304933 \nL 186.81204 280.304933 \nL 187.129395 280.304933 \nL 187.446751 280.304933 \nL 187.764106 280.304933 \nL 188.081461 280.304933 \nL 188.398817 280.304933 \nL 188.716172 280.304933 \nL 189.033527 280.304933 \nL 189.350883 280.304933 \nL 189.668238 280.304933 \nL 189.985593 280.304933 \nL 190.302949 280.304933 \nL 190.620304 280.304933 \nL 190.93766 280.304933 \nL 191.255015 280.304933 \nL 191.57237 280.304933 \nL 191.889726 280.304933 \nL 192.207081 280.304933 \nL 192.524436 280.304933 \nL 192.841792 280.304933 \nL 193.159147 280.304933 \nL 193.476503 280.304933 \nL 193.793858 280.304933 \nL 194.111213 280.304933 \nL 194.428569 280.304933 \nL 194.745924 280.304933 \nL 195.063279 280.304933 \nL 195.380635 280.304933 \nL 195.69799 280.304933 \nL 196.015346 280.304933 \nL 196.332701 280.304933 \nL 196.650056 280.304933 \nL 196.967412 280.304933 \nL 197.284767 280.304933 \nL 197.602122 280.304933 \nL 197.919478 280.304933 \nL 198.236833 280.304933 \nL 198.554189 280.304933 \nL 198.871544 280.304933 \nL 199.188899 280.304933 \nL 199.506255 280.304933 \nL 199.82361 280.304933 \nL 200.140965 280.304933 \nL 200.458321 280.304933 \nL 200.775676 280.304933 \nL 201.093032 280.304933 \nL 201.410387 280.304933 \nL 201.727742 280.304933 \nL 202.045098 280.304933 \nL 202.362453 280.304933 \nL 202.679808 280.304933 \nL 202.997164 280.304933 \nL 203.314519 280.304933 \nL 203.631874 280.304933 \nL 203.94923 280.304933 \nL 204.266585 280.304933 \nL 204.583941 280.304933 \nL 204.901296 280.304933 \nL 205.218651 280.304933 \nL 205.536007 280.304933 \nL 205.853362 280.304933 \nL 206.170717 280.304933 \nL 206.488073 280.304933 \nL 206.805428 280.304933 \nL 207.122784 280.304933 \nL 207.440139 280.304933 \nL 207.757494 280.304933 \nL 208.07485 280.304933 \nL 208.392205 280.304933 \nL 208.70956 280.304933 \nL 209.026916 280.304933 \nL 209.344271 280.304933 \nL 209.661627 280.304933 \nL 209.978982 280.304933 \nL 210.296337 280.304933 \nL 210.613693 280.304933 \nL 210.931048 280.304933 \nL 211.248403 280.304933 \nL 211.565759 280.304933 \nL 211.883114 280.304933 \nL 212.20047 280.304933 \nL 212.517825 280.304933 \nL 212.83518 280.304933 \nL 213.152536 280.304933 \nL 213.469891 280.304933 \nL 213.787246 280.304933 \nL 214.104602 280.304933 \nL 214.421957 280.304933 \nL 214.739312 280.304933 \nL 215.056668 280.304933 \nL 215.374023 280.304933 \nL 215.691379 280.304933 \nL 216.008734 280.304933 \nL 216.326089 280.304933 \nL 216.643445 280.304933 \nL 216.9608 280.304933 \nL 217.278155 280.304933 \nL 217.595511 280.304933 \nL 217.912866 280.304933 \nL 218.230222 280.304933 \nL 218.547577 280.304933 \nL 218.864932 280.304933 \nL 219.182288 280.304933 \nL 219.499643 280.304933 \nL 219.816998 280.304933 \nL 220.134354 280.304933 \nL 220.451709 280.304933 \nL 220.769065 280.304933 \nL 221.08642 280.304933 \nL 221.403775 280.304933 \nL 221.721131 280.304933 \nL 222.038486 280.304933 \nL 222.355841 280.304933 \nL 222.673197 280.304933 \nL 222.990552 280.304933 \nL 223.307908 280.304933 \nL 223.625263 280.304933 \nL 223.942618 280.304933 \nL 224.259974 280.304933 \nL 224.577329 280.304933 \nL 224.894684 280.304933 \nL 225.21204 280.304933 \nL 225.529395 280.304933 \nL 225.846751 280.304933 \nL 226.164106 280.304933 \nL 226.481461 280.304933 \nL 226.798817 280.304933 \nL 227.116172 280.304933 \nL 227.433527 280.304933 \nL 227.750883 280.304933 \nL 228.068238 280.304933 \nL 228.385593 280.304933 \nL 228.702949 280.304933 \nL 229.020304 280.304933 \nL 229.33766 280.304933 \nL 229.655015 280.304933 \nL 229.97237 280.304933 \nL 230.289726 280.304933 \nL 230.607081 280.304933 \nL 230.924436 280.304933 \nL 231.241792 280.304933 \nL 231.559147 280.304933 \nL 231.876503 280.304933 \nL 232.193858 280.304933 \nL 232.511213 280.304933 \nL 232.828569 280.304933 \nL 233.145924 280.304933 \nL 233.463279 280.304933 \nL 233.780635 280.304933 \nL 234.09799 280.304933 \nL 234.415346 280.304933 \nL 234.732701 280.304933 \nL 235.050056 280.304933 \nL 235.367412 280.304933 \nL 235.684767 280.304933 \nL 236.002122 280.304933 \nL 236.319478 280.304933 \nL 236.636833 280.304933 \nL 236.954189 280.304933 \nL 237.271544 280.304933 \nL 237.588899 280.304933 \nL 237.906255 280.304933 \nL 238.22361 280.304933 \nL 238.540965 280.304933 \nL 238.858321 280.304933 \nL 239.175676 280.304933 \nL 239.493032 280.304933 \nL 239.810387 280.304933 \nL 240.127742 280.304933 \nL 240.445098 280.304933 \nL 240.762453 280.304933 \nL 241.079808 280.304933 \nL 241.397164 280.304933 \nL 241.714519 280.304933 \nL 242.031874 280.304933 \nL 242.34923 280.304933 \nL 242.666585 280.304933 \nL 242.983941 280.304933 \nL 243.301296 280.304933 \nL 243.618651 280.304933 \nL 243.936007 280.304933 \nL 244.253362 280.304933 \nL 244.570717 280.304933 \nL 244.888073 280.304933 \nL 245.205428 280.304933 \nL 245.522784 280.304933 \nL 245.840139 280.304933 \nL 246.157494 280.304933 \nL 246.47485 280.304933 \nL 246.792205 280.304933 \nL 247.10956 280.304933 \nL 247.426916 280.304933 \nL 247.744271 280.304933 \nL 248.061627 280.304933 \nL 248.378982 280.304933 \nL 248.696337 280.304933 \nL 249.013693 280.304933 \nL 249.331048 280.304933 \nL 249.648403 280.304933 \nL 249.965759 280.304933 \nL 250.283114 280.304933 \nL 250.60047 280.304933 \nL 250.917825 280.304933 \nL 251.23518 280.304933 \nL 251.552536 280.304933 \nL 251.869891 280.304933 \nL 252.187246 280.304933 \nL 252.504602 280.304933 \nL 252.821957 280.304933 \nL 253.139312 280.304933 \nL 253.456668 280.304933 \nL 253.774023 280.304933 \nL 254.091379 280.304933 \nL 254.408734 280.304933 \nL 254.726089 280.304933 \nL 255.043445 280.304933 \nL 255.3608 280.304933 \nL 255.678155 280.304933 \nL 255.995511 280.304933 \nL 256.312866 280.304933 \nL 256.630222 280.304933 \nL 256.947577 280.304933 \nL 257.264932 280.304933 \nL 257.582288 280.304933 \nL 257.899643 280.304933 \nL 258.216998 280.304933 \nL 258.534354 280.304933 \nL 258.851709 280.304933 \nL 259.169065 280.304933 \nL 259.48642 280.304933 \nL 259.803775 280.304933 \nL 260.121131 280.304933 \nL 260.438486 280.304933 \nL 260.755841 280.304933 \nL 261.073197 280.304933 \nL 261.390552 280.304933 \nL 261.707908 280.304933 \nL 262.025263 280.304933 \nL 262.342618 280.304933 \nL 262.659974 280.304933 \nL 262.977329 280.304933 \nL 263.294684 280.304933 \nL 263.61204 280.304933 \nL 263.929395 280.304933 \nL 264.246751 280.304933 \nL 264.564106 280.304933 \nL 264.881461 280.304933 \nL 265.198817 280.304933 \nL 265.516172 280.304933 \nL 265.833527 280.304933 \nL 266.150883 280.304933 \nL 266.468238 280.304933 \nL 266.785593 280.304933 \nL 267.102949 280.304933 \nL 267.420304 280.304933 \nL 267.73766 280.304933 \nL 268.055015 280.304933 \nL 268.37237 280.304933 \nL 268.689726 280.304933 \nL 269.007081 280.304933 \nL 269.324436 280.304933 \nL 269.641792 280.304933 \nL 269.959147 280.304933 \nL 270.276503 280.304933 \nL 270.593858 280.304933 \nL 270.911213 280.304933 \nL 271.228569 280.304933 \nL 271.545924 280.304933 \nL 271.863279 280.304933 \nL 272.180635 280.304933 \nL 272.49799 280.304933 \nL 272.815346 280.304933 \nL 273.132701 280.304933 \nL 273.450056 280.304933 \nL 273.767412 280.304933 \nL 274.084767 280.304933 \nL 274.402122 280.304933 \nL 274.719478 280.304933 \nL 275.036833 280.304933 \nL 275.354189 280.304933 \nL 275.671544 280.304933 \nL 275.988899 280.304933 \nL 276.306255 280.304933 \nL 276.62361 280.304933 \nL 276.940965 280.304933 \nL 277.258321 280.304933 \nL 277.575676 280.304933 \nL 277.893032 280.304933 \nL 278.210387 280.304933 \nL 278.527742 280.304933 \nL 278.845098 280.304933 \nL 279.162453 280.304933 \nL 279.479808 280.304933 \nL 279.797164 280.304933 \nL 280.114519 280.304933 \nL 280.431874 280.304933 \nL 280.74923 280.304933 \nL 281.066585 280.304933 \nL 281.383941 280.304933 \nL 281.701296 280.304933 \nL 282.018651 280.304933 \nL 282.336007 280.304933 \nL 282.653362 280.304933 \nL 282.970717 280.304933 \nL 283.288073 280.304933 \nL 283.605428 280.304933 \nL 283.922784 280.304933 \nL 284.240139 280.304933 \nL 284.557494 280.304933 \nL 284.87485 280.304933 \nL 285.192205 280.304933 \nL 285.50956 280.304933 \nL 285.826916 280.304933 \nL 286.144271 280.304933 \nL 286.461627 280.304933 \nL 286.778982 280.304933 \nL 287.096337 280.304933 \nL 287.413693 280.304933 \nL 287.731048 280.304933 \nL 288.048403 280.304933 \nL 288.365759 280.304933 \nL 288.683114 280.304933 \nL 289.00047 280.304933 \nL 289.317825 280.304933 \nL 289.63518 280.304933 \nL 289.952536 280.304933 \nL 290.269891 280.304933 \nL 290.587246 280.304933 \nL 290.904602 280.304933 \nL 291.221957 280.304933 \nL 291.539312 280.304933 \nL 291.856668 280.304933 \nL 292.174023 280.304933 \nL 292.491379 280.304933 \nL 292.808734 280.304933 \nL 293.126089 280.304933 \nL 293.443445 280.304933 \nL 293.7608 280.304933 \nL 294.078155 280.304933 \nL 294.395511 280.304933 \nL 294.712866 280.304933 \nL 295.030222 280.304933 \nL 295.347577 280.304933 \nL 295.664932 280.304933 \nL 295.982288 280.304933 \nL 296.299643 280.304933 \nL 296.616998 280.304933 \nL 296.934354 280.304933 \nL 297.251709 280.304933 \nL 297.569065 280.304933 \nL 297.88642 280.304933 \nL 298.203775 280.304933 \nL 298.521131 280.304933 \nL 298.838486 280.304933 \nL 299.155841 280.304933 \nL 299.473197 280.304933 \nL 299.790552 280.304933 \nL 300.107908 280.304933 \nL 300.425263 280.304933 \nL 300.742618 280.304933 \nL 301.059974 280.304933 \nL 301.377329 280.304933 \nL 301.694684 280.304933 \nL 302.01204 280.304933 \nL 302.329395 280.304933 \nL 302.646751 280.304933 \nL 302.964106 280.304933 \nL 303.281461 280.304933 \nL 303.598817 280.304933 \nL 303.916172 280.304933 \nL 304.233527 280.304933 \nL 304.550883 280.304933 \nL 304.868238 280.304933 \nL 305.185593 280.304933 \nL 305.502949 280.304933 \nL 305.820304 280.304933 \nL 306.13766 280.304933 \nL 306.455015 280.304933 \nL 306.77237 280.304933 \nL 307.089726 280.304933 \nL 307.407081 280.304933 \nL 307.724436 280.304933 \nL 308.041792 280.304933 \nL 308.359147 280.304933 \nL 308.676503 280.304933 \nL 308.993858 280.304933 \nL 309.311213 280.304933 \nL 309.628569 280.304933 \nL 309.945924 280.304933 \nL 310.263279 280.304933 \nL 310.580635 280.304933 \nL 310.89799 280.304933 \nL 311.215346 280.304933 \nL 311.532701 280.304933 \nL 311.850056 280.304933 \nL 312.167412 280.304933 \nL 312.484767 280.304933 \nL 312.802122 280.304933 \nL 313.119478 280.304933 \nL 313.436833 280.304933 \nL 313.754189 280.304933 \nL 314.071544 280.304933 \nL 314.388899 280.304933 \nL 314.706255 280.304933 \nL 315.02361 280.304933 \nL 315.340965 280.304933 \nL 315.658321 280.304933 \nL 315.975676 280.304933 \nL 316.293032 280.304933 \nL 316.610387 280.304933 \nL 316.927742 280.304933 \nL 317.245098 280.304933 \nL 317.562453 280.304933 \nL 317.879808 280.304933 \nL 318.197164 280.304933 \nL 318.514519 280.304933 \nL 318.831874 280.304933 \nL 319.14923 280.304933 \nL 319.466585 280.304933 \nL 319.783941 280.304933 \nL 320.101296 280.304933 \nL 320.418651 280.304933 \nL 320.736007 280.304933 \nL 321.053362 280.304933 \nL 321.370717 280.304933 \nL 321.688073 280.304933 \nL 322.005428 280.304933 \nL 322.322784 280.304933 \nL 322.640139 280.304933 \nL 322.957494 280.304933 \nL 323.27485 280.304933 \nL 323.592205 280.304933 \nL 323.90956 280.304933 \nL 324.226916 280.304933 \nL 324.544271 280.304933 \nL 324.861627 280.304933 \nL 325.178982 280.304933 \nL 325.496337 280.304933 \nL 325.813693 280.304933 \nL 326.131048 280.304933 \nL 326.448403 280.304933 \nL 326.765759 280.304933 \nL 327.083114 280.304933 \nL 327.40047 280.304933 \nL 327.717825 280.304933 \nL 328.03518 280.304933 \nL 328.352536 280.304933 \nL 328.669891 280.304933 \nL 328.987246 280.304933 \nL 329.304602 280.304933 \nL 329.621957 280.304933 \nL 329.939313 280.304933 \nL 330.256668 280.304933 \nL 330.574023 280.304933 \nL 330.891379 280.304933 \nL 331.208734 280.304933 \nL 331.526089 280.304933 \nL 331.843445 280.304933 \nL 332.1608 280.304933 \nL 332.478155 280.304933 \nL 332.795511 280.304933 \nL 333.112866 280.304933 \nL 333.430222 280.304933 \nL 333.747577 280.304933 \nL 334.064932 280.304933 \nL 334.382288 280.304933 \nL 334.699643 280.304933 \nL 335.016998 280.304933 \nL 335.334354 280.304933 \nL 335.651709 280.304933 \nL 335.969065 280.304933 \nL 336.28642 280.304933 \nL 336.603775 280.304933 \nL 336.921131 280.304933 \nL 337.238486 280.304933 \nL 337.555841 280.304933 \nL 337.873197 280.304933 \nL 338.190552 280.304933 \nL 338.507908 280.304933 \nL 338.825263 280.304933 \nL 339.142618 280.304933 \nL 339.459974 280.304933 \nL 339.777329 280.304933 \nL 340.094684 280.304933 \nL 340.41204 280.304933 \nL 340.729395 280.304933 \nL 341.046751 280.304933 \nL 341.364106 280.304933 \nL 341.681461 280.304933 \nL 341.998817 280.304933 \nL 342.316172 280.304933 \nL 342.633527 280.304933 \nL 342.950883 280.304933 \nL 343.268238 280.304933 \nL 343.585593 280.304933 \nL 343.902949 280.304933 \nL 344.220304 280.304933 \nL 344.53766 280.304933 \nL 344.855015 280.304933 \nL 345.17237 280.304933 \nL 345.489726 280.304933 \nL 345.807081 280.304933 \nL 346.124436 280.304933 \nL 346.441792 280.304933 \nL 346.759147 280.304933 \nL 347.076503 280.304933 \nL 347.393858 280.304933 \nL 347.711213 280.304933 \nL 348.028569 280.304933 \nL 348.345924 280.304933 \nL 348.663279 280.304933 \nL 348.980635 280.304933 \nL 349.29799 280.304933 \nL 349.615346 280.304933 \nL 349.932701 280.304933 \nL 350.250056 280.304933 \nL 350.567412 280.304933 \nL 350.884767 280.304933 \nL 351.202122 280.304933 \nL 351.519478 280.304933 \nL 351.836833 280.304933 \nL 352.154189 280.304933 \nL 352.471544 280.304933 \nL 352.788899 280.304933 \nL 353.106255 280.304933 \nL 353.42361 280.304933 \nL 353.740965 280.304933 \nL 354.058321 280.304933 \nL 354.375676 280.304933 \nL 354.693032 280.304933 \nL 355.010387 280.304933 \nL 355.327742 280.304933 \nL 355.645098 280.304933 \nL 355.962453 280.304933 \nL 356.279808 280.304933 \nL 356.597164 280.304933 \nL 356.914519 280.304933 \nL 357.231874 280.304933 \nL 357.54923 280.304933 \nL 357.866585 280.304933 \nL 358.183941 280.304933 \nL 358.501296 280.304933 \nL 358.818651 280.304933 \nL 359.136007 280.304933 \nL 359.453362 280.304933 \nL 359.770717 280.304933 \nL 360.088073 280.304933 \nL 360.405428 280.304933 \nL 360.722784 280.304933 \nL 361.040139 280.304933 \nL 361.357494 280.304933 \nL 361.67485 280.304933 \nL 361.992205 280.304933 \nL 362.30956 280.304933 \nL 362.626916 280.304933 \nL 362.944271 280.304933 \nL 363.261627 280.304933 \nL 363.578982 280.304933 \nL 363.896337 280.304933 \nL 364.213693 280.304933 \nL 364.531048 280.304933 \nL 364.848403 280.304933 \nL 365.165759 280.304933 \nL 365.483114 280.304933 \nL 365.80047 280.304933 \nL 366.117825 280.304933 \nL 366.43518 280.304933 \nL 366.752536 280.304933 \nL 367.069891 280.304933 \nL 367.387246 280.304933 \nL 367.704602 280.304933 \nL 368.021957 280.304933 \nL 368.339313 280.304933 \nL 368.656668 280.304933 \nL 368.974023 280.304933 \nL 369.291379 280.304933 \nL 369.608734 280.304933 \nL 369.926089 280.304933 \nL 370.243445 280.304933 \nL 370.5608 280.304933 \nL 370.878155 280.304933 \nL 371.195511 280.304933 \nL 371.512866 280.304933 \nL 371.830222 280.304933 \nL 372.147577 280.304933 \nL 372.464932 280.304933 \nL 372.782288 280.304933 \nL 373.099643 280.304933 \nL 373.416998 280.304933 \nL 373.734354 280.304933 \nL 374.051709 280.304933 \nL 374.369065 280.304933 \nL 374.68642 280.304933 \nL 375.003775 280.304933 \nL 375.321131 280.304933 \nL 375.638486 280.304933 \nL 375.955841 280.304933 \nL 376.273197 280.304933 \nL 376.590552 280.304933 \nL 376.907908 280.304933 \nL 377.225263 280.304933 \nL 377.542618 280.304933 \nL 377.859974 280.304933 \nL 378.177329 280.304933 \nL 378.494684 280.304933 \nL 378.81204 280.304933 \nL 379.129395 280.304933 \nL 379.446751 280.304933 \nL 379.764106 280.304933 \nL 380.081461 280.304933 \nL 380.398817 280.304933 \nL 380.716172 280.304933 \nL 381.033527 280.304933 \nL 381.350883 280.304933 \nL 381.668238 280.304933 \nL 381.985593 280.304933 \nL 382.302949 280.304933 \nL 382.620304 280.304933 \nL 382.93766 280.304933 \nL 383.255015 280.304933 \nL 383.57237 280.304933 \nL 383.889726 280.304933 \nL 384.207081 280.304933 \nL 384.524436 280.304933 \nL 384.841792 280.304933 \nL 385.159147 280.304933 \nL 385.476503 280.304933 \nL 385.793858 280.304933 \nL 386.111213 280.304933 \nL 386.428569 280.304933 \nL 386.745924 280.304933 \nL 387.063279 280.304933 \nL 387.380635 280.304933 \nL 387.69799 280.304933 \nL 388.015346 280.304933 \nL 388.332701 280.304933 \nL 388.650056 280.304933 \nL 388.967412 280.304933 \nL 389.284767 280.304933 \nL 389.602122 280.304933 \nL 389.919478 280.304933 \nL 390.236833 280.304933 \nL 390.554189 280.304933 \nL 390.871544 280.304933 \nL 391.188899 280.304933 \nL 391.506255 280.304933 \nL 391.82361 280.304933 \nL 392.140965 280.304933 \nL 392.458321 280.304933 \nL 392.775676 280.304933 \nL 393.093032 280.304933 \nL 393.410387 280.304933 \nL 393.727742 280.304933 \nL 394.045098 280.304933 \nL 394.362453 280.304933 \nL 394.679808 280.304933 \nL 394.997164 280.304933 \nL 395.314519 280.304933 \nL 395.631874 280.304933 \nL 395.94923 280.304933 \nL 396.266585 280.304933 \nL 396.266585 279.544189 \nL 396.266585 279.544189 \nL 395.94923 279.530214 \nL 395.631874 279.518232 \nL 395.314519 279.508338 \nL 394.997164 279.500614 \nL 394.679808 279.495124 \nL 394.362453 279.491912 \nL 394.045098 279.491006 \nL 393.727742 279.492414 \nL 393.410387 279.496122 \nL 393.093032 279.502101 \nL 392.775676 279.510302 \nL 392.458321 279.520656 \nL 392.140965 279.533079 \nL 391.82361 279.547472 \nL 391.506255 279.563717 \nL 391.188899 279.581689 \nL 390.871544 279.601245 \nL 390.554189 279.622237 \nL 390.236833 279.644507 \nL 389.919478 279.667891 \nL 389.602122 279.692222 \nL 389.284767 279.71733 \nL 388.967412 279.743044 \nL 388.650056 279.769197 \nL 388.332701 279.795623 \nL 388.015346 279.822163 \nL 387.69799 279.848663 \nL 387.380635 279.874978 \nL 387.063279 279.900972 \nL 386.745924 279.926519 \nL 386.428569 279.951504 \nL 386.111213 279.975823 \nL 385.793858 279.999386 \nL 385.476503 280.022113 \nL 385.159147 280.043937 \nL 384.841792 280.064805 \nL 384.524436 280.084674 \nL 384.207081 280.103513 \nL 383.889726 280.121303 \nL 383.57237 280.138033 \nL 383.255015 280.153705 \nL 382.93766 280.168327 \nL 382.620304 280.181916 \nL 382.302949 280.194497 \nL 381.985593 280.206099 \nL 381.668238 280.216757 \nL 381.350883 280.226512 \nL 381.033527 280.235407 \nL 380.716172 280.243486 \nL 380.398817 280.250797 \nL 380.081461 280.257389 \nL 379.764106 280.263311 \nL 379.446751 280.26861 \nL 379.129395 280.273336 \nL 378.81204 280.277535 \nL 378.494684 280.281251 \nL 378.177329 280.284529 \nL 377.859974 280.28741 \nL 377.542618 280.289932 \nL 377.225263 280.292133 \nL 376.907908 280.294046 \nL 376.590552 280.295703 \nL 376.273197 280.297133 \nL 375.955841 280.298363 \nL 375.638486 280.299417 \nL 375.321131 280.300317 \nL 375.003775 280.301083 \nL 374.68642 280.301732 \nL 374.369065 280.302281 \nL 374.051709 280.302743 \nL 373.734354 280.30313 \nL 373.416998 280.303453 \nL 373.099643 280.303723 \nL 372.782288 280.303947 \nL 372.464932 280.304132 \nL 372.147577 280.304284 \nL 371.830222 280.304409 \nL 371.512866 280.304512 \nL 371.195511 280.304595 \nL 370.878155 280.304663 \nL 370.5608 280.304718 \nL 370.243445 280.304763 \nL 369.926089 280.304798 \nL 369.608734 280.304827 \nL 369.291379 280.30485 \nL 368.974023 280.304868 \nL 368.656668 280.304882 \nL 368.339313 280.304893 \nL 368.021957 280.304902 \nL 367.704602 280.304909 \nL 367.387246 280.304915 \nL 367.069891 280.304919 \nL 366.752536 280.304922 \nL 366.43518 280.304925 \nL 366.117825 280.304927 \nL 365.80047 280.304928 \nL 365.483114 280.30493 \nL 365.165759 280.30493 \nL 364.848403 280.304931 \nL 364.531048 280.304931 \nL 364.213693 280.304932 \nL 363.896337 280.304932 \nL 363.578982 280.304932 \nL 363.261627 280.304932 \nL 362.944271 280.304932 \nL 362.626916 280.304931 \nL 362.30956 280.304931 \nL 361.992205 280.30493 \nL 361.67485 280.304929 \nL 361.357494 280.304928 \nL 361.040139 280.304926 \nL 360.722784 280.304924 \nL 360.405428 280.304921 \nL 360.088073 280.304917 \nL 359.770717 280.304912 \nL 359.453362 280.304905 \nL 359.136007 280.304897 \nL 358.818651 280.304886 \nL 358.501296 280.304872 \nL 358.183941 280.304855 \nL 357.866585 280.304832 \nL 357.54923 280.304804 \nL 357.231874 280.304768 \nL 356.914519 280.304723 \nL 356.597164 280.304666 \nL 356.279808 280.304595 \nL 355.962453 280.304507 \nL 355.645098 280.304397 \nL 355.327742 280.304262 \nL 355.010387 280.304095 \nL 354.693032 280.303891 \nL 354.375676 280.30364 \nL 354.058321 280.303335 \nL 353.740965 280.302965 \nL 353.42361 280.302516 \nL 353.106255 280.301975 \nL 352.788899 280.301325 \nL 352.471544 280.300546 \nL 352.154189 280.299617 \nL 351.836833 280.298513 \nL 351.519478 280.297204 \nL 351.202122 280.29566 \nL 350.884767 280.293843 \nL 350.567412 280.291714 \nL 350.250056 280.289229 \nL 349.932701 280.286338 \nL 349.615346 280.282987 \nL 349.29799 280.279117 \nL 348.980635 280.274665 \nL 348.663279 280.269561 \nL 348.345924 280.263733 \nL 348.028569 280.257103 \nL 347.711213 280.249588 \nL 347.393858 280.241103 \nL 347.076503 280.231559 \nL 346.759147 280.220865 \nL 346.441792 280.208929 \nL 346.124436 280.195658 \nL 345.807081 280.180961 \nL 345.489726 280.164749 \nL 345.17237 280.146937 \nL 344.855015 280.127445 \nL 344.53766 280.106203 \nL 344.220304 280.083148 \nL 343.902949 280.058228 \nL 343.585593 280.031407 \nL 343.268238 280.002663 \nL 342.950883 279.97199 \nL 342.633527 279.939402 \nL 342.316172 279.904935 \nL 341.998817 279.868646 \nL 341.681461 279.830614 \nL 341.364106 279.790944 \nL 341.046751 279.749767 \nL 340.729395 279.707235 \nL 340.41204 279.663529 \nL 340.094684 279.61885 \nL 339.777329 279.573424 \nL 339.459974 279.527497 \nL 339.142618 279.481335 \nL 338.825263 279.435216 \nL 338.507908 279.389436 \nL 338.190552 279.344296 \nL 337.873197 279.300103 \nL 337.555841 279.257165 \nL 337.238486 279.215788 \nL 336.921131 279.176266 \nL 336.603775 279.138883 \nL 336.28642 279.103903 \nL 335.969065 279.071568 \nL 335.651709 279.042094 \nL 335.334354 279.015667 \nL 335.016998 278.992437 \nL 334.699643 278.972517 \nL 334.382288 278.955981 \nL 334.064932 278.942864 \nL 333.747577 278.933155 \nL 333.430222 278.926804 \nL 333.112866 278.923717 \nL 332.795511 278.923764 \nL 332.478155 278.926773 \nL 332.1608 278.932539 \nL 331.843445 278.940829 \nL 331.526089 278.951378 \nL 331.208734 278.963904 \nL 330.891379 278.978106 \nL 330.574023 278.993675 \nL 330.256668 279.010294 \nL 329.939313 279.027649 \nL 329.621957 279.045432 \nL 329.304602 279.063349 \nL 328.987246 279.081122 \nL 328.669891 279.098496 \nL 328.352536 279.115243 \nL 328.03518 279.131165 \nL 327.717825 279.146098 \nL 327.40047 279.159914 \nL 327.083114 279.17252 \nL 326.765759 279.18386 \nL 326.448403 279.193918 \nL 326.131048 279.202708 \nL 325.813693 279.210283 \nL 325.496337 279.216722 \nL 325.178982 279.222133 \nL 324.861627 279.226648 \nL 324.544271 279.230414 \nL 324.226916 279.233595 \nL 323.90956 279.236363 \nL 323.592205 279.238892 \nL 323.27485 279.241354 \nL 322.957494 279.243918 \nL 322.640139 279.246737 \nL 322.322784 279.249952 \nL 322.005428 279.253681 \nL 321.688073 279.258023 \nL 321.370717 279.263049 \nL 321.053362 279.268805 \nL 320.736007 279.275306 \nL 320.418651 279.282541 \nL 320.101296 279.29047 \nL 319.783941 279.299026 \nL 319.466585 279.308117 \nL 319.14923 279.317626 \nL 318.831874 279.327421 \nL 318.514519 279.337348 \nL 318.197164 279.347246 \nL 317.879808 279.356944 \nL 317.562453 279.366265 \nL 317.245098 279.375037 \nL 316.927742 279.383091 \nL 316.610387 279.390268 \nL 316.293032 279.396422 \nL 315.975676 279.401424 \nL 315.658321 279.405167 \nL 315.340965 279.407566 \nL 315.02361 279.408561 \nL 314.706255 279.408119 \nL 314.388899 279.406236 \nL 314.071544 279.402934 \nL 313.754189 279.398264 \nL 313.436833 279.392303 \nL 313.119478 279.385153 \nL 312.802122 279.37694 \nL 312.484767 279.367807 \nL 312.167412 279.357919 \nL 311.850056 279.347452 \nL 311.532701 279.336593 \nL 311.215346 279.325536 \nL 310.89799 279.314479 \nL 310.580635 279.303618 \nL 310.263279 279.293145 \nL 309.945924 279.283247 \nL 309.628569 279.274098 \nL 309.311213 279.26586 \nL 308.993858 279.25868 \nL 308.676503 279.252687 \nL 308.359147 279.247993 \nL 308.041792 279.244688 \nL 307.724436 279.242843 \nL 307.407081 279.242511 \nL 307.089726 279.243722 \nL 306.77237 279.246489 \nL 306.455015 279.250808 \nL 306.13766 279.256657 \nL 305.820304 279.263999 \nL 305.502949 279.272786 \nL 305.185593 279.282957 \nL 304.868238 279.294442 \nL 304.550883 279.307164 \nL 304.233527 279.32104 \nL 303.916172 279.335981 \nL 303.598817 279.351898 \nL 303.281461 279.368698 \nL 302.964106 279.386287 \nL 302.646751 279.404574 \nL 302.329395 279.423464 \nL 302.01204 279.442866 \nL 301.694684 279.462686 \nL 301.377329 279.482833 \nL 301.059974 279.503215 \nL 300.742618 279.523737 \nL 300.425263 279.544306 \nL 300.107908 279.564825 \nL 299.790552 279.585193 \nL 299.473197 279.605309 \nL 299.155841 279.625066 \nL 298.838486 279.644353 \nL 298.521131 279.663056 \nL 298.203775 279.681054 \nL 297.88642 279.698226 \nL 297.569065 279.714445 \nL 297.251709 279.729582 \nL 296.934354 279.743505 \nL 296.616998 279.756084 \nL 296.299643 279.767188 \nL 295.982288 279.77669 \nL 295.664932 279.784465 \nL 295.347577 279.790395 \nL 295.030222 279.794371 \nL 294.712866 279.796291 \nL 294.395511 279.796067 \nL 294.078155 279.793623 \nL 293.7608 279.788897 \nL 293.443445 279.781844 \nL 293.126089 279.772436 \nL 292.808734 279.760663 \nL 292.491379 279.746533 \nL 292.174023 279.730073 \nL 291.856668 279.711329 \nL 291.539312 279.690363 \nL 291.221957 279.667256 \nL 290.904602 279.642102 \nL 290.587246 279.615011 \nL 290.269891 279.586102 \nL 289.952536 279.555505 \nL 289.63518 279.523355 \nL 289.317825 279.489792 \nL 289.00047 279.454955 \nL 288.683114 279.418979 \nL 288.365759 279.381995 \nL 288.048403 279.344124 \nL 287.731048 279.305474 \nL 287.413693 279.266137 \nL 287.096337 279.22619 \nL 286.778982 279.185687 \nL 286.461627 279.144662 \nL 286.144271 279.103124 \nL 285.826916 279.06106 \nL 285.50956 279.018432 \nL 285.192205 278.975178 \nL 284.87485 278.931212 \nL 284.557494 278.886428 \nL 284.240139 278.8407 \nL 283.922784 278.793884 \nL 283.605428 278.745824 \nL 283.288073 278.696354 \nL 282.970717 278.645299 \nL 282.653362 278.592486 \nL 282.336007 278.537741 \nL 282.018651 278.480899 \nL 281.701296 278.421806 \nL 281.383941 278.360325 \nL 281.066585 278.296339 \nL 280.74923 278.229755 \nL 280.431874 278.160511 \nL 280.114519 278.088573 \nL 279.797164 278.013946 \nL 279.479808 277.93667 \nL 279.162453 277.856822 \nL 278.845098 277.774523 \nL 278.527742 277.689931 \nL 278.210387 277.603245 \nL 277.893032 277.514703 \nL 277.575676 277.42458 \nL 277.258321 277.333187 \nL 276.940965 277.240865 \nL 276.62361 277.147986 \nL 276.306255 277.054945 \nL 275.988899 276.962157 \nL 275.671544 276.870053 \nL 275.354189 276.779075 \nL 275.036833 276.689668 \nL 274.719478 276.602277 \nL 274.402122 276.517343 \nL 274.084767 276.435292 \nL 273.767412 276.356537 \nL 273.450056 276.281466 \nL 273.132701 276.210444 \nL 272.815346 276.143802 \nL 272.49799 276.081838 \nL 272.180635 276.024812 \nL 271.863279 275.972944 \nL 271.545924 275.92641 \nL 271.228569 275.885341 \nL 270.911213 275.849825 \nL 270.593858 275.819904 \nL 270.276503 275.795575 \nL 269.959147 275.77679 \nL 269.641792 275.763461 \nL 269.324436 275.75546 \nL 269.007081 275.752623 \nL 268.689726 275.75475 \nL 268.37237 275.761613 \nL 268.055015 275.772958 \nL 267.73766 275.788507 \nL 267.420304 275.807964 \nL 267.102949 275.831019 \nL 266.785593 275.85735 \nL 266.468238 275.88663 \nL 266.150883 275.918525 \nL 265.833527 275.952699 \nL 265.516172 275.988819 \nL 265.198817 276.026551 \nL 264.881461 276.065568 \nL 264.564106 276.105544 \nL 264.246751 276.146157 \nL 263.929395 276.187089 \nL 263.61204 276.228026 \nL 263.294684 276.268654 \nL 262.977329 276.308658 \nL 262.659974 276.347723 \nL 262.342618 276.385528 \nL 262.025263 276.421748 \nL 261.707908 276.456051 \nL 261.390552 276.488095 \nL 261.073197 276.51753 \nL 260.755841 276.543996 \nL 260.438486 276.567123 \nL 260.121131 276.58653 \nL 259.803775 276.601833 \nL 259.48642 276.612638 \nL 259.169065 276.618551 \nL 258.851709 276.619179 \nL 258.534354 276.614135 \nL 258.216998 276.603041 \nL 257.899643 276.585536 \nL 257.582288 276.561281 \nL 257.264932 276.529964 \nL 256.947577 276.491309 \nL 256.630222 276.445079 \nL 256.312866 276.391082 \nL 255.995511 276.329182 \nL 255.678155 276.259297 \nL 255.3608 276.181407 \nL 255.043445 276.09556 \nL 254.726089 276.001869 \nL 254.408734 275.90052 \nL 254.091379 275.791768 \nL 253.774023 275.675939 \nL 253.456668 275.553429 \nL 253.139312 275.424696 \nL 252.821957 275.290264 \nL 252.504602 275.15071 \nL 252.187246 275.006665 \nL 251.869891 274.8588 \nL 251.552536 274.707823 \nL 251.23518 274.554465 \nL 250.917825 274.399479 \nL 250.60047 274.243621 \nL 250.283114 274.087645 \nL 249.965759 273.932292 \nL 249.648403 273.778282 \nL 249.331048 273.626299 \nL 249.013693 273.476987 \nL 248.696337 273.33094 \nL 248.378982 273.188691 \nL 248.061627 273.05071 \nL 247.744271 272.917393 \nL 247.426916 272.78906 \nL 247.10956 272.665949 \nL 246.792205 272.548217 \nL 246.47485 272.435934 \nL 246.157494 272.329082 \nL 245.840139 272.227564 \nL 245.522784 272.131195 \nL 245.205428 272.039713 \nL 244.888073 271.952783 \nL 244.570717 271.869996 \nL 244.253362 271.790883 \nL 243.936007 271.71492 \nL 243.618651 271.641532 \nL 243.301296 271.570107 \nL 242.983941 271.500004 \nL 242.666585 271.430559 \nL 242.34923 271.361101 \nL 242.031874 271.290958 \nL 241.714519 271.219468 \nL 241.397164 271.145992 \nL 241.079808 271.069922 \nL 240.762453 270.99069 \nL 240.445098 270.90778 \nL 240.127742 270.820736 \nL 239.810387 270.729168 \nL 239.493032 270.632765 \nL 239.175676 270.531296 \nL 238.858321 270.42462 \nL 238.540965 270.312685 \nL 238.22361 270.195537 \nL 237.906255 270.073319 \nL 237.588899 269.946271 \nL 237.271544 269.814729 \nL 236.954189 269.679123 \nL 236.636833 269.539972 \nL 236.319478 269.397877 \nL 236.002122 269.253516 \nL 235.684767 269.107634 \nL 235.367412 268.96103 \nL 235.050056 268.814548 \nL 234.732701 268.669066 \nL 234.415346 268.525476 \nL 234.09799 268.384676 \nL 233.780635 268.247551 \nL 233.463279 268.11496 \nL 233.145924 267.987722 \nL 232.828569 267.866596 \nL 232.511213 267.752274 \nL 232.193858 267.645365 \nL 231.876503 267.546383 \nL 231.559147 267.455739 \nL 231.241792 267.373728 \nL 230.924436 267.300532 \nL 230.607081 267.236204 \nL 230.289726 267.180678 \nL 229.97237 267.13376 \nL 229.655015 267.095135 \nL 229.33766 267.064374 \nL 229.020304 267.040934 \nL 228.702949 267.024174 \nL 228.385593 267.013364 \nL 228.068238 267.007693 \nL 227.750883 267.006289 \nL 227.433527 267.008227 \nL 227.116172 267.012548 \nL 226.798817 267.018271 \nL 226.481461 267.02441 \nL 226.164106 267.029987 \nL 225.846751 267.034045 \nL 225.529395 267.035664 \nL 225.21204 267.033966 \nL 224.894684 267.028129 \nL 224.577329 267.017392 \nL 224.259974 267.001066 \nL 223.942618 266.978531 \nL 223.625263 266.949243 \nL 223.307908 266.912735 \nL 222.990552 266.868613 \nL 222.673197 266.816556 \nL 222.355841 266.756309 \nL 222.038486 266.687682 \nL 221.721131 266.610538 \nL 221.403775 266.524794 \nL 221.08642 266.430407 \nL 220.769065 266.327371 \nL 220.451709 266.215705 \nL 220.134354 266.095454 \nL 219.816998 265.966674 \nL 219.499643 265.829433 \nL 219.182288 265.683802 \nL 218.864932 265.529854 \nL 218.547577 265.367661 \nL 218.230222 265.19729 \nL 217.912866 265.018807 \nL 217.595511 264.832275 \nL 217.278155 264.637756 \nL 216.9608 264.435317 \nL 216.643445 264.225029 \nL 216.326089 264.006979 \nL 216.008734 263.781267 \nL 215.691379 263.548019 \nL 215.374023 263.30739 \nL 215.056668 263.059572 \nL 214.739312 262.804798 \nL 214.421957 262.543351 \nL 214.104602 262.275567 \nL 213.787246 262.001844 \nL 213.469891 261.72264 \nL 213.152536 261.438483 \nL 212.83518 261.149966 \nL 212.517825 260.857755 \nL 212.20047 260.562581 \nL 211.883114 260.265245 \nL 211.565759 259.966606 \nL 211.248403 259.667583 \nL 210.931048 259.369142 \nL 210.613693 259.072294 \nL 210.296337 258.778075 \nL 209.978982 258.487543 \nL 209.661627 258.201763 \nL 209.344271 257.921789 \nL 209.026916 257.648653 \nL 208.70956 257.383349 \nL 208.392205 257.126813 \nL 208.07485 256.879914 \nL 207.757494 256.643432 \nL 207.440139 256.418044 \nL 207.122784 256.204313 \nL 206.805428 256.00267 \nL 206.488073 255.813407 \nL 206.170717 255.636662 \nL 205.853362 255.472417 \nL 205.536007 255.320489 \nL 205.218651 255.180527 \nL 204.901296 255.052014 \nL 204.583941 254.934266 \nL 204.266585 254.826443 \nL 203.94923 254.727549 \nL 203.631874 254.63645 \nL 203.314519 254.551882 \nL 202.997164 254.472468 \nL 202.679808 254.396734 \nL 202.362453 254.32313 \nL 202.045098 254.250046 \nL 201.727742 254.175839 \nL 201.410387 254.098845 \nL 201.093032 254.017411 \nL 200.775676 253.929908 \nL 200.458321 253.834755 \nL 200.140965 253.730439 \nL 199.82361 253.615529 \nL 199.506255 253.488696 \nL 199.188899 253.348725 \nL 198.871544 253.194529 \nL 198.554189 253.025155 \nL 198.236833 252.839795 \nL 197.919478 252.637787 \nL 197.602122 252.41862 \nL 197.284767 252.181933 \nL 196.967412 251.92751 \nL 196.650056 251.655279 \nL 196.332701 251.365304 \nL 196.015346 251.057776 \nL 195.69799 250.733005 \nL 195.380635 250.391407 \nL 195.063279 250.033494 \nL 194.745924 249.659861 \nL 194.428569 249.271174 \nL 194.111213 248.868158 \nL 193.793858 248.451582 \nL 193.476503 248.022248 \nL 193.159147 247.580982 \nL 192.841792 247.128617 \nL 192.524436 246.665988 \nL 192.207081 246.193923 \nL 191.889726 245.71323 \nL 191.57237 245.224693 \nL 191.255015 244.729066 \nL 190.93766 244.227066 \nL 190.620304 243.71937 \nL 190.302949 243.206612 \nL 189.985593 242.68938 \nL 189.668238 242.168214 \nL 189.350883 241.643608 \nL 189.033527 241.116008 \nL 188.716172 240.585814 \nL 188.398817 240.053383 \nL 188.081461 239.51903 \nL 187.764106 238.98303 \nL 187.446751 238.445624 \nL 187.129395 237.907021 \nL 186.81204 237.367405 \nL 186.494684 236.826934 \nL 186.177329 236.285751 \nL 185.859974 235.743983 \nL 185.542618 235.201748 \nL 185.225263 234.65916 \nL 184.907908 234.116331 \nL 184.590552 233.573373 \nL 184.273197 233.030404 \nL 183.955841 232.487549 \nL 183.638486 231.944939 \nL 183.321131 231.402712 \nL 183.003775 230.861015 \nL 182.68642 230.319998 \nL 182.369065 229.779815 \nL 182.051709 229.240618 \nL 181.734354 228.702555 \nL 181.416998 228.165763 \nL 181.099643 227.630363 \nL 180.782288 227.096452 \nL 180.464932 226.564102 \nL 180.147577 226.033347 \nL 179.830222 225.504182 \nL 179.512866 224.976557 \nL 179.195511 224.450368 \nL 178.878155 223.925458 \nL 178.5608 223.401613 \nL 178.243445 222.878561 \nL 177.926089 222.355968 \nL 177.608734 221.833447 \nL 177.291379 221.310557 \nL 176.974023 220.786808 \nL 176.656668 220.261668 \nL 176.339313 219.734572 \nL 176.021957 219.204931 \nL 175.704602 218.672141 \nL 175.387246 218.135595 \nL 175.069891 217.594695 \nL 174.752536 217.048863 \nL 174.43518 216.497552 \nL 174.117825 215.940259 \nL 173.80047 215.376533 \nL 173.483114 214.805986 \nL 173.165759 214.2283 \nL 172.848403 213.643233 \nL 172.531048 213.050625 \nL 172.213693 212.4504 \nL 171.896337 211.842565 \nL 171.578982 211.227213 \nL 171.261627 210.604516 \nL 170.944271 209.974725 \nL 170.626916 209.33816 \nL 170.30956 208.695204 \nL 169.992205 208.046295 \nL 169.67485 207.391916 \nL 169.357494 206.732587 \nL 169.040139 206.068852 \nL 168.722784 205.401269 \nL 168.405428 204.730402 \nL 168.088073 204.056809 \nL 167.770717 203.381033 \nL 167.453362 202.703592 \nL 167.136007 202.024972 \nL 166.818651 201.34562 \nL 166.501296 200.665934 \nL 166.183941 199.986258 \nL 165.866585 199.306877 \nL 165.54923 198.62801 \nL 165.231874 197.949804 \nL 164.914519 197.27233 \nL 164.597164 196.595578 \nL 164.279808 195.919449 \nL 163.962453 195.243755 \nL 163.645098 194.568206 \nL 163.327742 193.892412 \nL 163.010387 193.215872 \nL 162.693032 192.537971 \nL 162.375676 191.857974 \nL 162.058321 191.17502 \nL 161.740965 190.48812 \nL 161.42361 189.796151 \nL 161.106255 189.097857 \nL 160.788899 188.391846 \nL 160.471544 187.676592 \nL 160.154189 186.950441 \nL 159.836833 186.211612 \nL 159.519478 185.458215 \nL 159.202122 184.688253 \nL 158.884767 183.899645 \nL 158.567412 183.090243 \nL 158.250056 182.257852 \nL 157.932701 181.400257 \nL 157.615346 180.515253 \nL 157.29799 179.600672 \nL 156.980635 178.654422 \nL 156.663279 177.67452 \nL 156.345924 176.65913 \nL 156.028569 175.606603 \nL 155.711213 174.515514 \nL 155.393858 173.384699 \nL 155.076503 172.213295 \nL 154.759147 171.000776 \nL 154.441792 169.746979 \nL 154.124436 168.452139 \nL 153.807081 167.116907 \nL 153.489726 165.742374 \nL 153.17237 164.33008 \nL 152.855015 162.882019 \nL 152.53766 161.400642 \nL 152.220304 159.888845 \nL 151.902949 158.34995 \nL 151.585593 156.787689 \nL 151.268238 155.206161 \nL 150.950883 153.609801 \nL 150.633527 152.003326 \nL 150.316172 150.391683 \nL 149.998817 148.77999 \nL 149.681461 147.173468 \nL 149.364106 145.577371 \nL 149.046751 143.996911 \nL 148.729395 142.437187 \nL 148.41204 140.903102 \nL 148.094684 139.399291 \nL 147.777329 137.930048 \nL 147.459974 136.499251 \nL 147.142618 135.110299 \nL 146.825263 133.766054 \nL 146.507908 132.468783 \nL 146.190552 131.22012 \nL 145.873197 130.021028 \nL 145.555841 128.871773 \nL 145.238486 127.771917 \nL 144.921131 126.720307 \nL 144.603775 125.715092 \nL 144.28642 124.753739 \nL 143.969065 123.833068 \nL 143.651709 122.949292 \nL 143.334354 122.09807 \nL 143.016998 121.274572 \nL 142.699643 120.473546 \nL 142.382288 119.689394 \nL 142.064932 118.91626 \nL 141.747577 118.148108 \nL 141.430222 117.378818 \nL 141.112866 116.602273 \nL 140.795511 115.812448 \nL 140.478155 115.003498 \nL 140.1608 114.169845 \nL 139.843445 113.306254 \nL 139.526089 112.407906 \nL 139.208734 111.470469 \nL 138.891379 110.490154 \nL 138.574023 109.463769 \nL 138.256668 108.388757 \nL 137.939312 107.263233 \nL 137.621957 106.086009 \nL 137.304602 104.856605 \nL 136.987246 103.57526 \nL 136.669891 102.242928 \nL 136.352536 100.86127 \nL 136.03518 99.432637 \nL 135.717825 97.960044 \nL 135.40047 96.447148 \nL 135.083114 94.898207 \nL 134.765759 93.318047 \nL 134.448403 91.712018 \nL 134.131048 90.085948 \nL 133.813693 88.446102 \nL 133.496337 86.799127 \nL 133.178982 85.152006 \nL 132.861627 83.512011 \nL 132.544271 81.886646 \nL 132.226916 80.283601 \nL 131.90956 78.710702 \nL 131.592205 77.175858 \nL 131.27485 75.687015 \nL 130.957494 74.252106 \nL 130.640139 72.879002 \nL 130.322784 71.575465 \nL 130.005428 70.349101 \nL 129.688073 69.207317 \nL 129.370717 68.157271 \nL 129.053362 67.205832 \nL 128.736007 66.359536 \nL 128.418651 65.624544 \nL 128.101296 65.006606 \nL 127.783941 64.511017 \nL 127.466585 64.142587 \nL 127.14923 63.905606 \nL 126.831874 63.803815 \nL 126.514519 63.840376 \nL 126.197164 64.017853 \nL 125.879808 64.33819 \nL 125.562453 64.802698 \nL 125.245098 65.412042 \nL 124.927742 66.166238 \nL 124.610387 67.06465 \nL 124.293032 68.105997 \nL 123.975676 69.288361 \nL 123.658321 70.609203 \nL 123.340965 72.065383 \nL 123.02361 73.653184 \nL 122.706255 75.368345 \nL 122.388899 77.206093 \nL 122.071544 79.161181 \nL 121.754189 81.227932 \nL 121.436833 83.400284 \nL 121.119478 85.671835 \nL 120.802122 88.035898 \nL 120.484767 90.485545 \nL 120.167412 93.013665 \nL 119.850056 95.61301 \nL 119.532701 98.27625 \nL 119.215346 100.996019 \nL 118.89799 103.764966 \nL 118.580635 106.575798 \nL 118.263279 109.421323 \nL 117.945924 112.294491 \nL 117.628569 115.188427 \nL 117.311213 118.096467 \nL 116.993858 121.012184 \nL 116.676503 123.929414 \nL 116.359147 126.842278 \nL 116.041792 129.745198 \nL 115.724436 132.632912 \nL 115.407081 135.500486 \nL 115.089726 138.343322 \nL 114.77237 141.157163 \nL 114.455015 143.938099 \nL 114.13766 146.682564 \nL 113.820304 149.387343 \nL 113.502949 152.049566 \nL 113.185593 154.666708 \nL 112.868238 157.236585 \nL 112.550883 159.757356 \nL 112.233527 162.22751 \nL 111.916172 164.645873 \nL 111.598817 167.011594 \nL 111.281461 169.324146 \nL 110.964106 171.583317 \nL 110.646751 173.789205 \nL 110.329395 175.94221 \nL 110.01204 178.043027 \nL 109.694684 180.09263 \nL 109.377329 182.092265 \nL 109.059974 184.043435 \nL 108.742618 185.947882 \nL 108.425263 187.807568 \nL 108.107908 189.624657 \nL 107.790552 191.401485 \nL 107.473197 193.140542 \nL 107.155841 194.844437 \nL 106.838486 196.51587 \nL 106.521131 198.157604 \nL 106.203775 199.772421 \nL 105.88642 201.363101 \nL 105.569065 202.932374 \nL 105.251709 204.482897 \nL 104.934354 206.017213 \nL 104.616998 207.537717 \nL 104.299643 209.046635 \nL 103.982288 210.545983 \nL 103.664932 212.037554 \nL 103.347577 213.522888 \nL 103.030222 215.003261 \nL 102.712866 216.47967 \nL 102.395511 217.952823 \nL 102.078155 219.42314 \nL 101.7608 220.890753 \nL 101.443445 222.355514 \nL 101.126089 223.817003 \nL 100.808734 225.274552 \nL 100.491379 226.727256 \nL 100.174023 228.174004 \nL 99.856668 229.613501 \nL 99.539313 231.0443 \nL 99.221957 232.464833 \nL 98.904602 233.873441 \nL 98.587246 235.268408 \nL 98.269891 236.647992 \nL 97.952536 238.010458 \nL 97.63518 239.354104 \nL 97.317825 240.67729 \nL 97.00047 241.978465 \nL 96.683114 243.256181 \nL 96.365759 244.509121 \nL 96.048403 245.736105 \nL 95.731048 246.936106 \nL 95.413693 248.108254 \nL 95.096337 249.251843 \nL 94.778982 250.36633 \nL 94.461627 251.45133 \nL 94.144271 252.506613 \nL 93.826916 253.532096 \nL 93.50956 254.527831 \nL 93.192205 255.493995 \nL 92.87485 256.430877 \nL 92.557494 257.338863 \nL 92.240139 258.218424 \nL 91.922784 259.0701 \nL 91.605428 259.894486 \nL 91.288073 260.692224 \nL 90.970717 261.463982 \nL 90.653362 262.210452 \nL 90.336007 262.932334 \nL 90.018651 263.63033 \nL 89.701296 264.305137 \nL 89.383941 264.95744 \nL 89.066585 265.587907 \nL 88.74923 266.197188 \nL 88.431874 266.78591 \nL 88.114519 267.354678 \nL 87.797164 267.904071 \nL 87.479808 268.434645 \nL 87.162453 268.946933 \nL 86.845098 269.441445 \nL 86.527742 269.918669 \nL 86.210387 270.379072 \nL 85.893032 270.823103 \nL 85.575676 271.251191 \nL 85.258321 271.66375 \nL 84.940965 272.061175 \nL 84.62361 272.443846 \nL 84.306255 272.812129 \nL 83.988899 273.166372 \nL 83.671544 273.506913 \nL 83.354189 273.834072 \nL 83.036833 274.148157 \nL 82.719478 274.449463 \nL 82.402122 274.73827 \nL 82.084767 275.01485 \nL 81.767412 275.279462 \nL 81.450056 275.532355 \nL 81.132701 275.773772 \nL 80.815346 276.003948 \nL 80.49799 276.223116 \nL 80.180635 276.431506 \nL 79.863279 276.62935 \nL 79.545924 276.816882 \nL 79.228569 276.994343 \nL 78.911213 277.161983 \nL 78.593858 277.320061 \nL 78.276503 277.468853 \nL 77.959147 277.608645 \nL 77.641792 277.739745 \nL 77.324436 277.862475 \nL 77.007081 277.977178 \nL 76.689726 278.084214 \nL 76.37237 278.183962 \nL 76.055015 278.276818 \nL 75.73766 278.363193 \nL 75.420304 278.443513 \nL 75.102949 278.518211 \nL 74.785593 278.587731 \nL 74.468238 278.65252 \nL 74.150883 278.713025 \nL 73.833527 278.769687 \nL 73.516172 278.822942 \nL 73.198817 278.873213 \nL 72.881461 278.920904 \nL 72.564106 278.966401 \nL 72.246751 279.010067 \nL 71.929395 279.052236 \nL 71.61204 279.093212 \nz\n\" style=\"fill:none;stroke:#0000ff;stroke-width:0.886227;\"/>\n   </g>\n   <g id=\"PolyCollection_2\">\n    <path clip-path=\"url(#p45342a6491)\" d=\"M 71.61204 279.845231 \nL 71.61204 280.304933 \nL 71.929395 280.304933 \nL 72.246751 280.304933 \nL 72.564106 280.304933 \nL 72.881461 280.304933 \nL 73.198817 280.304933 \nL 73.516172 280.304933 \nL 73.833527 280.304933 \nL 74.150883 280.304933 \nL 74.468238 280.304933 \nL 74.785593 280.304933 \nL 75.102949 280.304933 \nL 75.420304 280.304933 \nL 75.73766 280.304933 \nL 76.055015 280.304933 \nL 76.37237 280.304933 \nL 76.689726 280.304933 \nL 77.007081 280.304933 \nL 77.324436 280.304933 \nL 77.641792 280.304933 \nL 77.959147 280.304933 \nL 78.276503 280.304933 \nL 78.593858 280.304933 \nL 78.911213 280.304933 \nL 79.228569 280.304933 \nL 79.545924 280.304933 \nL 79.863279 280.304933 \nL 80.180635 280.304933 \nL 80.49799 280.304933 \nL 80.815346 280.304933 \nL 81.132701 280.304933 \nL 81.450056 280.304933 \nL 81.767412 280.304933 \nL 82.084767 280.304933 \nL 82.402122 280.304933 \nL 82.719478 280.304933 \nL 83.036833 280.304933 \nL 83.354189 280.304933 \nL 83.671544 280.304933 \nL 83.988899 280.304933 \nL 84.306255 280.304933 \nL 84.62361 280.304933 \nL 84.940965 280.304933 \nL 85.258321 280.304933 \nL 85.575676 280.304933 \nL 85.893032 280.304933 \nL 86.210387 280.304933 \nL 86.527742 280.304933 \nL 86.845098 280.304933 \nL 87.162453 280.304933 \nL 87.479808 280.304933 \nL 87.797164 280.304933 \nL 88.114519 280.304933 \nL 88.431874 280.304933 \nL 88.74923 280.304933 \nL 89.066585 280.304933 \nL 89.383941 280.304933 \nL 89.701296 280.304933 \nL 90.018651 280.304933 \nL 90.336007 280.304933 \nL 90.653362 280.304933 \nL 90.970717 280.304933 \nL 91.288073 280.304933 \nL 91.605428 280.304933 \nL 91.922784 280.304933 \nL 92.240139 280.304933 \nL 92.557494 280.304933 \nL 92.87485 280.304933 \nL 93.192205 280.304933 \nL 93.50956 280.304933 \nL 93.826916 280.304933 \nL 94.144271 280.304933 \nL 94.461627 280.304933 \nL 94.778982 280.304933 \nL 95.096337 280.304933 \nL 95.413693 280.304933 \nL 95.731048 280.304933 \nL 96.048403 280.304933 \nL 96.365759 280.304933 \nL 96.683114 280.304933 \nL 97.00047 280.304933 \nL 97.317825 280.304933 \nL 97.63518 280.304933 \nL 97.952536 280.304933 \nL 98.269891 280.304933 \nL 98.587246 280.304933 \nL 98.904602 280.304933 \nL 99.221957 280.304933 \nL 99.539313 280.304933 \nL 99.856668 280.304933 \nL 100.174023 280.304933 \nL 100.491379 280.304933 \nL 100.808734 280.304933 \nL 101.126089 280.304933 \nL 101.443445 280.304933 \nL 101.7608 280.304933 \nL 102.078155 280.304933 \nL 102.395511 280.304933 \nL 102.712866 280.304933 \nL 103.030222 280.304933 \nL 103.347577 280.304933 \nL 103.664932 280.304933 \nL 103.982288 280.304933 \nL 104.299643 280.304933 \nL 104.616998 280.304933 \nL 104.934354 280.304933 \nL 105.251709 280.304933 \nL 105.569065 280.304933 \nL 105.88642 280.304933 \nL 106.203775 280.304933 \nL 106.521131 280.304933 \nL 106.838486 280.304933 \nL 107.155841 280.304933 \nL 107.473197 280.304933 \nL 107.790552 280.304933 \nL 108.107908 280.304933 \nL 108.425263 280.304933 \nL 108.742618 280.304933 \nL 109.059974 280.304933 \nL 109.377329 280.304933 \nL 109.694684 280.304933 \nL 110.01204 280.304933 \nL 110.329395 280.304933 \nL 110.646751 280.304933 \nL 110.964106 280.304933 \nL 111.281461 280.304933 \nL 111.598817 280.304933 \nL 111.916172 280.304933 \nL 112.233527 280.304933 \nL 112.550883 280.304933 \nL 112.868238 280.304933 \nL 113.185593 280.304933 \nL 113.502949 280.304933 \nL 113.820304 280.304933 \nL 114.13766 280.304933 \nL 114.455015 280.304933 \nL 114.77237 280.304933 \nL 115.089726 280.304933 \nL 115.407081 280.304933 \nL 115.724436 280.304933 \nL 116.041792 280.304933 \nL 116.359147 280.304933 \nL 116.676503 280.304933 \nL 116.993858 280.304933 \nL 117.311213 280.304933 \nL 117.628569 280.304933 \nL 117.945924 280.304933 \nL 118.263279 280.304933 \nL 118.580635 280.304933 \nL 118.89799 280.304933 \nL 119.215346 280.304933 \nL 119.532701 280.304933 \nL 119.850056 280.304933 \nL 120.167412 280.304933 \nL 120.484767 280.304933 \nL 120.802122 280.304933 \nL 121.119478 280.304933 \nL 121.436833 280.304933 \nL 121.754189 280.304933 \nL 122.071544 280.304933 \nL 122.388899 280.304933 \nL 122.706255 280.304933 \nL 123.02361 280.304933 \nL 123.340965 280.304933 \nL 123.658321 280.304933 \nL 123.975676 280.304933 \nL 124.293032 280.304933 \nL 124.610387 280.304933 \nL 124.927742 280.304933 \nL 125.245098 280.304933 \nL 125.562453 280.304933 \nL 125.879808 280.304933 \nL 126.197164 280.304933 \nL 126.514519 280.304933 \nL 126.831874 280.304933 \nL 127.14923 280.304933 \nL 127.466585 280.304933 \nL 127.783941 280.304933 \nL 128.101296 280.304933 \nL 128.418651 280.304933 \nL 128.736007 280.304933 \nL 129.053362 280.304933 \nL 129.370717 280.304933 \nL 129.688073 280.304933 \nL 130.005428 280.304933 \nL 130.322784 280.304933 \nL 130.640139 280.304933 \nL 130.957494 280.304933 \nL 131.27485 280.304933 \nL 131.592205 280.304933 \nL 131.90956 280.304933 \nL 132.226916 280.304933 \nL 132.544271 280.304933 \nL 132.861627 280.304933 \nL 133.178982 280.304933 \nL 133.496337 280.304933 \nL 133.813693 280.304933 \nL 134.131048 280.304933 \nL 134.448403 280.304933 \nL 134.765759 280.304933 \nL 135.083114 280.304933 \nL 135.40047 280.304933 \nL 135.717825 280.304933 \nL 136.03518 280.304933 \nL 136.352536 280.304933 \nL 136.669891 280.304933 \nL 136.987246 280.304933 \nL 137.304602 280.304933 \nL 137.621957 280.304933 \nL 137.939312 280.304933 \nL 138.256668 280.304933 \nL 138.574023 280.304933 \nL 138.891379 280.304933 \nL 139.208734 280.304933 \nL 139.526089 280.304933 \nL 139.843445 280.304933 \nL 140.1608 280.304933 \nL 140.478155 280.304933 \nL 140.795511 280.304933 \nL 141.112866 280.304933 \nL 141.430222 280.304933 \nL 141.747577 280.304933 \nL 142.064932 280.304933 \nL 142.382288 280.304933 \nL 142.699643 280.304933 \nL 143.016998 280.304933 \nL 143.334354 280.304933 \nL 143.651709 280.304933 \nL 143.969065 280.304933 \nL 144.28642 280.304933 \nL 144.603775 280.304933 \nL 144.921131 280.304933 \nL 145.238486 280.304933 \nL 145.555841 280.304933 \nL 145.873197 280.304933 \nL 146.190552 280.304933 \nL 146.507908 280.304933 \nL 146.825263 280.304933 \nL 147.142618 280.304933 \nL 147.459974 280.304933 \nL 147.777329 280.304933 \nL 148.094684 280.304933 \nL 148.41204 280.304933 \nL 148.729395 280.304933 \nL 149.046751 280.304933 \nL 149.364106 280.304933 \nL 149.681461 280.304933 \nL 149.998817 280.304933 \nL 150.316172 280.304933 \nL 150.633527 280.304933 \nL 150.950883 280.304933 \nL 151.268238 280.304933 \nL 151.585593 280.304933 \nL 151.902949 280.304933 \nL 152.220304 280.304933 \nL 152.53766 280.304933 \nL 152.855015 280.304933 \nL 153.17237 280.304933 \nL 153.489726 280.304933 \nL 153.807081 280.304933 \nL 154.124436 280.304933 \nL 154.441792 280.304933 \nL 154.759147 280.304933 \nL 155.076503 280.304933 \nL 155.393858 280.304933 \nL 155.711213 280.304933 \nL 156.028569 280.304933 \nL 156.345924 280.304933 \nL 156.663279 280.304933 \nL 156.980635 280.304933 \nL 157.29799 280.304933 \nL 157.615346 280.304933 \nL 157.932701 280.304933 \nL 158.250056 280.304933 \nL 158.567412 280.304933 \nL 158.884767 280.304933 \nL 159.202122 280.304933 \nL 159.519478 280.304933 \nL 159.836833 280.304933 \nL 160.154189 280.304933 \nL 160.471544 280.304933 \nL 160.788899 280.304933 \nL 161.106255 280.304933 \nL 161.42361 280.304933 \nL 161.740965 280.304933 \nL 162.058321 280.304933 \nL 162.375676 280.304933 \nL 162.693032 280.304933 \nL 163.010387 280.304933 \nL 163.327742 280.304933 \nL 163.645098 280.304933 \nL 163.962453 280.304933 \nL 164.279808 280.304933 \nL 164.597164 280.304933 \nL 164.914519 280.304933 \nL 165.231874 280.304933 \nL 165.54923 280.304933 \nL 165.866585 280.304933 \nL 166.183941 280.304933 \nL 166.501296 280.304933 \nL 166.818651 280.304933 \nL 167.136007 280.304933 \nL 167.453362 280.304933 \nL 167.770717 280.304933 \nL 168.088073 280.304933 \nL 168.405428 280.304933 \nL 168.722784 280.304933 \nL 169.040139 280.304933 \nL 169.357494 280.304933 \nL 169.67485 280.304933 \nL 169.992205 280.304933 \nL 170.30956 280.304933 \nL 170.626916 280.304933 \nL 170.944271 280.304933 \nL 171.261627 280.304933 \nL 171.578982 280.304933 \nL 171.896337 280.304933 \nL 172.213693 280.304933 \nL 172.531048 280.304933 \nL 172.848403 280.304933 \nL 173.165759 280.304933 \nL 173.483114 280.304933 \nL 173.80047 280.304933 \nL 174.117825 280.304933 \nL 174.43518 280.304933 \nL 174.752536 280.304933 \nL 175.069891 280.304933 \nL 175.387246 280.304933 \nL 175.704602 280.304933 \nL 176.021957 280.304933 \nL 176.339313 280.304933 \nL 176.656668 280.304933 \nL 176.974023 280.304933 \nL 177.291379 280.304933 \nL 177.608734 280.304933 \nL 177.926089 280.304933 \nL 178.243445 280.304933 \nL 178.5608 280.304933 \nL 178.878155 280.304933 \nL 179.195511 280.304933 \nL 179.512866 280.304933 \nL 179.830222 280.304933 \nL 180.147577 280.304933 \nL 180.464932 280.304933 \nL 180.782288 280.304933 \nL 181.099643 280.304933 \nL 181.416998 280.304933 \nL 181.734354 280.304933 \nL 182.051709 280.304933 \nL 182.369065 280.304933 \nL 182.68642 280.304933 \nL 183.003775 280.304933 \nL 183.321131 280.304933 \nL 183.638486 280.304933 \nL 183.955841 280.304933 \nL 184.273197 280.304933 \nL 184.590552 280.304933 \nL 184.907908 280.304933 \nL 185.225263 280.304933 \nL 185.542618 280.304933 \nL 185.859974 280.304933 \nL 186.177329 280.304933 \nL 186.494684 280.304933 \nL 186.81204 280.304933 \nL 187.129395 280.304933 \nL 187.446751 280.304933 \nL 187.764106 280.304933 \nL 188.081461 280.304933 \nL 188.398817 280.304933 \nL 188.716172 280.304933 \nL 189.033527 280.304933 \nL 189.350883 280.304933 \nL 189.668238 280.304933 \nL 189.985593 280.304933 \nL 190.302949 280.304933 \nL 190.620304 280.304933 \nL 190.93766 280.304933 \nL 191.255015 280.304933 \nL 191.57237 280.304933 \nL 191.889726 280.304933 \nL 192.207081 280.304933 \nL 192.524436 280.304933 \nL 192.841792 280.304933 \nL 193.159147 280.304933 \nL 193.476503 280.304933 \nL 193.793858 280.304933 \nL 194.111213 280.304933 \nL 194.428569 280.304933 \nL 194.745924 280.304933 \nL 195.063279 280.304933 \nL 195.380635 280.304933 \nL 195.69799 280.304933 \nL 196.015346 280.304933 \nL 196.332701 280.304933 \nL 196.650056 280.304933 \nL 196.967412 280.304933 \nL 197.284767 280.304933 \nL 197.602122 280.304933 \nL 197.919478 280.304933 \nL 198.236833 280.304933 \nL 198.554189 280.304933 \nL 198.871544 280.304933 \nL 199.188899 280.304933 \nL 199.506255 280.304933 \nL 199.82361 280.304933 \nL 200.140965 280.304933 \nL 200.458321 280.304933 \nL 200.775676 280.304933 \nL 201.093032 280.304933 \nL 201.410387 280.304933 \nL 201.727742 280.304933 \nL 202.045098 280.304933 \nL 202.362453 280.304933 \nL 202.679808 280.304933 \nL 202.997164 280.304933 \nL 203.314519 280.304933 \nL 203.631874 280.304933 \nL 203.94923 280.304933 \nL 204.266585 280.304933 \nL 204.583941 280.304933 \nL 204.901296 280.304933 \nL 205.218651 280.304933 \nL 205.536007 280.304933 \nL 205.853362 280.304933 \nL 206.170717 280.304933 \nL 206.488073 280.304933 \nL 206.805428 280.304933 \nL 207.122784 280.304933 \nL 207.440139 280.304933 \nL 207.757494 280.304933 \nL 208.07485 280.304933 \nL 208.392205 280.304933 \nL 208.70956 280.304933 \nL 209.026916 280.304933 \nL 209.344271 280.304933 \nL 209.661627 280.304933 \nL 209.978982 280.304933 \nL 210.296337 280.304933 \nL 210.613693 280.304933 \nL 210.931048 280.304933 \nL 211.248403 280.304933 \nL 211.565759 280.304933 \nL 211.883114 280.304933 \nL 212.20047 280.304933 \nL 212.517825 280.304933 \nL 212.83518 280.304933 \nL 213.152536 280.304933 \nL 213.469891 280.304933 \nL 213.787246 280.304933 \nL 214.104602 280.304933 \nL 214.421957 280.304933 \nL 214.739312 280.304933 \nL 215.056668 280.304933 \nL 215.374023 280.304933 \nL 215.691379 280.304933 \nL 216.008734 280.304933 \nL 216.326089 280.304933 \nL 216.643445 280.304933 \nL 216.9608 280.304933 \nL 217.278155 280.304933 \nL 217.595511 280.304933 \nL 217.912866 280.304933 \nL 218.230222 280.304933 \nL 218.547577 280.304933 \nL 218.864932 280.304933 \nL 219.182288 280.304933 \nL 219.499643 280.304933 \nL 219.816998 280.304933 \nL 220.134354 280.304933 \nL 220.451709 280.304933 \nL 220.769065 280.304933 \nL 221.08642 280.304933 \nL 221.403775 280.304933 \nL 221.721131 280.304933 \nL 222.038486 280.304933 \nL 222.355841 280.304933 \nL 222.673197 280.304933 \nL 222.990552 280.304933 \nL 223.307908 280.304933 \nL 223.625263 280.304933 \nL 223.942618 280.304933 \nL 224.259974 280.304933 \nL 224.577329 280.304933 \nL 224.894684 280.304933 \nL 225.21204 280.304933 \nL 225.529395 280.304933 \nL 225.846751 280.304933 \nL 226.164106 280.304933 \nL 226.481461 280.304933 \nL 226.798817 280.304933 \nL 227.116172 280.304933 \nL 227.433527 280.304933 \nL 227.750883 280.304933 \nL 228.068238 280.304933 \nL 228.385593 280.304933 \nL 228.702949 280.304933 \nL 229.020304 280.304933 \nL 229.33766 280.304933 \nL 229.655015 280.304933 \nL 229.97237 280.304933 \nL 230.289726 280.304933 \nL 230.607081 280.304933 \nL 230.924436 280.304933 \nL 231.241792 280.304933 \nL 231.559147 280.304933 \nL 231.876503 280.304933 \nL 232.193858 280.304933 \nL 232.511213 280.304933 \nL 232.828569 280.304933 \nL 233.145924 280.304933 \nL 233.463279 280.304933 \nL 233.780635 280.304933 \nL 234.09799 280.304933 \nL 234.415346 280.304933 \nL 234.732701 280.304933 \nL 235.050056 280.304933 \nL 235.367412 280.304933 \nL 235.684767 280.304933 \nL 236.002122 280.304933 \nL 236.319478 280.304933 \nL 236.636833 280.304933 \nL 236.954189 280.304933 \nL 237.271544 280.304933 \nL 237.588899 280.304933 \nL 237.906255 280.304933 \nL 238.22361 280.304933 \nL 238.540965 280.304933 \nL 238.858321 280.304933 \nL 239.175676 280.304933 \nL 239.493032 280.304933 \nL 239.810387 280.304933 \nL 240.127742 280.304933 \nL 240.445098 280.304933 \nL 240.762453 280.304933 \nL 241.079808 280.304933 \nL 241.397164 280.304933 \nL 241.714519 280.304933 \nL 242.031874 280.304933 \nL 242.34923 280.304933 \nL 242.666585 280.304933 \nL 242.983941 280.304933 \nL 243.301296 280.304933 \nL 243.618651 280.304933 \nL 243.936007 280.304933 \nL 244.253362 280.304933 \nL 244.570717 280.304933 \nL 244.888073 280.304933 \nL 245.205428 280.304933 \nL 245.522784 280.304933 \nL 245.840139 280.304933 \nL 246.157494 280.304933 \nL 246.47485 280.304933 \nL 246.792205 280.304933 \nL 247.10956 280.304933 \nL 247.426916 280.304933 \nL 247.744271 280.304933 \nL 248.061627 280.304933 \nL 248.378982 280.304933 \nL 248.696337 280.304933 \nL 249.013693 280.304933 \nL 249.331048 280.304933 \nL 249.648403 280.304933 \nL 249.965759 280.304933 \nL 250.283114 280.304933 \nL 250.60047 280.304933 \nL 250.917825 280.304933 \nL 251.23518 280.304933 \nL 251.552536 280.304933 \nL 251.869891 280.304933 \nL 252.187246 280.304933 \nL 252.504602 280.304933 \nL 252.821957 280.304933 \nL 253.139312 280.304933 \nL 253.456668 280.304933 \nL 253.774023 280.304933 \nL 254.091379 280.304933 \nL 254.408734 280.304933 \nL 254.726089 280.304933 \nL 255.043445 280.304933 \nL 255.3608 280.304933 \nL 255.678155 280.304933 \nL 255.995511 280.304933 \nL 256.312866 280.304933 \nL 256.630222 280.304933 \nL 256.947577 280.304933 \nL 257.264932 280.304933 \nL 257.582288 280.304933 \nL 257.899643 280.304933 \nL 258.216998 280.304933 \nL 258.534354 280.304933 \nL 258.851709 280.304933 \nL 259.169065 280.304933 \nL 259.48642 280.304933 \nL 259.803775 280.304933 \nL 260.121131 280.304933 \nL 260.438486 280.304933 \nL 260.755841 280.304933 \nL 261.073197 280.304933 \nL 261.390552 280.304933 \nL 261.707908 280.304933 \nL 262.025263 280.304933 \nL 262.342618 280.304933 \nL 262.659974 280.304933 \nL 262.977329 280.304933 \nL 263.294684 280.304933 \nL 263.61204 280.304933 \nL 263.929395 280.304933 \nL 264.246751 280.304933 \nL 264.564106 280.304933 \nL 264.881461 280.304933 \nL 265.198817 280.304933 \nL 265.516172 280.304933 \nL 265.833527 280.304933 \nL 266.150883 280.304933 \nL 266.468238 280.304933 \nL 266.785593 280.304933 \nL 267.102949 280.304933 \nL 267.420304 280.304933 \nL 267.73766 280.304933 \nL 268.055015 280.304933 \nL 268.37237 280.304933 \nL 268.689726 280.304933 \nL 269.007081 280.304933 \nL 269.324436 280.304933 \nL 269.641792 280.304933 \nL 269.959147 280.304933 \nL 270.276503 280.304933 \nL 270.593858 280.304933 \nL 270.911213 280.304933 \nL 271.228569 280.304933 \nL 271.545924 280.304933 \nL 271.863279 280.304933 \nL 272.180635 280.304933 \nL 272.49799 280.304933 \nL 272.815346 280.304933 \nL 273.132701 280.304933 \nL 273.450056 280.304933 \nL 273.767412 280.304933 \nL 274.084767 280.304933 \nL 274.402122 280.304933 \nL 274.719478 280.304933 \nL 275.036833 280.304933 \nL 275.354189 280.304933 \nL 275.671544 280.304933 \nL 275.988899 280.304933 \nL 276.306255 280.304933 \nL 276.62361 280.304933 \nL 276.940965 280.304933 \nL 277.258321 280.304933 \nL 277.575676 280.304933 \nL 277.893032 280.304933 \nL 278.210387 280.304933 \nL 278.527742 280.304933 \nL 278.845098 280.304933 \nL 279.162453 280.304933 \nL 279.479808 280.304933 \nL 279.797164 280.304933 \nL 280.114519 280.304933 \nL 280.431874 280.304933 \nL 280.74923 280.304933 \nL 281.066585 280.304933 \nL 281.383941 280.304933 \nL 281.701296 280.304933 \nL 282.018651 280.304933 \nL 282.336007 280.304933 \nL 282.653362 280.304933 \nL 282.970717 280.304933 \nL 283.288073 280.304933 \nL 283.605428 280.304933 \nL 283.922784 280.304933 \nL 284.240139 280.304933 \nL 284.557494 280.304933 \nL 284.87485 280.304933 \nL 285.192205 280.304933 \nL 285.50956 280.304933 \nL 285.826916 280.304933 \nL 286.144271 280.304933 \nL 286.461627 280.304933 \nL 286.778982 280.304933 \nL 287.096337 280.304933 \nL 287.413693 280.304933 \nL 287.731048 280.304933 \nL 288.048403 280.304933 \nL 288.365759 280.304933 \nL 288.683114 280.304933 \nL 289.00047 280.304933 \nL 289.317825 280.304933 \nL 289.63518 280.304933 \nL 289.952536 280.304933 \nL 290.269891 280.304933 \nL 290.587246 280.304933 \nL 290.904602 280.304933 \nL 291.221957 280.304933 \nL 291.539312 280.304933 \nL 291.856668 280.304933 \nL 292.174023 280.304933 \nL 292.491379 280.304933 \nL 292.808734 280.304933 \nL 293.126089 280.304933 \nL 293.443445 280.304933 \nL 293.7608 280.304933 \nL 294.078155 280.304933 \nL 294.395511 280.304933 \nL 294.712866 280.304933 \nL 295.030222 280.304933 \nL 295.347577 280.304933 \nL 295.664932 280.304933 \nL 295.982288 280.304933 \nL 296.299643 280.304933 \nL 296.616998 280.304933 \nL 296.934354 280.304933 \nL 297.251709 280.304933 \nL 297.569065 280.304933 \nL 297.88642 280.304933 \nL 298.203775 280.304933 \nL 298.521131 280.304933 \nL 298.838486 280.304933 \nL 299.155841 280.304933 \nL 299.473197 280.304933 \nL 299.790552 280.304933 \nL 300.107908 280.304933 \nL 300.425263 280.304933 \nL 300.742618 280.304933 \nL 301.059974 280.304933 \nL 301.377329 280.304933 \nL 301.694684 280.304933 \nL 302.01204 280.304933 \nL 302.329395 280.304933 \nL 302.646751 280.304933 \nL 302.964106 280.304933 \nL 303.281461 280.304933 \nL 303.598817 280.304933 \nL 303.916172 280.304933 \nL 304.233527 280.304933 \nL 304.550883 280.304933 \nL 304.868238 280.304933 \nL 305.185593 280.304933 \nL 305.502949 280.304933 \nL 305.820304 280.304933 \nL 306.13766 280.304933 \nL 306.455015 280.304933 \nL 306.77237 280.304933 \nL 307.089726 280.304933 \nL 307.407081 280.304933 \nL 307.724436 280.304933 \nL 308.041792 280.304933 \nL 308.359147 280.304933 \nL 308.676503 280.304933 \nL 308.993858 280.304933 \nL 309.311213 280.304933 \nL 309.628569 280.304933 \nL 309.945924 280.304933 \nL 310.263279 280.304933 \nL 310.580635 280.304933 \nL 310.89799 280.304933 \nL 311.215346 280.304933 \nL 311.532701 280.304933 \nL 311.850056 280.304933 \nL 312.167412 280.304933 \nL 312.484767 280.304933 \nL 312.802122 280.304933 \nL 313.119478 280.304933 \nL 313.436833 280.304933 \nL 313.754189 280.304933 \nL 314.071544 280.304933 \nL 314.388899 280.304933 \nL 314.706255 280.304933 \nL 315.02361 280.304933 \nL 315.340965 280.304933 \nL 315.658321 280.304933 \nL 315.975676 280.304933 \nL 316.293032 280.304933 \nL 316.610387 280.304933 \nL 316.927742 280.304933 \nL 317.245098 280.304933 \nL 317.562453 280.304933 \nL 317.879808 280.304933 \nL 318.197164 280.304933 \nL 318.514519 280.304933 \nL 318.831874 280.304933 \nL 319.14923 280.304933 \nL 319.466585 280.304933 \nL 319.783941 280.304933 \nL 320.101296 280.304933 \nL 320.418651 280.304933 \nL 320.736007 280.304933 \nL 321.053362 280.304933 \nL 321.370717 280.304933 \nL 321.688073 280.304933 \nL 322.005428 280.304933 \nL 322.322784 280.304933 \nL 322.640139 280.304933 \nL 322.957494 280.304933 \nL 323.27485 280.304933 \nL 323.592205 280.304933 \nL 323.90956 280.304933 \nL 324.226916 280.304933 \nL 324.544271 280.304933 \nL 324.861627 280.304933 \nL 325.178982 280.304933 \nL 325.496337 280.304933 \nL 325.813693 280.304933 \nL 326.131048 280.304933 \nL 326.448403 280.304933 \nL 326.765759 280.304933 \nL 327.083114 280.304933 \nL 327.40047 280.304933 \nL 327.717825 280.304933 \nL 328.03518 280.304933 \nL 328.352536 280.304933 \nL 328.669891 280.304933 \nL 328.987246 280.304933 \nL 329.304602 280.304933 \nL 329.621957 280.304933 \nL 329.939313 280.304933 \nL 330.256668 280.304933 \nL 330.574023 280.304933 \nL 330.891379 280.304933 \nL 331.208734 280.304933 \nL 331.526089 280.304933 \nL 331.843445 280.304933 \nL 332.1608 280.304933 \nL 332.478155 280.304933 \nL 332.795511 280.304933 \nL 333.112866 280.304933 \nL 333.430222 280.304933 \nL 333.747577 280.304933 \nL 334.064932 280.304933 \nL 334.382288 280.304933 \nL 334.699643 280.304933 \nL 335.016998 280.304933 \nL 335.334354 280.304933 \nL 335.651709 280.304933 \nL 335.969065 280.304933 \nL 336.28642 280.304933 \nL 336.603775 280.304933 \nL 336.921131 280.304933 \nL 337.238486 280.304933 \nL 337.555841 280.304933 \nL 337.873197 280.304933 \nL 338.190552 280.304933 \nL 338.507908 280.304933 \nL 338.825263 280.304933 \nL 339.142618 280.304933 \nL 339.459974 280.304933 \nL 339.777329 280.304933 \nL 340.094684 280.304933 \nL 340.41204 280.304933 \nL 340.729395 280.304933 \nL 341.046751 280.304933 \nL 341.364106 280.304933 \nL 341.681461 280.304933 \nL 341.998817 280.304933 \nL 342.316172 280.304933 \nL 342.633527 280.304933 \nL 342.950883 280.304933 \nL 343.268238 280.304933 \nL 343.585593 280.304933 \nL 343.902949 280.304933 \nL 344.220304 280.304933 \nL 344.53766 280.304933 \nL 344.855015 280.304933 \nL 345.17237 280.304933 \nL 345.489726 280.304933 \nL 345.807081 280.304933 \nL 346.124436 280.304933 \nL 346.441792 280.304933 \nL 346.759147 280.304933 \nL 347.076503 280.304933 \nL 347.393858 280.304933 \nL 347.711213 280.304933 \nL 348.028569 280.304933 \nL 348.345924 280.304933 \nL 348.663279 280.304933 \nL 348.980635 280.304933 \nL 349.29799 280.304933 \nL 349.615346 280.304933 \nL 349.932701 280.304933 \nL 350.250056 280.304933 \nL 350.567412 280.304933 \nL 350.884767 280.304933 \nL 351.202122 280.304933 \nL 351.519478 280.304933 \nL 351.836833 280.304933 \nL 352.154189 280.304933 \nL 352.471544 280.304933 \nL 352.788899 280.304933 \nL 353.106255 280.304933 \nL 353.42361 280.304933 \nL 353.740965 280.304933 \nL 354.058321 280.304933 \nL 354.375676 280.304933 \nL 354.693032 280.304933 \nL 355.010387 280.304933 \nL 355.327742 280.304933 \nL 355.645098 280.304933 \nL 355.962453 280.304933 \nL 356.279808 280.304933 \nL 356.597164 280.304933 \nL 356.914519 280.304933 \nL 357.231874 280.304933 \nL 357.54923 280.304933 \nL 357.866585 280.304933 \nL 358.183941 280.304933 \nL 358.501296 280.304933 \nL 358.818651 280.304933 \nL 359.136007 280.304933 \nL 359.453362 280.304933 \nL 359.770717 280.304933 \nL 360.088073 280.304933 \nL 360.405428 280.304933 \nL 360.722784 280.304933 \nL 361.040139 280.304933 \nL 361.357494 280.304933 \nL 361.67485 280.304933 \nL 361.992205 280.304933 \nL 362.30956 280.304933 \nL 362.626916 280.304933 \nL 362.944271 280.304933 \nL 363.261627 280.304933 \nL 363.578982 280.304933 \nL 363.896337 280.304933 \nL 364.213693 280.304933 \nL 364.531048 280.304933 \nL 364.848403 280.304933 \nL 365.165759 280.304933 \nL 365.483114 280.304933 \nL 365.80047 280.304933 \nL 366.117825 280.304933 \nL 366.43518 280.304933 \nL 366.752536 280.304933 \nL 367.069891 280.304933 \nL 367.387246 280.304933 \nL 367.704602 280.304933 \nL 368.021957 280.304933 \nL 368.339313 280.304933 \nL 368.656668 280.304933 \nL 368.974023 280.304933 \nL 369.291379 280.304933 \nL 369.608734 280.304933 \nL 369.926089 280.304933 \nL 370.243445 280.304933 \nL 370.5608 280.304933 \nL 370.878155 280.304933 \nL 371.195511 280.304933 \nL 371.512866 280.304933 \nL 371.830222 280.304933 \nL 372.147577 280.304933 \nL 372.464932 280.304933 \nL 372.782288 280.304933 \nL 373.099643 280.304933 \nL 373.416998 280.304933 \nL 373.734354 280.304933 \nL 374.051709 280.304933 \nL 374.369065 280.304933 \nL 374.68642 280.304933 \nL 375.003775 280.304933 \nL 375.321131 280.304933 \nL 375.638486 280.304933 \nL 375.955841 280.304933 \nL 376.273197 280.304933 \nL 376.590552 280.304933 \nL 376.907908 280.304933 \nL 377.225263 280.304933 \nL 377.542618 280.304933 \nL 377.859974 280.304933 \nL 378.177329 280.304933 \nL 378.494684 280.304933 \nL 378.81204 280.304933 \nL 379.129395 280.304933 \nL 379.446751 280.304933 \nL 379.764106 280.304933 \nL 380.081461 280.304933 \nL 380.398817 280.304933 \nL 380.716172 280.304933 \nL 381.033527 280.304933 \nL 381.350883 280.304933 \nL 381.668238 280.304933 \nL 381.985593 280.304933 \nL 382.302949 280.304933 \nL 382.620304 280.304933 \nL 382.93766 280.304933 \nL 383.255015 280.304933 \nL 383.57237 280.304933 \nL 383.889726 280.304933 \nL 384.207081 280.304933 \nL 384.524436 280.304933 \nL 384.841792 280.304933 \nL 385.159147 280.304933 \nL 385.476503 280.304933 \nL 385.793858 280.304933 \nL 386.111213 280.304933 \nL 386.428569 280.304933 \nL 386.745924 280.304933 \nL 387.063279 280.304933 \nL 387.380635 280.304933 \nL 387.69799 280.304933 \nL 388.015346 280.304933 \nL 388.332701 280.304933 \nL 388.650056 280.304933 \nL 388.967412 280.304933 \nL 389.284767 280.304933 \nL 389.602122 280.304933 \nL 389.919478 280.304933 \nL 390.236833 280.304933 \nL 390.554189 280.304933 \nL 390.871544 280.304933 \nL 391.188899 280.304933 \nL 391.506255 280.304933 \nL 391.82361 280.304933 \nL 392.140965 280.304933 \nL 392.458321 280.304933 \nL 392.775676 280.304933 \nL 393.093032 280.304933 \nL 393.410387 280.304933 \nL 393.727742 280.304933 \nL 394.045098 280.304933 \nL 394.362453 280.304933 \nL 394.679808 280.304933 \nL 394.997164 280.304933 \nL 395.314519 280.304933 \nL 395.631874 280.304933 \nL 395.94923 280.304933 \nL 396.266585 280.304933 \nL 396.266585 280.304933 \nL 396.266585 280.304933 \nL 395.94923 280.304933 \nL 395.631874 280.304933 \nL 395.314519 280.304933 \nL 394.997164 280.304933 \nL 394.679808 280.304933 \nL 394.362453 280.304933 \nL 394.045098 280.304933 \nL 393.727742 280.304933 \nL 393.410387 280.304933 \nL 393.093032 280.304933 \nL 392.775676 280.304933 \nL 392.458321 280.304933 \nL 392.140965 280.304933 \nL 391.82361 280.304933 \nL 391.506255 280.304933 \nL 391.188899 280.304933 \nL 390.871544 280.304933 \nL 390.554189 280.304933 \nL 390.236833 280.304933 \nL 389.919478 280.304933 \nL 389.602122 280.304933 \nL 389.284767 280.304933 \nL 388.967412 280.304933 \nL 388.650056 280.304933 \nL 388.332701 280.304933 \nL 388.015346 280.304933 \nL 387.69799 280.304933 \nL 387.380635 280.304933 \nL 387.063279 280.304933 \nL 386.745924 280.304933 \nL 386.428569 280.304933 \nL 386.111213 280.304933 \nL 385.793858 280.304933 \nL 385.476503 280.304933 \nL 385.159147 280.304933 \nL 384.841792 280.304933 \nL 384.524436 280.304933 \nL 384.207081 280.304933 \nL 383.889726 280.304933 \nL 383.57237 280.304933 \nL 383.255015 280.304933 \nL 382.93766 280.304933 \nL 382.620304 280.304933 \nL 382.302949 280.304933 \nL 381.985593 280.304933 \nL 381.668238 280.304933 \nL 381.350883 280.304933 \nL 381.033527 280.304933 \nL 380.716172 280.304933 \nL 380.398817 280.304933 \nL 380.081461 280.304933 \nL 379.764106 280.304933 \nL 379.446751 280.304933 \nL 379.129395 280.304933 \nL 378.81204 280.304933 \nL 378.494684 280.304933 \nL 378.177329 280.304933 \nL 377.859974 280.304933 \nL 377.542618 280.304933 \nL 377.225263 280.304933 \nL 376.907908 280.304933 \nL 376.590552 280.304933 \nL 376.273197 280.304933 \nL 375.955841 280.304933 \nL 375.638486 280.304933 \nL 375.321131 280.304933 \nL 375.003775 280.304933 \nL 374.68642 280.304933 \nL 374.369065 280.304933 \nL 374.051709 280.304933 \nL 373.734354 280.304933 \nL 373.416998 280.304933 \nL 373.099643 280.304933 \nL 372.782288 280.304933 \nL 372.464932 280.304933 \nL 372.147577 280.304933 \nL 371.830222 280.304933 \nL 371.512866 280.304933 \nL 371.195511 280.304933 \nL 370.878155 280.304933 \nL 370.5608 280.304932 \nL 370.243445 280.304932 \nL 369.926089 280.304932 \nL 369.608734 280.304931 \nL 369.291379 280.304931 \nL 368.974023 280.30493 \nL 368.656668 280.304929 \nL 368.339313 280.304928 \nL 368.021957 280.304926 \nL 367.704602 280.304924 \nL 367.387246 280.304922 \nL 367.069891 280.304919 \nL 366.752536 280.304914 \nL 366.43518 280.304909 \nL 366.117825 280.304902 \nL 365.80047 280.304894 \nL 365.483114 280.304883 \nL 365.165759 280.304869 \nL 364.848403 280.304852 \nL 364.531048 280.304831 \nL 364.213693 280.304805 \nL 363.896337 280.304772 \nL 363.578982 280.304732 \nL 363.261627 280.304682 \nL 362.944271 280.304621 \nL 362.626916 280.304546 \nL 362.30956 280.304454 \nL 361.992205 280.304343 \nL 361.67485 280.304208 \nL 361.357494 280.304044 \nL 361.040139 280.303847 \nL 360.722784 280.30361 \nL 360.405428 280.303326 \nL 360.088073 280.302987 \nL 359.770717 280.302583 \nL 359.453362 280.302103 \nL 359.136007 280.301535 \nL 358.818651 280.300866 \nL 358.501296 280.300078 \nL 358.183941 280.299155 \nL 357.866585 280.298076 \nL 357.54923 280.29682 \nL 357.231874 280.295362 \nL 356.914519 280.293674 \nL 356.597164 280.291728 \nL 356.279808 280.289489 \nL 355.962453 280.286924 \nL 355.645098 280.283995 \nL 355.327742 280.280659 \nL 355.010387 280.276874 \nL 354.693032 280.272594 \nL 354.375676 280.267768 \nL 354.058321 280.262348 \nL 353.740965 280.256278 \nL 353.42361 280.249505 \nL 353.106255 280.241974 \nL 352.788899 280.233627 \nL 352.471544 280.224408 \nL 352.154189 280.214262 \nL 351.836833 280.203134 \nL 351.519478 280.190973 \nL 351.202122 280.177731 \nL 350.884767 280.163362 \nL 350.567412 280.147828 \nL 350.250056 280.131096 \nL 349.932701 280.11314 \nL 349.615346 280.093945 \nL 349.29799 280.073501 \nL 348.980635 280.051813 \nL 348.663279 280.028894 \nL 348.345924 280.004772 \nL 348.028569 279.979487 \nL 347.711213 279.953092 \nL 347.393858 279.925655 \nL 347.076503 279.897257 \nL 346.759147 279.867995 \nL 346.441792 279.83798 \nL 346.124436 279.807336 \nL 345.807081 279.7762 \nL 345.489726 279.744722 \nL 345.17237 279.713061 \nL 344.855015 279.681388 \nL 344.53766 279.64988 \nL 344.220304 279.61872 \nL 343.902949 279.588097 \nL 343.585593 279.558197 \nL 343.268238 279.529209 \nL 342.950883 279.501317 \nL 342.633527 279.474698 \nL 342.316172 279.44952 \nL 341.998817 279.425941 \nL 341.681461 279.404103 \nL 341.364106 279.384134 \nL 341.046751 279.36614 \nL 340.729395 279.35021 \nL 340.41204 279.336406 \nL 340.094684 279.32477 \nL 339.777329 279.315316 \nL 339.459974 279.308036 \nL 339.142618 279.302891 \nL 338.825263 279.299821 \nL 338.507908 279.298737 \nL 338.190552 279.299528 \nL 337.873197 279.302058 \nL 337.555841 279.306172 \nL 337.238486 279.311695 \nL 336.921131 279.318435 \nL 336.603775 279.326189 \nL 336.28642 279.334741 \nL 335.969065 279.34387 \nL 335.651709 279.353349 \nL 335.334354 279.362955 \nL 335.016998 279.372464 \nL 334.699643 279.381663 \nL 334.382288 279.390348 \nL 334.064932 279.398329 \nL 333.747577 279.405435 \nL 333.430222 279.411512 \nL 333.112866 279.416432 \nL 332.795511 279.420088 \nL 332.478155 279.422402 \nL 332.1608 279.423321 \nL 331.843445 279.422823 \nL 331.526089 279.420914 \nL 331.208734 279.417625 \nL 330.891379 279.413018 \nL 330.574023 279.407182 \nL 330.256668 279.400227 \nL 329.939313 279.392288 \nL 329.621957 279.383521 \nL 329.304602 279.374097 \nL 328.987246 279.364202 \nL 328.669891 279.354032 \nL 328.352536 279.343792 \nL 328.03518 279.333688 \nL 327.717825 279.323925 \nL 327.40047 279.314705 \nL 327.083114 279.306222 \nL 326.765759 279.298656 \nL 326.448403 279.292173 \nL 326.131048 279.28692 \nL 325.813693 279.283023 \nL 325.496337 279.280583 \nL 325.178982 279.279674 \nL 324.861627 279.280344 \nL 324.544271 279.28261 \nL 324.226916 279.286457 \nL 323.90956 279.291844 \nL 323.592205 279.298694 \nL 323.27485 279.306903 \nL 322.957494 279.316337 \nL 322.640139 279.326835 \nL 322.322784 279.33821 \nL 322.005428 279.350251 \nL 321.688073 279.362726 \nL 321.370717 279.375385 \nL 321.053362 279.387963 \nL 320.736007 279.400185 \nL 320.418651 279.411765 \nL 320.101296 279.422414 \nL 319.783941 279.431842 \nL 319.466585 279.439761 \nL 319.14923 279.445891 \nL 318.831874 279.449958 \nL 318.514519 279.451705 \nL 318.197164 279.45089 \nL 317.879808 279.447289 \nL 317.562453 279.4407 \nL 317.245098 279.430947 \nL 316.927742 279.41788 \nL 316.610387 279.401377 \nL 316.293032 279.381347 \nL 315.975676 279.357731 \nL 315.658321 279.3305 \nL 315.340965 279.29966 \nL 315.02361 279.26525 \nL 314.706255 279.227344 \nL 314.388899 279.186047 \nL 314.071544 279.141497 \nL 313.754189 279.093865 \nL 313.436833 279.04335 \nL 313.119478 278.990182 \nL 312.802122 278.934619 \nL 312.484767 278.876942 \nL 312.167412 278.817458 \nL 311.850056 278.756493 \nL 311.532701 278.694394 \nL 311.215346 278.631521 \nL 310.89799 278.568248 \nL 310.580635 278.504962 \nL 310.263279 278.442053 \nL 309.945924 278.379919 \nL 309.628569 278.318956 \nL 309.311213 278.259561 \nL 308.993858 278.202124 \nL 308.676503 278.147027 \nL 308.359147 278.09464 \nL 308.041792 278.045322 \nL 307.724436 277.999409 \nL 307.407081 277.957223 \nL 307.089726 277.919059 \nL 306.77237 277.885188 \nL 306.455015 277.855852 \nL 306.13766 277.831266 \nL 305.820304 277.811611 \nL 305.502949 277.797034 \nL 305.185593 277.787647 \nL 304.868238 277.783527 \nL 304.550883 277.784712 \nL 304.233527 277.791204 \nL 303.916172 277.802965 \nL 303.598817 277.819918 \nL 303.281461 277.841952 \nL 302.964106 277.868914 \nL 302.646751 277.900618 \nL 302.329395 277.936842 \nL 302.01204 277.977329 \nL 301.694684 278.021793 \nL 301.377329 278.069918 \nL 301.059974 278.121359 \nL 300.742618 278.17575 \nL 300.425263 278.232701 \nL 300.107908 278.291806 \nL 299.790552 278.352641 \nL 299.473197 278.414774 \nL 299.155841 278.477762 \nL 298.838486 278.541159 \nL 298.521131 278.604517 \nL 298.203775 278.66739 \nL 297.88642 278.72934 \nL 297.569065 278.789935 \nL 297.251709 278.84876 \nL 296.934354 278.905412 \nL 296.616998 278.95951 \nL 296.299643 279.010692 \nL 295.982288 279.058624 \nL 295.664932 279.102996 \nL 295.347577 279.143531 \nL 295.030222 279.179979 \nL 294.712866 279.212127 \nL 294.395511 279.239797 \nL 294.078155 279.262845 \nL 293.7608 279.281167 \nL 293.443445 279.294694 \nL 293.126089 279.3034 \nL 292.808734 279.307294 \nL 292.491379 279.306426 \nL 292.174023 279.300885 \nL 291.856668 279.290799 \nL 291.539312 279.276329 \nL 291.221957 279.257678 \nL 290.904602 279.235079 \nL 290.587246 279.208801 \nL 290.269891 279.179141 \nL 289.952536 279.146428 \nL 289.63518 279.111014 \nL 289.317825 279.073276 \nL 289.00047 279.033609 \nL 288.683114 278.992427 \nL 288.365759 278.950155 \nL 288.048403 278.907227 \nL 287.731048 278.864085 \nL 287.413693 278.821167 \nL 287.096337 278.778913 \nL 286.778982 278.737752 \nL 286.461627 278.698103 \nL 286.144271 278.660368 \nL 285.826916 278.624929 \nL 285.50956 278.592146 \nL 285.192205 278.562347 \nL 284.87485 278.535831 \nL 284.557494 278.512862 \nL 284.240139 278.493665 \nL 283.922784 278.478425 \nL 283.605428 278.467284 \nL 283.288073 278.46034 \nL 282.970717 278.457646 \nL 282.653362 278.459206 \nL 282.336007 278.464979 \nL 282.018651 278.474877 \nL 281.701296 278.488766 \nL 281.383941 278.506468 \nL 281.066585 278.527761 \nL 280.74923 278.552383 \nL 280.431874 278.580034 \nL 280.114519 278.61038 \nL 279.797164 278.643052 \nL 279.479808 278.677657 \nL 279.162453 278.713776 \nL 278.845098 278.750971 \nL 278.527742 278.788786 \nL 278.210387 278.826758 \nL 277.893032 278.864415 \nL 277.575676 278.901283 \nL 277.258321 278.936892 \nL 276.940965 278.970777 \nL 276.62361 279.002485 \nL 276.306255 279.031579 \nL 275.988899 279.057639 \nL 275.671544 279.080271 \nL 275.354189 279.099104 \nL 275.036833 279.113797 \nL 274.719478 279.124042 \nL 274.402122 279.129562 \nL 274.084767 279.13012 \nL 273.767412 279.125513 \nL 273.450056 279.115578 \nL 273.132701 279.100193 \nL 272.815346 279.079273 \nL 272.49799 279.052774 \nL 272.180635 279.020693 \nL 271.863279 278.983061 \nL 271.545924 278.939951 \nL 271.228569 278.891467 \nL 270.911213 278.83775 \nL 270.593858 278.778969 \nL 270.276503 278.715324 \nL 269.959147 278.647038 \nL 269.641792 278.574358 \nL 269.324436 278.49755 \nL 269.007081 278.416897 \nL 268.689726 278.33269 \nL 268.37237 278.245234 \nL 268.055015 278.154834 \nL 267.73766 278.061801 \nL 267.420304 277.966441 \nL 267.102949 277.869056 \nL 266.785593 277.769942 \nL 266.468238 277.669383 \nL 266.150883 277.567648 \nL 265.833527 277.464995 \nL 265.516172 277.361663 \nL 265.198817 277.257873 \nL 264.881461 277.153828 \nL 264.564106 277.049712 \nL 264.246751 276.945689 \nL 263.929395 276.841904 \nL 263.61204 276.738484 \nL 263.294684 276.635538 \nL 262.977329 276.533159 \nL 262.659974 276.431427 \nL 262.342618 276.330406 \nL 262.025263 276.230152 \nL 261.707908 276.130709 \nL 261.390552 276.032115 \nL 261.073197 275.934402 \nL 260.755841 275.837601 \nL 260.438486 275.741736 \nL 260.121131 275.646837 \nL 259.803775 275.552928 \nL 259.48642 275.46004 \nL 259.169065 275.368205 \nL 258.851709 275.277458 \nL 258.534354 275.187836 \nL 258.216998 275.099381 \nL 257.899643 275.012136 \nL 257.582288 274.926148 \nL 257.264932 274.841461 \nL 256.947577 274.758124 \nL 256.630222 274.67618 \nL 256.312866 274.59567 \nL 255.995511 274.516631 \nL 255.678155 274.439093 \nL 255.3608 274.363077 \nL 255.043445 274.288596 \nL 254.726089 274.21565 \nL 254.408734 274.144228 \nL 254.091379 274.074301 \nL 253.774023 274.00583 \nL 253.456668 273.938757 \nL 253.139312 273.873008 \nL 252.821957 273.808494 \nL 252.504602 273.745107 \nL 252.187246 273.682723 \nL 251.869891 273.621205 \nL 251.552536 273.560399 \nL 251.23518 273.500139 \nL 250.917825 273.440246 \nL 250.60047 273.380532 \nL 250.283114 273.320801 \nL 249.965759 273.260852 \nL 249.648403 273.200478 \nL 249.331048 273.139474 \nL 249.013693 273.077637 \nL 248.696337 273.014767 \nL 248.378982 272.95067 \nL 248.061627 272.885165 \nL 247.744271 272.81808 \nL 247.426916 272.749259 \nL 247.10956 272.678563 \nL 246.792205 272.605871 \nL 246.47485 272.531083 \nL 246.157494 272.454121 \nL 245.840139 272.374931 \nL 245.522784 272.293483 \nL 245.205428 272.209774 \nL 244.888073 272.123824 \nL 244.570717 272.035681 \nL 244.253362 271.945419 \nL 243.936007 271.853138 \nL 243.618651 271.758963 \nL 243.301296 271.663043 \nL 242.983941 271.565551 \nL 242.666585 271.466683 \nL 242.34923 271.366655 \nL 242.031874 271.265703 \nL 241.714519 271.164083 \nL 241.397164 271.062067 \nL 241.079808 270.95994 \nL 240.762453 270.858003 \nL 240.445098 270.756571 \nL 240.127742 270.655964 \nL 239.810387 270.556518 \nL 239.493032 270.458571 \nL 239.175676 270.36247 \nL 238.858321 270.268568 \nL 238.540965 270.177219 \nL 238.22361 270.088782 \nL 237.906255 270.003615 \nL 237.588899 269.922079 \nL 237.271544 269.844531 \nL 236.954189 269.771327 \nL 236.636833 269.702817 \nL 236.319478 269.639348 \nL 236.002122 269.581259 \nL 235.684767 269.528877 \nL 235.367412 269.482522 \nL 235.050056 269.442498 \nL 234.732701 269.409091 \nL 234.415346 269.382571 \nL 234.09799 269.363185 \nL 233.780635 269.351152 \nL 233.463279 269.346663 \nL 233.145924 269.349878 \nL 232.828569 269.360915 \nL 232.511213 269.379855 \nL 232.193858 269.406732 \nL 231.876503 269.441529 \nL 231.559147 269.484177 \nL 231.241792 269.534548 \nL 230.924436 269.592452 \nL 230.607081 269.657636 \nL 230.289726 269.729777 \nL 229.97237 269.808486 \nL 229.655015 269.893298 \nL 229.33766 269.983678 \nL 229.020304 270.079018 \nL 228.702949 270.178639 \nL 228.385593 270.281791 \nL 228.068238 270.387658 \nL 227.750883 270.495361 \nL 227.433527 270.603961 \nL 227.116172 270.712468 \nL 226.798817 270.819845 \nL 226.481461 270.925018 \nL 226.164106 271.026882 \nL 225.846751 271.124313 \nL 225.529395 271.216176 \nL 225.21204 271.301335 \nL 224.894684 271.378665 \nL 224.577329 271.447061 \nL 224.259974 271.505452 \nL 223.942618 271.552808 \nL 223.625263 271.588149 \nL 223.307908 271.610562 \nL 222.990552 271.619199 \nL 222.673197 271.613295 \nL 222.355841 271.592169 \nL 222.038486 271.555231 \nL 221.721131 271.501986 \nL 221.403775 271.432041 \nL 221.08642 271.345101 \nL 220.769065 271.240973 \nL 220.451709 271.119564 \nL 220.134354 270.980882 \nL 219.816998 270.825025 \nL 219.499643 270.652186 \nL 219.182288 270.462639 \nL 218.864932 270.256739 \nL 218.547577 270.034912 \nL 218.230222 269.797647 \nL 217.912866 269.545491 \nL 217.595511 269.279038 \nL 217.278155 268.998925 \nL 216.9608 268.70582 \nL 216.643445 268.400423 \nL 216.326089 268.083451 \nL 216.008734 267.755638 \nL 215.691379 267.417731 \nL 215.374023 267.070483 \nL 215.056668 266.714656 \nL 214.739312 266.351012 \nL 214.421957 265.980321 \nL 214.104602 265.603355 \nL 213.787246 265.220889 \nL 213.469891 264.833709 \nL 213.152536 264.442605 \nL 212.83518 264.048381 \nL 212.517825 263.651851 \nL 212.20047 263.253844 \nL 211.883114 262.855203 \nL 211.565759 262.456791 \nL 211.248403 262.059483 \nL 210.931048 261.664169 \nL 210.613693 261.271753 \nL 210.296337 260.883145 \nL 209.978982 260.499261 \nL 209.661627 260.121011 \nL 209.344271 259.749298 \nL 209.026916 259.385002 \nL 208.70956 259.028977 \nL 208.392205 258.682037 \nL 208.07485 258.344946 \nL 207.757494 258.018403 \nL 207.440139 257.703035 \nL 207.122784 257.399386 \nL 206.805428 257.107899 \nL 206.488073 256.828913 \nL 206.170717 256.562652 \nL 205.853362 256.309215 \nL 205.536007 256.068574 \nL 205.218651 255.840564 \nL 204.901296 255.624886 \nL 204.583941 255.421106 \nL 204.266585 255.228655 \nL 203.94923 255.046833 \nL 203.631874 254.87482 \nL 203.314519 254.71168 \nL 202.997164 254.556374 \nL 202.679808 254.407772 \nL 202.362453 254.264669 \nL 202.045098 254.125797 \nL 201.727742 253.989846 \nL 201.410387 253.855478 \nL 201.093032 253.721349 \nL 200.775676 253.586123 \nL 200.458321 253.448494 \nL 200.140965 253.307201 \nL 199.82361 253.161046 \nL 199.506255 253.008911 \nL 199.188899 252.849772 \nL 198.871544 252.682711 \nL 198.554189 252.506929 \nL 198.236833 252.321757 \nL 197.919478 252.126659 \nL 197.602122 251.921241 \nL 197.284767 251.705256 \nL 196.967412 251.4786 \nL 196.650056 251.241316 \nL 196.332701 250.993588 \nL 196.015346 250.735736 \nL 195.69799 250.46821 \nL 195.380635 250.191581 \nL 195.063279 249.906529 \nL 194.745924 249.613832 \nL 194.428569 249.31435 \nL 194.111213 249.009016 \nL 193.793858 248.698814 \nL 193.476503 248.384766 \nL 193.159147 248.067915 \nL 192.841792 247.749308 \nL 192.524436 247.429979 \nL 192.207081 247.110933 \nL 191.889726 246.793129 \nL 191.57237 246.477468 \nL 191.255015 246.164775 \nL 190.93766 245.855789 \nL 190.620304 245.551149 \nL 190.302949 245.251389 \nL 189.985593 244.956926 \nL 189.668238 244.668055 \nL 189.350883 244.384947 \nL 189.033527 244.107646 \nL 188.716172 243.836067 \nL 188.398817 243.570003 \nL 188.081461 243.309126 \nL 187.764106 243.052995 \nL 187.446751 242.801061 \nL 187.129395 242.552682 \nL 186.81204 242.307132 \nL 186.494684 242.06361 \nL 186.177329 241.821258 \nL 185.859974 241.579176 \nL 185.542618 241.33643 \nL 185.225263 241.092075 \nL 184.907908 240.845163 \nL 184.590552 240.594763 \nL 184.273197 240.339968 \nL 183.955841 240.079914 \nL 183.638486 239.813789 \nL 183.321131 239.540841 \nL 183.003775 239.26039 \nL 182.68642 238.971833 \nL 182.369065 238.674649 \nL 182.051709 238.368404 \nL 181.734354 238.052751 \nL 181.416998 237.727429 \nL 181.099643 237.392261 \nL 180.782288 237.047154 \nL 180.464932 236.692085 \nL 180.147577 236.327105 \nL 179.830222 235.95232 \nL 179.512866 235.567892 \nL 179.195511 235.174021 \nL 178.878155 234.770939 \nL 178.5608 234.358898 \nL 178.243445 233.938159 \nL 177.926089 233.508984 \nL 177.608734 233.071622 \nL 177.291379 232.626302 \nL 176.974023 232.173223 \nL 176.656668 231.71255 \nL 176.339313 231.244403 \nL 176.021957 230.768856 \nL 175.704602 230.285931 \nL 175.387246 229.795598 \nL 175.069891 229.297773 \nL 174.752536 228.792321 \nL 174.43518 228.279059 \nL 174.117825 227.757757 \nL 173.80047 227.228148 \nL 173.483114 226.689932 \nL 173.165759 226.142785 \nL 172.848403 225.586367 \nL 172.531048 225.020335 \nL 172.213693 224.444346 \nL 171.896337 223.858077 \nL 171.578982 223.261225 \nL 171.261627 222.653524 \nL 170.944271 222.034753 \nL 170.626916 221.404742 \nL 170.30956 220.763385 \nL 169.992205 220.11064 \nL 169.67485 219.446541 \nL 169.357494 218.771194 \nL 169.040139 218.084787 \nL 168.722784 217.387585 \nL 168.405428 216.67993 \nL 168.088073 215.962235 \nL 167.770717 215.234985 \nL 167.453362 214.498721 \nL 167.136007 213.754038 \nL 166.818651 213.001572 \nL 166.501296 212.241986 \nL 166.183941 211.47596 \nL 165.866585 210.704175 \nL 165.54923 209.927297 \nL 165.231874 209.145963 \nL 164.914519 208.360766 \nL 164.597164 207.572237 \nL 164.279808 206.78083 \nL 163.962453 205.98691 \nL 163.645098 205.190738 \nL 163.327742 204.392457 \nL 163.010387 203.592087 \nL 162.693032 202.789511 \nL 162.375676 201.984471 \nL 162.058321 201.176562 \nL 161.740965 200.365237 \nL 161.42361 199.549796 \nL 161.106255 198.729403 \nL 160.788899 197.903082 \nL 160.471544 197.069728 \nL 160.154189 196.228124 \nL 159.836833 195.376945 \nL 159.519478 194.514782 \nL 159.202122 193.640154 \nL 158.884767 192.751529 \nL 158.567412 191.847347 \nL 158.250056 190.926034 \nL 157.932701 189.986032 \nL 157.615346 189.025817 \nL 157.29799 188.043919 \nL 156.980635 187.038948 \nL 156.663279 186.009607 \nL 156.345924 184.954719 \nL 156.028569 183.873238 \nL 155.711213 182.764264 \nL 155.393858 181.627059 \nL 155.076503 180.461056 \nL 154.759147 179.265864 \nL 154.441792 178.041276 \nL 154.124436 176.78727 \nL 153.807081 175.504007 \nL 153.489726 174.191833 \nL 153.17237 172.851266 \nL 152.855015 171.482993 \nL 152.53766 170.087859 \nL 152.220304 168.666856 \nL 151.902949 167.221107 \nL 151.585593 165.751857 \nL 151.268238 164.26045 \nL 150.950883 162.748321 \nL 150.633527 161.216975 \nL 150.316172 159.667973 \nL 149.998817 158.102914 \nL 149.681461 156.523423 \nL 149.364106 154.931132 \nL 149.046751 153.327669 \nL 148.729395 151.714645 \nL 148.41204 150.093636 \nL 148.094684 148.466179 \nL 147.777329 146.833756 \nL 147.459974 145.197784 \nL 147.142618 143.559607 \nL 146.825263 141.920486 \nL 146.507908 140.281591 \nL 146.190552 138.643992 \nL 145.873197 137.008649 \nL 145.555841 135.376408 \nL 145.238486 133.74799 \nL 144.921131 132.123986 \nL 144.603775 130.504848 \nL 144.28642 128.89088 \nL 143.969065 127.282237 \nL 143.651709 125.678914 \nL 143.334354 124.080746 \nL 143.016998 122.487398 \nL 142.699643 120.898371 \nL 142.382288 119.312993 \nL 142.064932 117.73043 \nL 141.747577 116.149682 \nL 141.430222 114.569594 \nL 141.112866 112.988866 \nL 140.795511 111.406064 \nL 140.478155 109.819637 \nL 140.1608 108.227936 \nL 139.843445 106.62924 \nL 139.526089 105.021775 \nL 139.208734 103.40375 \nL 138.891379 101.773385 \nL 138.574023 100.128947 \nL 138.256668 98.468787 \nL 137.939312 96.791374 \nL 137.621957 95.09534 \nL 137.304602 93.379516 \nL 136.987246 91.642972 \nL 136.669891 89.885053 \nL 136.352536 88.105423 \nL 136.03518 86.304092 \nL 135.717825 84.481451 \nL 135.40047 82.638301 \nL 135.083114 80.775876 \nL 134.765759 78.895864 \nL 134.448403 77.00042 \nL 134.131048 75.092177 \nL 133.813693 73.174249 \nL 133.496337 71.250228 \nL 133.178982 69.324178 \nL 132.861627 67.400623 \nL 132.544271 65.484522 \nL 132.226916 63.581251 \nL 131.90956 61.696573 \nL 131.592205 59.836598 \nL 131.27485 58.007753 \nL 130.957494 56.216734 \nL 130.640139 54.470465 \nL 130.322784 52.77605 \nL 130.005428 51.140723 \nL 129.688073 49.571797 \nL 129.370717 48.076614 \nL 129.053362 46.662498 \nL 128.736007 45.336695 \nL 128.418651 44.106333 \nL 128.101296 42.978367 \nL 127.783941 41.959537 \nL 127.466585 41.056321 \nL 127.14923 40.274895 \nL 126.831874 39.621093 \nL 126.514519 39.100373 \nL 126.197164 38.71778 \nL 125.879808 38.47792 \nL 125.562453 38.384933 \nL 125.245098 38.442469 \nL 124.927742 38.653666 \nL 124.610387 39.021139 \nL 124.293032 39.546961 \nL 123.975676 40.232657 \nL 123.658321 41.079192 \nL 123.340965 42.086973 \nL 123.02361 43.255841 \nL 122.706255 44.585079 \nL 122.388899 46.073413 \nL 122.071544 47.719018 \nL 121.754189 49.519532 \nL 121.436833 51.472064 \nL 121.119478 53.573208 \nL 120.802122 55.819064 \nL 120.484767 58.205254 \nL 120.167412 60.726943 \nL 119.850056 63.378862 \nL 119.532701 66.155334 \nL 119.215346 69.050297 \nL 118.89799 72.057337 \nL 118.580635 75.169712 \nL 118.263279 78.380389 \nL 117.945924 81.682067 \nL 117.628569 85.06722 \nL 117.311213 88.528123 \nL 116.993858 92.056889 \nL 116.676503 95.645508 \nL 116.359147 99.285878 \nL 116.041792 102.969843 \nL 115.724436 106.689231 \nL 115.407081 110.43589 \nL 115.089726 114.201726 \nL 114.77237 117.978738 \nL 114.455015 121.759059 \nL 114.13766 125.534987 \nL 113.820304 129.299029 \nL 113.502949 133.043929 \nL 113.185593 136.762708 \nL 112.868238 140.448694 \nL 112.550883 144.095556 \nL 112.233527 147.697335 \nL 111.916172 151.248472 \nL 111.598817 154.743831 \nL 111.281461 158.178729 \nL 110.964106 161.54895 \nL 110.646751 164.850763 \nL 110.329395 168.080939 \nL 110.01204 171.236757 \nL 109.694684 174.316009 \nL 109.377329 177.317 \nL 109.059974 180.238546 \nL 108.742618 183.079962 \nL 108.425263 185.841049 \nL 108.107908 188.522076 \nL 107.790552 191.123754 \nL 107.473197 193.647211 \nL 107.155841 196.093956 \nL 106.838486 198.465847 \nL 106.521131 200.765051 \nL 106.203775 202.993998 \nL 105.88642 205.155341 \nL 105.569065 207.251911 \nL 105.251709 209.286667 \nL 104.934354 211.262654 \nL 104.616998 213.182955 \nL 104.299643 215.050646 \nL 103.982288 216.86876 \nL 103.664932 218.640241 \nL 103.347577 220.367914 \nL 103.030222 222.054452 \nL 102.712866 223.70235 \nL 102.395511 225.3139 \nL 102.078155 226.89118 \nL 101.7608 228.436036 \nL 101.443445 229.950079 \nL 101.126089 231.434682 \nL 100.808734 232.890986 \nL 100.491379 234.319904 \nL 100.174023 235.722133 \nL 99.856668 237.098173 \nL 99.539313 238.448341 \nL 99.221957 239.772796 \nL 98.904602 241.071559 \nL 98.587246 242.344535 \nL 98.269891 243.591544 \nL 97.952536 244.812337 \nL 97.63518 246.006625 \nL 97.317825 247.1741 \nL 97.00047 248.314454 \nL 96.683114 249.427402 \nL 96.365759 250.512691 \nL 96.048403 251.57012 \nL 95.731048 252.59955 \nL 95.413693 253.600909 \nL 95.096337 254.5742 \nL 94.778982 255.519503 \nL 94.461627 256.436975 \nL 94.144271 257.326848 \nL 93.826916 258.189428 \nL 93.50956 259.025085 \nL 93.192205 259.834247 \nL 92.87485 260.617397 \nL 92.557494 261.375059 \nL 92.240139 262.107792 \nL 91.922784 262.81618 \nL 91.605428 263.500827 \nL 91.288073 264.162347 \nL 90.970717 264.801355 \nL 90.653362 265.418466 \nL 90.336007 266.014287 \nL 90.018651 266.589413 \nL 89.701296 267.144427 \nL 89.383941 267.679896 \nL 89.066585 268.196368 \nL 88.74923 268.694379 \nL 88.431874 269.17445 \nL 88.114519 269.637085 \nL 87.797164 270.082782 \nL 87.479808 270.512026 \nL 87.162453 270.925298 \nL 86.845098 271.323073 \nL 86.527742 271.705828 \nL 86.210387 272.074035 \nL 85.893032 272.428171 \nL 85.575676 272.768715 \nL 85.258321 273.096148 \nL 84.940965 273.410954 \nL 84.62361 273.713621 \nL 84.306255 274.004635 \nL 83.988899 274.284483 \nL 83.671544 274.553647 \nL 83.354189 274.812606 \nL 83.036833 275.061828 \nL 82.719478 275.301773 \nL 82.402122 275.532882 \nL 82.084767 275.755583 \nL 81.767412 275.970282 \nL 81.450056 276.177363 \nL 81.132701 276.377185 \nL 80.815346 276.570081 \nL 80.49799 276.756356 \nL 80.180635 276.936287 \nL 79.863279 277.110121 \nL 79.545924 277.278078 \nL 79.228569 277.440349 \nL 78.911213 277.597097 \nL 78.593858 277.748463 \nL 78.276503 277.894561 \nL 77.959147 278.035488 \nL 77.641792 278.171319 \nL 77.324436 278.302118 \nL 77.007081 278.427932 \nL 76.689726 278.548803 \nL 76.37237 278.664762 \nL 76.055015 278.775841 \nL 75.73766 278.882067 \nL 75.420304 278.983471 \nL 75.102949 279.080089 \nL 74.785593 279.17196 \nL 74.468238 279.259133 \nL 74.150883 279.341664 \nL 73.833527 279.419622 \nL 73.516172 279.493085 \nL 73.198817 279.562141 \nL 72.881461 279.626892 \nL 72.564106 279.687449 \nL 72.246751 279.743935 \nL 71.929395 279.796482 \nL 71.61204 279.845231 \nz\n\" style=\"fill:none;stroke:#ff0000;stroke-width:0.886227;\"/>\n   </g>\n  </g>\n  <g id=\"text_11\">\n   <!-- Distribution of Sale_Price -->\n   <g transform=\"translate(145.589594 17.229938)scale(0.132 -0.132)\">\n    <defs>\n     <path d=\"M 19.671875 64.796875 \nL 19.671875 8.109375 \nL 31.59375 8.109375 \nQ 46.6875 8.109375 53.6875 14.9375 \nQ 60.6875 21.78125 60.6875 36.53125 \nQ 60.6875 51.171875 53.6875 57.984375 \nQ 46.6875 64.796875 31.59375 64.796875 \nz\nM 9.8125 72.90625 \nL 30.078125 72.90625 \nQ 51.265625 72.90625 61.171875 64.09375 \nQ 71.09375 55.28125 71.09375 36.53125 \nQ 71.09375 17.671875 61.125 8.828125 \nQ 51.171875 0 30.078125 0 \nL 9.8125 0 \nz\n\" id=\"DejaVuSans-68\"/>\n     <path d=\"M 48.6875 27.296875 \nQ 48.6875 37.203125 44.609375 42.84375 \nQ 40.53125 48.484375 33.40625 48.484375 \nQ 26.265625 48.484375 22.1875 42.84375 \nQ 18.109375 37.203125 18.109375 27.296875 \nQ 18.109375 17.390625 22.1875 11.75 \nQ 26.265625 6.109375 33.40625 6.109375 \nQ 40.53125 6.109375 44.609375 11.75 \nQ 48.6875 17.390625 48.6875 27.296875 \nz\nM 18.109375 46.390625 \nQ 20.953125 51.265625 25.265625 53.625 \nQ 29.59375 56 35.59375 56 \nQ 45.5625 56 51.78125 48.09375 \nQ 58.015625 40.1875 58.015625 27.296875 \nQ 58.015625 14.40625 51.78125 6.484375 \nQ 45.5625 -1.421875 35.59375 -1.421875 \nQ 29.59375 -1.421875 25.265625 0.953125 \nQ 20.953125 3.328125 18.109375 8.203125 \nL 18.109375 0 \nL 9.078125 0 \nL 9.078125 75.984375 \nL 18.109375 75.984375 \nz\n\" id=\"DejaVuSans-98\"/>\n     <path d=\"M 8.5 21.578125 \nL 8.5 54.6875 \nL 17.484375 54.6875 \nL 17.484375 21.921875 \nQ 17.484375 14.15625 20.5 10.265625 \nQ 23.53125 6.390625 29.59375 6.390625 \nQ 36.859375 6.390625 41.078125 11.03125 \nQ 45.3125 15.671875 45.3125 23.6875 \nL 45.3125 54.6875 \nL 54.296875 54.6875 \nL 54.296875 0 \nL 45.3125 0 \nL 45.3125 8.40625 \nQ 42.046875 3.421875 37.71875 1 \nQ 33.40625 -1.421875 27.6875 -1.421875 \nQ 18.265625 -1.421875 13.375 4.4375 \nQ 8.5 10.296875 8.5 21.578125 \nz\nM 31.109375 56 \nz\n\" id=\"DejaVuSans-117\"/>\n     <path d=\"M 30.609375 48.390625 \nQ 23.390625 48.390625 19.1875 42.75 \nQ 14.984375 37.109375 14.984375 27.296875 \nQ 14.984375 17.484375 19.15625 11.84375 \nQ 23.34375 6.203125 30.609375 6.203125 \nQ 37.796875 6.203125 41.984375 11.859375 \nQ 46.1875 17.53125 46.1875 27.296875 \nQ 46.1875 37.015625 41.984375 42.703125 \nQ 37.796875 48.390625 30.609375 48.390625 \nz\nM 30.609375 56 \nQ 42.328125 56 49.015625 48.375 \nQ 55.71875 40.765625 55.71875 27.296875 \nQ 55.71875 13.875 49.015625 6.21875 \nQ 42.328125 -1.421875 30.609375 -1.421875 \nQ 18.84375 -1.421875 12.171875 6.21875 \nQ 5.515625 13.875 5.515625 27.296875 \nQ 5.515625 40.765625 12.171875 48.375 \nQ 18.84375 56 30.609375 56 \nz\n\" id=\"DejaVuSans-111\"/>\n     <path id=\"DejaVuSans-32\"/>\n     <path d=\"M 37.109375 75.984375 \nL 37.109375 68.5 \nL 28.515625 68.5 \nQ 23.6875 68.5 21.796875 66.546875 \nQ 19.921875 64.59375 19.921875 59.515625 \nL 19.921875 54.6875 \nL 34.71875 54.6875 \nL 34.71875 47.703125 \nL 19.921875 47.703125 \nL 19.921875 0 \nL 10.890625 0 \nL 10.890625 47.703125 \nL 2.296875 47.703125 \nL 2.296875 54.6875 \nL 10.890625 54.6875 \nL 10.890625 58.5 \nQ 10.890625 67.625 15.140625 71.796875 \nQ 19.390625 75.984375 28.609375 75.984375 \nz\n\" id=\"DejaVuSans-102\"/>\n    </defs>\n    <use xlink:href=\"#DejaVuSans-68\"/>\n    <use x=\"77.001953\" xlink:href=\"#DejaVuSans-105\"/>\n    <use x=\"104.785156\" xlink:href=\"#DejaVuSans-115\"/>\n    <use x=\"156.884766\" xlink:href=\"#DejaVuSans-116\"/>\n    <use x=\"196.09375\" xlink:href=\"#DejaVuSans-114\"/>\n    <use x=\"237.207031\" xlink:href=\"#DejaVuSans-105\"/>\n    <use x=\"264.990234\" xlink:href=\"#DejaVuSans-98\"/>\n    <use x=\"328.466797\" xlink:href=\"#DejaVuSans-117\"/>\n    <use x=\"391.845703\" xlink:href=\"#DejaVuSans-116\"/>\n    <use x=\"431.054688\" xlink:href=\"#DejaVuSans-105\"/>\n    <use x=\"458.837891\" xlink:href=\"#DejaVuSans-111\"/>\n    <use x=\"520.019531\" xlink:href=\"#DejaVuSans-110\"/>\n    <use x=\"583.398438\" xlink:href=\"#DejaVuSans-32\"/>\n    <use x=\"615.185547\" xlink:href=\"#DejaVuSans-111\"/>\n    <use x=\"676.367188\" xlink:href=\"#DejaVuSans-102\"/>\n    <use x=\"711.572266\" xlink:href=\"#DejaVuSans-32\"/>\n    <use x=\"743.359375\" xlink:href=\"#DejaVuSans-83\"/>\n    <use x=\"806.835938\" xlink:href=\"#DejaVuSans-97\"/>\n    <use x=\"868.115234\" xlink:href=\"#DejaVuSans-108\"/>\n    <use x=\"895.898438\" xlink:href=\"#DejaVuSans-101\"/>\n    <use x=\"957.421875\" xlink:href=\"#DejaVuSans-95\"/>\n    <use x=\"1007.421875\" xlink:href=\"#DejaVuSans-80\"/>\n    <use x=\"1065.974609\" xlink:href=\"#DejaVuSans-114\"/>\n    <use x=\"1107.087891\" xlink:href=\"#DejaVuSans-105\"/>\n    <use x=\"1134.871094\" xlink:href=\"#DejaVuSans-99\"/>\n    <use x=\"1189.851562\" xlink:href=\"#DejaVuSans-101\"/>\n   </g>\n  </g>\n </g>\n <defs>\n  <clipPath id=\"p45342a6491\">\n   <rect height=\"266.112\" width=\"357.12\" x=\"55.379313\" y=\"26.288933\"/>\n  </clipPath>\n </defs>\n</svg>\n",
      "image/png": "[encoded data removed]"
     },
     "metadata": {}
    },
    {
     "output_type": "execute_result",
     "data": {
      "text/plain": [
       "<ggplot: (8786633666238)>"
      ]
     },
     "metadata": {},
     "execution_count": 9
    }
   ],
   "source": [
    "(ggplot(train, aes(x='Sale_Price'))\n",
    " + geom_density(color='blue')\n",
    " + geom_density(data = test, color = \"red\")\n",
    " + ggtitle(\"Distribution of Sale_Price\"))"
   ]
  },
  {
   "cell_type": "markdown",
   "metadata": {
    "slideshow": {
     "slide_type": "slide"
    }
   },
   "source": [
    "## Separating features & target\n",
    "\n",
    "* In Python, we are required to separate our features from our label into discrete data sets. \n",
    "\n",
    "* For our first model we will simply use two features from our training data - total square feet of the home (`Gr_Liv_Area`) and year built (`Year_Built`) to predict the sale price. "
   ]
  },
  {
   "cell_type": "code",
   "execution_count": 10,
   "metadata": {},
   "outputs": [],
   "source": [
    "# separate features from labels\n",
    "X_train = train[[\"Gr_Liv_Area\", \"Year_Built\"]]\n",
    "y_train = train[\"Sale_Price\"]"
   ]
  },
  {
   "cell_type": "markdown",
   "metadata": {
    "slideshow": {
     "slide_type": "slide"
    }
   },
   "source": [
    "# Creating Models"
   ]
  },
  {
   "cell_type": "markdown",
   "metadata": {
    "slideshow": {
     "slide_type": "slide"
    }
   },
   "source": [
    "## Creating Models with scikit-learn"
   ]
  },
  {
   "cell_type": "markdown",
   "metadata": {
    "slideshow": {
     "slide_type": "-"
    }
   },
   "source": [
    "Scikit-learn has many modules for supervised learning\n",
    "\n",
    "* Linear models (i.e. ordinary least squares)\n",
    "* Nearest neighbors (i.e. _K_-nearest neighbor)\n",
    "* Tree-based models (i.e. decision trees, random forests)\n",
    "* and many more: https://scikit-learn.org/stable/supervised_learning.html"
   ]
  },
  {
   "cell_type": "markdown",
   "metadata": {
    "slideshow": {
     "slide_type": "fragment"
    }
   },
   "source": [
    "To apply these models, they all follow a similar pattern:\n",
    "\n",
    "1. Identify the appropriate module\n",
    "2. Instantiate the model object\n",
    "3. Fit the model\n",
    "4. Make predictions"
   ]
  },
  {
   "cell_type": "markdown",
   "metadata": {
    "slideshow": {
     "slide_type": "slide"
    }
   },
   "source": [
    "## Ordinary least squares"
   ]
  },
  {
   "cell_type": "code",
   "execution_count": 11,
   "metadata": {
    "slideshow": {
     "slide_type": "-"
    }
   },
   "outputs": [],
   "source": [
    "# 1. Prerequisite\n",
    "from sklearn.linear_model import LinearRegression"
   ]
  },
  {
   "cell_type": "code",
   "execution_count": 12,
   "metadata": {
    "slideshow": {
     "slide_type": "fragment"
    }
   },
   "outputs": [],
   "source": [
    "# 2. Instantiate the model object\n",
    "reg = LinearRegression()"
   ]
  },
  {
   "cell_type": "code",
   "execution_count": 13,
   "metadata": {
    "slideshow": {
     "slide_type": "fragment"
    }
   },
   "outputs": [
    {
     "output_type": "execute_result",
     "data": {
      "text/plain": [
       "LinearRegression()"
      ]
     },
     "metadata": {},
     "execution_count": 13
    }
   ],
   "source": [
    "# 3. Fit the model\n",
    "reg.fit(X_train, y_train)"
   ]
  },
  {
   "cell_type": "code",
   "execution_count": 14,
   "metadata": {
    "slideshow": {
     "slide_type": "fragment"
    }
   },
   "outputs": [
    {
     "output_type": "execute_result",
     "data": {
      "text/plain": [
       "array([211888.77551558, 119021.83893513, 177818.03700616, ...,\n",
       "       294633.08255955, 213774.91574325, 166398.33102108])"
      ]
     },
     "metadata": {},
     "execution_count": 14
    }
   ],
   "source": [
    "# 4. Make predictions\n",
    "reg.predict(X_train)"
   ]
  },
  {
   "cell_type": "markdown",
   "metadata": {
    "slideshow": {
     "slide_type": "slide"
    }
   },
   "source": [
    "## K-nearest neighbor"
   ]
  },
  {
   "cell_type": "code",
   "execution_count": 15,
   "metadata": {
    "slideshow": {
     "slide_type": "-"
    }
   },
   "outputs": [],
   "source": [
    "# 1. Prerequisite\n",
    "from sklearn.neighbors import KNeighborsRegressor"
   ]
  },
  {
   "cell_type": "code",
   "execution_count": 16,
   "metadata": {
    "slideshow": {
     "slide_type": "fragment"
    }
   },
   "outputs": [],
   "source": [
    "# 2. Instantiate the model object\n",
    "knn = KNeighborsRegressor()"
   ]
  },
  {
   "cell_type": "code",
   "execution_count": 17,
   "metadata": {
    "slideshow": {
     "slide_type": "fragment"
    }
   },
   "outputs": [
    {
     "output_type": "execute_result",
     "data": {
      "text/plain": [
       "KNeighborsRegressor()"
      ]
     },
     "metadata": {},
     "execution_count": 17
    }
   ],
   "source": [
    "# 3. Fit the model\n",
    "knn.fit(X_train, y_train)"
   ]
  },
  {
   "cell_type": "code",
   "execution_count": 19,
   "metadata": {
    "slideshow": {
     "slide_type": "fragment"
    }
   },
   "outputs": [
    {
     "output_type": "execute_result",
     "data": {
      "text/plain": [
       "array([218400. , 131280. , 142600. , ..., 318647.2, 180820. , 149480. ])"
      ]
     },
     "metadata": {},
     "execution_count": 19
    }
   ],
   "source": [
    "# 4. Make predictions\n",
    "knn.predict(X_train)"
   ]
  },
  {
   "cell_type": "markdown",
   "metadata": {
    "slideshow": {
     "slide_type": "slide"
    }
   },
   "source": [
    "# <font color=\"red\">Your Turn</font>\n",
    "\n",
    "Create and predict a model using the random forest algorithm."
   ]
  },
  {
   "cell_type": "code",
   "execution_count": 20,
   "metadata": {
    "slideshow": {
     "slide_type": "-"
    }
   },
   "outputs": [],
   "source": [
    "# 1. Prerequisite\n",
    "from sklearn.ensemble import RandomForestRegressor"
   ]
  },
  {
   "cell_type": "code",
   "execution_count": 21,
   "metadata": {
    "slideshow": {
     "slide_type": "fragment"
    }
   },
   "outputs": [],
   "source": [
    "# 2. Instantiate the model object\n",
    "rf = RandomForestRegressor()"
   ]
  },
  {
   "cell_type": "code",
   "execution_count": 22,
   "metadata": {
    "slideshow": {
     "slide_type": "fragment"
    }
   },
   "outputs": [
    {
     "output_type": "execute_result",
     "data": {
      "text/plain": [
       "RandomForestRegressor()"
      ]
     },
     "metadata": {},
     "execution_count": 22
    }
   ],
   "source": [
    "# 3. Fit the model\n",
    "rf.fit(X_train, y_train)"
   ]
  },
  {
   "cell_type": "code",
   "execution_count": 23,
   "metadata": {
    "slideshow": {
     "slide_type": "fragment"
    }
   },
   "outputs": [
    {
     "output_type": "execute_result",
     "data": {
      "text/plain": [
       "array([164415.        , 120966.        , 142521.99206349, ...,\n",
       "       293797.5       , 193363.05333333, 141562.48      ])"
      ]
     },
     "metadata": {},
     "execution_count": 23
    }
   ],
   "source": [
    "# 4. Make predictions\n",
    "rf.predict(X_train)"
   ]
  },
  {
   "cell_type": "markdown",
   "metadata": {
    "slideshow": {
     "slide_type": "slide"
    }
   },
   "source": [
    "# Evaluating Models"
   ]
  },
  {
   "source": [
    "### _\"All models are wrong, but some are useful\"_"
   ],
   "cell_type": "markdown",
   "metadata": {}
  },
  {
   "cell_type": "code",
   "execution_count": 28,
   "metadata": {},
   "outputs": [
    {
     "output_type": "execute_result",
     "data": {
      "text/plain": [
       "215000"
      ]
     },
     "metadata": {},
     "execution_count": 28
    }
   ],
   "source": [
    "house1_actual = y_train[0]\n",
    "house1_actual"
   ]
  },
  {
   "cell_type": "code",
   "execution_count": 30,
   "metadata": {},
   "outputs": [
    {
     "output_type": "execute_result",
     "data": {
      "text/plain": [
       "[211889, 218400, 164415]"
      ]
     },
     "metadata": {},
     "execution_count": 30
    }
   ],
   "source": [
    "my_models = [reg, knn, rf]\n",
    "house1_predictions = [round(model.predict(X_train)[0]) for model in my_models]\n",
    "house1_predictions"
   ]
  },
  {
   "cell_type": "markdown",
   "metadata": {
    "slideshow": {
     "slide_type": "slide"
    }
   },
   "source": [
    "## Evaluating model performance\n",
    "\n",
    "- It is important to understand how our model is performing. \n",
    "\n",
    "- With ML models, measuring performance means understanding the predictive accuracy -- the difference between a predicted value and the actual value. \n",
    "\n",
    "- We measure predictive accuracy with ___loss functions___."
   ]
  },
  {
   "cell_type": "markdown",
   "metadata": {
    "slideshow": {
     "slide_type": "slide"
    }
   },
   "source": [
    "## Many loss functions for regression problems"
   ]
  },
  {
   "cell_type": "markdown",
   "metadata": {
    "slideshow": {
     "slide_type": "fragment"
    }
   },
   "source": [
    "* __Mean Square Error__ (MSE) = $\\frac{1}{n} \\sum^n_{i=1} (y_i - \\hat{y}_i)^2$"
   ]
  },
  {
   "cell_type": "markdown",
   "metadata": {
    "slideshow": {
     "slide_type": "fragment"
    }
   },
   "source": [
    "* __Root Mean Square Error__ (RMSE) = $\\sqrt{MSE}$"
   ]
  },
  {
   "cell_type": "markdown",
   "metadata": {
    "slideshow": {
     "slide_type": "fragment"
    }
   },
   "source": [
    "* Other common loss functions\n",
    "   - Mean Absolute Error (MAE)\n",
    "   - Mean Absolute Percent Error (MAPE)\n",
    "   - Root Mean Squared Logarithmic Error (RMSLE)"
   ]
  },
  {
   "cell_type": "markdown",
   "metadata": {
    "slideshow": {
     "slide_type": "slide"
    }
   },
   "source": [
    "## Computing MSE"
   ]
  },
  {
   "cell_type": "code",
   "execution_count": 31,
   "metadata": {
    "slideshow": {
     "slide_type": "-"
    }
   },
   "outputs": [
    {
     "output_type": "execute_result",
     "data": {
      "text/plain": [
       "2313058425.399425"
      ]
     },
     "metadata": {},
     "execution_count": 31
    }
   ],
   "source": [
    "# compute MSE for linear model\n",
    "pred = reg.predict(X_train)\n",
    "mse = mean_squared_error(y_train, pred)\n",
    "mse"
   ]
  },
  {
   "cell_type": "code",
   "execution_count": 32,
   "metadata": {
    "scrolled": true
   },
   "outputs": [
    {
     "output_type": "execute_result",
     "data": {
      "text/plain": [
       "48094.2660345225"
      ]
     },
     "metadata": {},
     "execution_count": 32
    }
   ],
   "source": [
    "rmse = math.sqrt(mse)\n",
    "rmse"
   ]
  },
  {
   "cell_type": "markdown",
   "metadata": {
    "slideshow": {
     "slide_type": "fragment"
    }
   },
   "source": [
    "On average, our model's predictions are over \\\\$48,000 off from the actual sales price!!"
   ]
  },
  {
   "cell_type": "markdown",
   "metadata": {
    "slideshow": {
     "slide_type": "slide"
    }
   },
   "source": [
    "# <font color=\"red\">Your Turn</font>\n",
    "\n",
    "With MSE & RMSE our objective is to ___minimize___ this value. \n",
    "\n",
    "* Compare the MSE & RMSE for the K-nearest neighbor and random forest model to our linear model.\n",
    "\n",
    "* Which model performs best?\n",
    "\n",
    "* Are we certain this is the best way to measure our models' performance?"
   ]
  },
  {
   "cell_type": "code",
   "execution_count": 55,
   "metadata": {
    "slideshow": {
     "slide_type": "slide"
    }
   },
   "outputs": [
    {
     "data": {
      "text/plain": [
       "39211.79229718879"
      ]
     },
     "execution_count": 55,
     "metadata": {},
     "output_type": "execute_result"
    }
   ],
   "source": [
    "knn_pred = knn.predict(X_train)\n",
    "math.sqrt(mean_squared_error(y_train, knn_pred))"
   ]
  },
  {
   "cell_type": "code",
   "execution_count": 56,
   "metadata": {},
   "outputs": [
    {
     "data": {
      "text/plain": [
       "16485.138163756867"
      ]
     },
     "execution_count": 56,
     "metadata": {},
     "output_type": "execute_result"
    }
   ],
   "source": [
    "rf_pred = rf.predict(X_train)\n",
    "math.sqrt(mean_squared_error(y_train, rf_pred))"
   ]
  },
  {
   "cell_type": "markdown",
   "metadata": {
    "slideshow": {
     "slide_type": "slide"
    }
   },
   "source": [
    "# Resampling Methods"
   ]
  },
  {
   "cell_type": "code",
   "execution_count": 35,
   "metadata": {},
   "outputs": [],
   "source": [
    "# data split, model train, predict, & eval procedure\n",
    "def model_procedure(seed):\n",
    "    train, test = train_test_split(ames, train_size=0.7, random_state=seed)\n",
    "    X_train = train[[\"Gr_Liv_Area\", \"Year_Built\"]]\n",
    "    y_train = train[\"Sale_Price\"]\n",
    "    reg = LinearRegression()\n",
    "    reg.fit(X_train, y_train)\n",
    "    pred = reg.predict(X_train)\n",
    "    return math.sqrt(mean_squared_error(y_train, pred))"
   ]
  },
  {
   "cell_type": "code",
   "execution_count": 40,
   "metadata": {},
   "outputs": [],
   "source": [
    "seeds = range(200)\n",
    "errors = [model_procedure(seed) for seed in seeds]"
   ]
  },
  {
   "cell_type": "code",
   "execution_count": 47,
   "metadata": {},
   "outputs": [
    {
     "output_type": "execute_result",
     "data": {
      "text/plain": [
       "<AxesSubplot:ylabel='Count'>"
      ]
     },
     "metadata": {},
     "execution_count": 47
    },
    {
     "output_type": "display_data",
     "data": {
      "text/plain": "<Figure size 432x288 with 1 Axes>",
      "image/svg+xml": "<?xml version=\"1.0\" encoding=\"utf-8\" standalone=\"no\"?>\n<!DOCTYPE svg PUBLIC \"-//W3C//DTD SVG 1.1//EN\"\n  \"http://www.w3.org/Graphics/SVG/1.1/DTD/svg11.dtd\">\n<!-- Created with matplotlib (https://matplotlib.org/) -->\n<svg height=\"251.399844pt\" version=\"1.1\" viewBox=\"0 0 385.908438 251.399844\" width=\"385.908438pt\" xmlns=\"http://www.w3.org/2000/svg\" xmlns:xlink=\"http://www.w3.org/1999/xlink\">\n <metadata>\n  <rdf:RDF xmlns:cc=\"http://creativecommons.org/ns#\" xmlns:dc=\"http://purl.org/dc/elements/1.1/\" xmlns:rdf=\"http://www.w3.org/1999/02/22-rdf-syntax-ns#\">\n   <cc:Work>\n    <dc:type rdf:resource=\"http://purl.org/dc/dcmitype/StillImage\"/>\n    <dc:date>2021-05-10T14:18:07.508949</dc:date>\n    <dc:format>image/svg+xml</dc:format>\n    <dc:creator>\n     <cc:Agent>\n      <dc:title>Matplotlib v3.3.4, https://matplotlib.org/</dc:title>\n     </cc:Agent>\n    </dc:creator>\n   </cc:Work>\n  </rdf:RDF>\n </metadata>\n <defs>\n  <style type=\"text/css\">*{stroke-linecap:butt;stroke-linejoin:round;}</style>\n </defs>\n <g id=\"figure_1\">\n  <g id=\"patch_1\">\n   <path d=\"M 0 251.399844 \nL 385.908438 251.399844 \nL 385.908438 0 \nL 0 0 \nz\n\" style=\"fill:#ffffff;\"/>\n  </g>\n  <g id=\"axes_1\">\n   <g id=\"patch_2\">\n    <path d=\"M 43.908438 224.64 \nL 378.708438 224.64 \nL 378.708438 7.2 \nL 43.908438 7.2 \nz\n\" style=\"fill:#eaeaf2;\"/>\n   </g>\n   <g id=\"matplotlib.axis_1\">\n    <g id=\"xtick_1\">\n     <g id=\"line2d_1\">\n      <path clip-path=\"url(#p933bb43232)\" d=\"M 75.493344 224.64 \nL 75.493344 7.2 \n\" style=\"fill:none;stroke:#ffffff;stroke-linecap:round;\"/>\n     </g>\n     <g id=\"text_1\">\n      <!-- 44000 -->\n      <g style=\"fill:#262626;\" transform=\"translate(60.200766 242.013594)scale(0.11 -0.11)\">\n       <defs>\n        <path d=\"M 32.328125 0 \nL 32.328125 17.140625 \nL 1.265625 17.140625 \nL 1.265625 25.203125 \nL 33.9375 71.578125 \nL 41.109375 71.578125 \nL 41.109375 25.203125 \nL 50.78125 25.203125 \nL 50.78125 17.140625 \nL 41.109375 17.140625 \nL 41.109375 0 \nz\nM 32.328125 25.203125 \nL 32.328125 57.46875 \nL 9.90625 25.203125 \nz\n\" id=\"ArialMT-52\"/>\n        <path d=\"M 4.15625 35.296875 \nQ 4.15625 48 6.765625 55.734375 \nQ 9.375 63.484375 14.515625 67.671875 \nQ 19.671875 71.875 27.484375 71.875 \nQ 33.25 71.875 37.59375 69.546875 \nQ 41.9375 67.234375 44.765625 62.859375 \nQ 47.609375 58.5 49.21875 52.21875 \nQ 50.828125 45.953125 50.828125 35.296875 \nQ 50.828125 22.703125 48.234375 14.96875 \nQ 45.65625 7.234375 40.5 3 \nQ 35.359375 -1.21875 27.484375 -1.21875 \nQ 17.140625 -1.21875 11.234375 6.203125 \nQ 4.15625 15.140625 4.15625 35.296875 \nz\nM 13.1875 35.296875 \nQ 13.1875 17.671875 17.3125 11.828125 \nQ 21.4375 6 27.484375 6 \nQ 33.546875 6 37.671875 11.859375 \nQ 41.796875 17.71875 41.796875 35.296875 \nQ 41.796875 52.984375 37.671875 58.78125 \nQ 33.546875 64.59375 27.390625 64.59375 \nQ 21.34375 64.59375 17.71875 59.46875 \nQ 13.1875 52.9375 13.1875 35.296875 \nz\n\" id=\"ArialMT-48\"/>\n       </defs>\n       <use xlink:href=\"#ArialMT-52\"/>\n       <use x=\"55.615234\" xlink:href=\"#ArialMT-52\"/>\n       <use x=\"111.230469\" xlink:href=\"#ArialMT-48\"/>\n       <use x=\"166.845703\" xlink:href=\"#ArialMT-48\"/>\n       <use x=\"222.460938\" xlink:href=\"#ArialMT-48\"/>\n      </g>\n     </g>\n    </g>\n    <g id=\"xtick_2\">\n     <g id=\"line2d_2\">\n      <path clip-path=\"url(#p933bb43232)\" d=\"M 136.546526 224.64 \nL 136.546526 7.2 \n\" style=\"fill:none;stroke:#ffffff;stroke-linecap:round;\"/>\n     </g>\n     <g id=\"text_2\">\n      <!-- 45000 -->\n      <g style=\"fill:#262626;\" transform=\"translate(121.253948 242.013594)scale(0.11 -0.11)\">\n       <defs>\n        <path d=\"M 4.15625 18.75 \nL 13.375 19.53125 \nQ 14.40625 12.796875 18.140625 9.390625 \nQ 21.875 6 27.15625 6 \nQ 33.5 6 37.890625 10.78125 \nQ 42.28125 15.578125 42.28125 23.484375 \nQ 42.28125 31 38.0625 35.34375 \nQ 33.84375 39.703125 27 39.703125 \nQ 22.75 39.703125 19.328125 37.765625 \nQ 15.921875 35.84375 13.96875 32.765625 \nL 5.71875 33.84375 \nL 12.640625 70.609375 \nL 48.25 70.609375 \nL 48.25 62.203125 \nL 19.671875 62.203125 \nL 15.828125 42.96875 \nQ 22.265625 47.46875 29.34375 47.46875 \nQ 38.71875 47.46875 45.15625 40.96875 \nQ 51.609375 34.46875 51.609375 24.265625 \nQ 51.609375 14.546875 45.953125 7.46875 \nQ 39.0625 -1.21875 27.15625 -1.21875 \nQ 17.390625 -1.21875 11.203125 4.25 \nQ 5.03125 9.71875 4.15625 18.75 \nz\n\" id=\"ArialMT-53\"/>\n       </defs>\n       <use xlink:href=\"#ArialMT-52\"/>\n       <use x=\"55.615234\" xlink:href=\"#ArialMT-53\"/>\n       <use x=\"111.230469\" xlink:href=\"#ArialMT-48\"/>\n       <use x=\"166.845703\" xlink:href=\"#ArialMT-48\"/>\n       <use x=\"222.460938\" xlink:href=\"#ArialMT-48\"/>\n      </g>\n     </g>\n    </g>\n    <g id=\"xtick_3\">\n     <g id=\"line2d_3\">\n      <path clip-path=\"url(#p933bb43232)\" d=\"M 197.599708 224.64 \nL 197.599708 7.2 \n\" style=\"fill:none;stroke:#ffffff;stroke-linecap:round;\"/>\n     </g>\n     <g id=\"text_3\">\n      <!-- 46000 -->\n      <g style=\"fill:#262626;\" transform=\"translate(182.30713 242.013594)scale(0.11 -0.11)\">\n       <defs>\n        <path d=\"M 49.75 54.046875 \nL 41.015625 53.375 \nQ 39.84375 58.546875 37.703125 60.890625 \nQ 34.125 64.65625 28.90625 64.65625 \nQ 24.703125 64.65625 21.53125 62.3125 \nQ 17.390625 59.28125 14.984375 53.46875 \nQ 12.59375 47.65625 12.5 36.921875 \nQ 15.671875 41.75 20.265625 44.09375 \nQ 24.859375 46.4375 29.890625 46.4375 \nQ 38.671875 46.4375 44.84375 39.96875 \nQ 51.03125 33.5 51.03125 23.25 \nQ 51.03125 16.5 48.125 10.71875 \nQ 45.21875 4.9375 40.140625 1.859375 \nQ 35.0625 -1.21875 28.609375 -1.21875 \nQ 17.625 -1.21875 10.6875 6.859375 \nQ 3.765625 14.9375 3.765625 33.5 \nQ 3.765625 54.25 11.421875 63.671875 \nQ 18.109375 71.875 29.4375 71.875 \nQ 37.890625 71.875 43.28125 67.140625 \nQ 48.6875 62.40625 49.75 54.046875 \nz\nM 13.875 23.1875 \nQ 13.875 18.65625 15.796875 14.5 \nQ 17.71875 10.359375 21.1875 8.171875 \nQ 24.65625 6 28.46875 6 \nQ 34.03125 6 38.03125 10.484375 \nQ 42.046875 14.984375 42.046875 22.703125 \nQ 42.046875 30.125 38.078125 34.390625 \nQ 34.125 38.671875 28.125 38.671875 \nQ 22.171875 38.671875 18.015625 34.390625 \nQ 13.875 30.125 13.875 23.1875 \nz\n\" id=\"ArialMT-54\"/>\n       </defs>\n       <use xlink:href=\"#ArialMT-52\"/>\n       <use x=\"55.615234\" xlink:href=\"#ArialMT-54\"/>\n       <use x=\"111.230469\" xlink:href=\"#ArialMT-48\"/>\n       <use x=\"166.845703\" xlink:href=\"#ArialMT-48\"/>\n       <use x=\"222.460938\" xlink:href=\"#ArialMT-48\"/>\n      </g>\n     </g>\n    </g>\n    <g id=\"xtick_4\">\n     <g id=\"line2d_4\">\n      <path clip-path=\"url(#p933bb43232)\" d=\"M 258.652891 224.64 \nL 258.652891 7.2 \n\" style=\"fill:none;stroke:#ffffff;stroke-linecap:round;\"/>\n     </g>\n     <g id=\"text_4\">\n      <!-- 47000 -->\n      <g style=\"fill:#262626;\" transform=\"translate(243.360313 242.013594)scale(0.11 -0.11)\">\n       <defs>\n        <path d=\"M 4.734375 62.203125 \nL 4.734375 70.65625 \nL 51.078125 70.65625 \nL 51.078125 63.8125 \nQ 44.234375 56.546875 37.515625 44.484375 \nQ 30.8125 32.421875 27.15625 19.671875 \nQ 24.515625 10.6875 23.78125 0 \nL 14.75 0 \nQ 14.890625 8.453125 18.0625 20.40625 \nQ 21.234375 32.375 27.171875 43.484375 \nQ 33.109375 54.59375 39.796875 62.203125 \nz\n\" id=\"ArialMT-55\"/>\n       </defs>\n       <use xlink:href=\"#ArialMT-52\"/>\n       <use x=\"55.615234\" xlink:href=\"#ArialMT-55\"/>\n       <use x=\"111.230469\" xlink:href=\"#ArialMT-48\"/>\n       <use x=\"166.845703\" xlink:href=\"#ArialMT-48\"/>\n       <use x=\"222.460938\" xlink:href=\"#ArialMT-48\"/>\n      </g>\n     </g>\n    </g>\n    <g id=\"xtick_5\">\n     <g id=\"line2d_5\">\n      <path clip-path=\"url(#p933bb43232)\" d=\"M 319.706073 224.64 \nL 319.706073 7.2 \n\" style=\"fill:none;stroke:#ffffff;stroke-linecap:round;\"/>\n     </g>\n     <g id=\"text_5\">\n      <!-- 48000 -->\n      <g style=\"fill:#262626;\" transform=\"translate(304.413495 242.013594)scale(0.11 -0.11)\">\n       <defs>\n        <path d=\"M 17.671875 38.8125 \nQ 12.203125 40.828125 9.5625 44.53125 \nQ 6.9375 48.25 6.9375 53.421875 \nQ 6.9375 61.234375 12.546875 66.546875 \nQ 18.171875 71.875 27.484375 71.875 \nQ 36.859375 71.875 42.578125 66.421875 \nQ 48.296875 60.984375 48.296875 53.171875 \nQ 48.296875 48.1875 45.671875 44.5 \nQ 43.0625 40.828125 37.75 38.8125 \nQ 44.34375 36.671875 47.78125 31.875 \nQ 51.21875 27.09375 51.21875 20.453125 \nQ 51.21875 11.28125 44.71875 5.03125 \nQ 38.234375 -1.21875 27.640625 -1.21875 \nQ 17.046875 -1.21875 10.546875 5.046875 \nQ 4.046875 11.328125 4.046875 20.703125 \nQ 4.046875 27.6875 7.59375 32.390625 \nQ 11.140625 37.109375 17.671875 38.8125 \nz\nM 15.921875 53.71875 \nQ 15.921875 48.640625 19.1875 45.40625 \nQ 22.46875 42.1875 27.6875 42.1875 \nQ 32.765625 42.1875 36.015625 45.375 \nQ 39.265625 48.578125 39.265625 53.21875 \nQ 39.265625 58.0625 35.90625 61.359375 \nQ 32.5625 64.65625 27.59375 64.65625 \nQ 22.5625 64.65625 19.234375 61.421875 \nQ 15.921875 58.203125 15.921875 53.71875 \nz\nM 13.09375 20.65625 \nQ 13.09375 16.890625 14.875 13.375 \nQ 16.65625 9.859375 20.171875 7.921875 \nQ 23.6875 6 27.734375 6 \nQ 34.03125 6 38.125 10.046875 \nQ 42.234375 14.109375 42.234375 20.359375 \nQ 42.234375 26.703125 38.015625 30.859375 \nQ 33.796875 35.015625 27.4375 35.015625 \nQ 21.234375 35.015625 17.15625 30.90625 \nQ 13.09375 26.8125 13.09375 20.65625 \nz\n\" id=\"ArialMT-56\"/>\n       </defs>\n       <use xlink:href=\"#ArialMT-52\"/>\n       <use x=\"55.615234\" xlink:href=\"#ArialMT-56\"/>\n       <use x=\"111.230469\" xlink:href=\"#ArialMT-48\"/>\n       <use x=\"166.845703\" xlink:href=\"#ArialMT-48\"/>\n       <use x=\"222.460938\" xlink:href=\"#ArialMT-48\"/>\n      </g>\n     </g>\n    </g>\n   </g>\n   <g id=\"matplotlib.axis_2\">\n    <g id=\"ytick_1\">\n     <g id=\"line2d_6\">\n      <path clip-path=\"url(#p933bb43232)\" d=\"M 43.908438 224.64 \nL 378.708438 224.64 \n\" style=\"fill:none;stroke:#ffffff;stroke-linecap:round;\"/>\n     </g>\n     <g id=\"text_6\">\n      <!-- 0 -->\n      <g style=\"fill:#262626;\" transform=\"translate(28.291406 228.576797)scale(0.11 -0.11)\">\n       <use xlink:href=\"#ArialMT-48\"/>\n      </g>\n     </g>\n    </g>\n    <g id=\"ytick_2\">\n     <g id=\"line2d_7\">\n      <path clip-path=\"url(#p933bb43232)\" d=\"M 43.908438 177.575065 \nL 378.708438 177.575065 \n\" style=\"fill:none;stroke:#ffffff;stroke-linecap:round;\"/>\n     </g>\n     <g id=\"text_7\">\n      <!-- 10 -->\n      <g style=\"fill:#262626;\" transform=\"translate(22.174375 181.511862)scale(0.11 -0.11)\">\n       <defs>\n        <path d=\"M 37.25 0 \nL 28.46875 0 \nL 28.46875 56 \nQ 25.296875 52.984375 20.140625 49.953125 \nQ 14.984375 46.921875 10.890625 45.40625 \nL 10.890625 53.90625 \nQ 18.265625 57.375 23.78125 62.296875 \nQ 29.296875 67.234375 31.59375 71.875 \nL 37.25 71.875 \nz\n\" id=\"ArialMT-49\"/>\n       </defs>\n       <use xlink:href=\"#ArialMT-49\"/>\n       <use x=\"55.615234\" xlink:href=\"#ArialMT-48\"/>\n      </g>\n     </g>\n    </g>\n    <g id=\"ytick_3\">\n     <g id=\"line2d_8\">\n      <path clip-path=\"url(#p933bb43232)\" d=\"M 43.908438 130.51013 \nL 378.708438 130.51013 \n\" style=\"fill:none;stroke:#ffffff;stroke-linecap:round;\"/>\n     </g>\n     <g id=\"text_8\">\n      <!-- 20 -->\n      <g style=\"fill:#262626;\" transform=\"translate(22.174375 134.446927)scale(0.11 -0.11)\">\n       <defs>\n        <path d=\"M 50.34375 8.453125 \nL 50.34375 0 \nL 3.03125 0 \nQ 2.9375 3.171875 4.046875 6.109375 \nQ 5.859375 10.9375 9.828125 15.625 \nQ 13.8125 20.3125 21.34375 26.46875 \nQ 33.015625 36.03125 37.109375 41.625 \nQ 41.21875 47.21875 41.21875 52.203125 \nQ 41.21875 57.421875 37.46875 61 \nQ 33.734375 64.59375 27.734375 64.59375 \nQ 21.390625 64.59375 17.578125 60.78125 \nQ 13.765625 56.984375 13.71875 50.25 \nL 4.6875 51.171875 \nQ 5.609375 61.28125 11.65625 66.578125 \nQ 17.71875 71.875 27.9375 71.875 \nQ 38.234375 71.875 44.234375 66.15625 \nQ 50.25 60.453125 50.25 52 \nQ 50.25 47.703125 48.484375 43.546875 \nQ 46.734375 39.40625 42.65625 34.8125 \nQ 38.578125 30.21875 29.109375 22.21875 \nQ 21.1875 15.578125 18.9375 13.203125 \nQ 16.703125 10.84375 15.234375 8.453125 \nz\n\" id=\"ArialMT-50\"/>\n       </defs>\n       <use xlink:href=\"#ArialMT-50\"/>\n       <use x=\"55.615234\" xlink:href=\"#ArialMT-48\"/>\n      </g>\n     </g>\n    </g>\n    <g id=\"ytick_4\">\n     <g id=\"line2d_9\">\n      <path clip-path=\"url(#p933bb43232)\" d=\"M 43.908438 83.445195 \nL 378.708438 83.445195 \n\" style=\"fill:none;stroke:#ffffff;stroke-linecap:round;\"/>\n     </g>\n     <g id=\"text_9\">\n      <!-- 30 -->\n      <g style=\"fill:#262626;\" transform=\"translate(22.174375 87.381992)scale(0.11 -0.11)\">\n       <defs>\n        <path d=\"M 4.203125 18.890625 \nL 12.984375 20.0625 \nQ 14.5 12.59375 18.140625 9.296875 \nQ 21.78125 6 27 6 \nQ 33.203125 6 37.46875 10.296875 \nQ 41.75 14.59375 41.75 20.953125 \nQ 41.75 27 37.796875 30.921875 \nQ 33.84375 34.859375 27.734375 34.859375 \nQ 25.25 34.859375 21.53125 33.890625 \nL 22.515625 41.609375 \nQ 23.390625 41.5 23.921875 41.5 \nQ 29.546875 41.5 34.03125 44.421875 \nQ 38.53125 47.359375 38.53125 53.46875 \nQ 38.53125 58.296875 35.25 61.46875 \nQ 31.984375 64.65625 26.8125 64.65625 \nQ 21.6875 64.65625 18.265625 61.421875 \nQ 14.84375 58.203125 13.875 51.765625 \nL 5.078125 53.328125 \nQ 6.6875 62.15625 12.390625 67.015625 \nQ 18.109375 71.875 26.609375 71.875 \nQ 32.46875 71.875 37.390625 69.359375 \nQ 42.328125 66.84375 44.9375 62.5 \nQ 47.5625 58.15625 47.5625 53.265625 \nQ 47.5625 48.640625 45.0625 44.828125 \nQ 42.578125 41.015625 37.703125 38.765625 \nQ 44.046875 37.3125 47.5625 32.6875 \nQ 51.078125 28.078125 51.078125 21.140625 \nQ 51.078125 11.765625 44.234375 5.25 \nQ 37.40625 -1.265625 26.953125 -1.265625 \nQ 17.53125 -1.265625 11.296875 4.34375 \nQ 5.078125 9.96875 4.203125 18.890625 \nz\n\" id=\"ArialMT-51\"/>\n       </defs>\n       <use xlink:href=\"#ArialMT-51\"/>\n       <use x=\"55.615234\" xlink:href=\"#ArialMT-48\"/>\n      </g>\n     </g>\n    </g>\n    <g id=\"ytick_5\">\n     <g id=\"line2d_10\">\n      <path clip-path=\"url(#p933bb43232)\" d=\"M 43.908438 36.38026 \nL 378.708438 36.38026 \n\" style=\"fill:none;stroke:#ffffff;stroke-linecap:round;\"/>\n     </g>\n     <g id=\"text_10\">\n      <!-- 40 -->\n      <g style=\"fill:#262626;\" transform=\"translate(22.174375 40.317057)scale(0.11 -0.11)\">\n       <use xlink:href=\"#ArialMT-52\"/>\n       <use x=\"55.615234\" xlink:href=\"#ArialMT-48\"/>\n      </g>\n     </g>\n    </g>\n    <g id=\"text_11\">\n     <!-- Count -->\n     <g style=\"fill:#262626;\" transform=\"translate(15.789375 131.929687)rotate(-90)scale(0.12 -0.12)\">\n      <defs>\n       <path d=\"M 58.796875 25.09375 \nL 68.265625 22.703125 \nQ 65.28125 11.03125 57.546875 4.90625 \nQ 49.8125 -1.21875 38.625 -1.21875 \nQ 27.046875 -1.21875 19.796875 3.484375 \nQ 12.546875 8.203125 8.765625 17.140625 \nQ 4.984375 26.078125 4.984375 36.328125 \nQ 4.984375 47.515625 9.25 55.828125 \nQ 13.53125 64.15625 21.40625 68.46875 \nQ 29.296875 72.796875 38.765625 72.796875 \nQ 49.515625 72.796875 56.828125 67.328125 \nQ 64.15625 61.859375 67.046875 51.953125 \nL 57.71875 49.75 \nQ 55.21875 57.5625 50.484375 61.125 \nQ 45.75 64.703125 38.578125 64.703125 \nQ 30.328125 64.703125 24.78125 60.734375 \nQ 19.234375 56.78125 16.984375 50.109375 \nQ 14.75 43.453125 14.75 36.375 \nQ 14.75 27.25 17.40625 20.4375 \nQ 20.0625 13.625 25.671875 10.25 \nQ 31.296875 6.890625 37.84375 6.890625 \nQ 45.796875 6.890625 51.3125 11.46875 \nQ 56.84375 16.0625 58.796875 25.09375 \nz\n\" id=\"ArialMT-67\"/>\n       <path d=\"M 3.328125 25.921875 \nQ 3.328125 40.328125 11.328125 47.265625 \nQ 18.015625 53.03125 27.640625 53.03125 \nQ 38.328125 53.03125 45.109375 46.015625 \nQ 51.90625 39.015625 51.90625 26.65625 \nQ 51.90625 16.65625 48.90625 10.90625 \nQ 45.90625 5.171875 40.15625 2 \nQ 34.421875 -1.171875 27.640625 -1.171875 \nQ 16.75 -1.171875 10.03125 5.8125 \nQ 3.328125 12.796875 3.328125 25.921875 \nz\nM 12.359375 25.921875 \nQ 12.359375 15.96875 16.703125 11.015625 \nQ 21.046875 6.0625 27.640625 6.0625 \nQ 34.1875 6.0625 38.53125 11.03125 \nQ 42.875 16.015625 42.875 26.21875 \nQ 42.875 35.84375 38.5 40.796875 \nQ 34.125 45.75 27.640625 45.75 \nQ 21.046875 45.75 16.703125 40.8125 \nQ 12.359375 35.890625 12.359375 25.921875 \nz\n\" id=\"ArialMT-111\"/>\n       <path d=\"M 40.578125 0 \nL 40.578125 7.625 \nQ 34.515625 -1.171875 24.125 -1.171875 \nQ 19.53125 -1.171875 15.546875 0.578125 \nQ 11.578125 2.34375 9.640625 5 \nQ 7.71875 7.671875 6.9375 11.53125 \nQ 6.390625 14.109375 6.390625 19.734375 \nL 6.390625 51.859375 \nL 15.1875 51.859375 \nL 15.1875 23.09375 \nQ 15.1875 16.21875 15.71875 13.8125 \nQ 16.546875 10.359375 19.234375 8.375 \nQ 21.921875 6.390625 25.875 6.390625 \nQ 29.828125 6.390625 33.296875 8.421875 \nQ 36.765625 10.453125 38.203125 13.9375 \nQ 39.65625 17.4375 39.65625 24.078125 \nL 39.65625 51.859375 \nL 48.4375 51.859375 \nL 48.4375 0 \nz\n\" id=\"ArialMT-117\"/>\n       <path d=\"M 6.59375 0 \nL 6.59375 51.859375 \nL 14.5 51.859375 \nL 14.5 44.484375 \nQ 20.21875 53.03125 31 53.03125 \nQ 35.6875 53.03125 39.625 51.34375 \nQ 43.5625 49.65625 45.515625 46.921875 \nQ 47.46875 44.1875 48.25 40.4375 \nQ 48.734375 37.984375 48.734375 31.890625 \nL 48.734375 0 \nL 39.9375 0 \nL 39.9375 31.546875 \nQ 39.9375 36.921875 38.90625 39.578125 \nQ 37.890625 42.234375 35.28125 43.8125 \nQ 32.671875 45.40625 29.15625 45.40625 \nQ 23.53125 45.40625 19.453125 41.84375 \nQ 15.375 38.28125 15.375 28.328125 \nL 15.375 0 \nz\n\" id=\"ArialMT-110\"/>\n       <path d=\"M 25.78125 7.859375 \nL 27.046875 0.09375 \nQ 23.34375 -0.6875 20.40625 -0.6875 \nQ 15.625 -0.6875 12.984375 0.828125 \nQ 10.359375 2.34375 9.28125 4.8125 \nQ 8.203125 7.28125 8.203125 15.1875 \nL 8.203125 45.015625 \nL 1.765625 45.015625 \nL 1.765625 51.859375 \nL 8.203125 51.859375 \nL 8.203125 64.703125 \nL 16.9375 69.96875 \nL 16.9375 51.859375 \nL 25.78125 51.859375 \nL 25.78125 45.015625 \nL 16.9375 45.015625 \nL 16.9375 14.703125 \nQ 16.9375 10.9375 17.40625 9.859375 \nQ 17.875 8.796875 18.921875 8.15625 \nQ 19.96875 7.515625 21.921875 7.515625 \nQ 23.390625 7.515625 25.78125 7.859375 \nz\n\" id=\"ArialMT-116\"/>\n      </defs>\n      <use xlink:href=\"#ArialMT-67\"/>\n      <use x=\"72.216797\" xlink:href=\"#ArialMT-111\"/>\n      <use x=\"127.832031\" xlink:href=\"#ArialMT-117\"/>\n      <use x=\"183.447266\" xlink:href=\"#ArialMT-110\"/>\n      <use x=\"239.0625\" xlink:href=\"#ArialMT-116\"/>\n     </g>\n    </g>\n   </g>\n   <g id=\"patch_3\">\n    <path clip-path=\"url(#p933bb43232)\" d=\"M 59.126619 224.64 \nL 89.562983 224.64 \nL 89.562983 210.520519 \nL 59.126619 210.520519 \nz\n\" style=\"fill:#4c72b0;fill-opacity:0.75;stroke:#ffffff;stroke-linejoin:miter;\"/>\n   </g>\n   <g id=\"patch_4\">\n    <path clip-path=\"url(#p933bb43232)\" d=\"M 89.562983 224.64 \nL 119.999347 224.64 \nL 119.999347 196.401039 \nL 89.562983 196.401039 \nz\n\" style=\"fill:#4c72b0;fill-opacity:0.75;stroke:#ffffff;stroke-linejoin:miter;\"/>\n   </g>\n   <g id=\"patch_5\">\n    <path clip-path=\"url(#p933bb43232)\" d=\"M 119.999347 224.64 \nL 150.43571 224.64 \nL 150.43571 163.455584 \nL 119.999347 163.455584 \nz\n\" style=\"fill:#4c72b0;fill-opacity:0.75;stroke:#ffffff;stroke-linejoin:miter;\"/>\n   </g>\n   <g id=\"patch_6\">\n    <path clip-path=\"url(#p933bb43232)\" d=\"M 150.43571 224.64 \nL 180.872074 224.64 \nL 180.872074 111.684156 \nL 150.43571 111.684156 \nz\n\" style=\"fill:#4c72b0;fill-opacity:0.75;stroke:#ffffff;stroke-linejoin:miter;\"/>\n   </g>\n   <g id=\"patch_7\">\n    <path clip-path=\"url(#p933bb43232)\" d=\"M 180.872074 224.64 \nL 211.308438 224.64 \nL 211.308438 92.858182 \nL 180.872074 92.858182 \nz\n\" style=\"fill:#4c72b0;fill-opacity:0.75;stroke:#ffffff;stroke-linejoin:miter;\"/>\n   </g>\n   <g id=\"patch_8\">\n    <path clip-path=\"url(#p933bb43232)\" d=\"M 211.308438 224.64 \nL 241.744801 224.64 \nL 241.744801 17.554286 \nL 211.308438 17.554286 \nz\n\" style=\"fill:#4c72b0;fill-opacity:0.75;stroke:#ffffff;stroke-linejoin:miter;\"/>\n   </g>\n   <g id=\"patch_9\">\n    <path clip-path=\"url(#p933bb43232)\" d=\"M 241.744801 224.64 \nL 272.181165 224.64 \nL 272.181165 92.858182 \nL 241.744801 92.858182 \nz\n\" style=\"fill:#4c72b0;fill-opacity:0.75;stroke:#ffffff;stroke-linejoin:miter;\"/>\n   </g>\n   <g id=\"patch_10\">\n    <path clip-path=\"url(#p933bb43232)\" d=\"M 272.181165 224.64 \nL 302.617528 224.64 \nL 302.617528 92.858182 \nL 272.181165 92.858182 \nz\n\" style=\"fill:#4c72b0;fill-opacity:0.75;stroke:#ffffff;stroke-linejoin:miter;\"/>\n   </g>\n   <g id=\"patch_11\">\n    <path clip-path=\"url(#p933bb43232)\" d=\"M 302.617528 224.64 \nL 333.053892 224.64 \nL 333.053892 125.803636 \nL 302.617528 125.803636 \nz\n\" style=\"fill:#4c72b0;fill-opacity:0.75;stroke:#ffffff;stroke-linejoin:miter;\"/>\n   </g>\n   <g id=\"patch_12\">\n    <path clip-path=\"url(#p933bb43232)\" d=\"M 333.053892 224.64 \nL 363.490256 224.64 \nL 363.490256 201.107532 \nL 333.053892 201.107532 \nz\n\" style=\"fill:#4c72b0;fill-opacity:0.75;stroke:#ffffff;stroke-linejoin:miter;\"/>\n   </g>\n   <g id=\"patch_13\">\n    <path d=\"M 43.908438 224.64 \nL 43.908438 7.2 \n\" style=\"fill:none;stroke:#ffffff;stroke-linecap:square;stroke-linejoin:miter;stroke-width:1.25;\"/>\n   </g>\n   <g id=\"patch_14\">\n    <path d=\"M 378.708438 224.64 \nL 378.708438 7.2 \n\" style=\"fill:none;stroke:#ffffff;stroke-linecap:square;stroke-linejoin:miter;stroke-width:1.25;\"/>\n   </g>\n   <g id=\"patch_15\">\n    <path d=\"M 43.908438 224.64 \nL 378.708438 224.64 \n\" style=\"fill:none;stroke:#ffffff;stroke-linecap:square;stroke-linejoin:miter;stroke-width:1.25;\"/>\n   </g>\n   <g id=\"patch_16\">\n    <path d=\"M 43.908438 7.2 \nL 378.708438 7.2 \n\" style=\"fill:none;stroke:#ffffff;stroke-linecap:square;stroke-linejoin:miter;stroke-width:1.25;\"/>\n   </g>\n  </g>\n </g>\n <defs>\n  <clipPath id=\"p933bb43232\">\n   <rect height=\"217.44\" width=\"334.8\" x=\"43.908438\" y=\"7.2\"/>\n  </clipPath>\n </defs>\n</svg>\n",
      "image/png": "[encoded data removed]"
     },
     "metadata": {}
    }
   ],
   "source": [
    "sns.histplot(errors)"
   ]
  },
  {
   "source": [
    "\n",
    "### Resampling requires less brute force\n",
    "\n",
    "<img src=\"images/resampling.png\" alt=\"resampling\" height=\"300\">\n",
    "<br>\n",
    "<img src=\"images/grid_search_cross_validation.png\" alt=\"resampling\" height=\"300\">"
   ],
   "cell_type": "markdown",
   "metadata": {}
  },
  {
   "cell_type": "markdown",
   "metadata": {
    "slideshow": {
     "slide_type": "slide"
    }
   },
   "source": [
    "## _K_-fold CV implementation\n",
    "\n",
    "* Use `KFold` to create k-fold objects and then \n",
    "* `cross_val_score` to train our model across all *k* folds and provide our loss score for each fold"
   ]
  },
  {
   "cell_type": "code",
   "execution_count": 57,
   "metadata": {},
   "outputs": [
    {
     "data": {
      "text/plain": [
       "array([-44583.38859714, -39957.83856145, -52263.36195081, -46346.53026398,\n",
       "       -45877.92144006, -52985.87820756, -42821.23386972, -45202.86591605,\n",
       "       -48556.0637338 , -58529.11695189])"
      ]
     },
     "execution_count": 57,
     "metadata": {},
     "output_type": "execute_result"
    }
   ],
   "source": [
    "# define loss function\n",
    "loss = 'neg_root_mean_squared_error'\n",
    "\n",
    "# create 10 fold CV object\n",
    "kfold = KFold(n_splits=10, random_state=123, shuffle=True)\n",
    "\n",
    "# fit KNN model with 10-fold CV\n",
    "results = cross_val_score(knn, X_train, y_train, cv=kfold, scoring=loss)\n",
    "results"
   ]
  },
  {
   "cell_type": "markdown",
   "metadata": {
    "slideshow": {
     "slide_type": "fragment"
    }
   },
   "source": [
    "__Note__: The unified scoring API in scikit-learn always maximizes the score, so scores which need to be minimized are negated in order for the unified scoring API to work correctly. Consequently, you can just interpret the RMSE values below as the $RMSE \\times -1$."
   ]
  },
  {
   "cell_type": "markdown",
   "metadata": {
    "slideshow": {
     "slide_type": "slide"
    }
   },
   "source": [
    "## _K_-fold results"
   ]
  },
  {
   "cell_type": "code",
   "execution_count": 58,
   "metadata": {
    "scrolled": true,
    "slideshow": {
     "slide_type": "fragment"
    }
   },
   "outputs": [
    {
     "data": {
      "text/html": [
       "<div>\n",
       "<style scoped>\n",
       "    .dataframe tbody tr th:only-of-type {\n",
       "        vertical-align: middle;\n",
       "    }\n",
       "\n",
       "    .dataframe tbody tr th {\n",
       "        vertical-align: top;\n",
       "    }\n",
       "\n",
       "    .dataframe thead th {\n",
       "        text-align: right;\n",
       "    }\n",
       "</style>\n",
       "<table border=\"1\" class=\"dataframe\">\n",
       "  <thead>\n",
       "    <tr style=\"text-align: right;\">\n",
       "      <th></th>\n",
       "      <th>0</th>\n",
       "    </tr>\n",
       "  </thead>\n",
       "  <tbody>\n",
       "    <tr>\n",
       "      <th>count</th>\n",
       "      <td>10.000000</td>\n",
       "    </tr>\n",
       "    <tr>\n",
       "      <th>mean</th>\n",
       "      <td>47712.419949</td>\n",
       "    </tr>\n",
       "    <tr>\n",
       "      <th>std</th>\n",
       "      <td>5493.532316</td>\n",
       "    </tr>\n",
       "    <tr>\n",
       "      <th>min</th>\n",
       "      <td>39957.838561</td>\n",
       "    </tr>\n",
       "    <tr>\n",
       "      <th>25%</th>\n",
       "      <td>44738.257927</td>\n",
       "    </tr>\n",
       "    <tr>\n",
       "      <th>50%</th>\n",
       "      <td>46112.225852</td>\n",
       "    </tr>\n",
       "    <tr>\n",
       "      <th>75%</th>\n",
       "      <td>51336.537397</td>\n",
       "    </tr>\n",
       "    <tr>\n",
       "      <th>max</th>\n",
       "      <td>58529.116952</td>\n",
       "    </tr>\n",
       "  </tbody>\n",
       "</table>\n",
       "</div>"
      ],
      "text/plain": [
       "                  0\n",
       "count     10.000000\n",
       "mean   47712.419949\n",
       "std     5493.532316\n",
       "min    39957.838561\n",
       "25%    44738.257927\n",
       "50%    46112.225852\n",
       "75%    51336.537397\n",
       "max    58529.116952"
      ]
     },
     "execution_count": 58,
     "metadata": {},
     "output_type": "execute_result"
    }
   ],
   "source": [
    "# summary stats for all 10 folds\n",
    "pd.DataFrame(results * -1).describe()"
   ]
  },
  {
   "cell_type": "markdown",
   "metadata": {
    "slideshow": {
     "slide_type": "slide"
    }
   },
   "source": [
    "# <font color=\"red\">Your Turn</font>\n",
    "\n",
    "* Compute _K_-fold results for the linear model and/or the random forest model.\n",
    "\n",
    "* How do the results compare?"
   ]
  },
  {
   "cell_type": "code",
   "execution_count": 67,
   "metadata": {
    "slideshow": {
     "slide_type": "slide"
    }
   },
   "outputs": [
    {
     "data": {
      "text/plain": [
       "array([-29968.17112939, -26836.8055982 , -33186.05170377, -24206.21860615,\n",
       "       -28723.25755806, -30024.55922454, -25312.81563803, -30151.15990763,\n",
       "       -28058.51943354, -44019.86216774])"
      ]
     },
     "execution_count": 67,
     "metadata": {},
     "output_type": "execute_result"
    }
   ],
   "source": [
    "# create model object\n",
    "rf = RandomForestRegressor()\n",
    "\n",
    "# define loss function\n",
    "loss = 'neg_root_mean_squared_error'\n",
    "\n",
    "# create 10 fold CV object\n",
    "kfold = KFold(n_splits=10, random_state=123, shuffle=True)\n",
    "\n",
    "# fit KNN model with 10-fold CV\n",
    "results = cross_val_score(rf, X_train, y_train, cv=kfold, scoring=loss)\n",
    "results"
   ]
  },
  {
   "cell_type": "code",
   "execution_count": 73,
   "metadata": {},
   "outputs": [
    {
     "data": {
      "text/html": [
       "<div>\n",
       "<style scoped>\n",
       "    .dataframe tbody tr th:only-of-type {\n",
       "        vertical-align: middle;\n",
       "    }\n",
       "\n",
       "    .dataframe tbody tr th {\n",
       "        vertical-align: top;\n",
       "    }\n",
       "\n",
       "    .dataframe thead th {\n",
       "        text-align: right;\n",
       "    }\n",
       "</style>\n",
       "<table border=\"1\" class=\"dataframe\">\n",
       "  <thead>\n",
       "    <tr style=\"text-align: right;\">\n",
       "      <th></th>\n",
       "      <th>0</th>\n",
       "    </tr>\n",
       "  </thead>\n",
       "  <tbody>\n",
       "    <tr>\n",
       "      <th>count</th>\n",
       "      <td>10.000000</td>\n",
       "    </tr>\n",
       "    <tr>\n",
       "      <th>mean</th>\n",
       "      <td>-30048.742097</td>\n",
       "    </tr>\n",
       "    <tr>\n",
       "      <th>std</th>\n",
       "      <td>5554.287486</td>\n",
       "    </tr>\n",
       "    <tr>\n",
       "      <th>min</th>\n",
       "      <td>-44019.862168</td>\n",
       "    </tr>\n",
       "    <tr>\n",
       "      <th>25%</th>\n",
       "      <td>-30119.509737</td>\n",
       "    </tr>\n",
       "    <tr>\n",
       "      <th>50%</th>\n",
       "      <td>-29345.714344</td>\n",
       "    </tr>\n",
       "    <tr>\n",
       "      <th>75%</th>\n",
       "      <td>-27142.234057</td>\n",
       "    </tr>\n",
       "    <tr>\n",
       "      <th>max</th>\n",
       "      <td>-24206.218606</td>\n",
       "    </tr>\n",
       "  </tbody>\n",
       "</table>\n",
       "</div>"
      ],
      "text/plain": [
       "                  0\n",
       "count     10.000000\n",
       "mean  -30048.742097\n",
       "std     5554.287486\n",
       "min   -44019.862168\n",
       "25%   -30119.509737\n",
       "50%   -29345.714344\n",
       "75%   -27142.234057\n",
       "max   -24206.218606"
      ]
     },
     "execution_count": 73,
     "metadata": {},
     "output_type": "execute_result"
    }
   ],
   "source": [
    "pd.DataFrame(results).describe()"
   ]
  },
  {
   "cell_type": "markdown",
   "metadata": {
    "slideshow": {
     "slide_type": "slide"
    }
   },
   "source": [
    "# Hyperparameter Tuning"
   ]
  },
  {
   "cell_type": "markdown",
   "metadata": {
    "slideshow": {
     "slide_type": "slide"
    }
   },
   "source": [
    "## Bias-variance trade-off\n",
    "\n",
    "* Prediction errors can be decomposed into two main subcomponents we have control over:\n",
    "\n",
    "   - error due to “bias”\n",
    "   - error due to “variance”\n",
    "\n",
    "* There is a tradeoff between a model’s ability to minimize bias and variance.\n",
    "\n",
    "* Understanding how different sources of error lead to bias and variance helps us improve the data fitting process resulting in more accurate models."
   ]
  },
  {
   "cell_type": "markdown",
   "metadata": {
    "slideshow": {
     "slide_type": "slide"
    }
   },
   "source": [
    "## Bias\n",
    "\n",
    "_Bias_ is the difference between the expected (or average) prediction of our model and the correct value which we are trying to predict.\n",
    "\n",
    "Some models are naturally ___high bias___: \n",
    "\n",
    "* Models that are not very flexible (i.e. generalized linear models)\n",
    "* High bias models are rarely affected by the noise introduced by resampling\n",
    "\n",
    "<center>\n",
    "<img src=\"https://uc-r.github.io/Advanced-R/03-supervised-modeling-process_files/figure-html/bias-model-1.png\" alt=\"bias\" width=\"800\">\n",
    "</center>"
   ]
  },
  {
   "cell_type": "markdown",
   "metadata": {
    "slideshow": {
     "slide_type": "slide"
    }
   },
   "source": [
    "## Variance\n",
    "\n",
    "Error due to ___variance___ is defined as the variability of a model prediction for a given data point.\n",
    "\n",
    "Some models are naturally high variance:\n",
    "\n",
    "* Models that are very adaptable and offer extreme flexibility in the patterns that they can fit to (e.g., _k_-nearest neighbor, decision trees, gradient boosting machines).  \n",
    "* These models offer their own problems as they run the risk of overfitting to the training data.  \n",
    "* Although you may achieve very good performance on your training data, the model will not automatically generalize well to unseen data.\n",
    "\n",
    "<center>\n",
    "<img src=\"https://uc-r.github.io/Advanced-R/03-supervised-modeling-process_files/figure-html/variance-model-1.png\" alt=\"variance\" width=\"800\">\n",
    "</center>"
   ]
  },
  {
   "cell_type": "markdown",
   "metadata": {
    "slideshow": {
     "slide_type": "slide"
    }
   },
   "source": [
    "## Hyperparameter tuning\n",
    "\n",
    "So what does this mean to you?"
   ]
  },
  {
   "cell_type": "markdown",
   "metadata": {
    "slideshow": {
     "slide_type": "fragment"
    }
   },
   "source": [
    "* We tend to like very flexible models since they can capture many patterns in our data,\n",
    "* but we need to control variance so our model generalizes to new data well.\n",
    "* ___Hyperparameters___ can help to control bias-variance trade-off"
   ]
  },
  {
   "cell_type": "markdown",
   "metadata": {
    "slideshow": {
     "slide_type": "slide"
    }
   },
   "source": [
    "## Hyperparameter tuning\n",
    "\n",
    "Hyperparameters are the \"knobs to twiddle\" to control of complexity of machine learning algorithms and, therefore, the bias-variance trade-off\n",
    "\n",
    "<center>\n",
    "<img src=\"https://uc-r.github.io/Advanced-R/03-supervised-modeling-process_files/figure-html/example-knn-1.png\" alt=\"variance\" width=\"800\">\n",
    "</center>\n",
    "\n",
    "_k_-nearest neighbor model with differing values for _k_. Small _k_ value has too much variance. Big _k_ value has too much bias. <font color=\"red\">How do we find the optimal value?</font>"
   ]
  },
  {
   "cell_type": "markdown",
   "metadata": {
    "slideshow": {
     "slide_type": "slide"
    }
   },
   "source": [
    "## Grid search\n",
    "\n",
    "* A grid search is an automated approach to searching across many combinations of hyperparameter values\n",
    "\n",
    "* We perform a grid search with `GridSearchCV()` and supply it a model object and hyperparameter values we want to assess. \n",
    "\n",
    "* Also notice that we supply it with the `kfold` object we created previously and the `loss` function we want to optimize for. "
   ]
  },
  {
   "cell_type": "code",
   "execution_count": 85,
   "metadata": {},
   "outputs": [],
   "source": [
    "# Basic model object\n",
    "knn = KNeighborsRegressor()\n",
    "\n",
    "# Hyperparameter values to assess\n",
    "hyper_grid = {'n_neighbors': range(2, 26)}\n",
    "\n",
    "# Create grid search object\n",
    "grid_search = GridSearchCV(knn, hyper_grid, cv=kfold, scoring=loss)\n",
    "\n",
    "# Tune a knn model using grid search\n",
    "results = grid_search.fit(X_train, y_train)"
   ]
  },
  {
   "cell_type": "code",
   "execution_count": 86,
   "metadata": {
    "slideshow": {
     "slide_type": "slide"
    }
   },
   "outputs": [
    {
     "data": {
      "text/plain": [
       "41915.408581298376"
      ]
     },
     "execution_count": 86,
     "metadata": {},
     "output_type": "execute_result"
    }
   ],
   "source": [
    "# Best model's cross validated RMSE\n",
    "abs(results.best_score_)"
   ]
  },
  {
   "cell_type": "code",
   "execution_count": 87,
   "metadata": {},
   "outputs": [
    {
     "data": {
      "text/plain": [
       "5"
      ]
     },
     "execution_count": 87,
     "metadata": {},
     "output_type": "execute_result"
    }
   ],
   "source": [
    "# Best model's k value\n",
    "results.best_estimator_.get_params().get('n_neighbors')"
   ]
  },
  {
   "cell_type": "code",
   "execution_count": 88,
   "metadata": {
    "slideshow": {
     "slide_type": "-"
    }
   },
   "outputs": [
    {
     "data": {
      "image/png": "[encoded data removed]",
      "text/plain": [
       "<Figure size 640x480 with 1 Axes>"
      ]
     },
     "metadata": {},
     "output_type": "display_data"
    },
    {
     "data": {
      "text/plain": [
       "<ggplot: (320445600)>"
      ]
     },
     "execution_count": 88,
     "metadata": {},
     "output_type": "execute_result"
    }
   ],
   "source": [
    "# Plot all RMSE results\n",
    "all_rmse = pd.DataFrame({'k': range(2, 26), \n",
    "                         'RMSE': np.abs(results.cv_results_['mean_test_score'])})\n",
    "\n",
    "(ggplot(all_rmse, aes(x='k', y='RMSE'))\n",
    " + geom_line()\n",
    " + geom_point()\n",
    " + ggtitle(\"Cross validated grid search results\"))"
   ]
  },
  {
   "cell_type": "markdown",
   "metadata": {
    "slideshow": {
     "slide_type": "slide"
    }
   },
   "source": [
    "# Putting the Processes Together"
   ]
  },
  {
   "cell_type": "markdown",
   "metadata": {
    "slideshow": {
     "slide_type": "slide"
    }
   },
   "source": [
    "## Putting the Processes Together\n",
    "\n",
    "You've been exposed to a lot in a very short amount of time. Let's bring these pieces together but rather than just look at the 2 features that we included thus far (`Gr_Liv_Area` & `Year_Built`), we'll include ___all numeric features___.\n",
    "\n",
    "__Steps:__\n",
    "\n",
    "1. Split into training vs testing data\n",
    "\n",
    "2. Separate features from labels and only use numeric features\n",
    "\n",
    "3. Create KNN model object\n",
    "\n",
    "4. Define loss function\n",
    "\n",
    "5. Specify _K_-fold resampling procedure\n",
    "\n",
    "6. Create our hyperparameter grid\n",
    "\n",
    "7. Execute grid search\n",
    "\n",
    "8. Evaluate performance"
   ]
  },
  {
   "cell_type": "code",
   "execution_count": 89,
   "metadata": {
    "slideshow": {
     "slide_type": "slide"
    }
   },
   "outputs": [],
   "source": [
    "# 1. Split into training vs testing data\n",
    "train, test = train_test_split(ames, train_size=0.7, random_state=123)\n",
    "\n",
    "# 2. Separate features from labels and only use numeric features\n",
    "X_train = train.select_dtypes(include='number').drop(columns=\"Sale_Price\")\n",
    "y_train = train[\"Sale_Price\"]\n",
    "\n",
    "# 3. Create KNN model object\n",
    "knn = KNeighborsRegressor()\n",
    "\n",
    "# 4. Define loss function\n",
    "loss = 'neg_root_mean_squared_error'\n",
    "\n",
    "# 5. Specify K-fold resampling procedure\n",
    "kfold = KFold(n_splits=10, random_state=123, shuffle=True)\n",
    "\n",
    "# 6. Create grid of hyperparameter values\n",
    "hyper_grid = {'n_neighbors': range(2, 26)}\n",
    "\n",
    "# 7. Tune a knn model using grid search\n",
    "grid_search = GridSearchCV(knn, hyper_grid, cv=kfold, scoring=loss)\n",
    "results = grid_search.fit(X_train, y_train)"
   ]
  },
  {
   "cell_type": "code",
   "execution_count": 92,
   "metadata": {
    "slideshow": {
     "slide_type": "slide"
    }
   },
   "outputs": [
    {
     "data": {
      "text/plain": [
       "41915.408581298376"
      ]
     },
     "execution_count": 92,
     "metadata": {},
     "output_type": "execute_result"
    }
   ],
   "source": [
    "# 8. Evaluate performance: Best model's cross validated RMSE\n",
    "abs(results.best_score_)"
   ]
  },
  {
   "cell_type": "code",
   "execution_count": 93,
   "metadata": {
    "slideshow": {
     "slide_type": "fragment"
    }
   },
   "outputs": [
    {
     "data": {
      "text/plain": [
       "5"
      ]
     },
     "execution_count": 93,
     "metadata": {},
     "output_type": "execute_result"
    }
   ],
   "source": [
    "# 8. Evaluate performance: Best model's k value\n",
    "results.best_estimator_.get_params().get('n_neighbors')"
   ]
  },
  {
   "cell_type": "code",
   "execution_count": 94,
   "metadata": {
    "slideshow": {
     "slide_type": "fragment"
    }
   },
   "outputs": [
    {
     "data": {
      "image/png": "[encoded data removed]",
      "text/plain": [
       "<Figure size 640x480 with 1 Axes>"
      ]
     },
     "metadata": {},
     "output_type": "display_data"
    },
    {
     "data": {
      "text/plain": [
       "<ggplot: (320484009)>"
      ]
     },
     "execution_count": 94,
     "metadata": {},
     "output_type": "execute_result"
    }
   ],
   "source": [
    "# 8. Evaluate performance: Plot all RMSE results\n",
    "all_rmse = pd.DataFrame({'k': range(2, 26), \n",
    "                         'RMSE': np.abs(results.cv_results_['mean_test_score'])})\n",
    "\n",
    "(ggplot(all_rmse, aes(x='k', y='RMSE'))\n",
    " + geom_line()\n",
    " + geom_point()\n",
    " + ggtitle(\"Cross validated grid search results\"))"
   ]
  },
  {
   "cell_type": "markdown",
   "metadata": {
    "slideshow": {
     "slide_type": "slide"
    }
   },
   "source": [
    "## Can we do better?\n",
    "\n",
    "* Is this the best we can do?\n",
    "\n",
    "* Do you think other models could perform better?\n",
    "\n",
    "* Are we doing the best with the features we've been given?"
   ]
  },
  {
   "cell_type": "markdown",
   "metadata": {
    "slideshow": {
     "slide_type": "slide"
    }
   },
   "source": [
    "## Learning More"
   ]
  },
  {
   "cell_type": "markdown",
   "metadata": {
    "slideshow": {
     "slide_type": "fragment"
    }
   },
   "source": [
    "* **Don't feel intimated** -- you're not going to learn this in an hour"
   ]
  },
  {
   "cell_type": "markdown",
   "metadata": {
    "slideshow": {
     "slide_type": "fragment"
    }
   },
   "source": [
    "* There are a lot of things you can do to improve your skills"
   ]
  },
  {
   "cell_type": "markdown",
   "metadata": {
    "slideshow": {
     "slide_type": "slide"
    }
   },
   "source": [
    "* Books\n",
    "  * *Introduction to Statistical Learning* or *Elements of Statistical Learning*, Hastie, Tibshirani, and Friedman\n",
    "  * *Python Data Science Handbook*, Jake VanderPlas\n",
    "  * *Hands-on Machine Learning with scikit-learn and TensorFlow*, Aurélien Géron"
   ]
  },
  {
   "cell_type": "markdown",
   "metadata": {
    "slideshow": {
     "slide_type": "fragment"
    }
   },
   "source": [
    "* Online Courses\n",
    "  * Machine Learning with Python - Coursera"
   ]
  },
  {
   "cell_type": "markdown",
   "metadata": {
    "slideshow": {
     "slide_type": "fragment"
    }
   },
   "source": [
    "* Practice\n",
    "  * Use your own data\n",
    "  * Kaggle"
   ]
  },
  {
   "cell_type": "markdown",
   "metadata": {
    "slideshow": {
     "slide_type": "slide"
    }
   },
   "source": [
    "## Questions"
   ]
  },
  {
   "cell_type": "markdown",
   "metadata": {
    "slideshow": {
     "slide_type": "-"
    }
   },
   "source": [
    "Are there any questions before moving on?"
   ]
  }
 ],
 "metadata": {
  "celltoolbar": "Slideshow",
  "kernelspec": {
   "name": "python388jvsc74a57bd07e22c20f7334842431654f7008c8aab3657103478357157c3cb57333a6e1da57",
   "display_name": "Python 3.8.8 64-bit ('uc-python-dl': conda)"
  },
  "language_info": {
   "codemirror_mode": {
    "name": "ipython",
    "version": 3
   },
   "file_extension": ".py",
   "mimetype": "text/x-python",
   "name": "python",
   "nbconvert_exporter": "python",
   "pygments_lexer": "ipython3",
   "version": "3.8.8"
  },
  "rise": {
   "autolaunch": true,
   "transition": "none"
  }
 },
 "nbformat": 4,
 "nbformat_minor": 4
}